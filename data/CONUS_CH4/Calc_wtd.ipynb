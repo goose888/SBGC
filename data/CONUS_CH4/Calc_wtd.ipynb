{
 "cells": [
  {
   "cell_type": "code",
   "execution_count": 16,
   "metadata": {},
   "outputs": [],
   "source": [
    "import pandas as pd\n",
    "import numpy as np\n",
    "import matplotlib.pyplot as plt\n",
    "import os\n",
    "os.environ['PROJ_LIB'] = '/data/keeling/a/sshu3/anaconda2/share/proj'\n",
    "from mpl_toolkits.basemap import Basemap, cm\n",
    "from netCDF4 import Dataset as NetCDFFile\n",
    "from scipy.interpolate import interp1d\n",
    "import auxiliary_lib as au\n",
    "import isamcalc_lib as isam\n",
    "import subprocess\n",
    "import socplot_lib as socplt\n",
    "import Fluxtools as flux"
   ]
  },
  {
   "cell_type": "code",
   "execution_count": 2,
   "metadata": {},
   "outputs": [
    {
     "name": "stderr",
     "output_type": "stream",
     "text": [
      "/data/keeling/a/sshu3/anaconda2/lib/python2.7/site-packages/ipykernel_launcher.py:13: FutureWarning: Method .as_matrix will be removed in a future version. Use .values instead.\n",
      "  del sys.path[0]\n",
      "Fluxtools.py:61: RuntimeWarning: Mean of empty slice\n",
      "  daily_srs[i] = np.nanmean(srs[i*nstep:(i+1)*nstep])\n",
      "/data/keeling/a/sshu3/anaconda2/lib/python2.7/site-packages/ipykernel_launcher.py:22: FutureWarning: Method .as_matrix will be removed in a future version. Use .values instead.\n"
     ]
    },
    {
     "data": {
      "text/plain": [
       "[<matplotlib.lines.Line2D at 0x2b5f9d2f4c90>]"
      ]
     },
     "execution_count": 2,
     "metadata": {},
     "output_type": "execute_result"
    },
    {
     "data": {
      "image/png": "[encoded data removed]",
      "text/plain": [
       "<Figure size 432x288 with 1 Axes>"
      ]
     },
     "metadata": {
      "needs_background": "light"
     },
     "output_type": "display_data"
    }
   ],
   "source": [
    "# Back calculation of water table depth\n",
    "# Site information\n",
    "# 1. Read in the observed and calculated CH4\n",
    "site = [\"US-Bi1\", \"US-Bi2\", \"US-OWC\", \"US-DPW\", \"US-Ho1\", \"US-LA1\", \"US-LA2\", \"US-Los\", \"US-Sne\", \"US-Snf\"]\n",
    "styear = [2016, 2017, 2015, 2013, 1996, 2011, 2011, 2000, 2016, 2018]\n",
    "years = [3, 2, 2, 3, 23, 2, 2, 20, 3, 1]\n",
    "\n",
    "# US-Bi1\n",
    "path=\"/data/jain1/c/sshu3/SBGC/runs/methane/test_methane/site_cali_eval/all_sites/ch4_obs/\"\n",
    "path_mod=\"/data/jain1/c/sshu3/SBGC/runs/methane/test_methane/site_cali_eval/all_sites/rev2/\"+site[0]+\"/\"\n",
    "fname=\"AMF_\"+site[0]+\"_CH4.csv\"\n",
    "ch4 = pd.read_csv(path+fname, sep=',')\n",
    "ch4_emis = ch4.FCH4.as_matrix()\n",
    "ch4_emis[ch4_emis<-100] = np.float('nan')\n",
    "# nmolCH4 m-2 s-1 to gCH4 m-2 1800s\n",
    "ch4_emis = ch4_emis*3600*16/1e9\n",
    "ch4_obs_daily = flux.hr2daily(ch4_emis,method=\"agg\")\n",
    "totlen = len(ch4_emis)\n",
    "\n",
    "fname=\"site_daily_10_tgas.txt\"\n",
    "ch4 = pd.read_csv(path_mod+fname, delim_whitespace=True, header=None)\n",
    "ch4_emis = ch4.iloc[:,0].as_matrix()\n",
    "totlen = len(ch4_emis)\n",
    "days = 365*years[0]\n",
    "ch4_mod_daily = ch4_emis[totlen-days:totlen]\n",
    "\n",
    "#plt.plot(ch4_obs_daily, 'g-')\n",
    "#plt.plot(ch4_mod_daily, 'b-')\n",
    "#plt.title(site[0])\n",
    "\n",
    "# 2. See if calcukated CH4 is higher than observation, if so calculate the percentage\n",
    "# Decrease the WTD based on 5cm / [10%], it seems like a exponential decrease would be better but right now we just \n",
    "# use linear relationship to modify water table depth\n",
    "lenmod = len(ch4_mod_daily)\n",
    "diff = np.zeros((lenmod))\n",
    "diff = (ch4_mod_daily - ch4_obs_daily[0:lenmod])/ch4_obs_daily[0:lenmod];\n",
    "wtd = 0.001 * np.ones((len(diff)))\n",
    "for i in np.arange(0,lenmod):\n",
    "    if(diff[i]>0):\n",
    "        wtd[i] = wtd[i] + 0.05 * diff[i]/0.1\n",
    "\n",
    "plt.plot(wtd, 'b-')\n"
   ]
  },
  {
   "cell_type": "code",
   "execution_count": 4,
   "metadata": {},
   "outputs": [
    {
     "name": "stderr",
     "output_type": "stream",
     "text": [
      "/data/keeling/a/sshu3/anaconda2/lib/python2.7/site-packages/ipykernel_launcher.py:6: FutureWarning: Method .as_matrix will be removed in a future version. Use .values instead.\n",
      "  \n",
      "/data/keeling/a/sshu3/anaconda2/lib/python2.7/site-packages/ipykernel_launcher.py:15: FutureWarning: Method .as_matrix will be removed in a future version. Use .values instead.\n",
      "  from ipykernel import kernelapp as app\n"
     ]
    },
    {
     "ename": "ValueError",
     "evalue": "operands could not be broadcast together with shapes (1095,) (921,) ",
     "output_type": "error",
     "traceback": [
      "\u001b[0;31m---------------------------------------------------------------------------\u001b[0m",
      "\u001b[0;31mValueError\u001b[0m                                Traceback (most recent call last)",
      "\u001b[0;32m<ipython-input-4-334cb0b6a8d2>\u001b[0m in \u001b[0;36m<module>\u001b[0;34m()\u001b[0m\n\u001b[1;32m     24\u001b[0m \u001b[0mlenmod\u001b[0m \u001b[0;34m=\u001b[0m \u001b[0mlen\u001b[0m\u001b[0;34m(\u001b[0m\u001b[0mch4_mod_daily\u001b[0m\u001b[0;34m)\u001b[0m\u001b[0;34m\u001b[0m\u001b[0m\n\u001b[1;32m     25\u001b[0m \u001b[0mdiff\u001b[0m \u001b[0;34m=\u001b[0m \u001b[0mnp\u001b[0m\u001b[0;34m.\u001b[0m\u001b[0mzeros\u001b[0m\u001b[0;34m(\u001b[0m\u001b[0;34m(\u001b[0m\u001b[0mlenmod\u001b[0m\u001b[0;34m)\u001b[0m\u001b[0;34m)\u001b[0m\u001b[0;34m\u001b[0m\u001b[0m\n\u001b[0;32m---> 26\u001b[0;31m \u001b[0mdiff\u001b[0m \u001b[0;34m=\u001b[0m \u001b[0;34m(\u001b[0m\u001b[0mch4_mod_daily\u001b[0m \u001b[0;34m-\u001b[0m \u001b[0mch4_obs_daily\u001b[0m\u001b[0;34m[\u001b[0m\u001b[0;36m0\u001b[0m\u001b[0;34m:\u001b[0m\u001b[0mlenmod\u001b[0m\u001b[0;34m]\u001b[0m\u001b[0;34m)\u001b[0m\u001b[0;34m/\u001b[0m\u001b[0mch4_obs_daily\u001b[0m\u001b[0;34m[\u001b[0m\u001b[0;36m0\u001b[0m\u001b[0;34m:\u001b[0m\u001b[0mlenmod\u001b[0m\u001b[0;34m]\u001b[0m\u001b[0;34m;\u001b[0m\u001b[0;34m\u001b[0m\u001b[0m\n\u001b[0m\u001b[1;32m     27\u001b[0m \u001b[0mwtd\u001b[0m \u001b[0;34m=\u001b[0m \u001b[0;36m0.001\u001b[0m \u001b[0;34m*\u001b[0m \u001b[0mnp\u001b[0m\u001b[0;34m.\u001b[0m\u001b[0mones\u001b[0m\u001b[0;34m(\u001b[0m\u001b[0;34m(\u001b[0m\u001b[0mlen\u001b[0m\u001b[0;34m(\u001b[0m\u001b[0mdiff\u001b[0m\u001b[0;34m)\u001b[0m\u001b[0;34m)\u001b[0m\u001b[0;34m)\u001b[0m\u001b[0;34m\u001b[0m\u001b[0m\n\u001b[1;32m     28\u001b[0m \u001b[0;32mfor\u001b[0m \u001b[0mi\u001b[0m \u001b[0;32min\u001b[0m \u001b[0mnp\u001b[0m\u001b[0;34m.\u001b[0m\u001b[0marange\u001b[0m\u001b[0;34m(\u001b[0m\u001b[0;36m0\u001b[0m\u001b[0;34m,\u001b[0m\u001b[0mlenmod\u001b[0m\u001b[0;34m)\u001b[0m\u001b[0;34m:\u001b[0m\u001b[0;34m\u001b[0m\u001b[0m\n",
      "\u001b[0;31mValueError\u001b[0m: operands could not be broadcast together with shapes (1095,) (921,) "
     ]
    }
   ],
   "source": [
    "# US-Bi2\n",
    "path=\"/data/jain1/c/sshu3/SBGC/runs/methane/test_methane/site_cali_eval/all_sites/ch4_obs/\"\n",
    "path_mod=\"/data/jain1/c/sshu3/SBGC/runs/methane/test_methane/site_cali_eval/all_sites/rev2/\"+site[1]+\"/\"\n",
    "fname=\"AMF_\"+site[1]+\"_CH4.csv\"\n",
    "ch4 = pd.read_csv(path+fname, sep=',')\n",
    "ch4_emis = ch4.FCH4.as_matrix()\n",
    "ch4_emis[ch4_emis<-100] = np.float('nan')\n",
    "# nmolCH4 m-2 s-1 to gCH4 m-2 1800s\n",
    "ch4_emis = ch4_emis*16*3600/1e9\n",
    "ch4_obs_daily = flux.hr2daily(ch4_emis,method=\"agg\")\n",
    "totlen = len(ch4_emis)\n",
    "\n",
    "fname=\"site_daily_10_tgas.txt\"\n",
    "ch4 = pd.read_csv(path_mod+fname, delim_whitespace=True, header=None)\n",
    "ch4_emis = ch4.iloc[:,0].as_matrix()\n",
    "totlen = len(ch4_emis)\n",
    "days = 365*years[0]\n",
    "ch4_mod_daily = ch4_emis[totlen-days:totlen]\n",
    "\n",
    "# plt.plot(ch4_obs_daily[140:len(ch4_obs_daily)], 'g-')\n",
    "# plt.plot(ch4_mod_daily, 'b-')\n",
    "# plt.title(site[1])\n",
    "\n",
    "lenmod = len(ch4_mod_daily)\n",
    "diff = np.zeros((lenmod))\n",
    "diff = (ch4_mod_daily - ch4_obs_daily[0:lenmod])/ch4_obs_daily[0:lenmod];\n",
    "wtd = 0.001 * np.ones((len(diff)))\n",
    "for i in np.arange(0,lenmod):\n",
    "    if(diff[i]>0):\n",
    "        wtd[i] = wtd[i] + 0.05 * diff[i]/0.1\n",
    "        \n",
    "plt.plot(wtd, 'b-')"
   ]
  },
  {
   "cell_type": "code",
   "execution_count": 7,
   "metadata": {},
   "outputs": [
    {
     "data": {
      "text/plain": [
       "(921,)"
      ]
     },
     "execution_count": 7,
     "metadata": {},
     "output_type": "execute_result"
    }
   ],
   "source": [
    "np.shape(ch4_obs_daily[0:lenmod])"
   ]
  },
  {
   "cell_type": "code",
   "execution_count": 9,
   "metadata": {},
   "outputs": [
    {
     "name": "stderr",
     "output_type": "stream",
     "text": [
      "/data/keeling/a/sshu3/anaconda2/lib/python2.7/site-packages/ipykernel_launcher.py:6: FutureWarning: Method .as_matrix will be removed in a future version. Use .values instead.\n",
      "  \n",
      "/data/keeling/a/sshu3/anaconda2/lib/python2.7/site-packages/ipykernel_launcher.py:16: FutureWarning: Method .as_matrix will be removed in a future version. Use .values instead.\n",
      "  app.launch_new_instance()\n"
     ]
    },
    {
     "ename": "ValueError",
     "evalue": "operands could not be broadcast together with shapes (1095,) (669,) ",
     "output_type": "error",
     "traceback": [
      "\u001b[0;31m---------------------------------------------------------------------------\u001b[0m",
      "\u001b[0;31mValueError\u001b[0m                                Traceback (most recent call last)",
      "\u001b[0;32m<ipython-input-9-b4e5eb648cff>\u001b[0m in \u001b[0;36m<module>\u001b[0;34m()\u001b[0m\n\u001b[1;32m     28\u001b[0m \u001b[0mlenmod\u001b[0m \u001b[0;34m=\u001b[0m \u001b[0mlen\u001b[0m\u001b[0;34m(\u001b[0m\u001b[0mch4_mod_daily\u001b[0m\u001b[0;34m)\u001b[0m\u001b[0;34m\u001b[0m\u001b[0m\n\u001b[1;32m     29\u001b[0m \u001b[0mdiff\u001b[0m \u001b[0;34m=\u001b[0m \u001b[0mnp\u001b[0m\u001b[0;34m.\u001b[0m\u001b[0mzeros\u001b[0m\u001b[0;34m(\u001b[0m\u001b[0;34m(\u001b[0m\u001b[0mlenmod\u001b[0m\u001b[0;34m)\u001b[0m\u001b[0;34m)\u001b[0m\u001b[0;34m\u001b[0m\u001b[0m\n\u001b[0;32m---> 30\u001b[0;31m \u001b[0mdiff\u001b[0m \u001b[0;34m=\u001b[0m \u001b[0;34m(\u001b[0m\u001b[0mch4_mod_daily\u001b[0m \u001b[0;34m-\u001b[0m \u001b[0mch4_obs_daily\u001b[0m\u001b[0;34m[\u001b[0m\u001b[0;36m0\u001b[0m\u001b[0;34m:\u001b[0m\u001b[0mlenmod\u001b[0m\u001b[0;34m]\u001b[0m\u001b[0;34m)\u001b[0m\u001b[0;34m/\u001b[0m\u001b[0mch4_obs_daily\u001b[0m\u001b[0;34m[\u001b[0m\u001b[0;36m0\u001b[0m\u001b[0;34m:\u001b[0m\u001b[0mlenmod\u001b[0m\u001b[0;34m]\u001b[0m\u001b[0;34m;\u001b[0m\u001b[0;34m\u001b[0m\u001b[0m\n\u001b[0m\u001b[1;32m     31\u001b[0m \u001b[0mwtd\u001b[0m \u001b[0;34m=\u001b[0m \u001b[0;36m0.001\u001b[0m \u001b[0;34m*\u001b[0m \u001b[0mnp\u001b[0m\u001b[0;34m.\u001b[0m\u001b[0mones\u001b[0m\u001b[0;34m(\u001b[0m\u001b[0;34m(\u001b[0m\u001b[0mlen\u001b[0m\u001b[0;34m(\u001b[0m\u001b[0mdiff\u001b[0m\u001b[0;34m)\u001b[0m\u001b[0;34m)\u001b[0m\u001b[0;34m)\u001b[0m\u001b[0;34m\u001b[0m\u001b[0m\n\u001b[1;32m     32\u001b[0m \u001b[0;32mfor\u001b[0m \u001b[0mi\u001b[0m \u001b[0;32min\u001b[0m \u001b[0mnp\u001b[0m\u001b[0;34m.\u001b[0m\u001b[0marange\u001b[0m\u001b[0;34m(\u001b[0m\u001b[0;36m0\u001b[0m\u001b[0;34m,\u001b[0m\u001b[0mlenmod\u001b[0m\u001b[0;34m)\u001b[0m\u001b[0;34m:\u001b[0m\u001b[0;34m\u001b[0m\u001b[0m\n",
      "\u001b[0;31mValueError\u001b[0m: operands could not be broadcast together with shapes (1095,) (669,) "
     ]
    }
   ],
   "source": [
    "# US-OWC\n",
    "path=\"/data/jain1/c/sshu3/SBGC/runs/methane/test_methane/site_cali_eval/all_sites/ch4_obs/\"\n",
    "path_mod=\"/data/jain1/c/sshu3/SBGC/runs/methane/test_methane/site_cali_eval/all_sites/rev2/\"+site[2]+\"/\"\n",
    "fname=\"AMF_\"+site[2]+\"_CH4.csv\"\n",
    "ch4 = pd.read_csv(path+fname, sep=',')\n",
    "ch4_emis = ch4.FCH4.as_matrix()\n",
    "ch4_emis[ch4_emis<-100] = np.float('nan')\n",
    "# nmolCH4 m-2 s-1 to gCH4 m-2 1800s\n",
    "# It seems like this site has 100nmol CH4 m-2 s-1 as unit...\n",
    "ch4_emis = ch4_emis*16*3600/1e9\n",
    "ch4_obs_daily = flux.hr2daily(ch4_emis,method=\"agg\")\n",
    "totlen = len(ch4_emis)\n",
    "\n",
    "fname=\"site_daily_10_tgas.txt\"\n",
    "ch4 = pd.read_csv(path_mod+fname, delim_whitespace=True, header=None)\n",
    "ch4_emis = ch4.iloc[:,0].as_matrix()\n",
    "totlen = len(ch4_emis)\n",
    "days = 365*years[0]\n",
    "ch4_mod_daily = ch4_emis[totlen-days:totlen]\n",
    "\n",
    "# plt.plot(ch4_obs_daily_20d, 'g-')\n",
    "# plt.plot(ch4_mod_daily_20d, 'b-')\n",
    "# plt.title(site[2])\n",
    "\n",
    "lenmod = len(ch4_mod_daily)\n",
    "diff = np.zeros((lenmod))\n",
    "diff = (ch4_mod_daily - ch4_obs_daily[0:lenmod])/ch4_obs_daily[0:lenmod];\n",
    "wtd = 0.001 * np.ones((len(diff)))\n",
    "for i in np.arange(0,lenmod):\n",
    "    if(diff[i]>0):\n",
    "        wtd[i] = wtd[i] + 0.05 * diff[i]/0.1\n",
    "        \n",
    "plt.plot(wtd, 'b-')"
   ]
  },
  {
   "cell_type": "code",
   "execution_count": 26,
   "metadata": {},
   "outputs": [
    {
     "name": "stderr",
     "output_type": "stream",
     "text": [
      "/data/keeling/a/sshu3/anaconda2/lib/python2.7/site-packages/ipykernel_launcher.py:6: FutureWarning: Method .as_matrix will be removed in a future version. Use .values instead.\n",
      "  \n",
      "/data/keeling/a/sshu3/anaconda2/lib/python2.7/site-packages/ipykernel_launcher.py:15: FutureWarning: Method .as_matrix will be removed in a future version. Use .values instead.\n",
      "  from ipykernel import kernelapp as app\n"
     ]
    },
    {
     "data": {
      "text/plain": [
       "Text(0.5,1,'US-DPW')"
      ]
     },
     "execution_count": 26,
     "metadata": {},
     "output_type": "execute_result"
    },
    {
     "data": {
      "image/png": "[encoded data removed]",
      "text/plain": [
       "<Figure size 432x288 with 1 Axes>"
      ]
     },
     "metadata": {
      "needs_background": "light"
     },
     "output_type": "display_data"
    }
   ],
   "source": [
    "# US-DPW\n",
    "path=\"/data/jain1/c/sshu3/SBGC/runs/methane/test_methane/site_cali_eval/all_sites/ch4_obs/\"\n",
    "path_mod=\"/data/jain1/c/sshu3/SBGC/runs/methane/test_methane/site_cali_eval/all_sites/rev2/\"+site[3]+\"/\"\n",
    "fname=\"AMF_\"+site[3]+\"_CH4.csv\"\n",
    "ch4 = pd.read_csv(path+fname, sep=',')\n",
    "ch4_emis = ch4.FCH4.as_matrix()\n",
    "ch4_emis[ch4_emis<-100] = np.float('nan')\n",
    "# nmolCH4 m-2 s-1 to gCH4 m-2 1800s\n",
    "ch4_emis = ch4_emis*16*3600/1e9\n",
    "ch4_obs_daily = flux.hr2daily(ch4_emis,method=\"agg\")\n",
    "totlen = len(ch4_emis)\n",
    "\n",
    "fname=\"site_daily_10_tgas_ref.txt\"\n",
    "ch4 = pd.read_csv(path_mod+fname, delim_whitespace=True, header=None)\n",
    "ch4_emis = ch4.iloc[:,0].as_matrix()\n",
    "totlen = len(ch4_emis)\n",
    "days = 365*years[0]\n",
    "ch4_mod_daily = ch4_emis[totlen-days:totlen]\n",
    "\n",
    "plt.plot(ch4_obs_daily[0:730], 'g-')\n",
    "plt.plot(ch4_mod_daily[0:730], 'b-')\n",
    "plt.title(site[3])\n",
    "\n",
    "# lenmod = len(ch4_mod_daily)\n",
    "# diff = np.zeros((lenmod))\n",
    "# diff = (ch4_mod_daily - ch4_obs_daily[0:lenmod])/ch4_obs_daily[0:lenmod];\n",
    "# wtd = 0.001 * np.ones((len(diff)))\n",
    "# for i in np.arange(0,lenmod):\n",
    "#     if(diff[i]>0):\n",
    "#         wtd[i] = wtd[i] + 0.05 * diff[i]/0.1\n",
    "\n",
    "# plt.ylim([0,2])\n",
    "# plt.plot(wtd, 'b-')\n",
    "\n",
    "# # Expand the WTD into 48 timesteps for everyday and store the calculated WTD into CSV\n",
    "# wtd_step = np.zeros((lenmod*48))\n",
    "# for i in np.arange(0,lenmod):\n",
    "#     if(wtd[i]>1):\n",
    "#         wtd_step[i*48:(i+1)*48] = 1.\n",
    "#     else:\n",
    "#         wtd_step[i*48:(i+1)*48] = wtd[i]\n",
    "\n",
    "# nclu=NetCDFFile('/data/jain1/c/sshu3/SBGC/runs/methane/test_methane/site_cali_eval/all_sites/pre-processing/US-DPW_WT.nc','r+')\n",
    "# ncvar_wt = nclu.variables['WT'][:]\n",
    "# dlen = np.shape(ncvar_wt)\n",
    "# if(dlen[0] > lenmod*48):\n",
    "#     wtd_newstep = 0.001*np.ones(dlen)\n",
    "#     wtd_newstep[0:lenmod*48,0,0] = wtd_step\n",
    "# else:\n",
    "#     wtd_newstep = wtd_step\n",
    "# nclu.variables['WT'][:] = wtd_newstep\n",
    "# nclu.close()"
   ]
  },
  {
   "cell_type": "code",
   "execution_count": 18,
   "metadata": {},
   "outputs": [],
   "source": [
    "nclu.close()"
   ]
  },
  {
   "cell_type": "code",
   "execution_count": 22,
   "metadata": {},
   "outputs": [
    {
     "name": "stderr",
     "output_type": "stream",
     "text": [
      "/data/keeling/a/sshu3/anaconda2/lib/python2.7/site-packages/ipykernel_launcher.py:6: FutureWarning: Method .as_matrix will be removed in a future version. Use .values instead.\n",
      "  \n",
      "/data/keeling/a/sshu3/anaconda2/lib/python2.7/site-packages/ipykernel_launcher.py:15: FutureWarning: Method .as_matrix will be removed in a future version. Use .values instead.\n",
      "  from ipykernel import kernelapp as app\n"
     ]
    },
    {
     "data": {
      "text/plain": [
       "[<matplotlib.lines.Line2D at 0x2b5f9dd27210>]"
      ]
     },
     "execution_count": 22,
     "metadata": {},
     "output_type": "execute_result"
    },
    {
     "data": {
      "image/png": "[encoded data removed]",
      "text/plain": [
       "<Figure size 432x288 with 1 Axes>"
      ]
     },
     "metadata": {
      "needs_background": "light"
     },
     "output_type": "display_data"
    }
   ],
   "source": [
    "# US-Ho1\n",
    "path=\"/data/jain1/c/sshu3/SBGC/runs/methane/test_methane/site_cali_eval/all_sites/ch4_obs/\"\n",
    "path_mod=\"/data/jain1/c/sshu3/SBGC/runs/methane/test_methane/site_cali_eval/all_sites/rev2/\"+site[4]+\"/\"\n",
    "fname=\"AMF_\"+site[4]+\"_CH4.csv\"\n",
    "ch4 = pd.read_csv(path+fname, sep=',')\n",
    "ch4_emis = ch4.FCH4.as_matrix()\n",
    "ch4_emis[ch4_emis<-100] = np.float('nan')\n",
    "# nmolCH4 m-2 s-1 to gCH4 m-2 1800s\n",
    "ch4_emis = ch4_emis*3600*16/1e9\n",
    "ch4_obs_daily = flux.hr2daily(ch4_emis,method=\"agg\")\n",
    "totlen = len(ch4_emis)\n",
    "\n",
    "fname=\"site_daily_10_tgas.txt\"\n",
    "ch4 = pd.read_csv(path_mod+fname, delim_whitespace=True, header=None)\n",
    "ch4_emis = ch4.iloc[:,0].as_matrix()\n",
    "totlen = len(ch4_emis)\n",
    "days = 365*years[0]\n",
    "ch4_mod_daily = ch4_emis[totlen-days:totlen]\n",
    "\n",
    "# plt.plot(ch4_obs_daily[365*17:365*19], 'g-')\n",
    "# plt.plot(ch4_mod_daily, 'b-')\n",
    "# plt.ylim([-0.02, 0.02])\n",
    "# plt.title(site[4])\n",
    "\n",
    "lenmod = len(ch4_mod_daily)\n",
    "diff = np.zeros((lenmod))\n",
    "diff = (ch4_mod_daily - ch4_obs_daily[0:lenmod])/ch4_obs_daily[0:lenmod];\n",
    "wtd = 0.001 * np.ones((len(diff)))\n",
    "for i in np.arange(0,lenmod):\n",
    "    if(diff[i]>0):\n",
    "        wtd[i] = wtd[i] + 0.01 * diff[i]/0.1\n",
    "        \n",
    "plt.plot(wtd, 'b-')"
   ]
  },
  {
   "cell_type": "code",
   "execution_count": null,
   "metadata": {},
   "outputs": [],
   "source": [
    "# US-LA1\n",
    "path=\"/data/jain1/c/sshu3/SBGC/runs/methane/test_methane/site_cali_eval/all_sites/ch4_obs/\"\n",
    "path_mod=\"/data/jain1/c/sshu3/SBGC/runs/methane/test_methane/site_cali_eval/all_sites/rev2/\"+site[5]+\"/\"\n",
    "fname=\"AMF_\"+site[5]+\"_CH4.csv\"\n",
    "ch4 = pd.read_csv(path+fname, sep=',')\n",
    "ch4_emis = ch4.FCH4.as_matrix()\n",
    "ch4_emis[ch4_emis<-100] = np.float('nan')\n",
    "# nmolCH4 m-2 s-1 to gCH4 m-2 1800s\n",
    "ch4_emis = ch4_emis*3600*16/1e9\n",
    "ch4_obs_daily = flux.hr2daily(ch4_emis,method=\"agg\")\n",
    "totlen = len(ch4_emis)\n",
    "\n",
    "fname=\"site_daily_10_tgas.txt\"\n",
    "ch4 = pd.read_csv(path_mod+fname, delim_whitespace=True, header=None)\n",
    "ch4_emis = ch4.iloc[:,0].as_matrix()\n",
    "totlen = len(ch4_emis)\n",
    "days = 365*years[0]\n",
    "ch4_mod_daily = ch4_emis[totlen-days:totlen]\n",
    "\n",
    "plt.plot(ch4_obs_daily, 'g-')\n",
    "plt.plot(ch4_mod_daily, 'b-')\n",
    "plt.title(site[5])"
   ]
  },
  {
   "cell_type": "code",
   "execution_count": null,
   "metadata": {},
   "outputs": [],
   "source": [
    "# US-LA2\n",
    "path=\"/data/jain1/c/sshu3/SBGC/runs/methane/test_methane/site_cali_eval/all_sites/ch4_obs/\"\n",
    "path_mod=\"/data/jain1/c/sshu3/SBGC/runs/methane/test_methane/site_cali_eval/all_sites/rev2/\"+site[6]+\"/\"\n",
    "fname=\"AMF_\"+site[6]+\"_CH4.csv\"\n",
    "ch4 = pd.read_csv(path+fname, sep=',')\n",
    "ch4_emis = ch4.FCH4.as_matrix()\n",
    "ch4_emis[ch4_emis<-100] = np.float('nan')\n",
    "# nmolCH4 m-2 s-1 to gCH4 m-2 1800s\n",
    "ch4_emis = ch4_emis*3600*16/1e9\n",
    "ch4_obs_daily = flux.hr2daily(ch4_emis,method=\"agg\")\n",
    "totlen = len(ch4_emis)\n",
    "\n",
    "fname=\"site_daily_10_tgas.txt\"\n",
    "ch4 = pd.read_csv(path_mod+fname, delim_whitespace=True, header=None)\n",
    "ch4_emis = ch4.iloc[:,0].as_matrix()\n",
    "totlen = len(ch4_emis)\n",
    "days = 365*years[0]\n",
    "ch4_mod_daily = ch4_emis[totlen-days:totlen]\n",
    "\n",
    "plt.plot(ch4_obs_daily, 'g-')\n",
    "plt.plot(ch4_mod_daily, 'b-')\n",
    "plt.title(site[6])"
   ]
  },
  {
   "cell_type": "code",
   "execution_count": null,
   "metadata": {},
   "outputs": [],
   "source": [
    "# US-Los\n",
    "path=\"/data/jain1/c/sshu3/SBGC/runs/methane/test_methane/site_cali_eval/all_sites/ch4_obs/\"\n",
    "path_mod=\"/data/jain1/c/sshu3/SBGC/runs/methane/test_methane/site_cali_eval/all_sites/rev2/\"+site[7]+\"/\"\n",
    "fname=\"AMF_\"+site[7]+\"_CH4.csv\"\n",
    "ch4 = pd.read_csv(path+fname, sep=',')\n",
    "ch4_emis = ch4.FCH4.as_matrix()\n",
    "ch4_emis[ch4_emis<-100] = np.float('nan')\n",
    "# nmolCH4 m-2 s-1 to gCH4 m-2 1800s\n",
    "ch4_emis = ch4_emis*3600*16/1e9\n",
    "ch4_obs_daily = flux.hr2daily(ch4_emis,method=\"agg\")\n",
    "totlen = len(ch4_emis)\n",
    "\n",
    "fname=\"site_daily_10_tgas.txt\"\n",
    "ch4 = pd.read_csv(path_mod+fname, delim_whitespace=True, header=None)\n",
    "ch4_emis = ch4.iloc[:,0].as_matrix()\n",
    "totlen = len(ch4_emis)\n",
    "days = 365*years[0]\n",
    "ch4_mod_daily = ch4_emis[totlen-days:totlen]\n",
    "\n",
    "plt.plot(ch4_obs_daily[365*17+200:365*20+200], 'g-')\n",
    "plt.plot(ch4_mod_daily, 'b-')\n",
    "plt.title(site[7])"
   ]
  },
  {
   "cell_type": "code",
   "execution_count": null,
   "metadata": {},
   "outputs": [],
   "source": [
    "# US-Sne\n",
    "path=\"/data/jain1/c/sshu3/SBGC/runs/methane/test_methane/site_cali_eval/all_sites/ch4_obs/\"\n",
    "path_mod=\"/data/jain1/c/sshu3/SBGC/runs/methane/test_methane/site_cali_eval/all_sites/rev2/\"+site[8]+\"/\"\n",
    "fname=\"AMF_\"+site[8]+\"_CH4.csv\"\n",
    "ch4 = pd.read_csv(path+fname, sep=',')\n",
    "ch4_emis = ch4.FCH4.as_matrix()\n",
    "ch4_emis[ch4_emis<-100] = np.float('nan')\n",
    "# nmolCH4 m-2 s-1 to gCH4 m-2 1800s\n",
    "ch4_emis = ch4_emis*3600*16/1e9\n",
    "ch4_obs_daily = flux.hr2daily(ch4_emis,method=\"agg\")\n",
    "totlen = len(ch4_emis)\n",
    "\n",
    "fname=\"site_daily_10_tgas.txt\"\n",
    "ch4 = pd.read_csv(path_mod+fname, delim_whitespace=True, header=None)\n",
    "ch4_emis = ch4.iloc[:,0].as_matrix()\n",
    "totlen = len(ch4_emis)\n",
    "days = 365*years[0]\n",
    "ch4_mod_daily = ch4_emis[totlen-days:totlen]\n",
    "\n",
    "plt.plot(ch4_obs_daily, 'g-')\n",
    "plt.plot(ch4_mod_daily, 'b-')\n",
    "plt.title(site[8])"
   ]
  },
  {
   "cell_type": "code",
   "execution_count": null,
   "metadata": {},
   "outputs": [],
   "source": [
    "# US-Snf\n",
    "path=\"/data/jain1/c/sshu3/SBGC/runs/methane/test_methane/site_cali_eval/all_sites/ch4_obs/\"\n",
    "path_mod=\"/data/jain1/c/sshu3/SBGC/runs/methane/test_methane/site_cali_eval/all_sites/rev2/\"+site[9]+\"/\"\n",
    "fname=\"AMF_\"+site[9]+\"_CH4.csv\"\n",
    "ch4 = pd.read_csv(path+fname, sep=',')\n",
    "ch4_emis = ch4.FCH4.as_matrix()\n",
    "ch4_emis[ch4_emis<-100] = np.float('nan')\n",
    "# nmolCH4 m-2 s-1 to gCH4 m-2 1800s\n",
    "ch4_emis = ch4_emis*3600*16/1e9\n",
    "ch4_obs_daily = flux.hr2daily(ch4_emis,method=\"agg\")\n",
    "totlen = len(ch4_emis)\n",
    "\n",
    "fname=\"site_daily_10_tgas.txt\"\n",
    "ch4 = pd.read_csv(path_mod+fname, delim_whitespace=True, header=None)\n",
    "ch4_emis = ch4.iloc[:,0].as_matrix()\n",
    "totlen = len(ch4_emis)\n",
    "days = 365*years[0]\n",
    "ch4_mod_daily = ch4_emis[totlen-days:totlen]\n",
    "\n",
    "plt.plot(ch4_obs_daily, 'g-')\n",
    "plt.plot(ch4_mod_daily, 'b-')\n",
    "plt.title(site[9])"
   ]
  },
  {
   "cell_type": "code",
   "execution_count": null,
   "metadata": {},
   "outputs": [],
   "source": [
    "# US-Tw1\n",
    "path=\"/data/jain1/c/sshu3/SBGC/runs/methane/test_methane/site_cali_eval/all_sites/ch4_obs/\"\n",
    "path_mod=\"/data/jain1/c/sshu3/SBGC/runs/methane/test_methane/site_cali_eval/all_sites/rev2/\"+site[9]+\"/\"\n",
    "fname=\"AMF_\"+site[9]+\"_CH4.csv\"\n",
    "ch4 = pd.read_csv(path+fname, sep=',')\n",
    "ch4_emis = ch4.FCH4.as_matrix()\n",
    "ch4_emis[ch4_emis<-100] = np.float('nan')\n",
    "# nmolCH4 m-2 s-1 to gCH4 m-2 1800s\n",
    "ch4_emis = ch4_emis*3600*16/1e9\n",
    "ch4_obs_daily = flux.hr2daily(ch4_emis,method=\"agg\")\n",
    "totlen = len(ch4_emis)\n",
    "\n",
    "fname=\"site_daily_10_tgas.txt\"\n",
    "ch4 = pd.read_csv(path_mod+fname, delim_whitespace=True, header=None)\n",
    "ch4_emis = ch4.iloc[:,0].as_matrix()\n",
    "totlen = len(ch4_emis)\n",
    "days = 365*years[0]\n",
    "ch4_mod_daily = ch4_emis[totlen-days:totlen]\n",
    "\n",
    "plt.plot(ch4_obs_daily, 'g-')\n",
    "plt.plot(ch4_mod_daily, 'b-')\n",
    "plt.title(site[9])"
   ]
  }
 ],
 "metadata": {
  "kernelspec": {
   "display_name": "Python 2",
   "language": "python",
   "name": "python2"
  },
  "language_info": {
   "codemirror_mode": {
    "name": "ipython",
    "version": 2
   },
   "file_extension": ".py",
   "mimetype": "text/x-python",
   "name": "python",
   "nbconvert_exporter": "python",
   "pygments_lexer": "ipython2",
   "version": "2.7.16"
  }
 },
 "nbformat": 4,
 "nbformat_minor": 2
}
