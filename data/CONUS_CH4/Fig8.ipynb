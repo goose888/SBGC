{
 "cells": [
  {
   "cell_type": "code",
   "execution_count": 1,
   "metadata": {},
   "outputs": [],
   "source": [
    "import os\n",
    "os.environ['PROJ_LIB'] = '/data/keeling/a/sshu3/anaconda2/share/proj'\n",
    "from mpl_toolkits.basemap import Basemap, cm, shiftgrid,maskoceans\n",
    "from netCDF4 import Dataset as NetCDFFile\n",
    "import numpy as np\n",
    "import matplotlib.pyplot as plt\n",
    "from matplotlib import colors\n",
    "import numpy.ma as ma\n",
    "from scipy.interpolate import griddata\n",
    "from pyresample import geometry,image, kd_tree\n",
    "import mycolorbars\n"
   ]
  },
  {
   "cell_type": "code",
   "execution_count": null,
   "metadata": {},
   "outputs": [],
   "source": [
    "## Scatter plot for showing the correlation btw env factor and wetland CH4 emission.\n",
    "## Historical\n",
    "# Get N\n",
    "#nclu=NetCDFFile('hist_01_10.nc','r')\n",
    "nclu=NetCDFFile('Permafrost_hist_01_10.nc','r')\n",
    "ncvar_nonwtld = nclu.variables['ch4_flux_dry'][:]\n",
    "ncvar_wtld = nclu.variables['ch4_flux_wet'][:]\n",
    "ncvar_inund = nclu.variables['ch4_flux_inund'][:]\n",
    "ncvar_wtld_prod = nclu.variables['ch4_prod_wet'][:]\n",
    "ncvar_inund_prod = nclu.variables['ch4_prod_inund'][:]\n",
    "\n",
    "latnc = nclu.variables['lat'][:]\n",
    "lonnc = nclu.variables['lon'][:]\n",
    "lonnc = ((lonnc - 180) % 360) - 180\n",
    "ncvar_wetland = ncvar_wtld + ncvar_inund\n",
    "ncvar_wetland_prod = ncvar_wtld_prod + ncvar_inund_prod\n",
    "\n",
    "# Get FW\n",
    "nclu_fw=NetCDFFile('/data/jain1/c/sshu3/SBGC/results/get_us_tot/fw_frac_mean_01_10.nc','r')\n",
    "fw = nclu_fw.variables['FW'][:]\n",
    "\n",
    "# Get Environmental factors (Tair and Precip)\n",
    "#nclu_env=NetCDFFile('hist_01_10_env.nc','r')\n",
    "nclu_env=NetCDFFile('Permafrost_hist_01_10_env.nc','r')\n",
    "ncvar_temp = nclu_env.variables['tavg_avg_yr'][:]\n",
    "ncvar_prec = nclu_env.variables['precip_avg_yr'][:]\n",
    "#ncvar_wliq = nclu_env.variables['wliq_vol_1m_yr'][:]\n",
    "ncvar_wliq = nclu_env.variables['sm_1_5_avg_yr'][:]\n",
    "\n",
    "## Future scenarios\n",
    "#nclu2=NetCDFFile('rcp45_91_00.nc','r')\n",
    "nclu2=NetCDFFile('Permafrost_rcp45_91_00.nc','r')\n",
    "ncvar2_nonwtld = nclu2.variables['ch4_flux_dry'][:]\n",
    "ncvar2_wtld = nclu2.variables['ch4_flux_wet'][:]\n",
    "ncvar2_inund = nclu2.variables['ch4_flux_inund'][:]\n",
    "\n",
    "ncvar2_wtld_prod = nclu2.variables['ch4_prod_wet'][:]\n",
    "ncvar2_inund_prod = nclu2.variables['ch4_prod_inund'][:]\n",
    "\n",
    "ncvar2_wetland = ncvar2_wtld + ncvar2_inund\n",
    "ncvar2_wetland_prod = ncvar2_wtld_prod + ncvar2_inund_prod\n",
    "\n",
    "nclu_fw2=NetCDFFile('/data/jain1/c/sshu3/SBGC/results/get_us_tot/fw_frac_mean_91_00_rcp45.nc','r')\n",
    "fw2 = nclu_fw2.variables['FW'][:]\n",
    "\n",
    "#nclu_env2=NetCDFFile('rcp45_91_00_env.nc','r')\n",
    "nclu_env2=NetCDFFile('Permafrost_rcp45_91_00_env.nc','r')\n",
    "ncvar2_temp = nclu_env2.variables['tavg_avg_yr'][:]\n",
    "ncvar2_prec = nclu_env2.variables['precip_avg_yr'][:]\n",
    "ncvar2_wliq = nclu_env2.variables['sm_1_5_avg_yr'][:]\n",
    "\n",
    "#nclu3=NetCDFFile('rcp85_91_00.nc','r')\n",
    "nclu3=NetCDFFile('Permafrost_rcp85_91_00.nc','r')\n",
    "ncvar3_nonwtld = nclu3.variables['ch4_flux_dry'][:]\n",
    "ncvar3_wtld = nclu3.variables['ch4_flux_wet'][:]\n",
    "ncvar3_inund = nclu3.variables['ch4_flux_inund'][:]\n",
    "\n",
    "ncvar3_wtld_prod = nclu3.variables['ch4_prod_wet'][:]\n",
    "ncvar3_inund_prod = nclu3.variables['ch4_prod_inund'][:]\n",
    "\n",
    "ncvar3_wetland = ncvar3_wtld + ncvar3_inund\n",
    "ncvar3_wetland_prod = ncvar3_wtld_prod + ncvar3_inund_prod\n",
    "\n",
    "nclu_fw3=NetCDFFile('/data/jain1/c/sshu3/SBGC/results/get_us_tot/fw_frac_mean_91_00_rcp85.nc','r')\n",
    "fw3 = nclu_fw3.variables['FW'][:]\n",
    "\n",
    "#nclu_env3=NetCDFFile('rcp85_91_00_env.nc','r')\n",
    "nclu_env3=NetCDFFile('Permafrost_rcp85_91_00_env.nc','r')\n",
    "ncvar3_temp = nclu_env3.variables['tavg_avg_yr'][:]\n",
    "ncvar3_prec = nclu_env3.variables['precip_avg_yr'][:]\n",
    "ncvar3_wliq = nclu_env3.variables['sm_1_5_avg_yr'][:]\n",
    "\n",
    "# Mask out regions outside the CONUS\n",
    "ncmk=NetCDFFile('surfdata_05x05_13reg.nc','r')\n",
    "ncvar_mask = ncmk.variables['REGION_MASK_CRU_NCEP'][:]\n",
    "\n",
    "#ncvar_nonwtld[ncvar_mask<12] = ma.masked  #ncvar_net*ncvar_mask\n",
    "#ncvar_nonwtld[ncvar_mask>12] = ma.masked  #ncvar_net*ncvar_mask\n",
    "#ncvar_wetland[ncvar_mask>12] = ma.masked  #ncvar2_net*ncvar_mask\n",
    "#ncvar_wetland[ncvar_mask<12] = ma.masked  #ncvar3_net*ncvar_mask\n",
    "\n",
    "#ncvar2_nonwtld[ncvar_mask<12] = ma.masked  #ncvar_net*ncvar_mask\n",
    "#ncvar2_nonwtld[ncvar_mask>12] = ma.masked  #ncvar_net*ncvar_mask\n",
    "#ncvar2_wetland[ncvar_mask<12] = ma.masked  #ncvar2_net*ncvar_mask\n",
    "#ncvar2_wetland[ncvar_mask>12] = ma.masked  #ncvar2_net*ncvar_mask\n",
    "\n",
    "#ncvar3_nonwtld[ncvar_mask<12] = ma.masked  #ncvar_net*ncvar_mask\n",
    "#ncvar3_nonwtld[ncvar_mask>12] = ma.masked  #ncvar_net*ncvar_mask\n",
    "#ncvar3_wetland[ncvar_mask<12] = ma.masked  #ncvar2_net*ncvar_mask\n",
    "#ncvar3_wetland[ncvar_mask>12] = ma.masked  #ncvar2_net*ncvar_mask\n",
    "\n",
    "#ncvar_temp[ncvar_mask<12] = ma.masked  #ncvar_net*ncvar_mask\n",
    "#ncvar_temp[ncvar_mask>12] = ma.masked  #ncvar_net*ncvar_mask\n",
    "#ncvar2_temp[ncvar_mask<12] = ma.masked  #ncvar2_net*ncvar_mask\n",
    "#ncvar2_temp[ncvar_mask>12] = ma.masked  #ncvar2_net*ncvar_mask\n",
    "#ncvar3_temp[ncvar_mask<12] = ma.masked  #ncvar2_net*ncvar_mask\n",
    "#ncvar3_temp[ncvar_mask>12] = ma.masked  #ncvar2_net*ncvar_mask\n",
    "\n",
    "#ncvar_prec[ncvar_mask<12] = ma.masked  #ncvar_net*ncvar_mask\n",
    "#ncvar_prec[ncvar_mask>12] = ma.masked  #ncvar_net*ncvar_mask\n",
    "#ncvar2_prec[ncvar_mask<12] = ma.masked  #ncvar2_net*ncvar_mask\n",
    "#ncvar2_prec[ncvar_mask>12] = ma.masked  #ncvar2_net*ncvar_mask\n",
    "#ncvar3_prec[ncvar_mask<12] = ma.masked  #ncvar2_net*ncvar_mask\n",
    "#ncvar3_prec[ncvar_mask>12] = ma.masked  #ncvar2_net*ncvar_mask\n",
    "\n",
    "#fw[ncvar_mask<12] = ma.masked  #ncvar_net*ncvar_mask\n",
    "#fw[ncvar_mask>12] = ma.masked  #ncvar_net*ncvar_mask\n",
    "#fw2[ncvar_mask<12] = ma.masked  #ncvar2_net*ncvar_mask\n",
    "#fw2[ncvar_mask>12] = ma.masked  #ncvar2_net*ncvar_mask\n",
    "#fw3[ncvar_mask<12] = ma.masked  #ncvar2_net*ncvar_mask\n",
    "#fw3[ncvar_mask>12] = ma.masked  #ncvar2_net*ncvar_mask\n",
    "\n",
    "#ncvar_wliq[ncvar_mask<12] = ma.masked  #ncvar_net*ncvar_mask\n",
    "#ncvar_wliq[ncvar_mask>12] = ma.masked  #ncvar_net*ncvar_mask\n",
    "#ncvar2_wliq[ncvar_mask<12] = ma.masked  #ncvar2_net*ncvar_mask\n",
    "#ncvar2_wliq[ncvar_mask>12] = ma.masked  #ncvar2_net*ncvar_mask\n",
    "#ncvar3_wliq[ncvar_mask<12] = ma.masked  #ncvar2_net*ncvar_mask\n",
    "#ncvar3_wliq[ncvar_mask>12] = ma.masked  #ncvar2_net*ncvar_mask\n"
   ]
  },
  {
   "cell_type": "code",
   "execution_count": null,
   "metadata": {},
   "outputs": [],
   "source": [
    "# Prepare scatter plot\n",
    "plt.rcParams.update({'font.size': 16})\n",
    "plt.scatter(ncvar_wetland, ncvar_temp, c=fw, vmin=0, vmax=0.4, cmap=plt.cm.Blues)\n",
    "plt.colorbar()\n",
    "plt.show()"
   ]
  },
  {
   "cell_type": "code",
   "execution_count": null,
   "metadata": {},
   "outputs": [],
   "source": [
    "# Prepare scatter plot\n",
    "plt.rcParams.update({'font.size': 16})\n",
    "plt.scatter(ncvar_wetland, fw, c=ncvar_temp, vmin=250, vmax=280, cmap=plt.cm.Reds)\n",
    "plt.colorbar()\n",
    "plt.show()\n",
    "#plt.savefig('wetlandch4_vs_fw_ctemp.png')"
   ]
  },
  {
   "cell_type": "code",
   "execution_count": null,
   "metadata": {},
   "outputs": [],
   "source": [
    "# Prepare scatter plot\n",
    "plt.rcParams.update({'font.size': 16})\n",
    "plt.scatter(ncvar_wetland, fw, c=ncvar_prec, vmin=0, vmax=700, cmap=plt.cm.Blues)\n",
    "plt.colorbar()\n",
    "plt.show()\n",
    "#plt.savefig('figs5b.png')"
   ]
  },
  {
   "cell_type": "code",
   "execution_count": null,
   "metadata": {},
   "outputs": [],
   "source": [
    "# Prepare scatter plot\n",
    "plt.rcParams.update({'font.size': 16})\n",
    "plt.scatter(ncvar_wetland, fw, c=ncvar_temp, vmin=250, vmax=280, cmap=plt.cm.Blues)\n",
    "plt.colorbar()\n",
    "plt.show()\n",
    "#plt.savefig('figs5a.png')"
   ]
  },
  {
   "cell_type": "code",
   "execution_count": null,
   "metadata": {},
   "outputs": [],
   "source": [
    "# Prepare scatter plot\n",
    "plt.rcParams.update({'font.size': 16})\n",
    "plt.scatter(ncvar_nonwtld[ncvar_nonwtld<1.0], ncvar_wliq[ncvar_nonwtld<1.0]*100, c=ncvar_temp[ncvar_nonwtld<1.0], vmin=250, vmax=280, cmap=plt.cm.Reds)\n",
    "plt.xlim([-3,3])\n",
    "plt.axvline(x=0.0)\n",
    "plt.colorbar()\n",
    "#plt.show()\n",
    "plt.savefig('nonwetlandch4_vs_sm_ctemp.jpg')"
   ]
  },
  {
   "cell_type": "code",
   "execution_count": null,
   "metadata": {},
   "outputs": [],
   "source": [
    "# The following cells are for analyzing the RCP4.5 projection.\n",
    "diff_wetland = ncvar2_wetland - ncvar_wetland\n",
    "diff_nonwtld = ncvar2_nonwtld - ncvar_nonwtld\n",
    "diff_wetland_prod = ncvar2_wetland_prod - ncvar_wetland_prod\n",
    "diff_fw = fw2 - fw\n",
    "diff_temp = ncvar2_temp - ncvar_temp\n",
    "diff_prec = ncvar2_prec - ncvar_prec\n",
    "diff_wliq = ncvar2_wliq - ncvar_wliq"
   ]
  },
  {
   "cell_type": "code",
   "execution_count": null,
   "metadata": {
    "scrolled": false
   },
   "outputs": [],
   "source": [
    "# Prepare scatter plot\n",
    "plt.rcParams.update({'font.size': 16})\n",
    "plt.scatter(diff_wetland, diff_fw, c=diff_temp, vmin=1, vmax=2.5, cmap=plt.cm.Reds)\n",
    "plt.colorbar()\n",
    "plt.show()"
   ]
  },
  {
   "cell_type": "code",
   "execution_count": null,
   "metadata": {},
   "outputs": [],
   "source": [
    "# Prepare scatter plot\n",
    "plt.rcParams.update({'font.size': 16})\n",
    "plt.scatter(diff_wetland[abs(ncvar2_wetland)>0.3], diff_temp[abs(ncvar2_wetland)>0.3])  #, c=diff_temp, vmin=-0.1, vmax=0.1, cmap=plt.cm.Reds)\n",
    "#plt.colorbar()\n",
    "plt.show()"
   ]
  },
  {
   "cell_type": "code",
   "execution_count": null,
   "metadata": {},
   "outputs": [],
   "source": [
    "# Prepare scatter plot\n",
    "plt.rcParams.update({'font.size': 16})\n",
    "plt.scatter(diff_wetland, diff_prec)  #, c=diff_temp, vmin=-0.1, vmax=0.1, cmap=plt.cm.Reds)\n",
    "#plt.colorbar()\n",
    "plt.show()"
   ]
  },
  {
   "cell_type": "code",
   "execution_count": null,
   "metadata": {},
   "outputs": [],
   "source": [
    "# Prepare scatter plot\n",
    "plt.rcParams.update({'font.size': 16})\n",
    "plt.scatter(diff_nonwtld, diff_wliq)  #, c=diff_temp, vmin=-0.1, vmax=0.1, cmap=plt.cm.Reds)\n",
    "#plt.colorbar()\n",
    "plt.show()"
   ]
  },
  {
   "cell_type": "code",
   "execution_count": null,
   "metadata": {},
   "outputs": [],
   "source": [
    "# The following cells are for analyzing the RCP8.5 projection.\n",
    "diff_wetland = ncvar3_wetland - ncvar_wetland\n",
    "diff_nonwtld = ncvar3_nonwtld - ncvar_nonwtld\n",
    "diff_wetland_prod = ncvar3_wetland_prod - ncvar_wetland_prod\n",
    "diff_fw = fw3 - fw\n",
    "diff_temp = ncvar3_temp - ncvar_temp\n",
    "diff_prec = ncvar3_prec - ncvar_prec\n",
    "diff_wliq = ncvar3_wliq - ncvar_wliq"
   ]
  },
  {
   "cell_type": "code",
   "execution_count": null,
   "metadata": {},
   "outputs": [],
   "source": [
    "# Prepare scatter plot\n",
    "plt.rcParams.update({'font.size': 16})\n",
    "plt.scatter(diff_wetland, diff_fw, c=diff_temp, vmin=3, vmax=6, cmap=plt.cm.Reds)\n",
    "plt.colorbar()\n",
    "plt.show()"
   ]
  },
  {
   "cell_type": "code",
   "execution_count": null,
   "metadata": {},
   "outputs": [],
   "source": [
    "# Prepare scatter plot\n",
    "plt.rcParams.update({'font.size': 16})\n",
    "plt.scatter(diff_wetland, diff_wetland_prod)  #, c=diff_temp, vmin=-0.1, vmax=0.1, cmap=plt.cm.Reds)\n",
    "#plt.colorbar()\n",
    "plt.show()"
   ]
  },
  {
   "cell_type": "code",
   "execution_count": null,
   "metadata": {},
   "outputs": [],
   "source": [
    "# Prepare scatter plot\n",
    "plt.rcParams.update({'font.size': 16})\n",
    "plt.scatter(diff_wetland, diff_prec)  #, c=diff_temp, vmin=-0.1, vmax=0.1, cmap=plt.cm.Reds)\n",
    "#plt.colorbar()\n",
    "plt.show()"
   ]
  },
  {
   "cell_type": "code",
   "execution_count": null,
   "metadata": {},
   "outputs": [],
   "source": [
    "# Prepare scatter plot\n",
    "plt.rcParams.update({'font.size': 16})\n",
    "plt.scatter(diff_nonwtld, diff_wliq)  #, c=diff_temp, vmin=-0.1, vmax=0.1, cmap=plt.cm.Reds)\n",
    "#plt.colorbar()\n",
    "plt.show()"
   ]
  },
  {
   "cell_type": "code",
   "execution_count": null,
   "metadata": {},
   "outputs": [],
   "source": [
    "# Prepare scatter plot\n",
    "plt.rcParams.update({'font.size': 16})\n",
    "plt.scatter(ncvar3_nonwtld, ncvar3_wliq, c=ncvar3_temp, vmin=260, vmax=300, cmap=plt.cm.Reds)\n",
    "#plt.colorbar()\n",
    "plt.show()"
   ]
  }
 ],
 "metadata": {
  "anaconda-cloud": {},
  "kernelspec": {
   "display_name": "Python 2",
   "language": "python",
   "name": "python2"
  },
  "language_info": {
   "codemirror_mode": {
    "name": "ipython",
    "version": 2
   },
   "file_extension": ".py",
   "mimetype": "text/x-python",
   "name": "python",
   "nbconvert_exporter": "python",
   "pygments_lexer": "ipython2",
   "version": "2.7.16"
  }
 },
 "nbformat": 4,
 "nbformat_minor": 1
}
