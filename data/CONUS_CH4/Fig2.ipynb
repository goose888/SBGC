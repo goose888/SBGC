{
 "cells": [
  {
   "cell_type": "code",
   "execution_count": 1,
   "metadata": {
    "collapsed": false
   },
   "outputs": [],
   "source": [
    "import pandas as pd\n",
    "import numpy as np\n",
    "import matplotlib.pyplot as plt\n",
    "from mpl_toolkits.basemap import Basemap, cm\n",
    "from netCDF4 import Dataset\n",
    "from scipy.interpolate import interp1d\n",
    "import auxiliary_lib as au\n",
    "import isamcalc_lib as isam\n",
    "import subprocess\n",
    "import socplot_lib as socplt\n",
    "import Fluxtools as flux\n"
   ]
  },
  {
   "cell_type": "code",
   "execution_count": 4,
   "metadata": {
    "collapsed": false
   },
   "outputs": [],
   "source": [
    "# Plot the inundation data\n",
    "fname='conus_fw_all_yr.csv'\n",
    "\n",
    "fw = pd.read_csv(fname)\n",
    "yr = fw.iloc[:,0].as_matrix()\n",
    "fw_swamps = fw.iloc[:,1].as_matrix()\n",
    "fw_cruncep = fw.iloc[:,2].as_matrix()\n",
    "fw_rcp45 = fw.iloc[:,3].as_matrix()\n",
    "fw_rcp85 = fw.iloc[:,4].as_matrix()\n",
    "\n",
    "# Any more other products can be used for validation?\n",
    "#std_lower = ch4_obs_10d_avg - ch4_obs_10d_std\n",
    "#std_upper = ch4_obs_10d_avg + ch4_obs_10d_std\n"
   ]
  },
  {
   "cell_type": "code",
   "execution_count": 5,
   "metadata": {
    "collapsed": false
   },
   "outputs": [],
   "source": [
    "fig, axes = plt.subplots(nrows=1, ncols=1, figsize=(16,10))\n",
    "ax1 = fig.axes[0]\n",
    "\n",
    "plt.ylim((1.7e11, 2.1e11))\n",
    "#xtime = pd.date_range(start='2010', periods=len(yr), freq='D')\n",
    "\n",
    "h1 = ax1.plot(yr,fw_swamps,marker='o',markersize=4,color='g',markerfacecolor='None',label='Obs')\n",
    "h2 = ax1.plot(yr,fw_cruncep,marker='o',markersize=4,color='m', label='CRUNCEP', linewidth=2.2)\n",
    "h3 = ax1.plot(yr,fw_rcp45,marker='o',markersize=4,color='b', label='ISAM', linewidth=2.2)\n",
    "h4 = ax1.plot(yr,fw_rcp85,marker='o',markersize=4,color='r', label='ISAM', linewidth=2.2)\n",
    "ax1.grid(color='gray', which='major', axis='both', alpha=0.3)\n",
    "# yticks = (0, 20, 40, 60, 80, 100, 120, 140)\n",
    "# ax1.set_yticklabels(yticks, fontsize=32, minor=False)\n",
    "# Add +/-1 std to observation\n",
    "#ax1.fill_between(xtime, std_lower, std_upper, color='orange', alpha=.25, label='+/- 1 std')\n",
    "#ax1.plot(xtime, std_lower, alpha=.25, color='orange', linewidth=1.2)\n",
    "#ax1.plot(xtime, std_upper, alpha=.25, color='orange', linewidth=1.2)\n",
    "#ax1 = fig.axes\n",
    "#plt.ylim((0.0, 1.2))\n",
    "plt.rcParams.update({'font.size': 22})\n",
    "fig.autofmt_xdate()\n",
    "#ax1.xaxis.label.set_fontsize(28)\n",
    "#ax1.yaxis.label.set_fontsize(28)\n",
    "#plt.show()\n",
    "plt.savefig('./fig2.png')"
   ]
  },
  {
   "cell_type": "code",
   "execution_count": null,
   "metadata": {
    "collapsed": false
   },
   "outputs": [],
   "source": [
    "fw.iloc[:,1].as_matrix()"
   ]
  },
  {
   "cell_type": "code",
   "execution_count": null,
   "metadata": {
    "collapsed": false
   },
   "outputs": [],
   "source": [
    "fw"
   ]
  }
 ],
 "metadata": {
  "kernelspec": {
   "display_name": "Python 2",
   "language": "python",
   "name": "python2"
  },
  "language_info": {
   "codemirror_mode": {
    "name": "ipython",
    "version": 2
   },
   "file_extension": ".py",
   "mimetype": "text/x-python",
   "name": "python",
   "nbconvert_exporter": "python",
   "pygments_lexer": "ipython2",
   "version": "2.7.13"
  }
 },
 "nbformat": 4,
 "nbformat_minor": 2
}
