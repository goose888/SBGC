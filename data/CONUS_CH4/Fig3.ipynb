{
 "cells": [
  {
   "cell_type": "code",
   "execution_count": 7,
   "metadata": {
    "collapsed": false
   },
   "outputs": [],
   "source": [
    "import pandas as pd\n",
    "import numpy as np\n",
    "import matplotlib.pyplot as plt\n",
    "from mpl_toolkits.basemap import Basemap, cm\n",
    "from netCDF4 import Dataset\n",
    "from scipy.interpolate import interp1d\n",
    "import auxiliary_lib as au\n",
    "import isamcalc_lib as isam\n",
    "import subprocess\n",
    "import socplot_lib as socplt\n",
    "import Fluxtools as flux\n"
   ]
  },
  {
   "cell_type": "code",
   "execution_count": null,
   "metadata": {
    "collapsed": false
   },
   "outputs": [],
   "source": [
    "site = [\"desfn\", \"nlhor\", \"ustwt\", \"uswpt\", \"uscrt\", \"usmyb\", \"ustw1\"]\n",
    "styear = [2012, 2004, 2010, 2011, 2011, 2011, 2013]\n",
    "years = [2, 3, 5, 3, 3, 5, 3]\n",
    "\n",
    "# Open text file (model simulation)\n",
    "# DE-SfN\n",
    "fname=site[0]+\"_daily_10_tgas.txt\"\n",
    "ch4 = pd.read_csv(fname, delim_whitespace=True, header=None)\n",
    "ch4_emis = ch4.iloc[:,0].as_matrix()\n",
    "totlen = len(ch4_emis)\n",
    "days = 365*years[0]\n",
    "ch4_mod_daily = ch4_emis[totlen-days:totlen]\n",
    "\n",
    "# Open the observations\n",
    "fname=\"site_methane.csv\"\n",
    "ch4_obs = pd.read_csv(fname)\n",
    "# DE-SfN\n",
    "site_year = np.arange(styear[0], styear[0]+years[0])\n",
    "ch4_obs_raw = ch4_obs.DESfN[ch4_obs.YEAR.astype(\"int\").isin(site_year)].as_matrix()\n",
    "ch4_obs_raw[ch4_obs_raw < -500] = float(\"nan\")\n",
    "ch4_obs_raw = ch4_obs_raw * 3600\n",
    "ch4_obs_daily = flux.hr2daily(ch4_obs_raw, \"agg\", 48)\n",
    "# Transform unit from umol/day to gCH4/day\n",
    "ch4_obs_daily = 16. * ch4_obs_daily / 1e6\n",
    "\n",
    "ch4_obs_10d_avg = pd.rolling_mean(ch4_obs_daily, 20)\n",
    "ch4_mod_10d_avg = pd.rolling_mean(ch4_mod_daily, 20)\n",
    "\n",
    "# Calculate the STD within the 10-days window\n",
    "ch4_obs_10d_std = pd.rolling_std(ch4_obs_daily, 20)\n",
    "ch4_mod_10d_std = pd.rolling_mean(ch4_mod_daily, 20)\n",
    "\n"
   ]
  },
  {
   "cell_type": "code",
   "execution_count": null,
   "metadata": {
    "collapsed": false
   },
   "outputs": [],
   "source": [
    "site = [\"desfn\", \"nlhor\", \"ustwt\", \"uswpt\", \"uscrt\", \"usmyb\", \"ustw1\"]\n",
    "styear = [2012, 2004, 2010, 2011, 2011, 2011, 2013]\n",
    "years = [2, 3, 5, 3, 3, 5, 3]\n",
    "\n",
    "# Open text file (model simulation)\n",
    "# NL-Nor\n",
    "fname=site[1]+\"_daily_10_tgas.txt\"\n",
    "ch4 = pd.read_csv(fname, delim_whitespace=True, header=None)\n",
    "ch4_emis = ch4.iloc[:,0].as_matrix()\n",
    "totlen = len(ch4_emis)\n",
    "days = 365*years[1]\n",
    "ch4_mod_daily = ch4_emis[totlen-days:totlen]\n",
    "\n",
    "# Open the observations\n",
    "fname=\"site_methane.csv\"\n",
    "ch4_obs = pd.read_csv(fname)\n",
    "# NL-Hor\n",
    "site_year = np.arange(styear[1], styear[1]+years[1])\n",
    "ch4_obs_raw = ch4_obs.NLHor[ch4_obs.YEAR.astype(\"int\").isin(site_year)].as_matrix()\n",
    "ch4_obs_raw[ch4_obs_raw < -500] = float(\"nan\")\n",
    "ch4_obs_raw = ch4_obs_raw * 3600\n",
    "ch4_obs_daily = flux.hr2daily(ch4_obs_raw, \"agg\", 48)\n",
    "# Transform unit from umolm2/day to gCH4m2/day\n",
    "ch4_obs_daily = 16. * ch4_obs_daily / 1e6\n",
    "\n",
    "ch4_obs_10d_avg = pd.rolling_mean(ch4_obs_daily, 20)\n",
    "ch4_mod_10d_avg = pd.rolling_mean(ch4_mod_daily, 20)\n",
    "\n",
    "# Calculate the STD within the 10-days window\n",
    "ch4_obs_10d_std = pd.rolling_std(ch4_obs_daily, 20)\n",
    "ch4_mod_10d_std = pd.rolling_mean(ch4_mod_daily, 20)\n",
    "\n"
   ]
  },
  {
   "cell_type": "code",
   "execution_count": 8,
   "metadata": {
    "collapsed": false
   },
   "outputs": [
    {
     "name": "stderr",
     "output_type": "stream",
     "text": [
      "/data/keeling/a/sshu3/anaconda2/lib/python2.7/site-packages/ipykernel/__main__.py:26: FutureWarning: pd.rolling_mean is deprecated for ndarrays and will be removed in a future version\n",
      "/data/keeling/a/sshu3/anaconda2/lib/python2.7/site-packages/ipykernel/__main__.py:27: FutureWarning: pd.rolling_mean is deprecated for ndarrays and will be removed in a future version\n",
      "/data/keeling/a/sshu3/anaconda2/lib/python2.7/site-packages/ipykernel/__main__.py:30: FutureWarning: pd.rolling_std is deprecated for ndarrays and will be removed in a future version\n",
      "/data/keeling/a/sshu3/anaconda2/lib/python2.7/site-packages/ipykernel/__main__.py:31: FutureWarning: pd.rolling_mean is deprecated for ndarrays and will be removed in a future version\n"
     ]
    }
   ],
   "source": [
    "site = [\"desfn\", \"nlhor\", \"ustwt\", \"uswpt\", \"uscrt\", \"usmyb\", \"ustw1\"]\n",
    "styear = [2012, 2004, 2010, 2011, 2011, 2011, 2013]\n",
    "years = [2, 3, 3, 3, 3, 5, 3]\n",
    "\n",
    "# Open text file (model simulation)\n",
    "# US-Twt\n",
    "fname=site[2]+\"_daily_10_tgas.txt\"\n",
    "ch4 = pd.read_csv(fname, delim_whitespace=True, header=None)\n",
    "ch4_emis = ch4.iloc[:,0].as_matrix()\n",
    "totlen = len(ch4_emis)\n",
    "days = 365*years[2]\n",
    "ch4_mod_daily = ch4_emis[1:days]\n",
    "\n",
    "# Open the observations\n",
    "fname=\"site_methane.csv\"\n",
    "ch4_obs = pd.read_csv(fname)\n",
    "# US-Twt\n",
    "site_year = np.arange(styear[2], styear[2]+years[2])\n",
    "ch4_obs_raw = ch4_obs.USTwt[ch4_obs.YEAR.astype(\"int\").isin(site_year)].as_matrix()\n",
    "ch4_obs_raw[ch4_obs_raw < -500] = float(\"nan\")\n",
    "ch4_obs_raw = ch4_obs_raw * 3600\n",
    "ch4_obs_daily = flux.hr2daily(ch4_obs_raw, \"agg\", 48)\n",
    "# Transform unit from umol/day to gCH4/day\n",
    "ch4_obs_daily = 16. * ch4_obs_daily / 1e6\n",
    "\n",
    "ch4_obs_10d_avg = pd.rolling_mean(ch4_obs_daily, 20)\n",
    "ch4_mod_10d_avg = pd.rolling_mean(ch4_mod_daily, 20)\n",
    "\n",
    "# Calculate the STD within the 10-days window\n",
    "ch4_obs_10d_std = pd.rolling_std(ch4_obs_daily, 20)\n",
    "ch4_mod_10d_std = pd.rolling_mean(ch4_mod_daily, 20)\n",
    "\n"
   ]
  },
  {
   "cell_type": "code",
   "execution_count": null,
   "metadata": {
    "collapsed": false
   },
   "outputs": [],
   "source": [
    "site = [\"desfn\", \"nlhor\", \"ustwt\", \"uswpt\", \"uscrt\", \"usmyb\", \"ustw1\"]\n",
    "styear = [2012, 2004, 2010, 2011, 2011, 2011, 2013]\n",
    "years = [2, 3, 5, 3, 3, 5, 3]\n",
    "\n",
    "# Open text file (model simulation)\n",
    "# US-WPT\n",
    "fname=site[3]+\"_daily_10_tgas.txt\"\n",
    "ch4 = pd.read_csv(fname, delim_whitespace=True, header=None)\n",
    "ch4_emis = ch4.iloc[:,0].as_matrix()\n",
    "totlen = len(ch4_emis)\n",
    "days = 365*years[3]\n",
    "ch4_mod_daily = ch4_emis[totlen-days:totlen]\n",
    "\n",
    "# Open the observations\n",
    "fname=\"site_methane.csv\"\n",
    "ch4_obs = pd.read_csv(fname)\n",
    "# US-WPT\n",
    "site_year = np.arange(styear[3], styear[3]+years[3])\n",
    "ch4_obs_raw = ch4_obs.USWPT[ch4_obs.YEAR.astype(\"int\").isin(site_year)].as_matrix()\n",
    "ch4_obs_raw[ch4_obs_raw < -500] = float(\"nan\")\n",
    "ch4_obs_raw = ch4_obs_raw * 3600\n",
    "ch4_obs_daily = flux.hr2daily(ch4_obs_raw, \"agg\", 48)\n",
    "# Transform unit from umol/day to gCH4/day\n",
    "ch4_obs_daily = 16. * ch4_obs_daily / 1e6\n",
    "\n",
    "ch4_obs_10d_avg = pd.rolling_mean(ch4_obs_daily, 20)\n",
    "ch4_mod_10d_avg = pd.rolling_mean(ch4_mod_daily, 20)\n",
    "\n",
    "# Calculate the STD within the 10-days window\n",
    "ch4_obs_10d_std = pd.rolling_std(ch4_obs_daily, 20)\n",
    "ch4_mod_10d_std = pd.rolling_mean(ch4_mod_daily, 20)\n"
   ]
  },
  {
   "cell_type": "code",
   "execution_count": null,
   "metadata": {
    "collapsed": false
   },
   "outputs": [],
   "source": [
    "site = [\"desfn\", \"nlhor\", \"ustwt\", \"uswpt\", \"uscrt\", \"usmyb\", \"ustw1\"]\n",
    "styear = [2012, 2004, 2010, 2011, 2011, 2011, 2013]\n",
    "years = [2, 3, 5, 3, 3, 5, 3]\n",
    "\n",
    "# Open text file (model simulation)\n",
    "# US-CRT\n",
    "fname=site[4]+\"_daily_10_tgas.txt\"\n",
    "ch4 = pd.read_csv(fname, delim_whitespace=True, header=None)\n",
    "ch4_emis = ch4.iloc[:,0].as_matrix()\n",
    "totlen = len(ch4_emis)\n",
    "days = 365*years[4]\n",
    "ch4_mod_daily = ch4_emis[totlen-days:totlen]\n",
    "\n",
    "# Open the observations\n",
    "fname=\"site_methane.csv\"\n",
    "ch4_obs = pd.read_csv(fname)\n",
    "# US-CRT\n",
    "site_year = np.arange(styear[4], styear[4]+years[4])\n",
    "ch4_obs_raw = ch4_obs.USCRT[ch4_obs.YEAR.astype(\"int\").isin(site_year)].as_matrix()\n",
    "ch4_obs_raw[ch4_obs_raw < -500] = float(\"nan\")\n",
    "ch4_obs_raw = ch4_obs_raw * 3600\n",
    "ch4_obs_daily = flux.hr2daily(ch4_obs_raw, \"agg\", 48)\n",
    "# Transform unit from umol/day to gCH4/day\n",
    "ch4_obs_daily = 16. * ch4_obs_daily / 1e6\n",
    "\n",
    "ch4_obs_10d_avg = pd.rolling_mean(ch4_obs_daily, 20)\n",
    "ch4_mod_10d_avg = pd.rolling_mean(ch4_mod_daily, 20)\n",
    "\n",
    "# Calculate the STD within the 10-days window\n",
    "ch4_obs_10d_std = pd.rolling_std(ch4_obs_daily, 20)\n",
    "ch4_mod_10d_std = pd.rolling_mean(ch4_mod_daily, 20)\n"
   ]
  },
  {
   "cell_type": "code",
   "execution_count": null,
   "metadata": {
    "collapsed": false
   },
   "outputs": [],
   "source": [
    "site = [\"desfn\", \"nlhor\", \"ustwt\", \"uswpt\", \"uscrt\", \"usmyb\", \"ustw1\"]\n",
    "styear = [2012, 2004, 2010, 2011, 2010, 2012, 2013]\n",
    "years = [2, 3, 5, 3, 3, 4, 3]\n",
    "\n",
    "# Open text file (model simulation)\n",
    "# US-Myb\n",
    "fname=site[5]+\"_daily_10_tgas.txt\"\n",
    "#fname=\"usmyb2_tgas.txt\"\n",
    "ch4 = pd.read_csv(fname, delim_whitespace=True, header=None)\n",
    "ch4_emis = ch4.iloc[:,0].as_matrix()\n",
    "totlen = len(ch4_emis)\n",
    "days = 365*years[5]\n",
    "ch4_mod_daily = ch4_emis[totlen-days:totlen]\n",
    "\n",
    "# Open the observations\n",
    "fname=\"site_methane.csv\"\n",
    "ch4_obs = pd.read_csv(fname)\n",
    "# US-Myb\n",
    "site_year = np.arange(styear[5], styear[5]+years[5])\n",
    "ch4_obs_raw = ch4_obs.USMyb[ch4_obs.YEAR.astype(\"int\").isin(site_year)].as_matrix()\n",
    "ch4_obs_raw[ch4_obs_raw < -500] = float(\"nan\")\n",
    "ch4_obs_raw = ch4_obs_raw * 3600\n",
    "ch4_obs_daily = flux.hr2daily(ch4_obs_raw, \"agg\", 48)\n",
    "# Transform unit from umol/day to gCH4/day\n",
    "ch4_obs_daily = 16. * ch4_obs_daily / 1e6\n",
    "\n",
    "ch4_obs_10d_avg = pd.rolling_mean(ch4_obs_daily, 20)\n",
    "ch4_mod_10d_avg = pd.rolling_mean(ch4_mod_daily, 20)\n",
    "\n",
    "# Calculate the STD within the 10-days window\n",
    "ch4_obs_10d_std = pd.rolling_std(ch4_obs_daily, 20)\n",
    "ch4_mod_10d_std = pd.rolling_mean(ch4_mod_daily, 20)\n",
    "\n"
   ]
  },
  {
   "cell_type": "code",
   "execution_count": null,
   "metadata": {
    "collapsed": false
   },
   "outputs": [],
   "source": [
    "site_year"
   ]
  },
  {
   "cell_type": "code",
   "execution_count": null,
   "metadata": {
    "collapsed": false
   },
   "outputs": [],
   "source": [
    "site = [\"desfn\", \"nlhor\", \"ustwt\", \"uswpt\", \"uscrt\", \"usmyb\", \"ustw1\"]\n",
    "styear = [2012, 2004, 2010, 2011, 2011, 2011, 2013]\n",
    "years = [2, 3, 5, 3, 3, 5, 3]\n",
    "\n",
    "# Open text file (model simulation)\n",
    "# US-Tw1\n",
    "fname=site[6]+\"_daily_10_tgas.txt\"\n",
    "ch4 = pd.read_csv(fname, delim_whitespace=True, header=None)\n",
    "ch4_emis = ch4.iloc[:,0].as_matrix()\n",
    "totlen = len(ch4_emis)\n",
    "days = 365*years[6]\n",
    "ch4_mod_daily = ch4_emis[totlen-days:totlen]\n",
    "\n",
    "# Open the observations\n",
    "fname=\"site_methane.csv\"\n",
    "ch4_obs = pd.read_csv(fname)\n",
    "# US-Tw1\n",
    "site_year = np.arange(styear[6], styear[6]+years[6])\n",
    "ch4_obs_raw = ch4_obs.USTw1[ch4_obs.YEAR.astype(\"int\").isin(site_year)].as_matrix()\n",
    "ch4_obs_raw[ch4_obs_raw < -500] = float(\"nan\")\n",
    "ch4_obs_raw = ch4_obs_raw * 3600\n",
    "ch4_obs_daily = flux.hr2daily(ch4_obs_raw, \"agg\", 48)\n",
    "# Transform unit from umol/day to gCH4/day\n",
    "ch4_obs_daily = 16. * ch4_obs_daily / 1e6\n",
    "\n",
    "ch4_obs_10d_avg = pd.rolling_mean(ch4_obs_daily, 20)\n",
    "ch4_mod_10d_avg = pd.rolling_mean(ch4_mod_daily, 20)\n",
    "\n",
    "# Calculate the STD within the 20-days window\n",
    "ch4_obs_10d_std = pd.rolling_std(ch4_obs_daily, 20)\n",
    "ch4_mod_10d_std = pd.rolling_mean(ch4_mod_daily, 20)\n",
    "\n"
   ]
  },
  {
   "cell_type": "code",
   "execution_count": null,
   "metadata": {
    "collapsed": true
   },
   "outputs": [],
   "source": [
    "# Write observed CH4 into csv file\n",
    "np.savetxt('ch4_obs.ustw1', ch4_obs_daily)"
   ]
  },
  {
   "cell_type": "code",
   "execution_count": null,
   "metadata": {
    "collapsed": false
   },
   "outputs": [],
   "source": [
    "ch4_obs_10d_avg"
   ]
  },
  {
   "cell_type": "code",
   "execution_count": 13,
   "metadata": {
    "collapsed": false
   },
   "outputs": [
    {
     "data": {
      "text/plain": [
       "[<matplotlib.lines.Line2D at 0x2b0b03506c50>]"
      ]
     },
     "execution_count": 13,
     "metadata": {},
     "output_type": "execute_result"
    }
   ],
   "source": [
    "# Plot results for each site separately\n",
    "\n",
    "std_lower = ch4_obs_10d_avg - ch4_obs_10d_std\n",
    "std_upper = ch4_obs_10d_avg + ch4_obs_10d_std\n",
    "\n",
    "fig, axes = plt.subplots(nrows=1, ncols=1, figsize=(16,10))\n",
    "ax1 = fig.axes[0]\n",
    "\n",
    "# US-CRT\n",
    "#plt.ylim((0.0, 0.25))\n",
    "#xtime = pd.date_range(start='2011-01-05', periods=len(ch4_obs_daily), freq='D')\n",
    "#xtime2 = pd.date_range(start='2011-01-05', periods=len(ch4_mod_daily), freq='D')\n",
    "# US-Myb\n",
    "#plt.ylim((0.0, 0.8))\n",
    "#xtime = pd.date_range(start='2012-01-05', periods=len(ch4_obs_daily), freq='D')\n",
    "#xtime2 = pd.date_range(start='2012-01-05', periods=len(ch4_mod_daily), freq='D')\n",
    "# US-WPT\n",
    "#plt.ylim((0.0, 1.2))\n",
    "#xtime = pd.date_range(start='2011-01-05', periods=len(ch4_obs_daily), freq='D')\n",
    "#xtime2 = pd.date_range(start='2011-01-05', periods=len(ch4_mod_daily), freq='D')\n",
    "# US-Twt\n",
    "plt.ylim((0.0, 0.4))\n",
    "xtime = pd.date_range(start='2010-01-05', periods=len(ch4_obs_daily), freq='D')\n",
    "xtime2 = pd.date_range(start='2010-01-05', periods=len(ch4_mod_daily), freq='D')\n",
    "\n",
    "h1 = ax1.plot(xtime,ch4_obs_10d_avg,linestyle='None',marker='o',markersize=1.5,color='orange',markerfacecolor='None',label='Obs')\n",
    "h2 = ax1.plot(xtime2,ch4_mod_10d_avg,color='b', label='ISAM', linewidth=2.2)\n",
    "ax1.grid(color='gray', which='major', axis='both', alpha=0.3)\n",
    "# yticks = (0, 20, 40, 60, 80, 100, 120, 140)\n",
    "# ax1.set_yticklabels(yticks, fontsize=32, minor=False)\n",
    "# Add +/-1 std to observation\n",
    "ax1.fill_between(xtime, std_lower, std_upper, color='orange', alpha=.25, label='+/- 1 std')\n",
    "ax1.plot(xtime, std_lower, alpha=.25, color='orange', linewidth=1.2)\n",
    "ax1.plot(xtime, std_upper, alpha=.25, color='orange', linewidth=1.2)\n"
   ]
  },
  {
   "cell_type": "code",
   "execution_count": 14,
   "metadata": {
    "collapsed": false,
    "scrolled": false
   },
   "outputs": [],
   "source": [
    "#ax1 = fig.axes\n",
    "#plt.ylim((0.0, 1.2))\n",
    "plt.rcParams.update({'font.size': 22})\n",
    "fig.autofmt_xdate()\n",
    "#ax1.xaxis.label.set_fontsize(28)\n",
    "#ax1.yaxis.label.set_fontsize(28)\n",
    "#lt.show()\n",
    "plt.savefig('./ustwt.png')"
   ]
  },
  {
   "cell_type": "code",
   "execution_count": null,
   "metadata": {
    "collapsed": false
   },
   "outputs": [],
   "source": [
    "plt.plot(np.arange(0,len(ch4_obs_daily)), ch4_obs_10d_avg)"
   ]
  },
  {
   "cell_type": "code",
   "execution_count": null,
   "metadata": {
    "collapsed": false,
    "scrolled": false
   },
   "outputs": [],
   "source": [
    "plt.show()"
   ]
  },
  {
   "cell_type": "code",
   "execution_count": null,
   "metadata": {
    "collapsed": false
   },
   "outputs": [],
   "source": [
    "ax1.fill_betweenx(Ysen, sen1, sen2, alpha=.25, label='Uncertainty from parameters')\n",
    "ax1.plot(sen1, Ysen, alpha=.25, marker='o',color='b', markersize=10, linewidth=1.2)\n",
    "ax1.plot(sen2, Ysen, alpha=.25, marker='o',color='b', markersize=10, linewidth=1.2)\n",
    "# Set legend!\n",
    "# ax1.legend(['obs', 'ISAM'], loc=legendps, fontsize=fontsize_lg )\n",
    "if xticks is not None:\n",
    "    ax1.set_xticks(xticks, minor=False)\n",
    "    #ax1.set_xticklabels(xticks, fontsize=32, minor=False)\n",
    "else:\n",
    "    start, end = ax1.get_xlim()\n",
    "    ax1.xaxis.set_ticks(np.arange(start, end,(end-start)/6))\n",
    "# Set font size\n",
    "for item in ([ax1.title, ax1.xaxis.label, ax1.yaxis.label] +\n",
    "         ax1.get_xticklabels() + ax1.get_yticklabels()):\n",
    "    item.set_fontsize(40)\n",
    "# ax1.xaxis.label.set_fontsize(fontsize_ax)\n",
    "# ax1.yaxis.label.set_fontsize(fontsize_ax)\n",
    "# ax1.get_xticklabels().set_fontsize(fontsize_ax)\n",
    "# ax1.get_yticklabels().set_fontsize(fontsize_ax)\n",
    "for tl in ax1.get_xticklabels():\n",
    "    tl.set_color('g')\n",
    "# fig.suptitle(tit, fontsize=30)\n",
    "fig.tight_layout() # Or equivalently,  \"plt.tight_layout()\"\n",
    "#plt.savefig(path)\n",
    "#plt.show()\n"
   ]
  }
 ],
 "metadata": {
  "kernelspec": {
   "display_name": "Python 2",
   "language": "python",
   "name": "python2"
  },
  "language_info": {
   "codemirror_mode": {
    "name": "ipython",
    "version": 2
   },
   "file_extension": ".py",
   "mimetype": "text/x-python",
   "name": "python",
   "nbconvert_exporter": "python",
   "pygments_lexer": "ipython2",
   "version": "2.7.13"
  }
 },
 "nbformat": 4,
 "nbformat_minor": 2
}
