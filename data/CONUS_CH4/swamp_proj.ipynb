{
 "cells": [
  {
   "cell_type": "code",
   "execution_count": 1,
   "metadata": {
    "collapsed": false
   },
   "outputs": [],
   "source": [
    "from mpl_toolkits.basemap import Basemap, cm, shiftgrid,maskoceans\n",
    "from netCDF4 import Dataset as NetCDFFile\n",
    "import numpy as N\n",
    "import matplotlib.pyplot as plt\n",
    "from matplotlib import colors\n",
    "import numpy.ma as ma\n",
    "from scipy.interpolate import griddata\n",
    "from pyresample import geometry,image, kd_tree\n"
   ]
  },
  {
   "cell_type": "code",
   "execution_count": 2,
   "metadata": {
    "collapsed": false
   },
   "outputs": [],
   "source": [
    "nclu=NetCDFFile('FW_rcp45_max.nc','r')\n",
    "ncvar_maize = nclu.variables['FW'][:]\n",
    "latnc = nclu.variables['latitude'][:]\n",
    "# znc = nclu.variables['level'][:]\n",
    "lonnc = nclu.variables['longitude'][:]\n",
    "# timenc = nclu.variables['time'][:]\n",
    "\n",
    "nclu1=NetCDFFile('FW_rcp85_max.nc','r')\n",
    "maize = nclu1.variables['FW'][:]\n"
   ]
  },
  {
   "cell_type": "code",
   "execution_count": 3,
   "metadata": {
    "collapsed": false
   },
   "outputs": [
    {
     "name": "stderr",
     "output_type": "stream",
     "text": [
      "/data/keeling/a/sshu3/anaconda2/lib/python2.7/site-packages/mpl_toolkits/basemap/__init__.py:3608: MatplotlibDeprecationWarning: The ishold function was deprecated in version 2.0.\n",
      "  b = ax.ishold()\n",
      "/data/keeling/a/sshu3/anaconda2/lib/python2.7/site-packages/mpl_toolkits/basemap/__init__.py:3677: MatplotlibDeprecationWarning: axes.hold is deprecated.\n",
      "    See the API Changes document (http://matplotlib.org/api/api_changes.html)\n",
      "    for more details.\n",
      "  ax.hold(b)\n"
     ]
    }
   ],
   "source": [
    "#http://matplotlib.org/basemap/users/mapsetup.html\n",
    "\n",
    "fig = plt.figure(figsize=(15,15))\n",
    "\n",
    "ax1 = fig.add_subplot(121)\n",
    "ax1.set_title(\"Maximum extent of inundation under RCP4.5\",fontsize=20)\n",
    "map = Basemap(llcrnrlon=-119,llcrnrlat=23,urcrnrlon=-63,urcrnrlat=51,\n",
    "        projection='lcc',lat_1=33,lat_2=45,lon_0=-95)\n",
    "# draw coastlines, state and country boundaries, edge of map.\n",
    "map.drawcoastlines()\n",
    "map.drawstates()\n",
    "map.drawcountries(color='b')\n",
    "lon,lat = N.meshgrid(lonnc,latnc) #Returns coordinate matrices from coordinate vectors\n",
    "x,y = map(lon,lat)\n",
    "# clevs = N.arange(0,7,0.5)\n",
    "clevs = clevs = N.arange(0,0.4,0.05)\n",
    "\n",
    "#ncvar_maize[0,0,:,:][N.isnan(ncvar_maize[0,0,:,:])] = -9999\n",
    "#maize[0,1,:,:][N.isnan(maize[0,1,:,:])] = -9999\n",
    "ncvar_maize[0,:,:] = ma.masked_where(ncvar_maize[0,:,:]<0,ncvar_maize[0,:,:])\n",
    "#ncvar_maize[0,0,:,:] = ma.masked_where(ncvar_maize[0,0,:,:]<=0,ncvar_maize[0,0,:,:])\n",
    "#ncvar_maize[0,0,:,:] = ma.masked_where(maize[0,1,:,:]<=0,ncvar_maize[0,0,:,:])\n",
    "mdata = maskoceans(lon, lat, ncvar_maize[0,:,:])\n",
    "\n",
    "cs1 = map.contourf(x,y,ncvar_maize[0,:,:],clevs,cmap=plt.cm.jet,vmin=0,vmax=0.35,extend='both')\n",
    "#cs1 = map.pcolormesh(x,y,ncvar_maize[0,:,:],cmap=plt.cm.jet,vmin=0,vmax=0.35)\n",
    "cbar = map.colorbar(cs1,location='bottom',pad=\"5%\")\n",
    "#plt.title('Maize harvested area fraction')\n",
    "cbar.ax.tick_params(labelsize=18) \n",
    "\n",
    "\n",
    "ax2 = fig.add_subplot(122)\n",
    "ax2.set_title(\"Maximum extent of inundation under RCP8.5\",fontsize=20)\n",
    "map = Basemap(llcrnrlon=-119,llcrnrlat=23,urcrnrlon=-63,urcrnrlat=51,\n",
    "        projection='lcc',lat_1=33,lat_2=45,lon_0=-95)\n",
    "# draw coastlines, state and country boundaries, edge of map.\n",
    "map.drawcoastlines()\n",
    "map.drawstates()\n",
    "map.drawcountries(color='b')\n",
    "clevs = N.arange(0,0.4,0.05)\n",
    "cs = map.contourf(x,y,maize[0,:,:],clevs,cmap=plt.cm.jet,vmin=0,vmax=0.35,extend='both')\n",
    "#cs = map.pcolormesh(x,y,maize[0,:,:],cmap=plt.cm.jet,vmin=0,vmax=0.35)\n",
    "\n",
    "cbar = map.colorbar(cs,location='bottom',pad=\"5%\")\n",
    "cbar.ax.tick_params(labelsize=18) \n",
    "\n",
    "#plt.show()\n",
    "plt.savefig('Proj_SWAMPS.jpg',dpi=300)"
   ]
  },
  {
   "cell_type": "code",
   "execution_count": null,
   "metadata": {
    "collapsed": true
   },
   "outputs": [],
   "source": []
  }
 ],
 "metadata": {
  "anaconda-cloud": {},
  "kernelspec": {
   "display_name": "Python 2",
   "language": "python",
   "name": "python2"
  },
  "language_info": {
   "codemirror_mode": {
    "name": "ipython",
    "version": 2
   },
   "file_extension": ".py",
   "mimetype": "text/x-python",
   "name": "python",
   "nbconvert_exporter": "python",
   "pygments_lexer": "ipython2",
   "version": "2.7.13"
  }
 },
 "nbformat": 4,
 "nbformat_minor": 1
}
