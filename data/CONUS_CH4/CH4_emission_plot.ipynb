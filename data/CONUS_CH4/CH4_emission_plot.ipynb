{
 "cells": [
  {
   "cell_type": "code",
   "execution_count": 1,
   "metadata": {},
   "outputs": [
    {
     "ename": "KeyError",
     "evalue": "'PROJ_LIB'",
     "output_type": "error",
     "traceback": [
      "\u001b[0;31m---------------------------------------------------------------------------\u001b[0m",
      "\u001b[0;31mKeyError\u001b[0m                                  Traceback (most recent call last)",
      "\u001b[0;32m<ipython-input-1-6bfb9985a880>\u001b[0m in \u001b[0;36m<module>\u001b[0;34m()\u001b[0m\n\u001b[1;32m      2\u001b[0m \u001b[0;32mimport\u001b[0m \u001b[0mnumpy\u001b[0m \u001b[0;32mas\u001b[0m \u001b[0mnp\u001b[0m\u001b[0;34m\u001b[0m\u001b[0m\n\u001b[1;32m      3\u001b[0m \u001b[0;32mimport\u001b[0m \u001b[0mmatplotlib\u001b[0m\u001b[0;34m.\u001b[0m\u001b[0mpyplot\u001b[0m \u001b[0;32mas\u001b[0m \u001b[0mplt\u001b[0m\u001b[0;34m\u001b[0m\u001b[0m\n\u001b[0;32m----> 4\u001b[0;31m \u001b[0;32mfrom\u001b[0m \u001b[0mmpl_toolkits\u001b[0m\u001b[0;34m.\u001b[0m\u001b[0mbasemap\u001b[0m \u001b[0;32mimport\u001b[0m \u001b[0mBasemap\u001b[0m\u001b[0;34m,\u001b[0m \u001b[0mcm\u001b[0m\u001b[0;34m\u001b[0m\u001b[0m\n\u001b[0m\u001b[1;32m      5\u001b[0m \u001b[0;32mfrom\u001b[0m \u001b[0mnetCDF4\u001b[0m \u001b[0;32mimport\u001b[0m \u001b[0mDataset\u001b[0m\u001b[0;34m\u001b[0m\u001b[0m\n\u001b[1;32m      6\u001b[0m \u001b[0;32mfrom\u001b[0m \u001b[0mscipy\u001b[0m\u001b[0;34m.\u001b[0m\u001b[0minterpolate\u001b[0m \u001b[0;32mimport\u001b[0m \u001b[0minterp1d\u001b[0m\u001b[0;34m\u001b[0m\u001b[0m\n",
      "\u001b[0;32m/data/keeling/a/sshu3/anaconda2/lib/python2.7/site-packages/mpl_toolkits/basemap/__init__.py\u001b[0m in \u001b[0;36m<module>\u001b[0;34m()\u001b[0m\n\u001b[1;32m    153\u001b[0m \u001b[0;34m\u001b[0m\u001b[0m\n\u001b[1;32m    154\u001b[0m \u001b[0;31m# create dictionary that maps epsg codes to Basemap kwargs.\u001b[0m\u001b[0;34m\u001b[0m\u001b[0;34m\u001b[0m\u001b[0m\n\u001b[0;32m--> 155\u001b[0;31m \u001b[0mpyproj_datadir\u001b[0m \u001b[0;34m=\u001b[0m \u001b[0mos\u001b[0m\u001b[0;34m.\u001b[0m\u001b[0menviron\u001b[0m\u001b[0;34m[\u001b[0m\u001b[0;34m'PROJ_LIB'\u001b[0m\u001b[0;34m]\u001b[0m\u001b[0;34m\u001b[0m\u001b[0m\n\u001b[0m\u001b[1;32m    156\u001b[0m \u001b[0mepsgf\u001b[0m \u001b[0;34m=\u001b[0m \u001b[0mopen\u001b[0m\u001b[0;34m(\u001b[0m\u001b[0mos\u001b[0m\u001b[0;34m.\u001b[0m\u001b[0mpath\u001b[0m\u001b[0;34m.\u001b[0m\u001b[0mjoin\u001b[0m\u001b[0;34m(\u001b[0m\u001b[0mpyproj_datadir\u001b[0m\u001b[0;34m,\u001b[0m\u001b[0;34m'epsg'\u001b[0m\u001b[0;34m)\u001b[0m\u001b[0;34m)\u001b[0m\u001b[0;34m\u001b[0m\u001b[0m\n\u001b[1;32m    157\u001b[0m \u001b[0mepsg_dict\u001b[0m\u001b[0;34m=\u001b[0m\u001b[0;34m{\u001b[0m\u001b[0;34m}\u001b[0m\u001b[0;34m\u001b[0m\u001b[0m\n",
      "\u001b[0;32m/data/keeling/a/sshu3/anaconda2/lib/python2.7/UserDict.pyc\u001b[0m in \u001b[0;36m__getitem__\u001b[0;34m(self, key)\u001b[0m\n\u001b[1;32m     38\u001b[0m         \u001b[0;32mif\u001b[0m \u001b[0mhasattr\u001b[0m\u001b[0;34m(\u001b[0m\u001b[0mself\u001b[0m\u001b[0;34m.\u001b[0m\u001b[0m__class__\u001b[0m\u001b[0;34m,\u001b[0m \u001b[0;34m\"__missing__\"\u001b[0m\u001b[0;34m)\u001b[0m\u001b[0;34m:\u001b[0m\u001b[0;34m\u001b[0m\u001b[0m\n\u001b[1;32m     39\u001b[0m             \u001b[0;32mreturn\u001b[0m \u001b[0mself\u001b[0m\u001b[0;34m.\u001b[0m\u001b[0m__class__\u001b[0m\u001b[0;34m.\u001b[0m\u001b[0m__missing__\u001b[0m\u001b[0;34m(\u001b[0m\u001b[0mself\u001b[0m\u001b[0;34m,\u001b[0m \u001b[0mkey\u001b[0m\u001b[0;34m)\u001b[0m\u001b[0;34m\u001b[0m\u001b[0m\n\u001b[0;32m---> 40\u001b[0;31m         \u001b[0;32mraise\u001b[0m \u001b[0mKeyError\u001b[0m\u001b[0;34m(\u001b[0m\u001b[0mkey\u001b[0m\u001b[0;34m)\u001b[0m\u001b[0;34m\u001b[0m\u001b[0m\n\u001b[0m\u001b[1;32m     41\u001b[0m     \u001b[0;32mdef\u001b[0m \u001b[0m__setitem__\u001b[0m\u001b[0;34m(\u001b[0m\u001b[0mself\u001b[0m\u001b[0;34m,\u001b[0m \u001b[0mkey\u001b[0m\u001b[0;34m,\u001b[0m \u001b[0mitem\u001b[0m\u001b[0;34m)\u001b[0m\u001b[0;34m:\u001b[0m \u001b[0mself\u001b[0m\u001b[0;34m.\u001b[0m\u001b[0mdata\u001b[0m\u001b[0;34m[\u001b[0m\u001b[0mkey\u001b[0m\u001b[0;34m]\u001b[0m \u001b[0;34m=\u001b[0m \u001b[0mitem\u001b[0m\u001b[0;34m\u001b[0m\u001b[0m\n\u001b[1;32m     42\u001b[0m     \u001b[0;32mdef\u001b[0m \u001b[0m__delitem__\u001b[0m\u001b[0;34m(\u001b[0m\u001b[0mself\u001b[0m\u001b[0;34m,\u001b[0m \u001b[0mkey\u001b[0m\u001b[0;34m)\u001b[0m\u001b[0;34m:\u001b[0m \u001b[0;32mdel\u001b[0m \u001b[0mself\u001b[0m\u001b[0;34m.\u001b[0m\u001b[0mdata\u001b[0m\u001b[0;34m[\u001b[0m\u001b[0mkey\u001b[0m\u001b[0;34m]\u001b[0m\u001b[0;34m\u001b[0m\u001b[0m\n",
      "\u001b[0;31mKeyError\u001b[0m: 'PROJ_LIB'"
     ]
    }
   ],
   "source": [
    "import pandas as pd\n",
    "import numpy as np\n",
    "import matplotlib.pyplot as plt\n",
    "from mpl_toolkits.basemap import Basemap, cm\n",
    "from netCDF4 import Dataset\n",
    "from scipy.interpolate import interp1d\n",
    "import auxiliary_lib as au\n",
    "import isamcalc_lib as isam\n",
    "import subprocess\n",
    "import socplot_lib as socplt\n",
    "import Fluxtools as flux\n"
   ]
  },
  {
   "cell_type": "code",
   "execution_count": null,
   "metadata": {},
   "outputs": [],
   "source": [
    "site = [\"desfn\", \"nlhor\", \"ustwt\", \"uswpt\", \"uscrt\", \"usmyb\", \"ustw1\"]\n",
    "styear = [2012, 2004, 2010, 2011, 2011, 2011, 2013]\n",
    "years = [2, 3, 5, 3, 3, 5, 3]\n",
    "\n",
    "# Open text file (model simulation)\n",
    "# DE-SfN\n",
    "fname=site[0]+\"_daily_10_tgas.txt\"\n",
    "ch4 = pd.read_csv(fname, delim_whitespace=True, header=None)\n",
    "ch4_emis = ch4.iloc[:,0].as_matrix()\n",
    "totlen = len(ch4_emis)\n",
    "days = 365*years[0]\n",
    "ch4_mod_daily = ch4_emis[totlen-days:totlen]\n",
    "\n",
    "# Open the observations\n",
    "fname=\"site_methane.csv\"\n",
    "ch4_obs = pd.read_csv(fname)\n",
    "# DE-SfN\n",
    "site_year = np.arange(styear[0], styear[0]+years[0])\n",
    "ch4_obs_raw = ch4_obs.DESfN[ch4_obs.YEAR.astype(\"int\").isin(site_year)].as_matrix()\n",
    "ch4_obs_raw[ch4_obs_raw < -500] = float(\"nan\")\n",
    "ch4_obs_raw = ch4_obs_raw * 3600\n",
    "ch4_obs_daily = flux.hr2daily(ch4_obs_raw, \"agg\", 48)\n",
    "# Transform unit from umol/day to gCH4/day\n",
    "ch4_obs_daily = 16. * ch4_obs_daily / 1e6\n",
    "\n",
    "ch4_obs_10d_avg = pd.rolling_mean(ch4_obs_daily, 20)\n",
    "ch4_mod_10d_avg = pd.rolling_mean(ch4_mod_daily, 20)\n"
   ]
  },
  {
   "cell_type": "code",
   "execution_count": null,
   "metadata": {},
   "outputs": [],
   "source": [
    "site = [\"desfn\", \"nlhor\", \"ustwt\", \"uswpt\", \"uscrt\", \"usmyb\", \"ustw1\"]\n",
    "styear = [2012, 2004, 2010, 2011, 2011, 2011, 2013]\n",
    "years = [2, 3, 5, 3, 3, 5, 3]\n",
    "\n",
    "# Open text file (model simulation)\n",
    "# NL-Nor\n",
    "fname=site[1]+\"_daily_10_tgas.txt\"\n",
    "ch4 = pd.read_csv(fname, delim_whitespace=True, header=None)\n",
    "ch4_emis = ch4.iloc[:,0].as_matrix()\n",
    "totlen = len(ch4_emis)\n",
    "days = 365*years[1]\n",
    "ch4_mod_daily = ch4_emis[totlen-days:totlen]\n",
    "\n",
    "# Open the observations\n",
    "fname=\"site_methane.csv\"\n",
    "ch4_obs = pd.read_csv(fname)\n",
    "# NL-Hor\n",
    "site_year = np.arange(styear[1], styear[1]+years[1])\n",
    "ch4_obs_raw = ch4_obs.NLHor[ch4_obs.YEAR.astype(\"int\").isin(site_year)].as_matrix()\n",
    "ch4_obs_raw[ch4_obs_raw < -500] = float(\"nan\")\n",
    "ch4_obs_raw = ch4_obs_raw * 3600\n",
    "ch4_obs_daily = flux.hr2daily(ch4_obs_raw, \"agg\", 48)\n",
    "# Transform unit from umolm2/day to gCH4m2/day\n",
    "ch4_obs_daily = 16. * ch4_obs_daily / 1e6\n",
    "\n",
    "ch4_obs_10d_avg = pd.rolling_mean(ch4_obs_daily, 20)\n",
    "ch4_mod_10d_avg = pd.rolling_mean(ch4_mod_daily, 20)\n"
   ]
  },
  {
   "cell_type": "code",
   "execution_count": null,
   "metadata": {},
   "outputs": [],
   "source": [
    "site = [\"desfn\", \"nlhor\", \"ustwt\", \"uswpt\", \"uscrt\", \"usmyb\", \"ustw1\"]\n",
    "styear = [2012, 2004, 2010, 2011, 2011, 2011, 2013]\n",
    "years = [2, 3, 3, 3, 3, 5, 3]\n",
    "\n",
    "# Open text file (model simulation)\n",
    "# US-Twt\n",
    "fname=site[2]+\"_daily_10_tgas.txt\"\n",
    "ch4 = pd.read_csv(fname, delim_whitespace=True, header=None)\n",
    "ch4_emis = ch4.iloc[:,0].as_matrix()\n",
    "totlen = len(ch4_emis)\n",
    "days = 365*years[2]\n",
    "ch4_mod_daily = ch4_emis[totlen-days:totlen]\n",
    "\n",
    "# Open the observations\n",
    "fname=\"site_methane.csv\"\n",
    "ch4_obs = pd.read_csv(fname)\n",
    "# US-Twt\n",
    "site_year = np.arange(styear[2], styear[2]+years[2])\n",
    "ch4_obs_raw = ch4_obs.USTwt[ch4_obs.YEAR.astype(\"int\").isin(site_year)].as_matrix()\n",
    "ch4_obs_raw[ch4_obs_raw < -500] = float(\"nan\")\n",
    "ch4_obs_raw = ch4_obs_raw * 3600\n",
    "ch4_obs_daily = flux.hr2daily(ch4_obs_raw, \"agg\", 48)\n",
    "# Transform unit from umol/day to gCH4/day\n",
    "ch4_obs_daily = 16. * ch4_obs_daily / 1e6\n",
    "\n",
    "ch4_obs_10d_avg = pd.rolling_mean(ch4_obs_daily, 20)\n",
    "ch4_mod_10d_avg = pd.rolling_mean(ch4_mod_daily, 20)\n"
   ]
  },
  {
   "cell_type": "code",
   "execution_count": null,
   "metadata": {},
   "outputs": [],
   "source": [
    "site = [\"desfn\", \"nlhor\", \"ustwt\", \"uswpt\", \"uscrt\", \"usmyb\", \"ustw1\"]\n",
    "styear = [2012, 2004, 2010, 2011, 2011, 2011, 2013]\n",
    "years = [2, 3, 5, 3, 3, 5, 3]\n",
    "\n",
    "# Open text file (model simulation)\n",
    "# US-WPT\n",
    "fname=site[3]+\"_daily_10_tgas.txt\"\n",
    "ch4 = pd.read_csv(fname, delim_whitespace=True, header=None)\n",
    "ch4_emis = ch4.iloc[:,0].as_matrix()\n",
    "totlen = len(ch4_emis)\n",
    "days = 365*years[3]\n",
    "ch4_mod_daily = ch4_emis[totlen-days:totlen]\n",
    "\n",
    "# Open the observations\n",
    "fname=\"site_methane.csv\"\n",
    "ch4_obs = pd.read_csv(fname)\n",
    "# US-WPT\n",
    "site_year = np.arange(styear[3], styear[3]+years[3])\n",
    "ch4_obs_raw = ch4_obs.USWPT[ch4_obs.YEAR.astype(\"int\").isin(site_year)].as_matrix()\n",
    "ch4_obs_raw[ch4_obs_raw < -500] = float(\"nan\")\n",
    "ch4_obs_raw = ch4_obs_raw * 3600\n",
    "ch4_obs_daily = flux.hr2daily(ch4_obs_raw, \"agg\", 48)\n",
    "# Transform unit from umol/day to gCH4/day\n",
    "ch4_obs_daily = 16. * ch4_obs_daily / 1e6\n",
    "\n",
    "ch4_obs_10d_avg = pd.rolling_mean(ch4_obs_daily, 20)\n",
    "ch4_mod_10d_avg = pd.rolling_mean(ch4_mod_daily, 20)"
   ]
  },
  {
   "cell_type": "code",
   "execution_count": null,
   "metadata": {},
   "outputs": [],
   "source": [
    "site = [\"desfn\", \"nlhor\", \"ustwt\", \"uswpt\", \"uscrt\", \"usmyb\", \"ustw1\"]\n",
    "styear = [2012, 2004, 2010, 2011, 2011, 2011, 2013]\n",
    "years = [2, 3, 5, 3, 3, 5, 3]\n",
    "\n",
    "# Open text file (model simulation)\n",
    "# US-CRT\n",
    "fname=site[4]+\"_daily_10_tgas.txt\"\n",
    "ch4 = pd.read_csv(fname, delim_whitespace=True, header=None)\n",
    "ch4_emis = ch4.iloc[:,0].as_matrix()\n",
    "totlen = len(ch4_emis)\n",
    "days = 365*years[4]\n",
    "ch4_mod_daily = ch4_emis[totlen-days:totlen]\n",
    "\n",
    "# Open the observations\n",
    "fname=\"site_methane.csv\"\n",
    "ch4_obs = pd.read_csv(fname)\n",
    "# US-CRT\n",
    "site_year = np.arange(styear[4], styear[4]+years[4])\n",
    "ch4_obs_raw = ch4_obs.USCRT[ch4_obs.YEAR.astype(\"int\").isin(site_year)].as_matrix()\n",
    "ch4_obs_raw[ch4_obs_raw < -500] = float(\"nan\")\n",
    "ch4_obs_raw = ch4_obs_raw * 3600\n",
    "ch4_obs_daily = flux.hr2daily(ch4_obs_raw, \"agg\", 48)\n",
    "# Transform unit from umol/day to gCH4/day\n",
    "ch4_obs_daily = 16. * ch4_obs_daily / 1e6\n",
    "\n",
    "ch4_obs_10d_avg = pd.rolling_mean(ch4_obs_daily, 20)\n",
    "ch4_mod_10d_avg = pd.rolling_mean(ch4_mod_daily, 20)"
   ]
  },
  {
   "cell_type": "code",
   "execution_count": null,
   "metadata": {},
   "outputs": [],
   "source": [
    "site = [\"desfn\", \"nlhor\", \"ustwt\", \"uswpt\", \"uscrt\", \"usmyb\", \"ustw1\"]\n",
    "styear = [2012, 2004, 2010, 2011, 2011, 2012, 2013]\n",
    "years = [2, 3, 5, 3, 3, 4, 3]\n",
    "\n",
    "# Open text file (model simulation)\n",
    "# US-Myb\n",
    "fname=site[5]+\"_daily_10_tgas.txt\"\n",
    "#fname=\"usmyb2_tgas.txt\"\n",
    "ch4 = pd.read_csv(fname, delim_whitespace=True, header=None)\n",
    "ch4_emis = ch4.iloc[:,0].as_matrix()\n",
    "totlen = len(ch4_emis)\n",
    "days = 365*years[5]\n",
    "ch4_mod_daily = ch4_emis[totlen-days:totlen]\n",
    "\n",
    "# Open the observations\n",
    "fname=\"site_methane.csv\"\n",
    "ch4_obs = pd.read_csv(fname)\n",
    "# US-Myb\n",
    "site_year = np.arange(styear[5], styear[5]+years[5])\n",
    "ch4_obs_raw = ch4_obs.USMyb[ch4_obs.YEAR.astype(\"int\").isin(site_year)].as_matrix()\n",
    "ch4_obs_raw[ch4_obs_raw < -500] = float(\"nan\")\n",
    "ch4_obs_raw = ch4_obs_raw * 3600\n",
    "ch4_obs_daily = flux.hr2daily(ch4_obs_raw, \"agg\", 48)\n",
    "# Transform unit from umol/day to gCH4/day\n",
    "ch4_obs_daily = 16. * ch4_obs_daily / 1e6\n",
    "\n",
    "ch4_obs_10d_avg = pd.rolling_mean(ch4_obs_daily, 20)\n",
    "ch4_mod_10d_avg = pd.rolling_mean(ch4_mod_daily, 20)\n"
   ]
  },
  {
   "cell_type": "code",
   "execution_count": null,
   "metadata": {},
   "outputs": [],
   "source": [
    "site = [\"desfn\", \"nlhor\", \"ustwt\", \"uswpt\", \"uscrt\", \"usmyb\", \"ustw1\"]\n",
    "styear = [2012, 2004, 2010, 2011, 2011, 2011, 2013]\n",
    "years = [2, 3, 5, 3, 3, 5, 3]\n",
    "\n",
    "# Open text file (model simulation)\n",
    "# US-Tw1\n",
    "fname=site[6]+\"_daily_10_tgas.txt\"\n",
    "ch4 = pd.read_csv(fname, delim_whitespace=True, header=None)\n",
    "ch4_emis = ch4.iloc[:,0].as_matrix()\n",
    "totlen = len(ch4_emis)\n",
    "days = 365*years[6]\n",
    "ch4_mod_daily = ch4_emis[totlen-days:totlen]\n",
    "\n",
    "# Open the observations\n",
    "fname=\"site_methane.csv\"\n",
    "ch4_obs = pd.read_csv(fname)\n",
    "# US-Tw1\n",
    "site_year = np.arange(styear[6], styear[6]+years[6])\n",
    "ch4_obs_raw = ch4_obs.USTw1[ch4_obs.YEAR.astype(\"int\").isin(site_year)].as_matrix()\n",
    "ch4_obs_raw[ch4_obs_raw < -500] = float(\"nan\")\n",
    "ch4_obs_raw = ch4_obs_raw * 3600\n",
    "ch4_obs_daily = flux.hr2daily(ch4_obs_raw, \"agg\", 48)\n",
    "# Transform unit from umol/day to gCH4/day\n",
    "ch4_obs_daily = 16. * ch4_obs_daily / 1e6\n",
    "\n",
    "ch4_obs_10d_avg = pd.rolling_mean(ch4_obs_daily, 20)\n",
    "ch4_mod_10d_avg = pd.rolling_mean(ch4_mod_daily, 20)\n"
   ]
  },
  {
   "cell_type": "code",
   "execution_count": null,
   "metadata": {
    "collapsed": true
   },
   "outputs": [],
   "source": [
    "# Write observed CH4 into csv file\n",
    "np.savetxt('ch4_obs.ustw1', ch4_obs_daily)"
   ]
  },
  {
   "cell_type": "code",
   "execution_count": null,
   "metadata": {},
   "outputs": [],
   "source": [
    "# Calculate the refined Willmott's index for 1) daily mean and 2) 20-day moving average daily mean\n",
    "# 1) daily mean\n",
    "ch4_obs_daily=ch4_obs_daily[0:365]\n",
    "ch4_mod_daily=ch4_mod_daily[0:365]\n",
    "Xobs = ch4_obs_daily[0:len(ch4_mod_daily)]   # CH4 from observation\n",
    "Yobs = len(Xobs)\n",
    "Xmod = ch4_mod_daily   # CH4 from model\n",
    "Ymod = len(Xmod)\n",
    "absdiff_obs = np.nansum(np.abs(Xobs - np.nanmean(Xobs)))\n",
    "absdiff_mod = np.nansum(np.abs(Xmod - Xobs))\n",
    "if(absdiff_mod <= 2*absdiff_obs):\n",
    "    wmidx = 1 - absdiff_mod/(2*absdiff_obs)\n",
    "else:\n",
    "    wmidx = 2*absdiff_obs/absdiff_mod - 1\n",
    "print(wmidx)"
   ]
  },
  {
   "cell_type": "code",
   "execution_count": null,
   "metadata": {},
   "outputs": [],
   "source": [
    "# Calculate the refined Willmott's index for 1) daily mean and 2) 20-day moving average daily mean\n",
    "# 2) 20-day moving average\n",
    "ch4_obs_10d_avg=ch4_obs_10d_avg[0:365]\n",
    "ch4_mod_10d_avg=ch4_mod_10d_avg[0:365]\n",
    "Xobs = ch4_obs_10d_avg[0:len(ch4_mod_10d_avg)]   # CH4 from observation\n",
    "Yobs = len(Xobs)\n",
    "Xmod = ch4_mod_10d_avg   # CH4 from model\n",
    "Ymod = len(Xmod)\n",
    "absdiff_obs = np.nansum(np.abs(Xobs - np.nanmean(Xobs)))\n",
    "absdiff_mod = np.nansum(np.abs(Xmod - Xobs))\n",
    "if(absdiff_mod <= 2*absdiff_obs):\n",
    "    wmidx = 1 - absdiff_mod/(2*absdiff_obs)\n",
    "else:\n",
    "    wmidx = 2*absdiff_obs/absdiff_mod - 1\n",
    "print(wmidx)\n"
   ]
  },
  {
   "cell_type": "code",
   "execution_count": null,
   "metadata": {},
   "outputs": [],
   "source": [
    "Xmod[np.isnan(Xobs)]=float(\"nan\")"
   ]
  },
  {
   "cell_type": "code",
   "execution_count": null,
   "metadata": {},
   "outputs": [],
   "source": [
    "np.nanmean(Xmod)"
   ]
  },
  {
   "cell_type": "code",
   "execution_count": null,
   "metadata": {},
   "outputs": [],
   "source": [
    "np.nanmean(Xobs)"
   ]
  },
  {
   "cell_type": "code",
   "execution_count": null,
   "metadata": {},
   "outputs": [],
   "source": [
    "np.nanmean(Xobs)-np.nanmean(Xmod)"
   ]
  },
  {
   "cell_type": "code",
   "execution_count": null,
   "metadata": {},
   "outputs": [],
   "source": [
    "#fig1, axes1 = plt.plot(np.arange(0,len(ch4_mod_daily)), ch4_mod_10d_avg)\n",
    "plt.plot(np.arange(0,len(ch4_mod_daily)), ch4_mod_10d_avg, label='ISAM')\n",
    "#plt.plot(np.arange(0,len(ch4_obs_daily)), ch4_obs_10d_avg*2.3, marker='o', color='orange', markerfacecolor='None', label='Obs')\n",
    "#plt.plot(np.arange(0,len(ch4_obs_daily)), ch4_obs_daily*6, marker='o', color='orange', markerfacecolor='None', label='Obs')\n",
    "plt.plot(np.arange(0,len(ch4_obs_daily)), ch4_obs_10d_avg, marker='o', color='orange', markerfacecolor='None', label='Obs')"
   ]
  },
  {
   "cell_type": "code",
   "execution_count": null,
   "metadata": {
    "scrolled": true
   },
   "outputs": [],
   "source": [
    "#ax1 = fig.axes\n",
    "plt.ylim((-0.1, 0.3))\n",
    "plt.rcParams.update({'font.size': 22})\n",
    "#ax1.xaxis.label.set_fontsize(28)\n",
    "#ax1.yaxis.label.set_fontsize(28)\n",
    "plt.show()\n",
    "#plt.savefig('./usmyb.png')"
   ]
  },
  {
   "cell_type": "code",
   "execution_count": null,
   "metadata": {},
   "outputs": [],
   "source": [
    "plt.plot(np.arange(0,len(ch4_obs_daily)), ch4_obs_10d_avg)"
   ]
  },
  {
   "cell_type": "code",
   "execution_count": null,
   "metadata": {
    "scrolled": false
   },
   "outputs": [],
   "source": [
    "plt.show()"
   ]
  },
  {
   "cell_type": "code",
   "execution_count": null,
   "metadata": {},
   "outputs": [],
   "source": [
    "np.nansum(ch4_obs_daily)/5"
   ]
  }
 ],
 "metadata": {
  "kernelspec": {
   "display_name": "Python 2",
   "language": "python",
   "name": "python2"
  },
  "language_info": {
   "codemirror_mode": {
    "name": "ipython",
    "version": 2
   },
   "file_extension": ".py",
   "mimetype": "text/x-python",
   "name": "python",
   "nbconvert_exporter": "python",
   "pygments_lexer": "ipython2",
   "version": "2.7.16"
  }
 },
 "nbformat": 4,
 "nbformat_minor": 2
}
