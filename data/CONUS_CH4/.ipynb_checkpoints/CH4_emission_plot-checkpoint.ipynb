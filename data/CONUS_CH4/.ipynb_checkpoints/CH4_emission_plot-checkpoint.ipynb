{
 "cells": [
  {
   "cell_type": "code",
   "execution_count": 1,
   "metadata": {
    "collapsed": false
   },
   "outputs": [],
   "source": [
    "import pandas as pd\n",
    "import numpy as np\n",
    "import matplotlib.pyplot as plt\n",
    "from mpl_toolkits.basemap import Basemap, cm\n",
    "from netCDF4 import Dataset\n",
    "from scipy.interpolate import interp1d\n",
    "import auxiliary_lib as au\n",
    "import isamcalc_lib as isam\n",
    "import subprocess\n",
    "import socplot_lib as socplt\n",
    "import Fluxtools as flux\n"
   ]
  },
  {
   "cell_type": "code",
   "execution_count": null,
   "metadata": {
    "collapsed": false
   },
   "outputs": [],
   "source": [
    "site = [\"desfn\", \"nlhor\", \"ustwt\", \"uswpt\", \"uscrt\", \"usmyb\", \"ustw1\"]\n",
    "styear = [2012, 2004, 2010, 2011, 2011, 2011, 2013]\n",
    "years = [2, 3, 5, 3, 3, 5, 3]\n",
    "\n",
    "# Open text file (model simulation)\n",
    "# DE-SfN\n",
    "fname=site[0]+\"_daily_10_tgas.txt\"\n",
    "ch4 = pd.read_csv(fname, delim_whitespace=True, header=None)\n",
    "ch4_emis = ch4.iloc[:,0].as_matrix()\n",
    "totlen = len(ch4_emis)\n",
    "days = 365*years[0]\n",
    "ch4_mod_daily = ch4_emis[totlen-days:totlen]\n",
    "\n",
    "# Open the observations\n",
    "fname=\"site_methane.csv\"\n",
    "ch4_obs = pd.read_csv(fname)\n",
    "# DE-SfN\n",
    "site_year = np.arange(styear[0], styear[0]+years[0])\n",
    "ch4_obs_raw = ch4_obs.DESfN[ch4_obs.YEAR.astype(\"int\").isin(site_year)].as_matrix()\n",
    "ch4_obs_raw[ch4_obs_raw < -500] = float(\"nan\")\n",
    "ch4_obs_raw = ch4_obs_raw * 3600\n",
    "ch4_obs_daily = flux.hr2daily(ch4_obs_raw, \"agg\", 48)\n",
    "# Transform unit from umol/day to gCH4/day\n",
    "ch4_obs_daily = 16. * ch4_obs_daily / 1e6\n",
    "\n",
    "ch4_obs_10d_avg = pd.rolling_mean(ch4_obs_daily, 20)\n",
    "ch4_mod_10d_avg = pd.rolling_mean(ch4_mod_daily, 20)\n"
   ]
  },
  {
   "cell_type": "code",
   "execution_count": null,
   "metadata": {
    "collapsed": false
   },
   "outputs": [],
   "source": [
    "site = [\"desfn\", \"nlhor\", \"ustwt\", \"uswpt\", \"uscrt\", \"usmyb\", \"ustw1\"]\n",
    "styear = [2012, 2004, 2010, 2011, 2011, 2011, 2013]\n",
    "years = [2, 3, 5, 3, 3, 5, 3]\n",
    "\n",
    "# Open text file (model simulation)\n",
    "# NL-Nor\n",
    "fname=site[1]+\"_daily_10_tgas.txt\"\n",
    "ch4 = pd.read_csv(fname, delim_whitespace=True, header=None)\n",
    "ch4_emis = ch4.iloc[:,0].as_matrix()\n",
    "totlen = len(ch4_emis)\n",
    "days = 365*years[1]\n",
    "ch4_mod_daily = ch4_emis[totlen-days:totlen]\n",
    "\n",
    "# Open the observations\n",
    "fname=\"site_methane.csv\"\n",
    "ch4_obs = pd.read_csv(fname)\n",
    "# NL-Hor\n",
    "site_year = np.arange(styear[1], styear[1]+years[1])\n",
    "ch4_obs_raw = ch4_obs.NLHor[ch4_obs.YEAR.astype(\"int\").isin(site_year)].as_matrix()\n",
    "ch4_obs_raw[ch4_obs_raw < -500] = float(\"nan\")\n",
    "ch4_obs_raw = ch4_obs_raw * 3600\n",
    "ch4_obs_daily = flux.hr2daily(ch4_obs_raw, \"agg\", 48)\n",
    "# Transform unit from umolm2/day to gCH4m2/day\n",
    "ch4_obs_daily = 16. * ch4_obs_daily / 1e6\n",
    "\n",
    "ch4_obs_10d_avg = pd.rolling_mean(ch4_obs_daily, 20)\n",
    "ch4_mod_10d_avg = pd.rolling_mean(ch4_mod_daily, 20)\n"
   ]
  },
  {
   "cell_type": "code",
   "execution_count": 6,
   "metadata": {
    "collapsed": false
   },
   "outputs": [
    {
     "name": "stderr",
     "output_type": "stream",
     "text": [
      "/data/keeling/a/sshu3/anaconda2/lib/python2.7/site-packages/ipykernel/__main__.py:26: FutureWarning: pd.rolling_mean is deprecated for ndarrays and will be removed in a future version\n",
      "/data/keeling/a/sshu3/anaconda2/lib/python2.7/site-packages/ipykernel/__main__.py:27: FutureWarning: pd.rolling_mean is deprecated for ndarrays and will be removed in a future version\n"
     ]
    }
   ],
   "source": [
    "site = [\"desfn\", \"nlhor\", \"ustwt\", \"uswpt\", \"uscrt\", \"usmyb\", \"ustw1\"]\n",
    "styear = [2012, 2004, 2010, 2011, 2011, 2011, 2013]\n",
    "years = [2, 3, 3, 3, 3, 5, 3]\n",
    "\n",
    "# Open text file (model simulation)\n",
    "# US-Twt\n",
    "fname=site[2]+\"_daily_10_tgas.txt\"\n",
    "ch4 = pd.read_csv(fname, delim_whitespace=True, header=None)\n",
    "ch4_emis = ch4.iloc[:,0].as_matrix()\n",
    "totlen = len(ch4_emis)\n",
    "days = 365*years[2]\n",
    "ch4_mod_daily = ch4_emis[totlen-days:totlen]\n",
    "\n",
    "# Open the observations\n",
    "fname=\"site_methane.csv\"\n",
    "ch4_obs = pd.read_csv(fname)\n",
    "# US-Twt\n",
    "site_year = np.arange(styear[2], styear[2]+years[2])\n",
    "ch4_obs_raw = ch4_obs.USTwt[ch4_obs.YEAR.astype(\"int\").isin(site_year)].as_matrix()\n",
    "ch4_obs_raw[ch4_obs_raw < -500] = float(\"nan\")\n",
    "ch4_obs_raw = ch4_obs_raw * 3600\n",
    "ch4_obs_daily = flux.hr2daily(ch4_obs_raw, \"agg\", 48)\n",
    "# Transform unit from umol/day to gCH4/day\n",
    "ch4_obs_daily = 16. * ch4_obs_daily / 1e6\n",
    "\n",
    "ch4_obs_10d_avg = pd.rolling_mean(ch4_obs_daily, 20)\n",
    "ch4_mod_10d_avg = pd.rolling_mean(ch4_mod_daily, 20)\n"
   ]
  },
  {
   "cell_type": "code",
   "execution_count": 20,
   "metadata": {
    "collapsed": false
   },
   "outputs": [
    {
     "name": "stderr",
     "output_type": "stream",
     "text": [
      "/data/keeling/a/sshu3/anaconda2/lib/python2.7/site-packages/ipykernel/__main__.py:26: FutureWarning: pd.rolling_mean is deprecated for ndarrays and will be removed in a future version\n",
      "/data/keeling/a/sshu3/anaconda2/lib/python2.7/site-packages/ipykernel/__main__.py:27: FutureWarning: pd.rolling_mean is deprecated for ndarrays and will be removed in a future version\n"
     ]
    }
   ],
   "source": [
    "site = [\"desfn\", \"nlhor\", \"ustwt\", \"uswpt\", \"uscrt\", \"usmyb\", \"ustw1\"]\n",
    "styear = [2012, 2004, 2010, 2011, 2011, 2011, 2013]\n",
    "years = [2, 3, 5, 3, 3, 5, 3]\n",
    "\n",
    "# Open text file (model simulation)\n",
    "# US-WPT\n",
    "fname=site[3]+\"_daily_10_tgas.txt\"\n",
    "ch4 = pd.read_csv(fname, delim_whitespace=True, header=None)\n",
    "ch4_emis = ch4.iloc[:,0].as_matrix()\n",
    "totlen = len(ch4_emis)\n",
    "days = 365*years[3]\n",
    "ch4_mod_daily = ch4_emis[totlen-days:totlen]\n",
    "\n",
    "# Open the observations\n",
    "fname=\"site_methane.csv\"\n",
    "ch4_obs = pd.read_csv(fname)\n",
    "# US-WPT\n",
    "site_year = np.arange(styear[3], styear[3]+years[3])\n",
    "ch4_obs_raw = ch4_obs.USWPT[ch4_obs.YEAR.astype(\"int\").isin(site_year)].as_matrix()\n",
    "ch4_obs_raw[ch4_obs_raw < -500] = float(\"nan\")\n",
    "ch4_obs_raw = ch4_obs_raw * 3600\n",
    "ch4_obs_daily = flux.hr2daily(ch4_obs_raw, \"agg\", 48)\n",
    "# Transform unit from umol/day to gCH4/day\n",
    "ch4_obs_daily = 16. * ch4_obs_daily / 1e6\n",
    "\n",
    "ch4_obs_10d_avg = pd.rolling_mean(ch4_obs_daily, 20)\n",
    "ch4_mod_10d_avg = pd.rolling_mean(ch4_mod_daily, 20)"
   ]
  },
  {
   "cell_type": "code",
   "execution_count": 19,
   "metadata": {
    "collapsed": false
   },
   "outputs": [
    {
     "name": "stderr",
     "output_type": "stream",
     "text": [
      "/data/keeling/a/sshu3/anaconda2/lib/python2.7/site-packages/ipykernel/__main__.py:26: FutureWarning: pd.rolling_mean is deprecated for ndarrays and will be removed in a future version\n",
      "/data/keeling/a/sshu3/anaconda2/lib/python2.7/site-packages/ipykernel/__main__.py:27: FutureWarning: pd.rolling_mean is deprecated for ndarrays and will be removed in a future version\n"
     ]
    }
   ],
   "source": [
    "site = [\"desfn\", \"nlhor\", \"ustwt\", \"uswpt\", \"uscrt\", \"usmyb\", \"ustw1\"]\n",
    "styear = [2012, 2004, 2010, 2011, 2011, 2011, 2013]\n",
    "years = [2, 3, 5, 3, 3, 5, 3]\n",
    "\n",
    "# Open text file (model simulation)\n",
    "# US-CRT\n",
    "fname=site[4]+\"_daily_10_tgas.txt\"\n",
    "ch4 = pd.read_csv(fname, delim_whitespace=True, header=None)\n",
    "ch4_emis = ch4.iloc[:,0].as_matrix()\n",
    "totlen = len(ch4_emis)\n",
    "days = 365*years[4]\n",
    "ch4_mod_daily = ch4_emis[totlen-days:totlen]\n",
    "\n",
    "# Open the observations\n",
    "fname=\"site_methane.csv\"\n",
    "ch4_obs = pd.read_csv(fname)\n",
    "# US-CRT\n",
    "site_year = np.arange(styear[4], styear[4]+years[4])\n",
    "ch4_obs_raw = ch4_obs.USCRT[ch4_obs.YEAR.astype(\"int\").isin(site_year)].as_matrix()\n",
    "ch4_obs_raw[ch4_obs_raw < -500] = float(\"nan\")\n",
    "ch4_obs_raw = ch4_obs_raw * 3600\n",
    "ch4_obs_daily = flux.hr2daily(ch4_obs_raw, \"agg\", 48)\n",
    "# Transform unit from umol/day to gCH4/day\n",
    "ch4_obs_daily = 16. * ch4_obs_daily / 1e6\n",
    "\n",
    "ch4_obs_10d_avg = pd.rolling_mean(ch4_obs_daily, 20)\n",
    "ch4_mod_10d_avg = pd.rolling_mean(ch4_mod_daily, 20)"
   ]
  },
  {
   "cell_type": "code",
   "execution_count": 43,
   "metadata": {
    "collapsed": false
   },
   "outputs": [
    {
     "name": "stderr",
     "output_type": "stream",
     "text": [
      "/data/keeling/a/sshu3/anaconda2/lib/python2.7/site-packages/ipykernel/__main__.py:27: FutureWarning: pd.rolling_mean is deprecated for ndarrays and will be removed in a future version\n",
      "/data/keeling/a/sshu3/anaconda2/lib/python2.7/site-packages/ipykernel/__main__.py:28: FutureWarning: pd.rolling_mean is deprecated for ndarrays and will be removed in a future version\n"
     ]
    }
   ],
   "source": [
    "site = [\"desfn\", \"nlhor\", \"ustwt\", \"uswpt\", \"uscrt\", \"usmyb\", \"ustw1\"]\n",
    "styear = [2012, 2004, 2010, 2011, 2011, 2012, 2013]\n",
    "years = [2, 3, 5, 3, 3, 4, 3]\n",
    "\n",
    "# Open text file (model simulation)\n",
    "# US-Myb\n",
    "fname=site[5]+\"_daily_10_tgas.txt\"\n",
    "#fname=\"usmyb2_tgas.txt\"\n",
    "ch4 = pd.read_csv(fname, delim_whitespace=True, header=None)\n",
    "ch4_emis = ch4.iloc[:,0].as_matrix()\n",
    "totlen = len(ch4_emis)\n",
    "days = 365*years[5]\n",
    "ch4_mod_daily = ch4_emis[totlen-days:totlen]\n",
    "\n",
    "# Open the observations\n",
    "fname=\"site_methane.csv\"\n",
    "ch4_obs = pd.read_csv(fname)\n",
    "# US-Myb\n",
    "site_year = np.arange(styear[5], styear[5]+years[5])\n",
    "ch4_obs_raw = ch4_obs.USMyb[ch4_obs.YEAR.astype(\"int\").isin(site_year)].as_matrix()\n",
    "ch4_obs_raw[ch4_obs_raw < -500] = float(\"nan\")\n",
    "ch4_obs_raw = ch4_obs_raw * 3600\n",
    "ch4_obs_daily = flux.hr2daily(ch4_obs_raw, \"agg\", 48)\n",
    "# Transform unit from umol/day to gCH4/day\n",
    "ch4_obs_daily = 16. * ch4_obs_daily / 1e6\n",
    "\n",
    "ch4_obs_10d_avg = pd.rolling_mean(ch4_obs_daily, 20)\n",
    "ch4_mod_10d_avg = pd.rolling_mean(ch4_mod_daily, 20)\n"
   ]
  },
  {
   "cell_type": "code",
   "execution_count": null,
   "metadata": {
    "collapsed": false
   },
   "outputs": [],
   "source": [
    "site = [\"desfn\", \"nlhor\", \"ustwt\", \"uswpt\", \"uscrt\", \"usmyb\", \"ustw1\"]\n",
    "styear = [2012, 2004, 2010, 2011, 2011, 2011, 2013]\n",
    "years = [2, 3, 5, 3, 3, 5, 3]\n",
    "\n",
    "# Open text file (model simulation)\n",
    "# US-Tw1\n",
    "fname=site[6]+\"_daily_10_tgas.txt\"\n",
    "ch4 = pd.read_csv(fname, delim_whitespace=True, header=None)\n",
    "ch4_emis = ch4.iloc[:,0].as_matrix()\n",
    "totlen = len(ch4_emis)\n",
    "days = 365*years[6]\n",
    "ch4_mod_daily = ch4_emis[totlen-days:totlen]\n",
    "\n",
    "# Open the observations\n",
    "fname=\"site_methane.csv\"\n",
    "ch4_obs = pd.read_csv(fname)\n",
    "# US-Tw1\n",
    "site_year = np.arange(styear[6], styear[6]+years[6])\n",
    "ch4_obs_raw = ch4_obs.USTw1[ch4_obs.YEAR.astype(\"int\").isin(site_year)].as_matrix()\n",
    "ch4_obs_raw[ch4_obs_raw < -500] = float(\"nan\")\n",
    "ch4_obs_raw = ch4_obs_raw * 3600\n",
    "ch4_obs_daily = flux.hr2daily(ch4_obs_raw, \"agg\", 48)\n",
    "# Transform unit from umol/day to gCH4/day\n",
    "ch4_obs_daily = 16. * ch4_obs_daily / 1e6\n",
    "\n",
    "ch4_obs_10d_avg = pd.rolling_mean(ch4_obs_daily, 20)\n",
    "ch4_mod_10d_avg = pd.rolling_mean(ch4_mod_daily, 20)\n"
   ]
  },
  {
   "cell_type": "code",
   "execution_count": null,
   "metadata": {
    "collapsed": true
   },
   "outputs": [],
   "source": [
    "# Write observed CH4 into csv file\n",
    "np.savetxt('ch4_obs.ustw1', ch4_obs_daily)"
   ]
  },
  {
   "cell_type": "code",
   "execution_count": 7,
   "metadata": {
    "collapsed": false
   },
   "outputs": [
    {
     "name": "stdout",
     "output_type": "stream",
     "text": [
      "0.441612561741\n"
     ]
    }
   ],
   "source": [
    "# Calculate the refined Willmott's index for 1) daily mean and 2) 20-day moving average daily mean\n",
    "# 1) daily mean\n",
    "ch4_obs_daily=ch4_obs_daily[0:365]\n",
    "ch4_mod_daily=ch4_mod_daily[0:365]\n",
    "Xobs = ch4_obs_daily[0:len(ch4_mod_daily)]   # CH4 from observation\n",
    "Yobs = len(Xobs)\n",
    "Xmod = ch4_mod_daily   # CH4 from model\n",
    "Ymod = len(Xmod)\n",
    "absdiff_obs = np.nansum(np.abs(Xobs - np.nanmean(Xobs)))\n",
    "absdiff_mod = np.nansum(np.abs(Xmod - Xobs))\n",
    "if(absdiff_mod <= 2*absdiff_obs):\n",
    "    wmidx = 1 - absdiff_mod/(2*absdiff_obs)\n",
    "else:\n",
    "    wmidx = 2*absdiff_obs/absdiff_mod - 1\n",
    "print(wmidx)"
   ]
  },
  {
   "cell_type": "code",
   "execution_count": 8,
   "metadata": {
    "collapsed": false
   },
   "outputs": [
    {
     "name": "stdout",
     "output_type": "stream",
     "text": [
      "0.406808004863\n"
     ]
    }
   ],
   "source": [
    "# Calculate the refined Willmott's index for 1) daily mean and 2) 20-day moving average daily mean\n",
    "# 2) 20-day moving average\n",
    "ch4_obs_10d_avg=ch4_obs_10d_avg[0:365]\n",
    "ch4_mod_10d_avg=ch4_mod_10d_avg[0:365]\n",
    "Xobs = ch4_obs_10d_avg[0:len(ch4_mod_10d_avg)]   # CH4 from observation\n",
    "Yobs = len(Xobs)\n",
    "Xmod = ch4_mod_10d_avg   # CH4 from model\n",
    "Ymod = len(Xmod)\n",
    "absdiff_obs = np.nansum(np.abs(Xobs - np.nanmean(Xobs)))\n",
    "absdiff_mod = np.nansum(np.abs(Xmod - Xobs))\n",
    "if(absdiff_mod <= 2*absdiff_obs):\n",
    "    wmidx = 1 - absdiff_mod/(2*absdiff_obs)\n",
    "else:\n",
    "    wmidx = 2*absdiff_obs/absdiff_mod - 1\n",
    "print(wmidx)\n"
   ]
  },
  {
   "cell_type": "code",
   "execution_count": 14,
   "metadata": {
    "collapsed": false
   },
   "outputs": [],
   "source": [
    "Xmod[np.isnan(Xobs)]=float(\"nan\")"
   ]
  },
  {
   "cell_type": "code",
   "execution_count": 15,
   "metadata": {
    "collapsed": false
   },
   "outputs": [
    {
     "data": {
      "text/plain": [
       "0.021528633505050531"
      ]
     },
     "execution_count": 15,
     "metadata": {},
     "output_type": "execute_result"
    }
   ],
   "source": [
    "np.nanmean(Xmod)"
   ]
  },
  {
   "cell_type": "code",
   "execution_count": 16,
   "metadata": {
    "collapsed": false
   },
   "outputs": [
    {
     "data": {
      "text/plain": [
       "0.04664046106425257"
      ]
     },
     "execution_count": 16,
     "metadata": {},
     "output_type": "execute_result"
    }
   ],
   "source": [
    "np.nanmean(Xobs)"
   ]
  },
  {
   "cell_type": "code",
   "execution_count": 17,
   "metadata": {
    "collapsed": false
   },
   "outputs": [
    {
     "data": {
      "text/plain": [
       "0.025111827559202039"
      ]
     },
     "execution_count": 17,
     "metadata": {},
     "output_type": "execute_result"
    }
   ],
   "source": [
    "np.nanmean(Xobs)-np.nanmean(Xmod)"
   ]
  },
  {
   "cell_type": "code",
   "execution_count": 101,
   "metadata": {
    "collapsed": false
   },
   "outputs": [
    {
     "data": {
      "text/plain": [
       "[<matplotlib.lines.Line2D at 0x2abbda2704d0>]"
      ]
     },
     "execution_count": 101,
     "metadata": {},
     "output_type": "execute_result"
    }
   ],
   "source": [
    "#fig1, axes1 = plt.plot(np.arange(0,len(ch4_mod_daily)), ch4_mod_10d_avg)\n",
    "plt.plot(np.arange(0,len(ch4_mod_daily)), ch4_mod_10d_avg, label='ISAM')\n",
    "#plt.plot(np.arange(0,len(ch4_obs_daily)), ch4_obs_10d_avg*2.3, marker='o', color='orange', markerfacecolor='None', label='Obs')\n",
    "#plt.plot(np.arange(0,len(ch4_obs_daily)), ch4_obs_daily*6, marker='o', color='orange', markerfacecolor='None', label='Obs')\n",
    "plt.plot(np.arange(0,len(ch4_obs_daily)), ch4_obs_10d_avg, marker='o', color='orange', markerfacecolor='None', label='Obs')"
   ]
  },
  {
   "cell_type": "code",
   "execution_count": 102,
   "metadata": {
    "collapsed": false,
    "scrolled": true
   },
   "outputs": [
    {
     "data": {
      "image/png": "[encoded data removed]",
      "text/plain": [
       "<matplotlib.figure.Figure at 0x2abbda165310>"
      ]
     },
     "metadata": {},
     "output_type": "display_data"
    }
   ],
   "source": [
    "#ax1 = fig.axes\n",
    "plt.ylim((-0.1, 0.3))\n",
    "plt.rcParams.update({'font.size': 22})\n",
    "#ax1.xaxis.label.set_fontsize(28)\n",
    "#ax1.yaxis.label.set_fontsize(28)\n",
    "plt.show()\n",
    "#plt.savefig('./usmyb.png')"
   ]
  },
  {
   "cell_type": "code",
   "execution_count": null,
   "metadata": {
    "collapsed": false
   },
   "outputs": [],
   "source": [
    "plt.plot(np.arange(0,len(ch4_obs_daily)), ch4_obs_10d_avg)"
   ]
  },
  {
   "cell_type": "code",
   "execution_count": null,
   "metadata": {
    "collapsed": false,
    "scrolled": false
   },
   "outputs": [],
   "source": [
    "plt.show()"
   ]
  },
  {
   "cell_type": "code",
   "execution_count": null,
   "metadata": {
    "collapsed": false
   },
   "outputs": [],
   "source": [
    "np.nansum(ch4_obs_daily)/5"
   ]
  }
 ],
 "metadata": {
  "kernelspec": {
   "display_name": "Python 2",
   "language": "python",
   "name": "python2"
  },
  "language_info": {
   "codemirror_mode": {
    "name": "ipython",
    "version": 2
   },
   "file_extension": ".py",
   "mimetype": "text/x-python",
   "name": "python",
   "nbconvert_exporter": "python",
   "pygments_lexer": "ipython2",
   "version": "2.7.13"
  }
 },
 "nbformat": 4,
 "nbformat_minor": 2
}
