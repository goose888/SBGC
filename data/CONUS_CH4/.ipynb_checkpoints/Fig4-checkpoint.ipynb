{
 "cells": [
  {
   "cell_type": "code",
   "execution_count": 1,
   "metadata": {},
   "outputs": [],
   "source": [
    "import os\n",
    "os.environ['PROJ_LIB'] = '/data/keeling/a/sshu3/anaconda2/share/proj'\n",
    "from mpl_toolkits.basemap import Basemap, cm, shiftgrid,maskoceans\n",
    "from netCDF4 import Dataset as NetCDFFile\n",
    "import numpy as N\n",
    "import matplotlib.pyplot as plt\n",
    "from matplotlib import colors\n",
    "import numpy.ma as ma\n",
    "from scipy.interpolate import griddata\n",
    "from pyresample import geometry,image, kd_tree\n",
    "import numpy as np\n"
   ]
  },
  {
   "cell_type": "code",
   "execution_count": null,
   "metadata": {},
   "outputs": [],
   "source": [
    "## Comparison between Wetchart and ISAM model estimation\n",
    "# Historical\n",
    "#nclu=NetCDFFile('hist_01_10.nc','r')\n",
    "nclu=NetCDFFile('/data/jain1/c/sshu3/SBGC/results/CONUS/decadal_mean/hist_01_10.nc','r')\n",
    "ch4_avg = nclu.variables['ch4_flux'][:]\n",
    "ch4_wet = nclu.variables['ch4_flux_wet'][:]\n",
    "ch4_inund = nclu.variables['ch4_flux_inund'][:]\n",
    "ch4_dry = nclu.variables['ch4_flux_dry'][:]\n",
    "latnc = nclu.variables['lat'][:]\n",
    "# znc = nclu.variables['level'][:]\n",
    "lonnc = nclu.variables['lon'][:]\n",
    "# timenc = nclu.variables['time'][:]\n",
    "lonnc = ((lonnc - 180) % 360) - 180\n",
    "\n",
    "# Read in wetland fraction and inundated fraction\n",
    "nclu2=NetCDFFile('surfdata_05x05.nc','r')\n",
    "fw_wet = nclu2.variables['FW'][:]\n",
    "\n",
    "nclu4=NetCDFFile('fw_frac_mean_01_10.nc','r')\n",
    "fw_tot = nclu4.variables['FW'][:]\n",
    "\n",
    "#ncvar_maize = ch4_avg\n",
    "# Calculate the wetland emission, shall only consider the\n",
    "# total from wetland and inundated area\n",
    "ncvar_maize = ch4_wet + ch4_inund #+ ch4_dry\n",
    "\n",
    "nclu3=NetCDFFile('wetcharts_mean_0910.nc4','r')\n",
    "#nclu3=NetCDFFile('ccc.nc4','r')\n",
    "ncvar_maize2 = nclu3.variables['wetland_CH4_emissions'][:]\n",
    "latnc2 = nclu3.variables['lat'][:]\n",
    "# znc = nclu.variables['level'][:]\n",
    "lonnc2 = nclu3.variables['lon'][:]\n",
    "#lonnc2 = lonnc\n",
    "pp = ncvar_maize2[0,:,:]\n",
    "\n",
    "\n",
    "# Mask out regions outside the CONUS\n",
    "ncmk=NetCDFFile('surfdata_05x05_13reg.nc','r')\n",
    "ncvar_mask = ncmk.variables['REGION_MASK_CRU_NCEP'][:]\n",
    "ncvar_mask[ncvar_mask<12] = 0\n",
    "ncvar_mask[ncvar_mask>12] = 0\n",
    "ncvar_mask[ncvar_mask==12] = 1\n",
    "#ncvar_mask = ncvar_mask.astype('float')\n",
    "#ncvar_mask[ncvar_mask<=0] = float('nan')\n",
    "#ncvar_maize = ncvar_maize*ncvar_mask\n",
    "#ncvar_maize[ncvar_maize<-9000] = -9999.\n",
    "tt = ncvar_mask\n",
    "ncvar_mask_new = ncvar_mask \n",
    "temp = ncvar_mask[:, 0:359]\n",
    "ncvar_mask_new[:, 0:359] = ncvar_mask[:, 360:719]\n",
    "ncvar_mask_new[:, 360:719] = temp[:,0:359]\n",
    "pp = pp*ncvar_mask_new\n",
    "#tt = ncvar_mask \n",
    "#ncvar_mask[tt==0] = 1\n",
    "#ncvar_mask[tt==1] = 0\n",
    "ncvar_maize = ncvar_maize*ncvar_mask"
   ]
  },
  {
   "cell_type": "code",
   "execution_count": null,
   "metadata": {},
   "outputs": [],
   "source": [
    "#ncvar_maize[ncvar_maize<=0] = 0.001\n",
    "#ncvar_maize = -ncvar_maize\n",
    "#mx = np.ma.masked_array(ncvar_maize, mask=ncvar_mask) "
   ]
  },
  {
   "cell_type": "code",
   "execution_count": null,
   "metadata": {
    "scrolled": false
   },
   "outputs": [],
   "source": [
    "#http://matplotlib.org/basemap/users/mapsetup.html\n",
    "\n",
    "fig = plt.figure(figsize=(15,15))\n",
    "\n",
    "ax1 = fig.add_subplot(211)\n",
    "#ax1.set_title(\"Net $CH_4$ flux (gC-$CH_4$/$m^2$/yr), ISAM\",fontsize=20)\n",
    "map = Basemap(llcrnrlon=-119,llcrnrlat=23,urcrnrlon=-63,urcrnrlat=51,\n",
    "        projection='lcc',lat_1=33,lat_2=45,lon_0=-95)\n",
    "# draw coastlines, state and country boundaries, edge of map.\n",
    "map.drawcoastlines()\n",
    "map.drawstates()\n",
    "map.drawcountries(color='b')\n",
    "lon,lat = N.meshgrid(lonnc,latnc) #Returns coordinate matrices from coordinate vectors\n",
    "x,y = map(lon,lat)\n",
    "\n",
    "mdata = maskoceans(lon, lat, ncvar_maize[:,:])\n",
    "cs1 = map.pcolormesh(x,y,ncvar_maize[:,:],\n",
    "#              norm=colors.SymLogNorm(linthresh=0.1, linscale=0.1, vmin=-1.0, vmax=100),cmap=plt.cm.jet) # use log color scale,\n",
    "                                                      # omit this to use linear\n",
    "                                                     # color scale\n",
    "              norm=colors.LogNorm(vmin=0.1, vmax=100),cmap=plt.cm.jet) # use log color scale,\n",
    "#              norm=colors.LogNorm(vmin=0.1, vmax=10),cmap=plt.cm.jet) # use log color scale,\n",
    "#              norm=colors.Normalize(vmin=0, vmax=0.5),cmap=plt.cm.jet) # use log color scale\n",
    "cs1.cmap.set_under('w')\n",
    "cbar = map.colorbar(cs1,location='bottom',pad=\"5%\",extend='both')\n",
    "cbar.ax.tick_params(labelsize=18) \n",
    "\n",
    "ax1 = fig.add_subplot(212)\n",
    "#ax1.set_title(\"Net $CH_4$ flux (gC-$CH_4$/$m^2$/yr), WetChart\",fontsize=20)\n",
    "map = Basemap(llcrnrlon=-119,llcrnrlat=23,urcrnrlon=-63,urcrnrlat=51,\n",
    "        projection='lcc',lat_1=33,lat_2=45,lon_0=-95)\n",
    "# draw coastlines, state and country boundaries, edge of map.\n",
    "map.drawcoastlines()\n",
    "map.drawstates()\n",
    "map.drawcountries(color='b')\n",
    "lon,lat = N.meshgrid(lonnc2,latnc2) #Returns coordinate matrices from coordinate vectors\n",
    "x,y = map(lon,lat)\n",
    "# Transfer wetchat data to gCH4/m2/yr\n",
    "# ncvar_maize2 = ncvar_maize2 * 365.0 / 1000.0\n",
    "\n",
    "#ncvar_maize2 = N.clip(ncvar_maize2, 0., 100)\n",
    "cs = map.pcolormesh(x,y,pp[:,:],\n",
    "              norm=colors.LogNorm(vmin=0.1, vmax=100),cmap=plt.cm.jet) # use log color scale,\n",
    "                                                      # omit this to use linear\n",
    "                                                     # color scale\n",
    "cs1.cmap.set_under('w')\n",
    "cbar = map.colorbar(cs,location='bottom',pad=\"5%\",extend='both')\n",
    "cbar.ax.tick_params(labelsize=18) \n",
    "\n",
    "#plt.show()\n",
    "plt.savefig('Comp_CH4.jpg',dpi=300)"
   ]
  },
  {
   "cell_type": "code",
   "execution_count": null,
   "metadata": {},
   "outputs": [],
   "source": []
  },
  {
   "cell_type": "code",
   "execution_count": 2,
   "metadata": {},
   "outputs": [],
   "source": []
  },
  {
   "cell_type": "code",
   "execution_count": 3,
   "metadata": {},
   "outputs": [
    {
     "data": {
      "text/plain": [
       "(324, 24, 360, 720)"
      ]
     },
     "execution_count": 3,
     "metadata": {},
     "output_type": "execute_result"
    }
   ],
   "source": []
  }
 ],
 "metadata": {
  "anaconda-cloud": {},
  "kernelspec": {
   "display_name": "Python 2",
   "language": "python",
   "name": "python2"
  },
  "language_info": {
   "codemirror_mode": {
    "name": "ipython",
    "version": 2
   },
   "file_extension": ".py",
   "mimetype": "text/x-python",
   "name": "python",
   "nbconvert_exporter": "python",
   "pygments_lexer": "ipython2",
   "version": "2.7.16"
  }
 },
 "nbformat": 4,
 "nbformat_minor": 1
}
