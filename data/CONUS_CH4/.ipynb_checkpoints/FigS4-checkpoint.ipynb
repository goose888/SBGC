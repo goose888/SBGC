{
 "cells": [
  {
   "cell_type": "code",
   "execution_count": 1,
   "metadata": {},
   "outputs": [
    {
     "ename": "KeyError",
     "evalue": "'PROJ_LIB'",
     "output_type": "error",
     "traceback": [
      "\u001b[0;31m---------------------------------------------------------------------------\u001b[0m",
      "\u001b[0;31mKeyError\u001b[0m                                  Traceback (most recent call last)",
      "\u001b[0;32m<ipython-input-1-705ff24d33be>\u001b[0m in \u001b[0;36m<module>\u001b[0;34m()\u001b[0m\n\u001b[0;32m----> 1\u001b[0;31m \u001b[0;32mfrom\u001b[0m \u001b[0mmpl_toolkits\u001b[0m\u001b[0;34m.\u001b[0m\u001b[0mbasemap\u001b[0m \u001b[0;32mimport\u001b[0m \u001b[0mBasemap\u001b[0m\u001b[0;34m,\u001b[0m \u001b[0mcm\u001b[0m\u001b[0;34m,\u001b[0m \u001b[0mshiftgrid\u001b[0m\u001b[0;34m,\u001b[0m\u001b[0mmaskoceans\u001b[0m\u001b[0;34m\u001b[0m\u001b[0m\n\u001b[0m\u001b[1;32m      2\u001b[0m \u001b[0;32mfrom\u001b[0m \u001b[0mnetCDF4\u001b[0m \u001b[0;32mimport\u001b[0m \u001b[0mDataset\u001b[0m \u001b[0;32mas\u001b[0m \u001b[0mNetCDFFile\u001b[0m\u001b[0;34m\u001b[0m\u001b[0m\n\u001b[1;32m      3\u001b[0m \u001b[0;32mimport\u001b[0m \u001b[0mmatplotlib\u001b[0m\u001b[0;34m.\u001b[0m\u001b[0mpyplot\u001b[0m \u001b[0;32mas\u001b[0m \u001b[0mplt\u001b[0m\u001b[0;34m\u001b[0m\u001b[0m\n\u001b[1;32m      4\u001b[0m \u001b[0;32mfrom\u001b[0m \u001b[0mmatplotlib\u001b[0m \u001b[0;32mimport\u001b[0m \u001b[0mcolors\u001b[0m\u001b[0;34m\u001b[0m\u001b[0m\n\u001b[1;32m      5\u001b[0m \u001b[0;32mimport\u001b[0m \u001b[0mnumpy\u001b[0m\u001b[0;34m.\u001b[0m\u001b[0mma\u001b[0m \u001b[0;32mas\u001b[0m \u001b[0mma\u001b[0m\u001b[0;34m\u001b[0m\u001b[0m\n",
      "\u001b[0;32m/data/keeling/a/sshu3/anaconda2/lib/python2.7/site-packages/mpl_toolkits/basemap/__init__.py\u001b[0m in \u001b[0;36m<module>\u001b[0;34m()\u001b[0m\n\u001b[1;32m    153\u001b[0m \u001b[0;34m\u001b[0m\u001b[0m\n\u001b[1;32m    154\u001b[0m \u001b[0;31m# create dictionary that maps epsg codes to Basemap kwargs.\u001b[0m\u001b[0;34m\u001b[0m\u001b[0;34m\u001b[0m\u001b[0m\n\u001b[0;32m--> 155\u001b[0;31m \u001b[0mpyproj_datadir\u001b[0m \u001b[0;34m=\u001b[0m \u001b[0mos\u001b[0m\u001b[0;34m.\u001b[0m\u001b[0menviron\u001b[0m\u001b[0;34m[\u001b[0m\u001b[0;34m'PROJ_LIB'\u001b[0m\u001b[0;34m]\u001b[0m\u001b[0;34m\u001b[0m\u001b[0m\n\u001b[0m\u001b[1;32m    156\u001b[0m \u001b[0mepsgf\u001b[0m \u001b[0;34m=\u001b[0m \u001b[0mopen\u001b[0m\u001b[0;34m(\u001b[0m\u001b[0mos\u001b[0m\u001b[0;34m.\u001b[0m\u001b[0mpath\u001b[0m\u001b[0;34m.\u001b[0m\u001b[0mjoin\u001b[0m\u001b[0;34m(\u001b[0m\u001b[0mpyproj_datadir\u001b[0m\u001b[0;34m,\u001b[0m\u001b[0;34m'epsg'\u001b[0m\u001b[0;34m)\u001b[0m\u001b[0;34m)\u001b[0m\u001b[0;34m\u001b[0m\u001b[0m\n\u001b[1;32m    157\u001b[0m \u001b[0mepsg_dict\u001b[0m\u001b[0;34m=\u001b[0m\u001b[0;34m{\u001b[0m\u001b[0;34m}\u001b[0m\u001b[0;34m\u001b[0m\u001b[0m\n",
      "\u001b[0;32m/data/keeling/a/sshu3/anaconda2/lib/python2.7/UserDict.pyc\u001b[0m in \u001b[0;36m__getitem__\u001b[0;34m(self, key)\u001b[0m\n\u001b[1;32m     38\u001b[0m         \u001b[0;32mif\u001b[0m \u001b[0mhasattr\u001b[0m\u001b[0;34m(\u001b[0m\u001b[0mself\u001b[0m\u001b[0;34m.\u001b[0m\u001b[0m__class__\u001b[0m\u001b[0;34m,\u001b[0m \u001b[0;34m\"__missing__\"\u001b[0m\u001b[0;34m)\u001b[0m\u001b[0;34m:\u001b[0m\u001b[0;34m\u001b[0m\u001b[0m\n\u001b[1;32m     39\u001b[0m             \u001b[0;32mreturn\u001b[0m \u001b[0mself\u001b[0m\u001b[0;34m.\u001b[0m\u001b[0m__class__\u001b[0m\u001b[0;34m.\u001b[0m\u001b[0m__missing__\u001b[0m\u001b[0;34m(\u001b[0m\u001b[0mself\u001b[0m\u001b[0;34m,\u001b[0m \u001b[0mkey\u001b[0m\u001b[0;34m)\u001b[0m\u001b[0;34m\u001b[0m\u001b[0m\n\u001b[0;32m---> 40\u001b[0;31m         \u001b[0;32mraise\u001b[0m \u001b[0mKeyError\u001b[0m\u001b[0;34m(\u001b[0m\u001b[0mkey\u001b[0m\u001b[0;34m)\u001b[0m\u001b[0;34m\u001b[0m\u001b[0m\n\u001b[0m\u001b[1;32m     41\u001b[0m     \u001b[0;32mdef\u001b[0m \u001b[0m__setitem__\u001b[0m\u001b[0;34m(\u001b[0m\u001b[0mself\u001b[0m\u001b[0;34m,\u001b[0m \u001b[0mkey\u001b[0m\u001b[0;34m,\u001b[0m \u001b[0mitem\u001b[0m\u001b[0;34m)\u001b[0m\u001b[0;34m:\u001b[0m \u001b[0mself\u001b[0m\u001b[0;34m.\u001b[0m\u001b[0mdata\u001b[0m\u001b[0;34m[\u001b[0m\u001b[0mkey\u001b[0m\u001b[0;34m]\u001b[0m \u001b[0;34m=\u001b[0m \u001b[0mitem\u001b[0m\u001b[0;34m\u001b[0m\u001b[0m\n\u001b[1;32m     42\u001b[0m     \u001b[0;32mdef\u001b[0m \u001b[0m__delitem__\u001b[0m\u001b[0;34m(\u001b[0m\u001b[0mself\u001b[0m\u001b[0;34m,\u001b[0m \u001b[0mkey\u001b[0m\u001b[0;34m)\u001b[0m\u001b[0;34m:\u001b[0m \u001b[0;32mdel\u001b[0m \u001b[0mself\u001b[0m\u001b[0;34m.\u001b[0m\u001b[0mdata\u001b[0m\u001b[0;34m[\u001b[0m\u001b[0mkey\u001b[0m\u001b[0;34m]\u001b[0m\u001b[0;34m\u001b[0m\u001b[0m\n",
      "\u001b[0;31mKeyError\u001b[0m: 'PROJ_LIB'"
     ]
    }
   ],
   "source": [
    "import os\n",
    "os.environ['PROJ_LIB'] = '/data/keeling/a/sshu3/anaconda2/share/proj'\n",
    "from mpl_toolkits.basemap import Basemap, cm, shiftgrid,maskoceans\n",
    "from netCDF4 import Dataset as NetCDFFile\n",
    "import matplotlib.pyplot as plt\n",
    "from matplotlib import colors\n",
    "import numpy.ma as ma\n",
    "import numpy as np\n",
    "from scipy.interpolate import griddata\n",
    "from pyresample import geometry,image, kd_tree\n",
    "import pandas as pd\n"
   ]
  },
  {
   "cell_type": "code",
   "execution_count": null,
   "metadata": {},
   "outputs": [],
   "source": [
    "Num = 1\n",
    "res_sen = pd.read_csv('conus_sens_N_hist.csv')\n",
    "wet_Means = res_sen.Control.as_matrix()[[0,1]]\n",
    "Q1_5_Means = res_sen.Q1_5.as_matrix()[[0,1]]\n",
    "Q2_Means = res_sen.Q2.as_matrix()[[0,1]]\n",
    "Q3_Means = res_sen.Q3.as_matrix()[[0,1]]\n",
    "d1m_Means = res_sen.d1m.as_matrix()[[0,1]]\n",
    "d0_7m_Means = res_sen.d0_7m.as_matrix()[[0,1]]\n",
    "d0_5m_Means = res_sen.d0_5m.as_matrix()[[0,1]]\n",
    "d0_3m_Means = res_sen.d0_3m.as_matrix()[[0,1]]\n",
    "r004_Means = res_sen.R_0_04.as_matrix()[[0,1]]\n",
    "r008_Means = res_sen.R_0_08.as_matrix()[[0,1]]\n"
   ]
  },
  {
   "cell_type": "code",
   "execution_count": null,
   "metadata": {},
   "outputs": [],
   "source": [
    "wet_Means[0]"
   ]
  },
  {
   "cell_type": "code",
   "execution_count": null,
   "metadata": {
    "scrolled": true
   },
   "outputs": [],
   "source": [
    "# Read in mean and std for all 4 fluxes and plot the bar chart\n",
    "# a stacked bar plot with errorbars\n",
    "fig = plt.figure(figsize=(12,12))\n",
    "plt.rcParams.update({'font.size': 22})\n",
    "ind = np.arange(Num)    # the x locations for the groups\n",
    "width = 0.05       # the width of the bars: can also be len(x) sequence\n",
    "\n",
    "\n",
    "p1 = plt.bar(ind+0.2, Q1_5_Means[0], width, color='#4169e1')#, yerr=sourceStd)\n",
    "p2 = plt.bar(ind+0.25, Q2_Means[0], width, color='#40e0d0')#, yerr=womenStd)\n",
    "p3 = plt.bar(ind+0.3, Q3_Means[0], width, color='#ffd700')#, yerr=sinkStd) #bottom=menMeans, yerr=womenStd)\n",
    "\n",
    "p4 = plt.bar(ind+0.45, d1m_Means[0], width, color='#4169e1')#, yerr=womenStd)\n",
    "p5 = plt.bar(ind+0.5, d0_7m_Means[0], width, color='#40e0d0')#, yerr=netStd) #bottom=menMeans, yerr=womenStd)\n",
    "p6 = plt.bar(ind+0.55, d0_5m_Means[0], width, color='#ffd700')#, yerr=womenStd)\n",
    "p7 = plt.bar(ind+0.6, d0_3m_Means[0], width, color='#a0522d')#, yerr=oxidStd) #bottom=menMeans, yerr=womenStd)\n",
    "\n",
    "p8 = plt.bar(ind+0.75, r004_Means[0], width, color='#4169e1')#, yerr=prodStd) #bottom=menMeans, yerr=womenStd)\n",
    "p9 = plt.bar(ind+0.8, r008_Means[0], width, color='#40e0d0')#, yerr=prodStd) #bottom=menMeans, yerr=womenStd)\n",
    "\n",
    "p10 = plt.plot([0., 1.0], [22.22, 22.22], \"r--\")\n",
    "\n",
    "for rect in p1:\n",
    "    #height = rect.get_height()\n",
    "    #plt.text(rect.get_x() + rect.get_width()/2.0, height, '%d' % int(height), ha='center', va='bottom')\n",
    "    # We here don't show the actual number but the parameter values used\n",
    "    height = rect.get_height()\n",
    "    plt.text(rect.get_x() + rect.get_width()/2.0, height, \"1.5\", ha='center', va='bottom', fontsize=18)\n",
    "for rect in p2:\n",
    "    height = rect.get_height()\n",
    "    plt.text(rect.get_x() + rect.get_width()/2.0, height, \"2.0\", ha='center', va='bottom', fontsize=18)\n",
    "for rect in p3:\n",
    "    height = rect.get_height()\n",
    "    plt.text(rect.get_x() + rect.get_width()/2.0, height, \"3.0\", ha='center', va='bottom', fontsize=18)\n",
    "\n",
    "for rect in p4:\n",
    "    height = rect.get_height()\n",
    "    plt.text(rect.get_x() + rect.get_width()/2.0, height, \"1m\", ha='center', va='bottom', fontsize=18)\n",
    "for rect in p5:\n",
    "    height = rect.get_height()\n",
    "    plt.text(rect.get_x() + rect.get_width()/2.0, height, \"0.7m\", ha='center', va='bottom', fontsize=18)\n",
    "for rect in p6:\n",
    "    height = rect.get_height()\n",
    "    plt.text(rect.get_x() + rect.get_width()/2.0, height, \"0.5m\", ha='center', va='bottom', fontsize=18)\n",
    "for rect in p7:\n",
    "    height = rect.get_height()\n",
    "    plt.text(rect.get_x() + rect.get_width()/2.0, height, \"0.3m\", ha='center', va='bottom', fontsize=18)\n",
    "\n",
    "for rect in p8:\n",
    "    height = rect.get_height()\n",
    "    plt.text(rect.get_x() + rect.get_width()/2.0, height, \"0.04\", ha='center', va='bottom', fontsize=18)\n",
    "for rect in p9:\n",
    "    height = rect.get_height()\n",
    "    plt.text(rect.get_x() + rect.get_width()/2.0, height, \"0.08\", ha='center', va='bottom', fontsize=18)\n",
    "\n",
    "for rect in p10:\n",
    "    \n",
    "    plt.text(0.7, 22.3, \"control\", ha='center', va='bottom')\n",
    "\n",
    "#plt.errorbar(distance, \n",
    "#    energy, \n",
    "#    sigma, \n",
    "#    capsize=5, \n",
    "#    elinewidth=2,\n",
    "#    markeredgewidth=2)\n",
    "axes = plt.gca()\n",
    "axes.set_xlim([0.1,0.9])\n",
    "axes.set_ylim([12,31])\n",
    "\n",
    "plt.ylabel('CONUS $CH_4$ emission (Tg $CH_4$ $year^{-1}$)')\n",
    "# plt.title('Scores by group and gender')\n",
    "plt.xticks([0.25, 0.525, 0.775], ('$Q_{10}$', 'Soil depth', '$r_{CH_{4}:CO_{2}}$'))\n",
    "#plt.yticks(np.arange(0, 81, 10))\n",
    "#plt.legend((p1[0], p2[0], p3[0], p5[0], p7[0], p8[0]), ('N, both', 'N, non-wetland', \n",
    "#                                                        'A, both', 'E, both', 'D, both', 'D, non-wetland'))\n",
    "\n",
    "plt.show()\n",
    "#plt.savefig('./figs3.png')"
   ]
  },
  {
   "cell_type": "code",
   "execution_count": null,
   "metadata": {},
   "outputs": [],
   "source": [
    "plt.show(rect)"
   ]
  },
  {
   "cell_type": "code",
   "execution_count": null,
   "metadata": {},
   "outputs": [],
   "source": [
    "countListFast = [1492.0, 497.0, 441.0, 218.0, 101.0, 78.0, 103.0]\n",
    "countListSlow = [1718.0, 806.0, 850.0, 397.0, 182.0, 125.0, 106.0]\n",
    "\n",
    "errorRateListOfFast = ['9.09', '9.09', '9.38', '9.40', '7.89', '8.02', '10.00']\n",
    "errorRateListOfSlow = ['10.00', '13.04', '14.29', '12.50', '14.29', '14.53', '11.11']\n",
    "\n",
    "opacity = 0.4\n",
    "bar_width = 0.35\n",
    "\n",
    "plt.xlabel('Tasks')\n",
    "plt.ylabel('Error Rate')\n",
    "\n",
    "plt.xticks(range(len(errorRateListOfFast)),('[10-20)', '[20-30)', '[30-50)', '[50-70)','[70-90)', '[90-120)', ' [120 < )'), rotation=30)\n",
    "bar1 = plt.bar(np.arange(len(errorRateListOfFast))+ bar_width, errorRateListOfFast, bar_width, align='center', alpha=opacity, color='b', label='Fast <= 6 sec.')\n",
    "bar2 = plt.bar(range(len(errorRateListOfSlow)), errorRateListOfSlow, bar_width, align='center', alpha=opacity, color='r', label='Slower > 6 sec.')\n",
    "\n",
    "# Add counts above the two bar graphs\n",
    "for rect in bar1 + bar2:\n",
    "    height = rect.get_height()\n",
    "    plt.text(rect.get_x() + rect.get_width()/2.0, height, '%d' % int(height), ha='center', va='bottom')\n",
    "\n",
    "plt.legend()\n",
    "plt.tight_layout()\n",
    "plt.show()"
   ]
  },
  {
   "cell_type": "code",
   "execution_count": null,
   "metadata": {},
   "outputs": [],
   "source": []
  },
  {
   "cell_type": "code",
   "execution_count": null,
   "metadata": {
    "scrolled": false
   },
   "outputs": [],
   "source": []
  }
 ],
 "metadata": {
  "anaconda-cloud": {},
  "kernelspec": {
   "display_name": "Python 2",
   "language": "python",
   "name": "python2"
  },
  "language_info": {
   "codemirror_mode": {
    "name": "ipython",
    "version": 2
   },
   "file_extension": ".py",
   "mimetype": "text/x-python",
   "name": "python",
   "nbconvert_exporter": "python",
   "pygments_lexer": "ipython2",
   "version": "2.7.16"
  }
 },
 "nbformat": 4,
 "nbformat_minor": 1
}
