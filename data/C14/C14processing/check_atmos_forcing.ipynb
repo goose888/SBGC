{
 "cells": [
  {
   "cell_type": "code",
   "execution_count": null,
   "metadata": {},
   "outputs": [],
   "source": [
    "from netCDF4 import Dataset as NetCDFFile\n",
    "import math\n",
    "import numpy as np\n",
    "import pandas as pd\n",
    "import isamcalc_lib as isam\n",
    "import matplotlib.pyplot as plt\n",
    "from matplotlib import colors\n",
    "import numpy.ma as ma\n",
    "from scipy.interpolate import griddata\n",
    "import copy\n",
    "import matplotlib.lines as mlines\n",
    "import matplotlib.transforms as mtransforms"
   ]
  },
  {
   "cell_type": "code",
   "execution_count": null,
   "metadata": {},
   "outputs": [],
   "source": [
    "## Check atmospheric forcings\n",
    "# Options\n",
    "fpath='/global/cscratch1/sd/sshu3/SBGC/site/C14_sensitivity/143/143_control/'\n",
    "fsite1='first/site_daily_1_met_2yr.txt'\n",
    "fsite2='first_2/site_daily_1_met_2yr.txt'\n",
    "\n",
    "# Data from paper Schenk and Jackson, 2002\n",
    "f1 = fpath+fsite1\n",
    "data = pd.read_csv(f1, delim_whitespace=True, header=None)\n",
    "sw1 = data.values[:,2]\n",
    "lw1 = data.values[:,3]\n",
    "\n",
    "f2 = fpath+fsite2\n",
    "data = pd.read_csv(f2, delim_whitespace=True, header=None)\n",
    "sw2 = data.values[:,2]\n",
    "lw2 = data.values[:,3]\n",
    "\n",
    "# plt.plot(sw1)\n",
    "# plt.plot(sw2)\n",
    "# plt.plot(lw1)\n",
    "# plt.plot(lw2)\n",
    "# plt.legend(['SW_NCEP', 'SW_jra', 'LW_NCEP', 'LW_jra'])\n",
    "\n",
    "sw1_mean = np.mean(sw1)\n",
    "sw2_mean = np.mean(sw2)\n",
    "lw1_mean = np.mean(lw1)\n",
    "lw2_mean = np.mean(lw2)\n",
    "print(sw1_mean)\n",
    "print(sw2_mean)\n",
    "print(lw1_mean)\n",
    "print(lw2_mean)"
   ]
  }
 ],
 "metadata": {
  "kernelspec": {
   "display_name": "Python 2",
   "language": "python",
   "name": "python2"
  },
  "language_info": {
   "codemirror_mode": {
    "name": "ipython",
    "version": 2
   },
   "file_extension": ".py",
   "mimetype": "text/x-python",
   "name": "python",
   "nbconvert_exporter": "python",
   "pygments_lexer": "ipython2",
   "version": "2.7.16"
  }
 },
 "nbformat": 4,
 "nbformat_minor": 2
}
