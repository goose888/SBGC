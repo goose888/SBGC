{
 "cells": [
  {
   "cell_type": "code",
   "execution_count": 1,
   "metadata": {},
   "outputs": [],
   "source": [
    "import os\n",
    "os.environ['PROJ_LIB'] = '/data/keeling/a/sshu3/anaconda2/share/proj'\n",
    "from mpl_toolkits.basemap import Basemap, cm, shiftgrid,maskoceans\n",
    "import math\n",
    "import copy as cp\n",
    "from netCDF4 import Dataset as NetCDFFile\n",
    "import numpy as np\n",
    "import matplotlib.pyplot as plt\n",
    "from matplotlib import gridspec\n",
    "from matplotlib import colors\n",
    "import numpy.ma as ma\n",
    "from scipy.interpolate import griddata\n",
    "from pyresample import geometry,image, kd_tree\n",
    "import isamcalc_lib as isam\n"
   ]
  },
  {
   "cell_type": "code",
   "execution_count": 28,
   "metadata": {
    "scrolled": true
   },
   "outputs": [],
   "source": [
    "# Check NEP = NPP - Rh\n",
    "# First 0D\n",
    "respath_0d='/data/jain1/c/sshu3/SBGC/results/SBGC_0d/'\n",
    "respath_1d='/data/jain1/c/sshu3/SBGC/results/SBGC_regional/'\n",
    "prefix_0d='Global_0DSBGC.bgp-yearly_2d_'\n",
    "prefix_1d='Global_1DSBGC.bgp-yearly_2d_'\n",
    "prefix_0d_bgc='Global_0DSBGC.bgc-yearly-2d_'\n",
    "prefix_1d_bgc='Global_1DSBGC.bgc-yearly-3d_'\n",
    "suffix='.nc'\n",
    "nlat = 360\n",
    "nlon = 720\n",
    "\n",
    "# Area of each grid (m2)\n",
    "grid_area = np.zeros((nlat, nlon))\n",
    "EARTH_AREA = 5.096e14\n",
    "lat = np.arange(-89.75, 90.25, 0.5)\n",
    "res = 0.5\n",
    "\n",
    "for i in np.arange(0,nlon):\n",
    "    for j in np.arange(0,nlat):\n",
    "        grid_area[j,i] = (EARTH_AREA/2)*abs(np.sin((lat[j] - res/2)*math.pi/180) -\n",
    "                np.sin((lat[j] + res/2)*math.pi/180))/(360/res)\n",
    "\n",
    "# Obatin permafrost area mask from Brown et al., 1998 [0<code<23 are permafrost]\n",
    "# Open NCSCD as observation\n",
    "path='/data/jain1/c/sshu3/SBGC/data/ggd318_permafrost_and_ice_map_circumarctic/permafrost_mask.nc'\n",
    "#path='/data/jain1/c/sshu3/SBGC/data/NCSCDv2_Circumpolar_netCDF_05deg/ncscd_masked_0.5x0.5.nc'\n",
    "nclu_pf=NetCDFFile(path,'r')\n",
    "pfcode = nclu_pf.variables['PFCODE'][:]\n",
    "latnc_pf = nclu_pf.variables['Lat'][:]\n",
    "lonnc_pf = nclu_pf.variables['Lon'][:]\n",
    "nclu_pf.close()\n",
    "temp = cp.deepcopy(pfcode[:, 0:360])\n",
    "pfcode[:, 0:360] = pfcode[:, 360:720]\n",
    "pfcode[:, 360:720] = temp\n",
    "pfcode=pfcode[::-1,:]\n",
    "temp = ma.masked_where(pfcode<1, pfcode)\n",
    "ncscd_mask = ma.masked_where(temp>22, pfcode)\n",
    "\n",
    "# Get the country mask of Norway (45400), Finland (42100), Sweden (47000) and Russia (46100)\n",
    "path='/data/jain1/c/sshu3/SBGC/data/C14/C14processing/Ctry_halfdeg.nc'\n",
    "nclu_ctry=NetCDFFile(path,'r')\n",
    "ctrycode = nclu_ctry.variables['MASK_Country'][:]\n",
    "latnc_ctry = nclu_ctry.variables['Lat'][:]\n",
    "lonnc_ctry = nclu_ctry.variables['Lon'][:]\n",
    "nclu_pf.close()\n",
    "norway = ma.masked_where(ctrycode != 45400, ctrycode)\n",
    "finland = ma.masked_where(ctrycode != 42100, ctrycode)\n",
    "sweden = ma.masked_where(ctrycode != 47000, ctrycode)\n",
    "russia = ma.masked_where(ctrycode != 46100, ctrycode)\n",
    "\n",
    "# Get the BONA(1), BOAS(7) and Europe (11) region mask from transcom region mask data \n",
    "# The Europe part is read in to exclude Asian Russia from the whole Russia\n",
    "path='/data/jain1/c/sshu3/SBGC/data/C14/C14processing/transcom_regions_halfdeg.nc'\n",
    "nclu_reg = NetCDFFile(path,'r')\n",
    "regcode = nclu_reg.variables['transcom_regions'][:]\n",
    "latnc_reg = nclu_reg.variables['lat'][:]\n",
    "lonnc_reg = nclu_reg.variables['lon'][:]\n",
    "nclu_reg.close()\n",
    "bona = ma.masked_where(regcode != 1, regcode)\n",
    "boas = ma.masked_where(regcode != 7, regcode)\n",
    "eu = ma.masked_where(regcode != 11, regcode)\n",
    "eu_russia = ma.masked_where(eu.mask, russia)\n",
    "\n",
    "# Combine three together, which is the same mask as Dave MCGuire's paper\n",
    "temp_mask =eu_russia.mask & finland.mask & norway.mask & sweden.mask & bona.mask & boas.mask\n",
    "temp = cp.deepcopy(temp_mask[:, 0:360])\n",
    "temp_mask[:, 0:360] = temp_mask[:, 360:720]\n",
    "temp_mask[:, 360:720] = temp\n",
    "dave_mask = temp_mask & ncscd_mask.mask\n",
    "\n",
    "npp_series_0d = np.zeros(115)\n",
    "npp_series_1d = np.zeros(115)\n",
    "rh_series_0d = np.zeros(115)\n",
    "rh_series_1d = np.zeros(115)\n",
    "tair_series = np.zeros(115)\n",
    "\n",
    "grid_area_t = cp.deepcopy(grid_area)\n",
    "\n",
    "# 1901 - 2015\n",
    "for y in np.arange(1901,2016):\n",
    "    # 0D NPP\n",
    "    fp=respath_0d+prefix_0d+str(y)+'.nc'\n",
    "    nclu=NetCDFFile(fp,'r')\n",
    "    npp = nclu.variables['anpp_avg_yr'][:]\n",
    "    tair = nclu.variables['tavg_avg_yr'][:]\n",
    "    latnc = nclu.variables['lat'][:]\n",
    "    lonnc = nclu.variables['lon'][:]\n",
    "    nclu.close()\n",
    "    \n",
    "    npp_temp = npp*grid_area\n",
    "    npp_temp.mask = dave_mask\n",
    "    grid_area_t[tair<200.] = 0.\n",
    "    grid_area_t[dave_mask] = 0.\n",
    "    tair_temp = tair*grid_area_t\n",
    "    tair_temp.mask = dave_mask\n",
    "    \n",
    "    tair_series[y-1901] = np.sum(tair_temp)/np.sum(grid_area_t)\n",
    "    npp_series_0d[y-1901] = np.nansum(npp_temp)\n",
    " \n",
    "    # 0D Rh\n",
    "    fp=respath_0d+prefix_0d_bgc+str(y)+'.nc'\n",
    "    nclu=NetCDFFile(fp,'r')\n",
    "    rh = nclu.variables['resp'][:]\n",
    "    nclu.close()\n",
    "    \n",
    "    rh_temp = 1000*rh*grid_area\n",
    "    rh_temp.mask = dave_mask\n",
    "\n",
    "    rh_series_0d[y-1901] = np.nansum(rh_temp)\n",
    "\n",
    "    # 1D NPP\n",
    "    fp=respath_1d+prefix_1d+str(y)+'.nc'\n",
    "    nclu=NetCDFFile(fp,'r')\n",
    "    npp = nclu.variables['anpp_avg_yr'][:]\n",
    "    nclu.close()\n",
    "    \n",
    "    npp_temp = npp*grid_area\n",
    "    npp_temp.mask = dave_mask\n",
    "\n",
    "    npp_series_1d[y-1901] = np.nansum(npp_temp)\n",
    "    \n",
    "    # 1D Rh\n",
    "    fp=respath_1d+prefix_1d_bgc+str(y)+'.nc'\n",
    "    nclu=NetCDFFile(fp,'r')\n",
    "    rh = nclu.variables['resp_lev'][:]\n",
    "    nclu.close()\n",
    "    rh_1m = np.sum(rh[0:7,:,:], 0)+0.3*rh[7,:,:]\n",
    "    \n",
    "    rh_temp = 1000*rh_1m*grid_area\n",
    "    rh_temp.mask = dave_mask\n",
    "\n",
    "    rh_series_1d[y-1901] = np.nansum(rh_temp)\n",
    "\n",
    "    #print('The global permafrost area ...')\n",
    "    #print('Year:  '+str(y))\n",
    "    #print(tot_pfarea)\n",
    "    \n"
   ]
  },
  {
   "cell_type": "code",
   "execution_count": 7,
   "metadata": {},
   "outputs": [],
   "source": [
    "nep_series_0d = npp_series_0d/1e15 - rh_series_0d/1e15\n",
    "nep_series_1d = npp_series_1d/1e15 - rh_series_1d/1e15\n",
    "plt.plot(nep_series_0d)\n",
    "plt.plot(nep_series_1d)\n"
   ]
  },
  {
   "cell_type": "code",
   "execution_count": 30,
   "metadata": {},
   "outputs": [
    {
     "data": {
      "text/plain": [
       "<matplotlib.image.AxesImage at 0x2b6f811e71d0>"
      ]
     },
     "execution_count": 30,
     "metadata": {},
     "output_type": "execute_result"
    },
    {
     "data": {
      "image/png": "[encoded data removed]",
      "text/plain": [
       "<Figure size 432x288 with 1 Axes>"
      ]
     },
     "metadata": {
      "needs_background": "light"
     },
     "output_type": "display_data"
    }
   ],
   "source": [
    "# Mean air temperature change vs. change of NEP over the region\n",
    "# Or maybe scatter plot?\n",
    "grid_area_t = cp.deepcopy(grid_area)\n",
    "grid_area_t[tair<200.] = 0.\n",
    "plt.imshow(grid_area_t)\n",
    "\n"
   ]
  },
  {
   "cell_type": "code",
   "execution_count": 33,
   "metadata": {},
   "outputs": [
    {
     "data": {
      "text/plain": [
       "<matplotlib.collections.PathCollection at 0x2b6f81336e90>"
      ]
     },
     "execution_count": 33,
     "metadata": {},
     "output_type": "execute_result"
    },
    {
     "data": {
      "image/png": "[encoded data removed]",
      "text/plain": [
       "<Figure size 432x288 with 1 Axes>"
      ]
     },
     "metadata": {
      "needs_background": "light"
     },
     "output_type": "display_data"
    }
   ],
   "source": [
    "plt.scatter(nep_series_0d, tair_series-273.16, alpha=0.5)\n",
    "plt.scatter(nep_series_1d, tair_series-273.16, alpha=0.5)"
   ]
  },
  {
   "cell_type": "code",
   "execution_count": 31,
   "metadata": {},
   "outputs": [
    {
     "data": {
      "text/plain": [
       "[<matplotlib.lines.Line2D at 0x2b6f8124ffd0>]"
      ]
     },
     "execution_count": 31,
     "metadata": {},
     "output_type": "execute_result"
    },
    {
     "data": {
      "image/png": "[encoded data removed]",
      "text/plain": [
       "<Figure size 432x288 with 1 Axes>"
      ]
     },
     "metadata": {
      "needs_background": "light"
     },
     "output_type": "display_data"
    }
   ],
   "source": [
    "plt.plot(tair_series-273.16)"
   ]
  },
  {
   "cell_type": "code",
   "execution_count": 10,
   "metadata": {},
   "outputs": [
    {
     "data": {
      "text/plain": [
       "[<matplotlib.lines.Line2D at 0x2b6f80a34ed0>]"
      ]
     },
     "execution_count": 10,
     "metadata": {},
     "output_type": "execute_result"
    },
    {
     "data": {
      "image/png": "[encoded data removed]",
      "text/plain": [
       "<Figure size 432x288 with 1 Axes>"
      ]
     },
     "metadata": {
      "needs_background": "light"
     },
     "output_type": "display_data"
    }
   ],
   "source": [
    "plt.plot(nep_series_0d)\n",
    "plt.plot(nep_series_1d)"
   ]
  },
  {
   "cell_type": "code",
   "execution_count": null,
   "metadata": {
    "scrolled": true
   },
   "outputs": [],
   "source": [
    "# Second 1D\n",
    "respath='/data/jain1/c/sshu3/SBGC/results/SBGC_regional/'\n",
    "prefix='Global_1DSBGC.bgp-monthly_3d_'\n",
    "suffix='.nc'\n",
    "month=['01', '02', '03', '04', '05', '06', '07', '08', '09', '10', '11', '12']\n",
    "nlat = 360\n",
    "nlon = 720\n",
    "\n",
    "# Area of each grid (m2)\n",
    "grid_area = np.zeros((nlat, nlon))\n",
    "EARTH_AREA = 5.096e14\n",
    "lat = np.arange(-89.75, 90.25, 0.5)\n",
    "res = 0.5\n",
    "\n",
    "for i in np.arange(0,nlon):\n",
    "    for j in np.arange(0,nlat):\n",
    "        grid_area[j,i] = (EARTH_AREA/2)*abs(np.sin((lat[j] - res/2)*math.pi/180) -\n",
    "                np.sin((lat[j] + res/2)*math.pi/180))/(360/res)\n",
    "\n",
    "pfmask_old = np.zeros((360,720))\n",
    "pfmask = np.zeros((360,720))\n",
    "pfmask_mon = np.zeros((12,360,720))\n",
    "pfmask_real = np.zeros((360,720))\n",
    "pfarea_ts_1d=np.zeros(114)\n",
    "pfmap_1d = np.zeros((114,360,720))\n",
    "\n",
    "# Read the 3D files\n",
    "# Loop over the whole 115 years\n",
    "# According to the definition, the soil temperature shall be below 0C for at elast 2 consecutive year\n",
    "# 1901\n",
    "for i in np.arange(0,12):\n",
    "    fp=respath+prefix+'1901_'+month[i]+'.nc'\n",
    "    nclu=NetCDFFile(fp,'r')\n",
    "    tss = nclu.variables['c_tss'][:]\n",
    "    latnc = nclu.variables['lat'][:]\n",
    "    lonnc = nclu.variables['lon'][:]\n",
    "    pfmask_old = 0.\n",
    "\n",
    "    for j in np.arange(5,15):\n",
    "        cur_layer_tss = cp.deepcopy(tss[j,:,:])\n",
    "        cur_layer_tss[cur_layer_tss<273.16] = 1.\n",
    "        cur_layer_tss[cur_layer_tss>=273.16] = 0.\n",
    "        cur_layer_tss[tss[j,:,:]<0.] = 0.\n",
    "        pfmask_old = pfmask_old + cur_layer_tss\n",
    "    pfmask_old[pfmask_old>0] = 1.\n",
    "    pfmask_mon[i,:,:] = pfmask_old\n",
    "\n",
    "pfmask_old = np.sum(pfmask_mon, axis=0)\n",
    "pfmask_old[pfmask_old<12] = 0.\n",
    "pfmask_old[pfmask_old>=12] = 1. \n",
    "\n",
    "# 1902 - 2015\n",
    "for y in np.arange(1902,2016):\n",
    "        \n",
    "    for i in np.arange(0,12):\n",
    "        fp=respath+prefix+str(y)+'_'+month[i]+'.nc'\n",
    "        nclu=NetCDFFile(fp,'r')\n",
    "        tss = nclu.variables['c_tss'][:]\n",
    "        latnc = nclu.variables['lat'][:]\n",
    "        lonnc = nclu.variables['lon'][:]\n",
    "        pfmask = 0.\n",
    "        \n",
    "        for j in np.arange(5,15):\n",
    "            cur_layer_tss = cp.deepcopy(tss[j,:,:])\n",
    "            cur_layer_tss[cur_layer_tss<273.16] = 1. \n",
    "            cur_layer_tss[cur_layer_tss>=273.16] = 0.\n",
    "            cur_layer_tss[tss[j,:,:]<0.] = 0.\n",
    "            pfmask = pfmask + cur_layer_tss\n",
    "        pfmask[pfmask>0] = 1.\n",
    "        pfmask_mon[i,:,:] = pfmask\n",
    "        \n",
    "    pfmask = np.sum(pfmask_mon, axis=0)\n",
    "    pfmask[pfmask<12] = 0.\n",
    "    pfmask[pfmask>=12] = 1. \n",
    "        \n",
    "    pfmask_real= (pfmask+pfmask_old)/2.\n",
    "    pfmask_real[pfmask_real>=1] = 1.\n",
    "    pfmask_real[pfmask_real<1] = 0.\n",
    "    # Mask the alpine permafrost (Any area below 40N)\n",
    "    pfmask_real[0:260,:] = 0.\n",
    "    pfmap_1d[(y-1902),:,:] = pfmask_real\n",
    "    pfmask_old = pfmask\n",
    "    pfarea = pfmask_real*grid_area\n",
    "    tot_pfarea = np.nansum(pfarea)\n",
    "    pfarea_ts_1d[(y-1902)] = tot_pfarea\n",
    "\n",
    "    print('The global permafrost area ...')\n",
    "    print('Year:  '+str(y))\n",
    "    print(tot_pfarea)\n",
    "\n"
   ]
  },
  {
   "cell_type": "code",
   "execution_count": null,
   "metadata": {},
   "outputs": [],
   "source": [
    "import copy\n",
    "temp=copy.deepcopy(pfmask_real[:,0:360])\n",
    "pfmask_real[:,0:360] = pfmask_real[:,360:720]\n",
    "pfmask_real[:,360:720] = temp"
   ]
  },
  {
   "cell_type": "code",
   "execution_count": null,
   "metadata": {},
   "outputs": [],
   "source": [
    "# Mask the alpine permafrost (Any area below 40N)\n",
    "ttt = copy.deepcopy(pfmap_1d)\n",
    "ttt[:,0:260,:] = 0"
   ]
  },
  {
   "cell_type": "code",
   "execution_count": null,
   "metadata": {},
   "outputs": [],
   "source": [
    "plt.figure(figsize=(10,6))\n",
    "plt.imshow(pfmap_0d[110,::-1,:])\n",
    "#plt.savefig('pmf0d.png')"
   ]
  },
  {
   "cell_type": "code",
   "execution_count": null,
   "metadata": {},
   "outputs": [],
   "source": [
    "plt.figure(figsize=(10,6))\n",
    "plt.imshow(pfmap_1d[110,::-1,:])\n",
    "#plt.savefig('pmf1d.png')"
   ]
  },
  {
   "cell_type": "code",
   "execution_count": null,
   "metadata": {},
   "outputs": [],
   "source": [
    "plt.imshow(pfmap_1d[110,:,:])"
   ]
  },
  {
   "cell_type": "code",
   "execution_count": null,
   "metadata": {},
   "outputs": [],
   "source": [
    "plt.imshow(ald_diff)"
   ]
  },
  {
   "cell_type": "code",
   "execution_count": null,
   "metadata": {},
   "outputs": [],
   "source": [
    "# Make plot for the decrease of permafrost extent \n",
    "fig = plt.figure(figsize=(16,8))\n",
    "font = {'family' : 'normal',\n",
    "        'size'   : 20}\n",
    "plt.rc('font', **font)\n",
    "gs = gridspec.GridSpec(1, 2, width_ratios=[1, 1]) \n",
    "\n",
    "ax1 = fig.add_subplot(gs[0])#, figsize=(10,8))\n",
    "yr = np.arange(1902,2016)\n",
    "ax1.plot(yr, pfarea_ts_1d/1e12)\n",
    "plt.xlabel('Year')\n",
    "plt.ylabel('Area ($Mkm^2$)')\n",
    "plt.annotate('(a)', xy=(0.05, 0.9), xycoords='axes fraction', fontsize=24)\n",
    "#text1 = ax1.text(1903, 11.48, '(a)', fontsize=24)\n",
    "\n",
    "ax2 = fig.add_subplot(gs[1])#, figsize=(10,8))\n",
    "#ax1.set_title(\"ISAM-1D SOC stock (1m)\",fontsize=32)\n",
    "map = Basemap(projection='npstere',boundinglat=45,lon_0=0,resolution='l')\n",
    "# draw coastlines, state and country boundaries, edge of map.\n",
    "map.drawcoastlines()\n",
    "lon,lat = np.meshgrid(lonnc,latnc) #Returns coordinate matrices from coordinate vectors\n",
    "x,y = map(lon,lat)\n",
    "cs1 = map.pcolormesh(x,y,ald_diff[:,:],\n",
    "              norm=colors.Normalize(vmin=-0.6,vmax=0.6),cmap=plt.cm.jet)\n",
    "cbar = map.colorbar(cs1,location='bottom',pad=\"5%\",extend='both')\n",
    "cbar.set_label('Change of active layer depth (m)')\n",
    "\n",
    "map.drawparallels(np.arange(-80.,81.,20.))#, labels=[True,True,True,True])\n",
    "map.drawmeridians(np.arange(-180.,181.,20.))#, labels=[True,True,True,True])\n",
    "#plt.title('Permafrost SOC stock')\n",
    "cbar.ax.tick_params(labelsize=18) \n",
    "plt.annotate('(b)', xy=(0.05, 0.9), xycoords='axes fraction', fontsize=24)\n",
    "\n",
    "plt.show()\n",
    "#plt.savefig('FigS3.png')"
   ]
  },
  {
   "cell_type": "code",
   "execution_count": null,
   "metadata": {},
   "outputs": [],
   "source": [
    "# First calculate the mean of 1902 - 1910\n",
    "pfmap_1900s = np.mean(pfmap_0d[0:9,:,:], axis=0)\n",
    "pfmap_1900s[pfmap_1900s>=0.5] = 1.\n",
    "pfmap_1900s[pfmap_1900s<0.5] = 0.\n",
    "# Second calculate the mean of 2001 - 2010\n",
    "pfmap_2000s = np.mean(pfmap_0d[99:109,:,:], axis=0)\n",
    "pfmap_2000s[pfmap_2000s>=0.5] = 1.\n",
    "pfmap_2000s[pfmap_2000s<0.5] = 0.\n",
    "# Diff map\n",
    "pfmap_diff = pfmap_2000s - pfmap_1900s\n",
    "pfmap_diff[pfmap_diff>=0.] = np.float('nan')\n",
    "# Diff of permafrost area\n",
    "#plt.figure(figsize=(12, 7))\n",
    "#plt.imshow(pfmap_diff)\n",
    "#plt.colorbar()\n",
    "\n",
    "# Get a mask from diff map\n",
    "pfmap_diff_mask = np.zeros((360,720))\n",
    "pfmap_diff_mask[~np.isnan(pfmap_diff)] = 1.\n",
    "pfmap_diff_mask[np.isnan(pfmap_diff)] = 0.\n",
    "\n",
    "#plt.figure(figsize=(12, 7))\n",
    "#plt.imshow(pfmap_diff_mask)\n",
    "#plt.colorbar()"
   ]
  },
  {
   "cell_type": "code",
   "execution_count": null,
   "metadata": {},
   "outputs": [],
   "source": [
    "# The total SOC involved in the change of permafrost\n",
    "# We assume the whole column of SOC was exposed\n",
    "# But the newly exposed SOC shall be the amount subtract the already exposed amount\n",
    "# So we still need the active later thickness to be calculated.\n",
    "\n",
    "# Check which soil layer ALD falling in for 1900s\n",
    "ald_layer = np.zeros((360,720))\n",
    "z, dz, zsoih = isam.get_isam_soildp(10)\n",
    "\n",
    "for i in np.arange(0,nlon):\n",
    "    for j in np.arange(0,nlat):\n",
    "        if(int(pfmap_1900s[j,i]) == 1 or int(pfmap_2000s[j,i]) == 1):\n",
    "            for k in np.arange(0,10):\n",
    "                if(ald_preind[j,i] > zsoih[k] and ald_preind[j,i] <= zsoih[k+1]):\n",
    "                    ald_layer[j,i] = k+1\n",
    "\n",
    "# Check which soil layer ALD falling in for 2000s\n",
    "ald_layer_2000s = np.zeros((360,720))\n",
    "for i in np.arange(0,nlon):\n",
    "    for j in np.arange(0,nlat):\n",
    "        if(int(pfmap_1900s[j,i]) == 1 or int(pfmap_2000s[j,i]) == 1):\n",
    "            for k in np.arange(0,10):\n",
    "                if(ald_contemp[j,i] > zsoih[k] and ald_contemp[j,i] <= zsoih[k+1]):\n",
    "                    ald_layer_2000s[j,i] = k+1\n",
    "\n",
    "#plt.figure(figsize=(12, 7))\n",
    "#plt.imshow(ald_layer)\n",
    "#plt.colorbar()\n",
    "\n",
    "# Get the preind SOC stock data\n",
    "# Read the 3D files, For ISAM-1D\n",
    "# Historical\n",
    "fp=respath+preind+'/mean_bgc3d_'+preind+'.nc'\n",
    "nclu_preind=NetCDFFile(fp,'r')\n",
    "soclev_preind = nclu_preind.variables['soil_c_lev'][:]\n",
    "resplev_preind = nclu_preind.variables['resp_lev'][:]\n",
    "latnc = nclu_preind.variables['lat'][:]\n",
    "lonnc = nclu_preind.variables['lon'][:]\n",
    "#lonnc = ((lonnc - 180) % 360) - 180\n",
    "\n",
    "# 20th century\n",
    "fp=respath+contemp+'/mean_bgc3d_'+contemp+'.nc'\n",
    "nclu_contemp=NetCDFFile(fp,'r')\n",
    "soclev_contemp = nclu_contemp.variables['soil_c_lev'][:]\n",
    "resplev_contemp = nclu_contemp.variables['resp_lev'][:]\n",
    "\n",
    "soc_exposed = np.zeros((360,720))\n",
    "# Calculate the newly exposed SOC!\n",
    "for i in np.arange(0,nlon):\n",
    "    for j in np.arange(0,nlat):\n",
    "        if(int(pfmap_diff_mask[j,i]) == 1):\n",
    "            if(int(ald_layer[j,i]) == 10):\n",
    "                soc_exposed[j,i] = soclev_preind[9,j,i]\n",
    "            else:\n",
    "                ind = int(ald_layer[j,i])\n",
    "                #print(int(ald_layer[j,i]))\n",
    "                soc_exposed[j,i] = np.sum(soclev_preind[ind:10,j,i])\n",
    "                #print(soclev_preind[ind:10,j,i])\n",
    "\n",
    "# Calculate the exposed SOC due to permafrost degradation\n",
    "soc_degrade = np.zeros((360,720))\n",
    "for i in np.arange(0,nlon):\n",
    "    for j in np.arange(0,nlat):\n",
    "        if(int(pfmap_2000s[j,i]) == 1):\n",
    "            #print(int(ald_layer_2000s[j,i]))\n",
    "            if(ald_layer_2000s[j,i] > ald_layer[j,i]):\n",
    "                ind_l = int(ald_layer[j,i])\n",
    "                ind_u = int(ald_layer_2000s[j,i])\n",
    "                soc_degrade[j,i] = np.sum(soclev_preind[ind_l:ind_u,j,i])\n",
    "                    \n",
    "#plt.figure(figsize=(12, 7))\n",
    "#plt.imshow(soc_exposed)\n",
    "#plt.colorbar()\n",
    "\n",
    "# Total exposed SOC amount plus degraded SOC\n",
    "tot_soc_exposed_amount = soc_exposed*grid_area\n",
    "tot_soc_exposed = np.nansum(tot_soc_exposed_amount)/1e12\n",
    "tot_soc_degrade_amount = soc_degrade*grid_area\n",
    "tot_soc_degrade = np.nansum(tot_soc_degrade_amount)/1e12\n",
    "tot_soc_pfloss = tot_soc_exposed + tot_soc_degrade\n"
   ]
  },
  {
   "cell_type": "code",
   "execution_count": null,
   "metadata": {},
   "outputs": [],
   "source": [
    "plt.imshow(soc_degrade)\n",
    "plt.colorbar()"
   ]
  },
  {
   "cell_type": "code",
   "execution_count": null,
   "metadata": {},
   "outputs": [],
   "source": [
    "soclev_preind[:,304,212]"
   ]
  },
  {
   "cell_type": "code",
   "execution_count": null,
   "metadata": {},
   "outputs": [],
   "source": [
    "tot_soc_degrade"
   ]
  },
  {
   "cell_type": "code",
   "execution_count": null,
   "metadata": {
    "scrolled": true
   },
   "outputs": [],
   "source": [
    "tot_soc_pfloss"
   ]
  },
  {
   "cell_type": "code",
   "execution_count": null,
   "metadata": {},
   "outputs": [],
   "source": [
    "# Difference of the map of permafrost extent between 2000s and 1900s\n",
    "pfloss = (np.mean(pfarea_ts_0d[0:9]) - np.mean(pfarea_ts_0d[99:109]))/1e12"
   ]
  },
  {
   "cell_type": "code",
   "execution_count": null,
   "metadata": {},
   "outputs": [],
   "source": [
    "pfloss"
   ]
  },
  {
   "cell_type": "code",
   "execution_count": null,
   "metadata": {},
   "outputs": [],
   "source": [
    "# Reduction of the permafrost area\n",
    "plt.plot(pfarea_ts_1d)\n",
    "plt.plot(pfarea_ts_0d)"
   ]
  },
  {
   "cell_type": "code",
   "execution_count": null,
   "metadata": {},
   "outputs": [],
   "source": [
    "# Check the air temperature to validate the permafrost degradation\n",
    "\n",
    "respath='/data/jain1/c/sshu3/SBGC/results/SBGC_regional/'\n",
    "prefix='Global_1DSBGC.bgp-yearly_2d_'\n",
    "\n",
    "mean_airt_1d=np.zeros(115)\n",
    "for y in np.arange(1901,2016):\n",
    "    fp=respath+prefix+str(y)+'.nc'\n",
    "    nclu=NetCDFFile(fp,'r')\n",
    "    airt=nclu.variables['tavg_avg_yr'][:]\n",
    "    mean_airt = np.nanmean(airt)\n",
    "    mean_airt_1d[(y-1901)] = mean_airt\n"
   ]
  },
  {
   "cell_type": "code",
   "execution_count": null,
   "metadata": {},
   "outputs": [],
   "source": [
    "plt.plot(mean_airt_1d)"
   ]
  },
  {
   "cell_type": "code",
   "execution_count": null,
   "metadata": {},
   "outputs": [],
   "source": [
    "np.arange(1901,1911)"
   ]
  },
  {
   "cell_type": "code",
   "execution_count": null,
   "metadata": {},
   "outputs": [],
   "source": [
    "# Make plot to show the permafrost extent\n",
    "\n",
    "# Plot the figure1\n",
    "# Comparison of 1m SOC stock between two models and to the NCSCD data\n",
    "fig = plt.figure(figsize=(30,36))\n",
    "\n",
    "ax1 = fig.add_subplot(121)\n",
    "#ax1.set_title(\"ISAM-1D SOC stock (1m)\",fontsize=32)\n",
    "map = Basemap(projection='npstere',boundinglat=45,lon_0=0,resolution='l')\n",
    "# draw coastlines, state and country boundaries, edge of map.\n",
    "map.drawcoastlines()\n",
    "#map.drawstates()\n",
    "#map.drawcountries(color='b')\n",
    "lon,lat = np.meshgrid(lonnc,latnc) #Returns coordinate matrices from coordinate vectors\n",
    "x,y = map(lon,lat)\n",
    "xs, ys = np.meshgrid(lonnc3, latnc3)\n",
    "clevs = np.power(10.0, np.arange(-1.0,2.5,0.5))\n",
    "cs1 = map.pcolormesh(x,y,soc_contemp[:,:],\n",
    "              norm=colors.Normalize(vmin=0,vmax=30.),cmap=plt.cm.YlOrBr) # use log color scale,\n",
    "# Overlap scatter plot to show the peatland distribution\n",
    "map.scatter(xs, ys, s = 0.4*wtld, latlon=True, marker='_', color='cyan')\n",
    "cbar = map.colorbar(cs1,location='bottom',pad=\"5%\",extend='both')\n",
    "#parallels = np.arange(45.,80.,15.)\n",
    "## labels = [left,right,top,bottom]\n",
    "#map.drawparallels(parallels)#,labels=[False,True,True,False])\n",
    "#meridians = np.arange(15.,346.,30.)\n",
    "#map.drawmeridians(meridians)#,labels=[True,False,False,True])\n",
    "\n",
    "map.drawparallels(np.arange(-80.,81.,20.))#, labels=[True,True,True,True])\n",
    "map.drawmeridians(np.arange(-180.,181.,20.))#, labels=[True,True,True,True])\n",
    "#plt.title('Permafrost SOC stock')\n",
    "cbar.ax.tick_params(labelsize=30) \n",
    "\n",
    "ax2 = fig.add_subplot(122)\n",
    "ax2.set_title(\"ISAM-0D SOC stock (1m)\",fontsize=32)\n",
    "map = Basemap(projection='npstere',boundinglat=45,lon_0=0,resolution='l')\n",
    "# draw coastlines, state and country boundaries, edge of map.\n",
    "map.drawcoastlines()\n",
    "#map.drawstates()\n",
    "#map.drawcountries(color='b')\n",
    "cs = map.pcolormesh(x,y,soc0d_contemp[:,:],\n",
    "              norm=colors.Normalize(vmin=0.,vmax=30.),cmap=plt.cm.YlOrBr) # use log color scale,\n",
    "                                                      # omit this to use linear\n",
    "                                                     # color scale\n",
    "map.scatter(xs, ys, s = 0.4*wtld, latlon=True, marker='_', color='cyan')\n",
    "map.drawparallels(np.arange(-80.,81.,20.))#, labels=[True,True,True,True])\n",
    "map.drawmeridians(np.arange(-180.,181.,20.))#, labels=[True,True,True,True])\n",
    "cbar = map.colorbar(cs,location='bottom',pad=\"5%\",extend='both')\n",
    "cbar.ax.tick_params(labelsize=30) \n",
    "\n",
    "lon2,lat2 = np.meshgrid(lonnc2,latnc2) #Returns coordinate matrices from coordinate vectors\n",
    "x2,y2 = map(lon2,lat2)\n",
    "ax2 = fig.add_subplot(333)\n",
    "ax2.set_title(\"NCSCD SOC stock (1m)\",fontsize=32)\n",
    "map = Basemap(projection='npstere',boundinglat=45,lon_0=0,resolution='l')\n",
    "# draw coastlines, state and country boundaries, edge of map.\n",
    "map.drawcoastlines()\n",
    "#map.drawstates()\n",
    "#map.drawcountries(color='b')\n",
    "cs = map.pcolormesh(x2,y2,soc_ncscd[:,:],\n",
    "              norm=colors.Normalize(vmin=0.,vmax=30.),cmap=plt.cm.YlOrBr) # use log color scale,\n",
    "                                                     # omit this to use linear\n",
    "                                                     # color scale\n",
    "map.scatter(xs, ys, s = 0.4*wtld, latlon=True, marker='_', color='cyan')\n",
    "map.drawparallels(np.arange(-80.,81.,20.))#, labels=[True,True,True,True])\n",
    "map.drawmeridians(np.arange(-180.,181.,20.))#, labels=[True,True,True,True])\n",
    "cbar = map.colorbar(cs,location='bottom',pad=\"5%\",extend='both')\n",
    "cbar.ax.tick_params(labelsize=30) \n",
    "\n",
    "plt.show()\n",
    "#plt.savefig('./figures/fig6.png',dpi=300)"
   ]
  },
  {
   "cell_type": "code",
   "execution_count": null,
   "metadata": {},
   "outputs": [],
   "source": []
  }
 ],
 "metadata": {
  "anaconda-cloud": {},
  "kernelspec": {
   "display_name": "Python 2",
   "language": "python",
   "name": "python2"
  },
  "language_info": {
   "codemirror_mode": {
    "name": "ipython",
    "version": 2
   },
   "file_extension": ".py",
   "mimetype": "text/x-python",
   "name": "python",
   "nbconvert_exporter": "python",
   "pygments_lexer": "ipython2",
   "version": "2.7.16"
  }
 },
 "nbformat": 4,
 "nbformat_minor": 1
}
