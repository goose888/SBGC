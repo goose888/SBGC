{
 "cells": [
  {
   "cell_type": "code",
   "execution_count": 1,
   "metadata": {},
   "outputs": [],
   "source": [
    "import os\n",
    "os.environ['PROJ_LIB'] = '/data/keeling/a/sshu3/anaconda2/share/proj'\n",
    "from mpl_toolkits.basemap import Basemap, cm, shiftgrid,maskoceans\n",
    "from netCDF4 import Dataset as NetCDFFile\n",
    "import numpy as np\n",
    "import numpy.ma as ma\n",
    "import matplotlib.pyplot as plt\n",
    "from matplotlib import colors, ticker\n",
    "import numpy.ma as ma\n",
    "from scipy.interpolate import griddata\n",
    "from pyresample import geometry,image, kd_tree\n",
    "import copy"
   ]
  },
  {
   "cell_type": "code",
   "execution_count": null,
   "metadata": {},
   "outputs": [],
   "source": []
  },
  {
   "cell_type": "code",
   "execution_count": null,
   "metadata": {},
   "outputs": [],
   "source": [
    "np.nansum(grid_area_msk)"
   ]
  },
  {
   "cell_type": "code",
   "execution_count": 3,
   "metadata": {
    "scrolled": true
   },
   "outputs": [
    {
     "name": "stderr",
     "output_type": "stream",
     "text": [
      "/data/keeling/a/sshu3/anaconda2/lib/python2.7/site-packages/ipykernel_launcher.py:28: RuntimeWarning: invalid value encountered in greater\n"
     ]
    }
   ],
   "source": [
    "# Option\n",
    "dave_mc=False\n",
    "\n",
    "# Get the permafrost mask for cont and discont permfrost\n",
    "path='/data/jain1/c/sshu3/SBGC/data/C14/C14processing/surfdata_05x05.nc'\n",
    "nclu=NetCDFFile(path,'r')\n",
    "pf = nclu.variables['PFMASK'][:]\n",
    "nclu.close()\n",
    "pfmask = ma.masked_where(pf<=0, pf)\n",
    "\n",
    "# Open STT for 0D\n",
    "# 1860s\n",
    "path='/data/jain1/c/sshu3/SBGC/data/C14/C14processing/tau_0d_1860.nc'\n",
    "nclu=NetCDFFile(path,'r')\n",
    "stt_0d_1860 = nclu.variables['tau_1m'][:]\n",
    "latnc = nclu.variables['lat'][:]\n",
    "lonnc = nclu.variables['lon'][:]\n",
    "nclu.close()\n",
    "stt_0d_1860[stt_0d_1860>1000] = np.float('nan')\n",
    "\n",
    "# 2000s\n",
    "path='/data/jain1/c/sshu3/SBGC/data/C14/C14processing/tau_0d_2000.nc'\n",
    "nclu=NetCDFFile(path,'r')\n",
    "stt_0d_2000 = nclu.variables['tau_1m'][:]\n",
    "latnc = nclu.variables['lat'][:]\n",
    "lonnc = nclu.variables['lon'][:]\n",
    "nclu.close()\n",
    "stt_0d_2000[stt_0d_1860>2000] = np.float('nan')\n",
    "\n",
    "# Open STT for 1D\n",
    "# 1860s\n",
    "path='/data/jain1/c/sshu3/SBGC/data/C14/C14processing/tau_1d_1860.nc'\n",
    "nclu=NetCDFFile(path,'r')\n",
    "stt_1dtop_1860 = nclu.variables['tau_top'][:]\n",
    "stt_1dsub_1860 = nclu.variables['tau_sub'][:]\n",
    "latnc = nclu.variables['lat'][:]\n",
    "lonnc = nclu.variables['lon'][:]\n",
    "nclu.close()\n",
    "stt_1dtop_1860[stt_1dtop_1860>2000] = np.float('nan')\n",
    "stt_1dsub_1860[stt_1dsub_1860>2000] = np.float('nan')\n",
    "\n",
    "path='/data/jain1/d/sshu3/SBGC_1d/Global_1DSBGC.bgc-yearly-3d_1861.nc'\n",
    "nclu=NetCDFFile(path,'r')\n",
    "soc_lev_1860 = nclu.variables['soil_c_lev'][:]\n",
    "nclu.close()\n",
    "\n",
    "# 2000s\n",
    "path='/data/jain1/c/sshu3/SBGC/data/C14/C14processing/tau_1d_2000.nc'\n",
    "nclu=NetCDFFile(path,'r')\n",
    "stt_1dtop_2000 = nclu.variables['tau_top'][:]\n",
    "stt_1dsub_2000 = nclu.variables['tau_sub'][:]\n",
    "latnc = nclu.variables['lat'][:]\n",
    "lonnc = nclu.variables['lon'][:]\n",
    "nclu.close()\n",
    "stt_1dtop_2000[stt_1dtop_2000>2000] = np.float('nan')\n",
    "stt_1dsub_2000[stt_1dsub_2000>2000] = np.float('nan')\n",
    "\n",
    "path='/data/jain1/d/sshu3/SBGC_1d/Global_1DSBGC.bgc-yearly-3d_2010.nc'\n",
    "nclu=NetCDFFile(path,'r')\n",
    "soc_lev_2000 = nclu.variables['soil_c_lev'][:]\n",
    "nclu.close()\n",
    "\n",
    "# Use the NCSCD permafrost mask, which is the norther high latitude permafrost region without greenland\n",
    "# The mask Mcguire et al., 2016 used including alpine permafrost (Tiebet and the Alps)\n",
    "# Alpine permafrost to be treated as having a very small amount of SOC, though for the paper we have \n",
    "# to consider the whole region.\n",
    "path='/data/jain1/c/sshu3/SBGC/data/NCSCDv2_Circumpolar_netCDF_05deg/ncscdv2_soilc_0.5x0.5.nc'\n",
    "nclu_obs=NetCDFFile(path,'r')\n",
    "soc_ncscd_orig = nclu_obs.variables['soilc'][:]\n",
    "latnc2 = nclu_obs.variables['lat'][:]\n",
    "lonnc2 = nclu_obs.variables['lon'][:]\n",
    "nclu_obs.close()\n",
    "soc_ncscd = soc_ncscd_orig[0,:,:]\n",
    "mask_permafrost = copy.deepcopy(ma.getmask(soc_ncscd))\n",
    "another_mask = ma.masked_where(soc_ncscd<=0, soc_ncscd)\n",
    "temp = copy.deepcopy(mask_permafrost[:, 0:360])\n",
    "mask_permafrost[:, 0:360] = mask_permafrost[:, 360:720]\n",
    "mask_permafrost[:, 360:720] = temp\n",
    "temp = copy.deepcopy(another_mask[:, 0:360])\n",
    "another_mask[:, 0:360] = another_mask[:, 360:720]\n",
    "another_mask[:, 360:720] = temp\n",
    "#new_mask = np.logical_or(another_mask, mask_permafrost)\n",
    "\n",
    "# Open the histel and histosol fraction map to mask peatland \n",
    "respath = '/data/jain1/c/sshu3/SBGC/data/NCSCDv2_Circumpolar_netCDF_05deg/'\n",
    "fhistosol = 'NCSCDv2_Circumpolar_WGS84_histosol_pct_05deg.nc'\n",
    "fhistel = 'NCSCDv2_Circumpolar_WGS84_histel_pct_05deg.nc'\n",
    "\n",
    "fp=respath+fhistosol\n",
    "nclu_his=NetCDFFile(fp,'r')\n",
    "histosol = nclu_his.variables['NCSCDv2'][:]\n",
    "latnc3 = nclu_his.variables['lat'][:]\n",
    "lonnc3 = nclu_his.variables['lon'][:]\n",
    "frac_histosol = copy.deepcopy(histosol)\n",
    "histosol[histosol<=0] = 0\n",
    "histosol[histosol>0] = 1\n",
    "nclu_his.close()\n",
    "#histosol = np.flipud(histosol)\n",
    "\n",
    "fp=respath+fhistel\n",
    "nclu_his=NetCDFFile(fp,'r')\n",
    "histel = nclu_his.variables['NCSCDv2'][:]\n",
    "frac_histel = copy.deepcopy(histel)\n",
    "histel[histel<=0] = 0\n",
    "histel[histel>0] = 1\n",
    "nclu_his.close()\n",
    "\n",
    "frac_peat = frac_histosol/100. + frac_histel/100.\n",
    "\n",
    "# Add a new mask with considering peat fraction and non-permafrost region\n",
    "histel_full = ma.zeros((360,720))\n",
    "histel_full[0:111,:] = histel\n",
    "temp = copy.deepcopy(histel_full[:, 0:360])\n",
    "histel_full[:, 0:360] = histel_full[:, 360:720]\n",
    "histel_full[:, 360:720] = temp\n",
    "histel_full = histel_full[::-1,:]\n",
    "nopeat_mask = ma.masked_where(histel_full>0, another_mask)\n",
    "\n",
    "# SOC weighted STT\n",
    "soc_top_1860 = np.sum(soc_lev_1860[0:5,:,:], 0)\n",
    "soc_top_2000 = np.sum(soc_lev_2000[0:5,:,:], 0)\n",
    "soc_sub_1860 = np.sum(soc_lev_1860[5:7,:,:], 0)+0.3*soc_lev_1860[7,:,:]\n",
    "soc_sub_2000 = np.sum(soc_lev_2000[5:7,:,:], 0)+0.3*soc_lev_2000[7,:,:]\n",
    "\n",
    "wt_top_1860 = soc_top_1860/(soc_top_1860+soc_sub_1860)\n",
    "wt_sub_1860 = soc_sub_1860/(soc_top_1860+soc_sub_1860)\n",
    "wt_top_2000 = soc_top_2000/(soc_top_2000+soc_sub_2000)\n",
    "wt_sub_2000 = soc_sub_2000/(soc_top_2000+soc_sub_2000)\n",
    "\n",
    "stt_1d_1860 = wt_top_1860*stt_1dtop_1860 + wt_sub_1860*stt_1dsub_1860\n",
    "stt_1d_2000 = wt_top_2000*stt_1dtop_2000 + wt_sub_1860*stt_1dsub_2000\n",
    "\n",
    "dstt_1d = stt_1d_2000 - stt_1d_1860\n",
    "dstt_0d = stt_0d_2000 - stt_0d_1860\n"
   ]
  },
  {
   "cell_type": "code",
   "execution_count": null,
   "metadata": {},
   "outputs": [],
   "source": [
    "plt.imshow(another_mask.mask)"
   ]
  },
  {
   "cell_type": "code",
   "execution_count": null,
   "metadata": {},
   "outputs": [],
   "source": [
    "plt.imshow(nopeat_mask_new)"
   ]
  },
  {
   "cell_type": "code",
   "execution_count": 4,
   "metadata": {},
   "outputs": [
    {
     "name": "stderr",
     "output_type": "stream",
     "text": [
      "/data/keeling/a/sshu3/anaconda2/lib/python2.7/site-packages/ipykernel_launcher.py:30: UserWarning: Warning: converting a masked element to nan.\n",
      "/data/keeling/a/sshu3/anaconda2/lib/python2.7/site-packages/ipykernel_launcher.py:32: UserWarning: Warning: converting a masked element to nan.\n"
     ]
    }
   ],
   "source": [
    "# Calculate total numbers for paper\n",
    "# Mask all regions outside the northern permafrost extent\n",
    "stt_1d_1860_perm = copy.deepcopy(stt_1d_1860)\n",
    "stt_1d_1860_perm.mask = pfmask.mask\n",
    "stt_1d_2000_perm = copy.deepcopy(stt_1d_2000)\n",
    "stt_1d_2000_perm.mask = pfmask.mask\n",
    "stt_0d_1860_perm = copy.deepcopy(stt_0d_1860)\n",
    "stt_0d_1860_perm.mask = pfmask.mask\n",
    "stt_0d_2000_perm = copy.deepcopy(stt_0d_2000)\n",
    "stt_0d_2000_perm.mask = pfmask.mask\n",
    "\n",
    "dstt_1d_perm = copy.deepcopy(dstt_1d)\n",
    "dstt_0d_perm = copy.deepcopy(dstt_0d)\n",
    "\n",
    "# Get the grid area\n",
    "nlon = 720\n",
    "nlat = 360\n",
    "grid_area = np.ones((nlat, nlon))*-9999.\n",
    "val = np.ones((nlat, nlon))*float(\"nan\")\n",
    "val_0d = np.ones((nlat, nlon))*float(\"nan\")\n",
    "val_obs = np.ones((nlat, nlon))*float(\"nan\")\n",
    "earth_area =  5.096e14;\n",
    "lat = np.arange(-89.75, 90.25, 0.5)\n",
    "res = 0.5;\n",
    "for i in np.arange(0,nlat):\n",
    "    for j in np.arange(0,nlon):\n",
    "        grid_area[i,j] = (earth_area/2)*abs(np.sin((lat[i] - res/2)*np.pi/180) -\n",
    "                    np.sin((lat[i] + res/2)*np.pi/180))/(360/res)\n",
    "        # ISAM-1D estimation for 1860s\n",
    "        val[i,j] = stt_1d_1860_perm[i,j] * grid_area[i,j]\n",
    "        # ISAM-0D estimation for 1860s\n",
    "        val_0d[i,j] = stt_0d_1860_perm[i,j] * grid_area[i,j]\n",
    "\n",
    "grid_area_msk = ma.masked_array(grid_area, mask=pfmask.mask)"
   ]
  },
  {
   "cell_type": "code",
   "execution_count": 5,
   "metadata": {},
   "outputs": [
    {
     "data": {
      "text/plain": [
       "<matplotlib.image.AxesImage at 0x2b499dec8e10>"
      ]
     },
     "execution_count": 5,
     "metadata": {},
     "output_type": "execute_result"
    },
    {
     "data": {
      "image/png": "[encoded data removed]",
      "text/plain": [
       "<Figure size 432x288 with 1 Axes>"
      ]
     },
     "metadata": {
      "needs_background": "light"
     },
     "output_type": "display_data"
    }
   ],
   "source": [
    "plt.imshow(pfmask)"
   ]
  },
  {
   "cell_type": "code",
   "execution_count": 6,
   "metadata": {},
   "outputs": [
    {
     "name": "stdout",
     "output_type": "stream",
     "text": [
      "ISAM-1D estimated STT ...\n",
      "393.8484867964031\n",
      "ISAM-0D estimated STT ...\n",
      "61.933318612079745\n"
     ]
    },
    {
     "name": "stderr",
     "output_type": "stream",
     "text": [
      "/data/keeling/a/sshu3/anaconda2/lib/python2.7/site-packages/ipykernel_launcher.py:4: RuntimeWarning: invalid value encountered in less\n",
      "  after removing the cwd from sys.path.\n"
     ]
    }
   ],
   "source": [
    "# Get the total amount of NCSCD SOC by excluding histosol and histel\n",
    "total_histosol = 69.1\n",
    "total_histel = 49.3\n",
    "val_0d[val_0d<0] = 0\n",
    "# Mean STT\n",
    "isam_0d_all = np.nansum(val_0d)/np.nansum(grid_area_msk)\n",
    "isam_1d_all = np.nansum(val)/np.nansum(grid_area_msk)\n",
    "\n",
    "print('ISAM-1D estimated STT ...')\n",
    "print(isam_1d_all)\n",
    "print('ISAM-0D estimated STT ...')\n",
    "print(isam_0d_all)"
   ]
  },
  {
   "cell_type": "code",
   "execution_count": null,
   "metadata": {},
   "outputs": [],
   "source": [
    "# NCSCD SOC stock ...\n",
    "# 474.9181063795683\n",
    "# NCSCD SOC stock without peat ...\n",
    "# 356.51810637956834\n",
    "\n",
    "# ISAM-1D estimated contemporary SOC stock ...\n",
    "# 353.52246987372865\n",
    "# ISAM-0D estimated contemporary SOC stock ...\n",
    "# 180.7218003115083\n",
    "# ISAM-1D estimated preindustrail SOC stock ...\n",
    "# 343.61655160412346\n",
    "# ISAM-0D estimated preindustrail SOC stock ...\n",
    "# 177.30753527613672"
   ]
  },
  {
   "cell_type": "code",
   "execution_count": null,
   "metadata": {},
   "outputs": [],
   "source": [
    "# Mask all regions outside the northern permafrost extent\n",
    "dstt_1d_perm = copy.deepcopy(dstt_1d)\n",
    "dstt_1d_perm.mask = another_mask.mask\n",
    "dstt_0d_perm = copy.deepcopy(dstt_0d)\n",
    "dstt_0d_perm.mask = another_mask.mask\n",
    "\n",
    "# Plot the figure7\n",
    "# Comparison of 1m SOC stock between two models and to the NCSCD data\n",
    "fig = plt.figure(figsize=(18,15))\n",
    "\n",
    "#ax1 = fig.add_subplot(331)\n",
    "ax1 = fig.add_subplot(221)\n",
    "ax1.set_title(\"ISAM-0D STT (2000s - 1860s)\",fontsize=20,pad=10)\n",
    "map = Basemap(projection='npstere',boundinglat=45,lon_0=0,resolution='l')\n",
    "# draw coastlines, state and country boundaries, edge of map.\n",
    "map.drawcoastlines()\n",
    "#map.drawstates()\n",
    "#map.drawcountries(color='b')\n",
    "lon,lat = np.meshgrid(lonnc,latnc) #Returns coordinate matrices from coordinate vectors\n",
    "x,y = map(lon,lat)\n",
    "cs1 = map.pcolormesh(x,y,stt_0d_1860_perm[:,:],\n",
    "              norm=colors.LogNorm(vmin=1,vmax=2000.),cmap=plt.cm.summer) # use log color scale,\n",
    "cbar = map.colorbar(cs1,ticks=[1, 10, 100, 1000, 2000],location='bottom',pad=\"5%\",extend='both')\n",
    "map.drawparallels(np.arange(-80.,81.,20.))#, labels=[True,True,True,True])\n",
    "map.drawmeridians(np.arange(-180.,181.,20.))#, labels=[True,True,True,True])\n",
    "plt.annotate('(a)', fontsize=24, xy=(0.1, 0.9), xycoords='axes fraction')\n",
    "cbar.ax.tick_params(labelsize=22) \n",
    "\n",
    "ax2 = fig.add_subplot(222)\n",
    "ax2.set_title(\"ISAM-1D STT (2000s - 1860s)\",fontsize=20,pad=10)\n",
    "map = Basemap(projection='npstere',boundinglat=45,lon_0=0,resolution='l')\n",
    "# draw coastlines, state and country boundaries, edge of map.\n",
    "map.drawcoastlines()\n",
    "#map.drawstates()\n",
    "#map.drawcountries(color='b')\n",
    "cs2 = map.pcolormesh(x,y,stt_1d_1860_perm[:,:],\n",
    "              norm=colors.LogNorm(vmin=1,vmax=2000.),cmap=plt.cm.summer) # use log color scale,\n",
    "                                                      # omit this to use linear\n",
    "                                                     # color scale\n",
    "cbar = map.colorbar(cs2,ticks=[1, 10, 100, 1000, 2000],location='bottom',pad=\"5%\",extend='both')\n",
    "map.drawparallels(np.arange(-80.,81.,20.))#, labels=[True,True,True,True])\n",
    "map.drawmeridians(np.arange(-180.,181.,20.))#, labels=[True,True,True,True])\n",
    "cbar.ax.set_xlabel('Unit: $kgC m^{-2}$', fontsize=20, labelpad=0)\n",
    "plt.annotate('(b)', fontsize=24, xy=(0.1, 0.9), xycoords='axes fraction')\n",
    "cbar.ax.tick_params(labelsize=22) \n",
    "\n",
    "\n",
    "ax3 = fig.add_subplot(223)\n",
    "ax3.set_title(\"ISAM-0D change of STT (2000s - 1860s)\",fontsize=20,pad=10)\n",
    "map = Basemap(projection='npstere',boundinglat=45,lon_0=0,resolution='l')\n",
    "# draw coastlines, state and country boundaries, edge of map.\n",
    "map.drawcoastlines()\n",
    "#map.drawstates()\n",
    "#map.drawcountries(color='b')\n",
    "cs3 = map.pcolormesh(x,y,dstt_0d_perm[:,:],\n",
    "#              norm=colors.SymLogNorm(linthresh=1, linscale=1, vmin=-300, vmax=300),cmap=plt.cm.bwr) # use log color scale,\n",
    "              norm=colors.Normalize(vmin=-300,vmax=300.),cmap=plt.cm.bwr) # use log color scale,\n",
    "                                                      # omit this to use linear\n",
    "                                                     # color scale\n",
    "cbar = map.colorbar(cs3,ticks=[-300, -200, -100, 0, 100, 200, 300],location='bottom',pad=\"5%\",extend='both')\n",
    "map.drawparallels(np.arange(-80.,81.,20.))#, labels=[True,True,True,True])\n",
    "map.drawmeridians(np.arange(-180.,181.,20.))#, labels=[True,True,True,True])\n",
    "plt.annotate('(c)', fontsize=24, xy=(0.1, 0.9), xycoords='axes fraction')\n",
    "cbar.ax.tick_params(labelsize=18) \n",
    "\n",
    "ax4 = fig.add_subplot(224)\n",
    "ax4.set_title(\"ISAM-1D change of STT (2009 - 1860s)\",fontsize=20,pad=10)\n",
    "map = Basemap(projection='npstere',boundinglat=45,lon_0=0,resolution='l')\n",
    "# draw coastlines, state and country boundaries, edge of map.\n",
    "map.drawcoastlines()\n",
    "#map.drawstates()\n",
    "#map.drawcountries(color='b')\n",
    "cs4 = map.pcolormesh(x,y,dstt_1d_perm[:,:],\n",
    "#              norm=colors.SymLogNorm(linthresh=1, linscale=1, vmin=-300, vmax=300),cmap=plt.cm.bwr) # use log color scale,\n",
    "              norm=colors.Normalize(vmin=-300,vmax=300.),cmap=plt.cm.bwr) # use log color scale,\n",
    "                     \n",
    "cbar = map.colorbar(cs4,ticks=[-300, -200, -100, 0, 100, 200, 300],location='bottom',pad=\"5%\",extend='both')\n",
    "cbar.ax.set_xlabel('Unit: $year$', fontsize=20, labelpad=0)\n",
    "map.drawparallels(np.arange(-80.,81.,20.))#, labels=[True,True,True,True])\n",
    "map.drawmeridians(np.arange(-180.,181.,20.))#, labels=[True,True,True,True])\n",
    "plt.annotate('(d)', fontsize=24, xy=(0.1, 0.9), xycoords='axes fraction')\n",
    "cbar.ax.tick_params(labelsize=18) \n",
    "\n",
    "#plt.show()\n",
    "plt.savefig('./figures/fig7.png',dpi=300)"
   ]
  },
  {
   "cell_type": "code",
   "execution_count": null,
   "metadata": {},
   "outputs": [],
   "source": [
    "dsoc_top_perm = soc_top_contemp_perm - soc_top_preind_perm\n",
    "dsoc_sub_perm = soc_sub_contemp_perm - soc_sub_preind_perm\n",
    "\n",
    "fig = plt.figure(figsize=(18,10))\n",
    "\n",
    "ax1 = fig.add_subplot(121)\n",
    "#ax1.set_title(\"ISAM 1D topsoil SOC change (kgC/m2)\",fontsize=20,pad=10)\n",
    "map = Basemap(projection='npstere',boundinglat=45,lon_0=0,resolution='l')\n",
    "# draw coastlines, state and country boundaries, edge of map.\n",
    "map.drawcoastlines()\n",
    "#map.drawstates()\n",
    "#map.drawcountries(color='b')\n",
    "lon,lat = np.meshgrid(lonnc,latnc) #Returns coordinate matrices from coordinate vectors\n",
    "x,y = map(lon,lat)\n",
    "clevs = np.power(10.0, np.arange(-1.0,2.5,0.5))\n",
    "cs1 = map.pcolormesh(x,y,dsoc_top_perm[:,:],\n",
    "              norm=colors.Normalize(vmin=-2.,vmax=2.),cmap=plt.cm.bwr) # use log color scale,\n",
    "map.drawparallels(np.arange(-80.,81.,20.))#, labels=[True,True,True,True])\n",
    "map.drawmeridians(np.arange(-180.,181.,20.))#, labels=[True,True,True,True])\n",
    "cbar = map.colorbar(cs1,ticks=[-2, -1, 0, 1, 2],location='bottom',pad=\"5%\",extend='both')\n",
    "cbar.ax.tick_params(labelsize=22) \n",
    "plt.annotate('(a)', fontsize=24, xy=(0.1, 0.9), xycoords='axes fraction')\n",
    "\n",
    "ax2 = fig.add_subplot(122)\n",
    "#ax2.set_title(\"ISAM 1D subsoil SOC change (gC/m2/year)\",fontsize=20,pad=10)\n",
    "map = Basemap(projection='npstere',boundinglat=45,lon_0=0,resolution='l')\n",
    "# draw coastlines, state and country boundaries, edge of map.\n",
    "map.drawcoastlines()\n",
    "#map.drawstates()\n",
    "#map.drawcountries(color='b')\n",
    "cs = map.pcolormesh(x,y,dsoc_sub_perm[:,:],\n",
    "              norm=colors.Normalize(vmin=-2.,vmax=2.),cmap=plt.cm.bwr) # use log color scale,\n",
    "                                                      # omit this to use linear\n",
    "                                                     # color scale\n",
    "map.drawparallels(np.arange(-80.,81.,20.))#, labels=[True,True,True,True])\n",
    "map.drawmeridians(np.arange(-180.,181.,20.))#, labels=[True,True,True,True])\n",
    "cbar = map.colorbar(cs,ticks=[-2, -1, 0, 1, 2],location='bottom',pad=\"5%\",extend='both')\n",
    "cbar.ax.tick_params(labelsize=22) \n",
    "cbar.ax.set_xlabel('Unit: $kgC m^{-2}$', fontsize=20, labelpad=10)\n",
    "plt.annotate('(b)', fontsize=24, xy=(0.1, 0.9), xycoords='axes fraction')\n",
    "\n",
    "# Set one colorbar for both subplots\n",
    "# make an axes to put the shared colorbar in\n",
    "#fig.subplots_adjust(bottom=0.1)\n",
    "#colorbar_axes = plt.gcf().add_axes([0.35, 0.1, 0.3, 0.05])\n",
    "#colorbar = plt.colorbar(cs, colorbar_axes, orientation='horizontal')\n",
    "#colorbar_axes.tick_params(labelsize=20) \n",
    "#colorbar.set_label('Unit: $KgC m^{-2}$', fontsize=24)\n",
    "\n",
    "plt.show()\n",
    "#plt.savefig('./figures/fig7.png',dpi=300)"
   ]
  },
  {
   "cell_type": "code",
   "execution_count": null,
   "metadata": {},
   "outputs": [],
   "source": []
  },
  {
   "cell_type": "code",
   "execution_count": null,
   "metadata": {
    "scrolled": false
   },
   "outputs": [],
   "source": []
  },
  {
   "cell_type": "code",
   "execution_count": null,
   "metadata": {},
   "outputs": [],
   "source": [
    "lonnc2"
   ]
  },
  {
   "cell_type": "code",
   "execution_count": null,
   "metadata": {},
   "outputs": [],
   "source": [
    "lonnc2 % 360\n"
   ]
  }
 ],
 "metadata": {
  "anaconda-cloud": {},
  "kernelspec": {
   "display_name": "Python 2",
   "language": "python",
   "name": "python2"
  },
  "language_info": {
   "codemirror_mode": {
    "name": "ipython",
    "version": 2
   },
   "file_extension": ".py",
   "mimetype": "text/x-python",
   "name": "python",
   "nbconvert_exporter": "python",
   "pygments_lexer": "ipython2",
   "version": "2.7.16"
  }
 },
 "nbformat": 4,
 "nbformat_minor": 1
}
