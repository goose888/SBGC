{
 "cells": [
  {
   "cell_type": "code",
   "execution_count": 1,
   "metadata": {},
   "outputs": [],
   "source": [
    "import pandas as pd\n",
    "import numpy as np\n",
    "import os\n",
    "os.environ['PROJ_LIB'] = '/data/keeling/a/sshu3/anaconda2/share/proj'\n",
    "from mpl_toolkits.basemap import Basemap, cm, shiftgrid,maskoceans\n",
    "import matplotlib.pyplot as plt\n",
    "from netCDF4 import Dataset as NetCDFFile\n",
    "import C14preproc as prep\n",
    "import pylab\n",
    "import C14utils\n",
    "import matplotlib\n",
    "import socplot_lib as socplt\n",
    "import isamcalc_lib as isam\n",
    "import SOCtools as soc\n"
   ]
  },
  {
   "cell_type": "code",
   "execution_count": 95,
   "metadata": {},
   "outputs": [
    {
     "data": {
      "text/plain": [
       "[254, 526]"
      ]
     },
     "execution_count": 95,
     "metadata": {},
     "output_type": "execute_result"
    }
   ],
   "source": [
    "isam.latlon_2_idx(39.3232, -86.4131)"
   ]
  },
  {
   "cell_type": "code",
   "execution_count": null,
   "metadata": {},
   "outputs": [],
   "source": []
  },
  {
   "cell_type": "code",
   "execution_count": 81,
   "metadata": {},
   "outputs": [
    {
     "name": "stdout",
     "output_type": "stream",
     "text": [
      "CA-SJ2\n"
     ]
    }
   ],
   "source": [
    "# =====================================================================\n",
    "#  Plot the simulated SOC profiles for Umakant's samples\n",
    "#  Compare with the observation also\n",
    "# =====================================================================\n",
    "respath = '/data/jain1/c/sshu3/SBGC/runs/gpp_fluxnet/' \n",
    "obspath = '/data/jain1/c/sshu3/SBGC/runs/gpp_fluxnet/obs/'\n",
    "\n",
    "site =  {\n",
    "#     \"CA-Ca1\" : 0,\n",
    "#     \"CA-Ca2\" : 1,\n",
    "#     \"CA-Gro\" : 2,\n",
    "#     \"CA-Let\" : 3,\n",
    "#     \"CA-Mer\" : 4,\n",
    "#     \"CA-NS1\" : 5,\n",
    "#     \"CA-Oas\" : 6,\n",
    "#     \"CA-Obs\" : 7,\n",
    "#     \"CA-Ojp\" : 8,\n",
    "#     \"CA-Qfo\" : 9,\n",
    "#     \"CA-SJ1\" : 10,\n",
    "#     \"CA-SJ2\" : 11,\n",
    "#     \"CA-TP4\" : 12,\n",
    "#     \"LBA-Ban\" : 13,\n",
    "#     \"LBA-Fns\" : 14,\n",
    "#     \"LBA-Km34\" : 15,\n",
    "#     \"LBA-Km67\" : 16,\n",
    "#     \"LBA-Km77\" : 17,\n",
    "#     \"LBA-Km83\" : 18,\n",
    "#     \"LBA-Pdg\" : 19,  \n",
    "#     \"LBA-Rja\" : 20,\n",
    "#     \"US-ARM\" : 21,\n",
    "#     \"US-Atq\" : 22,\n",
    "#     \"US-Brw\" : 23,\n",
    "#     \"US-Dk3\" : 24,\n",
    "#     \"US-Ho1\" : 25,\n",
    "#     \"US-Los\" : 26,\n",
    "#     \"US-Me2\" : 27,\n",
    "#     \"US-Me5\" : 28,\n",
    "#     \"US-NR1\" : 29,\n",
    "#     \"US-SO2\" : 20,\n",
    "#     \"US-Shd\" : 21,\n",
    "#     \"US-Syv\" : 22,\n",
    "#     \"US-Ton\" : 23,\n",
    "#     \"US-Var\" : 24,\n",
    "#     \"US-WCr\" : 25,\n",
    "}\n",
    "\n",
    "siteyear =  [7,4,1,8,6,4,8,5,5,1,3,2,3,1,3,3,3,4,3,3,3,5,2,1,7,9,5,3,4,7,7,4,4,4,5,7]\n",
    "\n",
    "for siteid, ind in site.items():\n",
    "    print(siteid)\n",
    "    fname='/site_daily_2_pft.txt'\n",
    "    mod_fname=respath+siteid+fname\n",
    "    data = pd.read_csv(mod_fname,delim_whitespace=True,header=None)\n",
    "    sz = np.shape(data)\n",
    "    mod_gpp = data.values[(sz[0]-siteyear[ind]*365):sz[0],2]\n",
    "\n",
    "    obs_fname=obspath+siteid+'_GPP.txt'\n",
    "    data = pd.read_csv(obs_fname,delim_whitespace=True)\n",
    "    sz = np.shape(data)\n",
    "    obsdata = data.values[:,2]\n",
    "    obsdata[obsdata<-100] = np.float('nan')\n",
    "    obsdata = obsdata*0.0216\n",
    "    # Aggregate to daily\n",
    "    lenz = sz[0]/48\n",
    "    obs_gpp = np.zeros((lenz))\n",
    "    for i in np.arange(0,lenz):\n",
    "        obs_gpp[i] = np.nansum(obsdata[(i*48):(i*48+48)])   \n",
    "        "
   ]
  },
  {
   "cell_type": "code",
   "execution_count": 50,
   "metadata": {},
   "outputs": [
    {
     "data": {
      "text/plain": [
       "0.0216"
      ]
     },
     "execution_count": 50,
     "metadata": {},
     "output_type": "execute_result"
    }
   ],
   "source": [
    "1e-6*12*1800"
   ]
  },
  {
   "cell_type": "code",
   "execution_count": 82,
   "metadata": {},
   "outputs": [
    {
     "data": {
      "text/plain": [
       "[<matplotlib.lines.Line2D at 0x2b7b334de390>]"
      ]
     },
     "execution_count": 82,
     "metadata": {},
     "output_type": "execute_result"
    },
    {
     "data": {
      "image/png": "[encoded data removed]",
      "text/plain": [
       "<Figure size 432x288 with 1 Axes>"
      ]
     },
     "metadata": {
      "needs_background": "light"
     },
     "output_type": "display_data"
    }
   ],
   "source": [
    "plt.plot(mod_gpp)\n",
    "plt.plot(obs_gpp)"
   ]
  },
  {
   "cell_type": "code",
   "execution_count": null,
   "metadata": {},
   "outputs": [],
   "source": [
    "obs.NPP_adj.as_matrix()"
   ]
  },
  {
   "cell_type": "code",
   "execution_count": null,
   "metadata": {},
   "outputs": [],
   "source": [
    "obs.Latitude.as_matrix()"
   ]
  },
  {
   "cell_type": "code",
   "execution_count": null,
   "metadata": {},
   "outputs": [],
   "source": [
    "plt.figure(figsize=(10,6))\n",
    "plt.xlim([0,600])\n",
    "plt.ylim([0,600])\n",
    "plt.xlabel('SRDB NPP ($gC/m^2$)', fontsize=20)\n",
    "plt.ylabel('ISAM-1D NPP ($gC/m^2$)', fontsize=20)\n",
    "#plt.scatter(obs.NPP.as_matrix()[lc_code==3], isam_1d_res[lc_code==3], color='orange')\n",
    "#plt.scatter(obs.NPP.as_matrix()[lc_code==4], isam_1d_res[lc_code==4], color='red')\n",
    "plt.scatter(obs.NPP_adj.as_matrix()[lc_code==5], isam_1d_res[lc_code==5], color='green')\n",
    "#plt.scatter(obs.NPP.as_matrix()[lc_code==20], isam_1d_res[lc_code==20], color='cyan')\n",
    "#plt.scatter(obs.NPP.as_matrix()[lc_code==7], isam_1d_res[lc_code==7], color='blue')\n",
    "#plt.scatter(obs.NPP.as_matrix()[lc_code==8], isam_1d_res[lc_code==8], color='black')\n",
    "#plt.scatter(obs.NPP.as_matrix()[lc_code==12], isam_1d_res[lc_code==12], color='pink')\n",
    "#plt.legend(['Temperate_evergreen', 'Temperate_deciduous', 'Boreal_evergreen', 'Boreal_deciduous', 'Grassland', 'Shrubland', 'Cropland'])\n",
    "plt.savefig('./figures/fig_srdb_1d_npp.png')"
   ]
  },
  {
   "cell_type": "code",
   "execution_count": null,
   "metadata": {},
   "outputs": [],
   "source": [
    "obs.NPP.as_matrix()[lc_code==5]"
   ]
  },
  {
   "cell_type": "code",
   "execution_count": null,
   "metadata": {},
   "outputs": [],
   "source": [
    "isam_1d_res[lc_code==5]"
   ]
  },
  {
   "cell_type": "code",
   "execution_count": null,
   "metadata": {},
   "outputs": [],
   "source": [
    "plt.figure(figsize=(10,6))\n",
    "plt.xlim([0,1200])\n",
    "plt.ylim([0,1200])\n",
    "plt.xlabel('SRDB NPP ($gC/m^2$)', fontsize=20)\n",
    "plt.ylabel('ISAM-0D NPP ($gC/m^2$)', fontsize=20)\n",
    "plt.scatter(obs.NPP.as_matrix()[lc_code==3], isam_0d_res[lc_code==3], color='orange')\n",
    "plt.scatter(obs.NPP.as_matrix()[lc_code==4], isam_0d_res[lc_code==4], color='red')\n",
    "plt.scatter(obs.NPP.as_matrix()[lc_code==5], isam_0d_res[lc_code==5], color='green')\n",
    "plt.scatter(obs.NPP.as_matrix()[lc_code==20], isam_0d_res[lc_code==20], color='cyan')\n",
    "plt.scatter(obs.NPP.as_matrix()[lc_code==7], isam_0d_res[lc_code==7], color='blue')\n",
    "plt.scatter(obs.NPP.as_matrix()[lc_code==8], isam_0d_res[lc_code==8], color='black')\n",
    "plt.scatter(obs.NPP.as_matrix()[lc_code==12], isam_0d_res[lc_code==12], color='pink')\n",
    "plt.legend(['Temperate_evergreen', 'Temperate_deciduous', 'Boreal_evergreen', 'Boreal_deciduous', 'Grassland', 'Shrubland', 'Cropland'])\n",
    "plt.savefig('./figures/fig_srdb_0d_npp.png')"
   ]
  },
  {
   "cell_type": "code",
   "execution_count": null,
   "metadata": {},
   "outputs": [],
   "source": [
    "# Boxplot of the total SOC in the first 1m\n",
    "# Shijie: Shall filter out peat before plotting!\n",
    "srdb = obs.Rh_annual.as_matrix().astype('float')\n",
    "srdb[np.isnan(isam_1d_res)] = np.float('nan')\n",
    "#data_for_bplot = [isam_0d_res, isam_1d_res, obs.Rh_annual.as_matrix()]\n",
    "\n",
    "data_for_bplot = [isam_0d_res[~np.isnan(isam_0d_res)], isam_1d_res[~np.isnan(isam_1d_res)], srdb[~np.isnan(srdb)]]\n",
    "\n",
    "# multiple box plots on one figure\n",
    "plt.figure(figsize=(24,15))\n",
    "boxprops = dict(linestyle='-', linewidth=4, color='darkgoldenrod')\n",
    "flierprops = dict(marker='o', markerfacecolor='green', markersize=18,\n",
    "                  linestyle='none')\n",
    "medianprops = dict(linestyle='-.', linewidth=2.5, color='firebrick')\n",
    "meanprops = dict(marker='^', markerfacecolor='blue', markersize=18,\n",
    "                  linestyle='none')\n",
    "#meanlineprops = dict(linestyle='--', linewidth=2.5, color='purple')\n",
    "\n",
    "plt.boxplot(data_for_bplot, boxprops=boxprops, flierprops=flierprops, \\\n",
    "           medianprops=medianprops, meanprops=meanprops, showmeans=True) #, meanlineprops=meanlineprops)\n",
    "plt.xticks([1, 2, 3], ['ISAM-0D', 'ISAM-1D', 'OBS (SRDB)'], fontsize=30)\n",
    "plt.yticks([0, 100, 200, 300, 400, 500, 600, 700, 800, 900, 1000], fontsize=30)\n",
    "#plt.xlim((0, 9))\n",
    "#plt.ylim((-500, 500))\n",
    "#plt.xlabel('xlabel')\n",
    "plt.ylabel('Heterotrophic Respiration ($gC/m^2$)', fontsize=30)\n",
    "plt.grid(color='gray', which='major', axis='both', alpha=0.3)\n",
    "plt.minorticks_on()\n",
    "#plt.axhline((np.nanmean(data_for_bplot[2])+np.nanmean(data_for_bplot[3]))/2, color=\"gray\", linestyle= 'dashdot')\n",
    "plt.tick_params(axis='x',which='major',direction='in',length=8, width=2)\n",
    "plt.tick_params(axis='x',which='minor',bottom='off')\n",
    "plt.tick_params(axis='y',which='major',direction='in',length=8, width=2)\n",
    "plt.tick_params(axis='y',which='minor',direction='in',length=3)\n",
    "plt.tick_params(axis=\"x\", which=\"major\", top=True)\n",
    "plt.tick_params(axis=\"y\", which=\"both\", right=True)\n",
    "plt.tick_params(axis='x', pad=20)\n",
    "\n",
    "plt.show()\n",
    "#plt.savefig('./figures/fig_rh.png')"
   ]
  },
  {
   "cell_type": "code",
   "execution_count": null,
   "metadata": {},
   "outputs": [],
   "source": [
    "# NPP vs latitudes (Photo-period)\n",
    "ppp = ~np.isnan(isam_1d_res[lc_code==5])\n",
    "lats_npp = obs.Latitude.as_matrix()[lc_code==5][ppp]\n",
    "lons_npp = obs.Longitude.as_matrix()[lc_code==5][ppp]\n",
    "plt.scatter(lats_npp, isam_1d_res[lc_code==5][ppp], color='red')\n",
    "plt.scatter(lats_npp, obs.NPP.as_matrix()[lc_code==5][ppp], color='green')\n",
    "plt.savefig('Photoperiod.png')"
   ]
  },
  {
   "cell_type": "code",
   "execution_count": null,
   "metadata": {},
   "outputs": [],
   "source": [
    "# NPP vs temperature\n",
    "ppp = ~np.isnan(isam_1d_res[lc_code==5])\n",
    "#tas_npp = obs.MAT.as_matrix()[lc_code==5][ppp]\n",
    "plt.scatter(isam_1d_tas[lc_code==5][ppp], isam_1d_res[lc_code==5][ppp], color='red')\n",
    "plt.scatter(isam_1d_tas[lc_code==5][ppp], obs.NPP.as_matrix()[lc_code==5][ppp], color='green')\n",
    "plt.legend(['ISAM simulation', 'Obs'])\n",
    "plt.savefig('AirTemperature.png')"
   ]
  },
  {
   "cell_type": "code",
   "execution_count": null,
   "metadata": {},
   "outputs": [],
   "source": [
    "lats_npp"
   ]
  },
  {
   "cell_type": "code",
   "execution_count": null,
   "metadata": {},
   "outputs": [],
   "source": [
    "isam_1d_res[lc_code==5][ppp]"
   ]
  },
  {
   "cell_type": "code",
   "execution_count": null,
   "metadata": {},
   "outputs": [],
   "source": [
    "obs.NPP.as_matrix()[lc_code==5][ppp]"
   ]
  },
  {
   "cell_type": "code",
   "execution_count": null,
   "metadata": {},
   "outputs": [],
   "source": []
  },
  {
   "cell_type": "code",
   "execution_count": null,
   "metadata": {},
   "outputs": [],
   "source": []
  },
  {
   "cell_type": "code",
   "execution_count": null,
   "metadata": {},
   "outputs": [],
   "source": [
    "# ===============================================\n",
    "# plot the locations of all samples\n",
    "# ===============================================\n",
    "\n",
    "fig = plt.figure(figsize=(20,12))\n",
    "#ax = fig.add_axes([0.05,0.05,0.9,0.9])\n",
    "# Polar Lambert Azimuthal Projection\n",
    "m = Basemap(projection='npstere',boundinglat=45,lon_0=0,resolution='l')\n",
    "#m = Basemap(projection='nplaea',boundinglat=40.,lon_0=270.,resolution='l')\n",
    "m.drawcoastlines()\n",
    "m.fillcontinents(color='coral',lake_color='aqua',zorder=0)\n",
    "# draw parallels and meridians.\n",
    "m.drawparallels(np.arange(45.,90.,15.))\n",
    "m.drawmeridians(np.arange(-180.,180.,20.))\n",
    "m.drawmapboundary(fill_color='aqua')\n",
    "#ax = plt.gca()\n",
    "\n",
    "# # Overlay the permafrost status map\n",
    "# lon_p,lat_p = np.meshgrid(lonnc,latnc) #Returns coordinate matrices from coordinate vectors\n",
    "# x, y = m(lon_p,lat_p)\n",
    "\n",
    "# # Create new cmap for permafrost\n",
    "# cmap_name = 'Permafrost'\n",
    "# colors = [(0.937, 0.965, 1), (0.282, 0.373, 0.537), (0.278, 0.478, 0.686), (0.278, 0.576, 0.922), (0.588, 0.757, 0.922),\n",
    "#           (0.918, 0.886, 0.741)]\n",
    "# n_bin = 6\n",
    "# newcm = LinearSegmentedColormap.from_list(cmap_name, colors, N=n_bin)\n",
    "\n",
    "# #djet.set_bad('white',1.)\n",
    "\n",
    "# # cs1 = map.contourf(x,y,mdata,clevs,cmap=plt.cm.jet)\n",
    "# # cs1 = map.contourf(x,y,ncvar_maize[:,:], [100], colors=\"black\")\n",
    "# cs = m.pcolormesh(x,y,p[:,:], cmap=newcm, edgecolors = 'None') # use log color scale,\n",
    "#                                                       # omit this to use linear\n",
    "#                                                      # color scale\n",
    "# cbar = m.colorbar(cs,location='right',pad=\"5%\",ticks=None,extend='neither')\n",
    "# #plt.title('Maize harvested area fraction')\n",
    "# cbar.set_ticks([])\n",
    "# #cbar.ax.set_xticklabels(['', '', '', '', '', ''])\n",
    "# #cbar.ax.tick_params(labelsize=18) \n",
    "\n",
    "# m.fillcontinents(color='grey',lake_color='#99ffff',zorder=0)\n",
    "# First add Mishra's data\n",
    "x, y = m(lons_npp, lats_npp)\n",
    "m.scatter(x,y,20,marker='o',color='r',label='Boreal Evergreen')#,alpha=0.7)#,latlon=True)\n",
    "# Then add He's data\n",
    "plt.legend(scatterpoints=1,loc=1, prop={'size': 18})\n",
    "\n",
    "#ax.set_title('Profile Sites')\n",
    "plt.title(' ')\n",
    "plt.show()\n",
    "\n",
    "#fig.savefig('./Shu2018_Fig2.png')"
   ]
  },
  {
   "cell_type": "code",
   "execution_count": null,
   "metadata": {},
   "outputs": [],
   "source": []
  },
  {
   "cell_type": "code",
   "execution_count": null,
   "metadata": {},
   "outputs": [],
   "source": [
    "# =====================================================================\n",
    "# Optional\n",
    "# =====================================================================\n",
    "# 2) The comparison of the accumulated SOC profile\n",
    "obs_aggprof_avg = np.nanmean(obs_agg_prof, axis=0)\n",
    "mod_aggprof_avg = np.nanmean(mod_agg_prof, axis=0)\n",
    "obs_aggprof_std = np.nanstd(obs_isam*dz, axis=0)\n",
    "mod_aggprof_std = np.nanstd(mod_isam*dz, axis=0)\n",
    "obs_aggprof_avg[9] = float(\"nan\")\n",
    "obs_aggprof_std[9] = float(\"nan\")\n",
    "mod_aggprof_std[:] = 0.\n",
    "obs_aggprof_std = obs_aggprof_std #/np.sqrt(146.)  # 146 is the sample size\n",
    "mod_aggprof_std = mod_aggprof_std #/np.sqrt(146.)  # 146 is the sample size\n",
    "\n",
    "soildp = z[0:8]*100\n",
    "#tit = \"Accumulated SOC profile\"\n",
    "tit = \"\"\n",
    "path = \"./figures/fig5/Um_SOC_profile.png\"\n",
    "\n",
    "kwargs = {'Xobs': obs_aggprof_avg[0:8], 'Yobs': soildp, 'Xmod': mod_aggprof_avg[0:8], 'Ymod': soildp,\n",
    "          'Xobs_std': obs_aggprof_std[0:8], 'Xmod_std': mod_aggprof_std[0:8], 'tit': ' ', 'path': path}\n",
    "\n",
    "# Figure with std as error bar\n",
    "status = socplt.plot_obsvsmod_with_errbar(**kwargs)\n"
   ]
  },
  {
   "cell_type": "code",
   "execution_count": null,
   "metadata": {},
   "outputs": [],
   "source": [
    "# =====================================================================\n",
    "# Optional\n",
    "# =====================================================================\n",
    "# 3) The comparison of the accumulated SOC profile by different biomes\n",
    "# Pick one biome and run the code once at a time\n",
    "# 5 biomes in total:\n",
    "# 7 - grassland\n",
    "# 8 - shrub\n",
    "# 9 - tundra\n",
    "# 5 - boreal evergreen\n",
    "# 20 - boreal deciduous\n",
    "obs_agg_prof_pft = obs_agg_prof[mod_biome.index == 7]\n",
    "mod_agg_prof_pft = 1.7*mod_agg_prof[mod_biome.index == 7]\n",
    "obs_aggprof_avg = np.nanmean(obs_agg_prof_pft, axis=0)\n",
    "mod_aggprof_avg = np.nanmean(mod_agg_prof_pft, axis=0)\n",
    "obs_aggprof_std = np.nanstd(obs_isam[mod_biome.index == 7]*dz, axis=0)\n",
    "mod_aggprof_std = np.nanstd(mod_isam[mod_biome.index == 7]*dz, axis=0)\n",
    "obs_aggprof_avg[9] = float(\"nan\")\n",
    "obs_aggprof_std[9] = float(\"nan\")\n",
    "mod_aggprof_std[:] = 0.\n",
    "obs_aggprof_std = obs_aggprof_std #/np.sqrt(146.)  # 146 is the sample size\n",
    "mod_aggprof_std = mod_aggprof_std #/np.sqrt(146.)  # 146 is the sample size\n",
    "\n",
    "soildp = z[0:8]*100\n",
    "#tit = \"Accumulated SOC profile\"\n",
    "tit = \"\"\n",
    "path = \"./SOC_grassland_profile.png\"\n",
    "\n",
    "status = socplt.plot_obsvsmod_with_errbar(obs_aggprof_avg[0:8], soildp, mod_aggprof_avg[0:8], soildp, obs_aggprof_std[0:8], mod_aggprof_std[0:8], tit, path)\n"
   ]
  },
  {
   "cell_type": "code",
   "execution_count": null,
   "metadata": {},
   "outputs": [],
   "source": [
    "# =====================================================================\n",
    "#  Plot the simulated 1-m integrated D14C profiles for Umakant's samples\n",
    "#  Compare with the others?\n",
    "# =====================================================================\n",
    "# ==========================================\n",
    "## Recalculate the Tau for 1-D ISAM model\n",
    "# ==========================================\n",
    "N_sample=197\n",
    "fmod_pid = \"caselist_197sites\"\n",
    "fmod_biome = \"pftlist_197sites\"\n",
    "fmod = \"isam_um_dc14.dat\"\n",
    "fmod_soc = \"isam_um_soc.dat\"\n",
    "\n",
    "# Read in D14C from observation\n",
    "data = pd.read_csv(fmod, delim_whitespace=True, header=None)\n",
    "pid = pd.read_csv(fmod_pid, header=None, index_col=0)\n",
    "data.index = pid.index\n",
    "\n",
    "# Read in the SOC profile\n",
    "dsoc = pd.read_csv(fmod_soc, delim_whitespace=True, header=None)\n",
    "dsoc.index = pid.index\n",
    "soc = dsoc.as_matrix()\n",
    "frac = soc * np.float(\"nan\")\n",
    "for i in np.arange(0,7):\n",
    "    frac[:,i] = soc[:,i]/(np.sum(soc[:,0:7], axis=1)+0.3*soc[:,7])\n",
    "frac[:,7] = 0.3*soc[:,7]/(np.sum(soc[:,0:7], axis=1)+0.3*soc[:,7])\n",
    "    \n",
    "# Assign Nan value for the all the data with -9999.\n",
    "data[data<-1200.] = float(\"nan\")\n",
    "# Get the C-weighted D14\n",
    "d14c = np.nansum(frac * data, axis=1)\n",
    "d14c[d14c==0.]=np.float(\"nan\")\n",
    "\n",
    "# Calculate tau\n",
    "z, dz, zsoih = isam.get_isam_soildp(10)\n",
    "# First get the C-weighted mean D14C for each profile\n",
    " \n",
    "sampleyr = 2010 * np.ones(len(d14c))\n",
    "\n",
    "tau, cost = C14utils.cal_tau(d14c, sampleyr, 1, 0)\n",
    "# Not showing too extreme anomalies\n",
    "tau[tau>=4.00000000e+03] = np.float(\"nan\")\n",
    "data['tau'] = pd.Series(tau[:,0], index=data.index)\n",
    "data.nodedepth = z*100\n",
    "#tau=np.loadtxt(\"isam_um_tau.csv\")\n",
    "ttt=tau.reshape(N_sample)\n",
    "\n",
    "# ==========================================\n",
    "## Recalculate the Tau for 0-D ISAM model\n",
    "# ==========================================\n",
    "fmod_pid = \"caselist_197sites\"\n",
    "fmod_biome = \"pftlist_197sites\"\n",
    "fmod = \"isam_0d_dc14.dat\"\n",
    "fmod_soc = \"isam_0d_soc.dat\"\n",
    "\n",
    "# Read in D14C from observation\n",
    "data0d = pd.read_csv(fmod, delim_whitespace=True, header=None)\n",
    "pid = pd.read_csv(fmod_pid, header=None, index_col=0)\n",
    "data0d.index = pid.index\n",
    "\n",
    "# Read in the SOC profile\n",
    "dsoc = pd.read_csv(fmod_soc, delim_whitespace=True, header=None)\n",
    "dsoc.index = pid.index\n",
    "soc0d = dsoc.as_matrix()\n",
    "\n",
    "# Assign Nan value for the all the data with -9999.\n",
    "data0d[data0d<-1200.] = float(\"nan\")\n",
    "# Get the C-weighted D14\n",
    "d14c0d = np.nansum(data0d, axis=1)\n",
    "d14c0d[d14c0d==0.]=np.float(\"nan\")\n",
    "\n",
    "# Calculate tau\n",
    "z, dz, zsoih = isam.get_isam_soildp(10)\n",
    "# First get the C-weighted mean D14C for each profile\n",
    " \n",
    "sampleyr = 2010 * np.ones(len(d14c0d[0:N_sample]))\n",
    "\n",
    "tau0, cost = C14utils.cal_tau(d14c0d[0:N_sample], sampleyr, 1, 0)\n",
    "# Not showing too extreme anomalies\n",
    "tau0[tau0>=4.00000000e+03] = np.float(\"nan\")\n",
    "data['tau'] = pd.Series(tau0[:,0], index=data.index)\n",
    "data.nodedepth = z*100\n",
    "ttt0=tau0.reshape(N_sample)\n",
    "\n",
    "# ==========================================\n",
    "## Site level estimations of Tau\n",
    "# ==========================================\n",
    "# Schadel et al., 2014\n",
    "tau_org = 98.95\n",
    "tau_min = 2350.443\n",
    "# Assume the same fraction of organic vs mineral\n",
    "tau_comb = 0.5*tau_org + 0.5*tau_min \n",
    "ttt_o = [tau_org, tau_min, tau_comb]\n",
    "\n",
    "# Knoblauch et al., 2013\n",
    "tau_a = 0.26*0.0222+170.3*0.9778\n",
    "tau_ana = 0.21*0.0064+2652*0.9936\n",
    "# Assume the same fraction of organic vs mineral\n",
    "tau_comb = 0.5*tau_a + 0.5*tau_ana \n",
    "ttt_o2 = [tau_a, tau_ana, tau_comb]\n",
    "\n",
    "# Trumbore and Harden, 1997\n",
    "\n",
    "tau_s1 = 62.24605043\n",
    "tau_s2 = 1017.085308\n",
    "#tau_s3 = 1068.201909\n",
    "tau_s3 = 2485.23\n",
    "#ttt_o3 = [tau_s1, tau_s2, tau_s3, tau_s4]\n",
    "ttt_o3 = [tau_s1, tau_s2, tau_s3]\n",
    "\n",
    "lit_all = ttt_o + ttt_o2 + ttt_o3\n",
    "mean_lit = np.nanmean(lit_all)\n",
    "\n",
    "\n",
    "data_bplot = [ttt[~np.isnan(ttt)], ttt0[~np.isnan(ttt0)], ttt_o, ttt_o2, ttt_o3]\n",
    "\n",
    "# Plot boxplot for tau\n",
    "plt.figure(figsize=(24,15))\n",
    "boxprops = dict(linestyle='-', linewidth=4, color='darkgoldenrod')\n",
    "flierprops = dict(marker='o', markerfacecolor='green', markersize=18,\n",
    "                  linestyle='none')\n",
    "medianprops = dict(linestyle='-.', linewidth=2.5, color='firebrick')\n",
    "meanprops = dict(marker='^', markerfacecolor='blue', markersize=18,\n",
    "                  linestyle='none')\n",
    "plt.boxplot(data_bplot,  boxprops=boxprops, flierprops=flierprops, \\\n",
    "           medianprops=medianprops, meanprops=meanprops, showmeans=True)\n",
    "plt.xticks([1,2,3,4,5], ['ISAM-1D', 'ISAM-0D', 'Schadel et al.\\n 2014', \\\n",
    "                         'Knoblauch et al.\\n 2013', 'Trumbore and \\n Harden, 1997'], fontsize=30)\n",
    "#plt.boxplot(data_bplot,  boxprops=boxprops, flierprops=flierprops, \\\n",
    "#           medianprops=medianprops, meanprops=meanprops, showmeans=True)\n",
    "# Add the line representing the mean value\n",
    "plt.grid(color='gray', which='major', axis='both', alpha=0.3)\n",
    "plt.minorticks_on()\n",
    "plt.tick_params(axis='x',which='major',direction='in',length=8, width=2)\n",
    "plt.tick_params(axis='x',which='minor',bottom='off')\n",
    "plt.tick_params(axis='y',which='major',direction='in',length=8, width=2)\n",
    "plt.tick_params(axis='y',which='minor',direction='in',length=3)\n",
    "plt.tick_params(axis=\"x\", which=\"major\", top=True)\n",
    "plt.tick_params(axis=\"y\", which=\"both\", right=True)\n",
    "plt.tick_params(axis='x', pad=20)\n",
    "plt.ylabel('Turnover Time ($year$)', fontsize=30)\n",
    "plt.axhline(mean_lit, color=\"gray\", linestyle= 'dashdot')\n",
    "plt.yticks([0, 500, 1000, 1500, 2000, 2500, 3000, 3500, 4000], fontsize=30)\n",
    "plt.text(0.65, 3600, \"(b)\", fontsize=32)\n",
    "\n",
    "plt.show()\n",
    "#plt.savefig('./figures/fig5/fig5b.png')\n"
   ]
  },
  {
   "cell_type": "code",
   "execution_count": null,
   "metadata": {},
   "outputs": [],
   "source": [
    "np.nanmean(data_bplot[0])"
   ]
  },
  {
   "cell_type": "code",
   "execution_count": null,
   "metadata": {},
   "outputs": [],
   "source": [
    "np.nanmean(data_bplot[1])"
   ]
  },
  {
   "cell_type": "code",
   "execution_count": null,
   "metadata": {},
   "outputs": [],
   "source": [
    "frac[41,:]"
   ]
  },
  {
   "cell_type": "code",
   "execution_count": null,
   "metadata": {},
   "outputs": [],
   "source": [
    "soc[41,:]"
   ]
  }
 ],
 "metadata": {
  "kernelspec": {
   "display_name": "Python 2",
   "language": "python",
   "name": "python2"
  },
  "language_info": {
   "codemirror_mode": {
    "name": "ipython",
    "version": 2
   },
   "file_extension": ".py",
   "mimetype": "text/x-python",
   "name": "python",
   "nbconvert_exporter": "python",
   "pygments_lexer": "ipython2",
   "version": "2.7.16"
  }
 },
 "nbformat": 4,
 "nbformat_minor": 2
}
