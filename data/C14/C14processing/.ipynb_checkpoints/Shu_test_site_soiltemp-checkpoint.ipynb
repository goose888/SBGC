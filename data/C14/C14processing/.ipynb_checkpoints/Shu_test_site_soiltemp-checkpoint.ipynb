{
 "cells": [
  {
   "cell_type": "code",
   "execution_count": 1,
   "metadata": {},
   "outputs": [],
   "source": [
    "import os\n",
    "os.environ['PROJ_LIB'] = '/data/keeling/a/sshu3/anaconda2/share/proj'\n",
    "from mpl_toolkits.basemap import Basemap, cm, shiftgrid,maskoceans\n",
    "from netCDF4 import Dataset as NetCDFFile\n",
    "import numpy as np\n",
    "import pandas as pd\n",
    "import numpy.ma as ma\n",
    "import matplotlib.pyplot as plt\n",
    "from matplotlib import colors, ticker\n",
    "import numpy.ma as ma\n",
    "from scipy.interpolate import griddata\n",
    "from pyresample import geometry,image, kd_tree\n",
    "import copy\n",
    "import isamcalc_lib as isam"
   ]
  },
  {
   "cell_type": "code",
   "execution_count": 2,
   "metadata": {},
   "outputs": [],
   "source": [
    "# Open site temprature\n",
    "path='/data/jain1/c/sshu3/SBGC/data/C14/C14processing/examine_soilt/'\n",
    "fname='boreal_at.txt'\n",
    "obs_fname=path+fname\n",
    "data = pd.read_csv(obs_fname,delim_whitespace=True,header=None)\n",
    "at_boreal = data.values[:,0]\n",
    "pr_boreal = data.values[:,1]\n",
    "srad_boreal = data.values[:,2]\n",
    "lrad_boreal = data.values[:,3]\n",
    "\n",
    "fname='boreal_st.txt'\n",
    "obs_fname=path+fname\n",
    "data = pd.read_csv(obs_fname,delim_whitespace=True,header=None)\n",
    "st_boreal = data.values[:,5:15]\n",
    "sw_boreal = data.values[:,0:5]\n",
    "sw_boreal[sw_boreal<=0] = np.float('nan')\n",
    "\n",
    "fname='boreal_ice.txt'\n",
    "obs_fname=path+fname\n",
    "data = pd.read_csv(obs_fname,delim_whitespace=True,header=None)\n",
    "ice_boreal = data.values[:,5:15]\n",
    "\n",
    "fname='boreal_sw.txt'\n",
    "obs_fname=path+fname\n",
    "data = pd.read_csv(obs_fname,delim_whitespace=True,header=None)\n",
    "sm_boreal = data.values[:,5:15]\n",
    "\n",
    "fname='boreal_rh.txt'\n",
    "obs_fname=path+fname\n",
    "data = pd.read_csv(obs_fname,delim_whitespace=True,header=None)\n",
    "rh_boreal = data.values[:,0:10]\n",
    "\n",
    "fname='boreal_energy.txt'\n",
    "obs_fname=path+fname\n",
    "data = pd.read_csv(obs_fname,delim_whitespace=True,header=None)\n",
    "grndf_boreal = data.values[:,8]\n",
    "\n",
    "fname='tundra_at.txt'\n",
    "obs_fname=path+fname\n",
    "data = pd.read_csv(obs_fname,delim_whitespace=True,header=None)\n",
    "at_tundra = data.values[:,0]\n",
    "pr_tundra = data.values[:,1]\n",
    "srad_tundra = data.values[:,2]\n",
    "lrad_tundra = data.values[:,3]\n",
    "\n",
    "fname='tundra_st.txt'\n",
    "obs_fname=path+fname\n",
    "data = pd.read_csv(obs_fname,delim_whitespace=True,header=None)\n",
    "st_tundra = data.values[:,5:15]\n",
    "sw_tundra = data.values[:,0:5]\n",
    "sw_tundra[sw_tundra<=0] = np.float('nan')\n",
    "\n",
    "fname='tundra_ice.txt'\n",
    "obs_fname=path+fname\n",
    "data = pd.read_csv(obs_fname,delim_whitespace=True,header=None)\n",
    "ice_tundra = data.values[:,5:15]\n",
    "\n",
    "fname='tundra_sw.txt'\n",
    "obs_fname=path+fname\n",
    "data = pd.read_csv(obs_fname,delim_whitespace=True,header=None)\n",
    "sm_tundra = data.values[:,5:15]\n",
    "\n",
    "fname='tundra_rh.txt'\n",
    "obs_fname=path+fname\n",
    "data = pd.read_csv(obs_fname,delim_whitespace=True,header=None)\n",
    "rh_tundra = data.values[:,0:10]\n",
    "\n",
    "fname='tundra_energy.txt'\n",
    "obs_fname=path+fname\n",
    "data = pd.read_csv(obs_fname,delim_whitespace=True,header=None)\n",
    "grndf_tundra = data.values[:,8]\n"
   ]
  },
  {
   "cell_type": "code",
   "execution_count": null,
   "metadata": {},
   "outputs": [],
   "source": [
    "np.shape(st_boreal[:,0:8])"
   ]
  },
  {
   "cell_type": "code",
   "execution_count": null,
   "metadata": {},
   "outputs": [],
   "source": [
    "np.shape([1,1,1,1,1,1,1,1])"
   ]
  },
  {
   "cell_type": "code",
   "execution_count": 3,
   "metadata": {},
   "outputs": [],
   "source": [
    "soilt_boreal = np.zeros((np.shape(st_boreal[:,0:8])[0]))\n",
    "soilt_tundra = np.zeros((np.shape(st_boreal[:,0:8])[0]))\n",
    "\n",
    "# Calculate the mean of every 10 years\n",
    "at_boreal_series = np.zeros((15))\n",
    "at_tundra_series = np.zeros((15))\n",
    "st_boreal_series = np.zeros((15))\n",
    "st_tundra_series = np.zeros((15))\n",
    "\n",
    "# Calcualte the 1-m mean SoilT\n",
    "for i in np.arange(0,np.shape(st_boreal[:,0:8])[0]):\n",
    "    soilt_boreal[i] = isam.avg_wt_1m_soil([1,1,1,1,1,1,1,1], st_boreal[i,0:8])\n",
    "    soilt_tundra[i] = isam.avg_wt_1m_soil([1,1,1,1,1,1,1,1], st_tundra[i,0:8])\n",
    "\n",
    "for t in np.arange(0,15):\n",
    "    at_boreal_series[t] = np.mean(at_boreal[(t*3650):(t*3650+3650)])\n",
    "    at_tundra_series[t] = np.mean(at_tundra[(t*3650):(t*3650+3650)])\n",
    "    st_boreal_series[t] = np.mean(soilt_boreal[(t*3650):(t*3650+3650)])\n",
    "    st_tundra_series[t] = np.mean(soilt_tundra[(t*3650):(t*3650+3650)])"
   ]
  },
  {
   "cell_type": "code",
   "execution_count": null,
   "metadata": {},
   "outputs": [],
   "source": [
    "soilt_boreal = np.zeros((np.shape(st_boreal[:,0:8])[0]))\n",
    "soilt_tundra = np.zeros((np.shape(st_boreal[:,0:8])[0]))\n",
    "\n",
    "# Calcualte the 1-m mean SoilT\n",
    "for i in np.arange(0,np.shape(st_boreal[:,0:8])[0]):\n",
    "    soilt_boreal[i] = isam.avg_wt_1m_soil([1,1,1,1,1,1,1,1], st_boreal[i,0:8])\n",
    "    soilt_tundra[i] = isam.avg_wt_1m_soil([1,1,1,1,1,1,1,1], st_tundra[i,0:8])\n",
    "\n",
    "# Calculate the mean of every years\n",
    "at_boreal_series = np.zeros((150))\n",
    "at_tundra_series = np.zeros((150))\n",
    "st_boreal_series = np.zeros((150))\n",
    "st_tundra_series = np.zeros((150))\n",
    "\n",
    "# Summer only\n",
    "for t in np.arange(0,150):\n",
    "    at_boreal_series[t] = np.mean(at_boreal[(t*365+150):(t*365+220)])\n",
    "    at_tundra_series[t] = np.mean(at_tundra[(t*365+150):(t*365+220)])\n",
    "    st_boreal_series[t] = np.mean(soilt_boreal[(t*365+150):(t*365+220)])\n",
    "    st_tundra_series[t] = np.mean(soilt_tundra[(t*365+150):(t*365+220)])\n",
    "    \n",
    "# Get every 10 years for summer\n",
    "at_boreal_decade = np.zeros((15))\n",
    "at_tundra_decade = np.zeros((15))\n",
    "st_boreal_decade = np.zeros((15))\n",
    "st_tundra_decade = np.zeros((15))\n",
    "for t in np.arange(0,15):\n",
    "    # Summer only\n",
    "    at_boreal_decade[t] = np.mean(at_boreal_series[(t*10):(t*10+10)])\n",
    "    at_tundra_decade[t] = np.mean(at_tundra_series[(t*10):(t*10+10)])\n",
    "    st_boreal_decade[t] = np.mean(st_boreal_series[(t*10):(t*10+10)])\n",
    "    st_tundra_decade[t] = np.mean(st_tundra_series[(t*10):(t*10+10)])"
   ]
  },
  {
   "cell_type": "code",
   "execution_count": null,
   "metadata": {},
   "outputs": [],
   "source": [
    "# Decadal plot of annual mean\n",
    "plt.plot(at_boreal_series - at_boreal_series[0])\n",
    "plt.plot(st_boreal_series - st_boreal_series[0])\n",
    "plt.plot(at_tundra_series - at_tundra_series[0])\n",
    "plt.plot(st_tundra_series - st_tundra_series[0])\n",
    "plt.legend(['AT_boreal', 'ST_boreal', 'AT_tundra', 'ST_tundra'])"
   ]
  },
  {
   "cell_type": "code",
   "execution_count": null,
   "metadata": {},
   "outputs": [],
   "source": [
    "# Decadal plot of summer mean\n",
    "plt.figure(figsize=(10,8))\n",
    "#plt.ylim([-1.5,1.5])\n",
    "plt.plot(at_boreal_decade - at_boreal_decade[0])\n",
    "plt.plot(st_boreal_decade - st_boreal_decade[0])\n",
    "plt.plot(at_tundra_decade - at_tundra_decade[0])\n",
    "plt.plot(st_tundra_decade - st_tundra_decade[0])\n",
    "plt.legend(['AT_boreal', 'ST_boreal', 'AT_tundra', 'ST_tundra'])"
   ]
  },
  {
   "cell_type": "code",
   "execution_count": null,
   "metadata": {},
   "outputs": [],
   "source": [
    "np.shape(st_boreal)[0]"
   ]
  },
  {
   "cell_type": "code",
   "execution_count": 4,
   "metadata": {},
   "outputs": [],
   "source": [
    "# Calculate the mean soil temperature by using respiration as weight\n",
    "# Need to transfer Rh from per week to per day\n",
    "rh_boreal_daily = np.zeros((np.shape(st_boreal)[0],10))\n",
    "rh_tundra_daily = np.zeros((np.shape(st_tundra)[0],10))\n",
    "for i in np.arange(0,np.shape(rh_tundra)[0]):\n",
    "    yr = i // 52\n",
    "    if(i % 52 == 0):\n",
    "        rh_boreal_daily[(i*7+yr):(i*7+yr+8),:] = 1000.*rh_boreal[i,:]/7.\n",
    "        rh_tundra_daily[(i*7+yr):(i*7+yr+8),:] = 1000.*rh_tundra[i,:]/7.\n",
    "    else:\n",
    "        rh_boreal_daily[(i*7+yr):(i*7+yr+7),:] = 1000.*rh_boreal[i,:]/7.\n",
    "        rh_tundra_daily[(i*7+yr):(i*7+yr+7),:] = 1000.*rh_tundra[i,:]/7.\n",
    "    \n",
    "\n",
    "rh1m_boreal = np.zeros((np.shape(rh_boreal_daily)[0]))\n",
    "rh1m_tundra = np.zeros((np.shape(rh_tundra_daily)[0]))\n",
    "\n",
    "# Calcualte the 1-m mean Respiration\n",
    "for i in np.arange(0,np.shape(st_boreal[:,0:8])[0]):\n",
    "    rh1m_boreal[i] = isam.agg_1m_soil(rh_boreal_daily[i,0:8])\n",
    "    rh1m_tundra[i] = isam.agg_1m_soil(rh_tundra_daily[i,0:8])\n",
    "\n",
    "# Calculate decadal mean of Rh for checking\n",
    "rh_boreal_decade = np.zeros((15))\n",
    "rh_tundra_decade = np.zeros((15))\n",
    "\n",
    "for t in np.arange(0,15):\n",
    "    rh_boreal_decade[t] = np.mean(rh1m_boreal[(t*3650):(t*3650+3650)])\n",
    "    rh_tundra_decade[t] = np.mean(rh1m_tundra[(t*3650):(t*3650+3650)])\n",
    "\n",
    "# Use the resp as weight to calculate vertical mean\n",
    "soilt_boreal = np.zeros((np.shape(st_boreal)[0]))\n",
    "soilt_tundra = np.zeros((np.shape(st_boreal)[0]))\n",
    "\n",
    "# Calcualte the 1-m mean SoilT\n",
    "for i in np.arange(0,np.shape(st_boreal)[0]):\n",
    "    soilt_boreal[i] = isam.avg_wt_1m_soil(rh_boreal_daily[i,0:8]+1e-4, st_boreal[i,0:8])\n",
    "    soilt_tundra[i] = isam.avg_wt_1m_soil(rh_tundra_daily[i,0:8]+1e-4, st_tundra[i,0:8])\n",
    "    \n",
    "# Calculate the mean of every years, also using the respiration as weight\n",
    "st_boreal_series = np.zeros((150))\n",
    "st_tundra_series = np.zeros((150))\n",
    "\n",
    "for t in np.arange(0,150):\n",
    "    st_boreal_series[t] = np.dot(soilt_boreal[(t*365):(t*365+365)],rh1m_boreal[(t*365):(t*365+365)]) \\\n",
    "                                  / np.sum(rh1m_boreal[(t*365):(t*365+365)])\n",
    "    st_tundra_series[t] = np.dot(soilt_tundra[(t*365):(t*365+365)],rh1m_tundra[(t*365):(t*365+365)]) \\\n",
    "                                  / np.sum(rh1m_tundra[(t*365):(t*365+365)]) \n",
    "    \n",
    "# Get every 10 years for summer\n",
    "st_boreal_decade = np.zeros((15))\n",
    "st_tundra_decade = np.zeros((15))\n",
    "for t in np.arange(0,15):\n",
    "    st_boreal_decade[t] = np.nanmean(st_boreal_series[(t*10):(t*10+10)])\n",
    "    st_tundra_decade[t] = np.nanmean(st_tundra_series[(t*10):(t*10+10)])"
   ]
  },
  {
   "cell_type": "code",
   "execution_count": 7,
   "metadata": {},
   "outputs": [
    {
     "data": {
      "text/plain": [
       "<matplotlib.legend.Legend at 0x2ae2f4d5ef90>"
      ]
     },
     "execution_count": 7,
     "metadata": {},
     "output_type": "execute_result"
    },
    {
     "data": {
      "image/png": "[encoded data removed]",
      "text/plain": [
       "<Figure size 432x288 with 1 Axes>"
      ]
     },
     "metadata": {
      "needs_background": "light"
     },
     "output_type": "display_data"
    }
   ],
   "source": [
    "# Check the seasonality of Rh\n",
    "plt.plot(rh_boreal_decade - rh_boreal_decade[0])\n",
    "plt.plot(rh_tundra_decade - rh_tundra_decade[0])\n",
    "\n",
    "plt.legend(['Rh_boreal', 'Rh_tundra'])"
   ]
  },
  {
   "cell_type": "code",
   "execution_count": null,
   "metadata": {},
   "outputs": [],
   "source": [
    "## Use seasonal Rh from the site observation to calibrate the temperature sensitivity from the model "
   ]
  },
  {
   "cell_type": "code",
   "execution_count": null,
   "metadata": {},
   "outputs": [],
   "source": []
  },
  {
   "cell_type": "code",
   "execution_count": 236,
   "metadata": {},
   "outputs": [
    {
     "data": {
      "text/plain": [
       "[<matplotlib.lines.Line2D at 0x2ae2f8fe2790>]"
      ]
     },
     "execution_count": 236,
     "metadata": {},
     "output_type": "execute_result"
    },
    {
     "data": {
      "image/png": "[encoded data removed]",
      "text/plain": [
       "<Figure size 432x288 with 1 Axes>"
      ]
     },
     "metadata": {
      "needs_background": "light"
     },
     "output_type": "display_data"
    }
   ],
   "source": [
    "# Read in the obs of study #2534\n",
    "lat = 56.46\n",
    "lon = -99.97\n",
    "# Measured year is 2001 - 2002\n",
    "obsx = np.array([133, 146, 170, 199, 204, 205, 206, 214, 231, 233, 235, 244, 242, 254])\n",
    "# 17% contribution from root Ra\n",
    "# 1.0368 is the transfer factor from umol C m-2 s-1 to gC m-2 day-1\n",
    "obsy = 0.83 * 1.0368 * np.array([1.12, 1.54, 2.11, 2.48, 2.19, 1.81, 2.82, 1.83, 1.61, 1.38, 1.53, 1.61, 1.81, 1.81])\n",
    "\n",
    "# Read in the model simulation\n",
    "path='/data/keeling/a/sshu3/'\n",
    "fname='rh_2534_q1_6.txt'\n",
    "obs_fname=path+fname\n",
    "data = pd.read_csv(obs_fname,delim_whitespace=True,header=None)\n",
    "rh_prim = data.values\n",
    "\n",
    "rh_daily = np.zeros(((365*155),10))\n",
    "for i in np.arange(0,np.shape(rh_prim)[0]):\n",
    "    yr = i // 52\n",
    "    if(i % 52 == 0):\n",
    "        rh_daily[(i*7+yr):(i*7+yr+8),:] = 1000.*rh_prim[i,:]/7.\n",
    "    else:\n",
    "        rh_daily[(i*7+yr):(i*7+yr+7),:] = 1000.*rh_prim[i,:]/7.\n",
    "\n",
    "rh1m = np.zeros((np.shape(rh_daily)[0]))\n",
    "\n",
    "# Calcualte the 1-m mean Respiration\n",
    "for i in np.arange(0,np.shape(rh_daily)[0]):\n",
    "    rh1m[i] = isam.agg_1m_soil(rh_daily[i,0:8])\n",
    "\n",
    "# Calculate decadal mean of Rh for checking\n",
    "rh_decade = np.zeros((15))\n",
    "\n",
    "for t in np.arange(0,15):\n",
    "    rh_decade[t] = np.mean(rh1m[(t*3650):(t*3650+3650)])\n",
    "  \n",
    "modx = np.arange(0,365)\n",
    "mody = rh1m[(140*365):(140*365+365)]\n",
    "plt.xlim([120, 300])\n",
    "plt.scatter(obsx, obsy)\n",
    "plt.plot(modx, mody)"
   ]
  },
  {
   "cell_type": "code",
   "execution_count": 238,
   "metadata": {},
   "outputs": [],
   "source": [
    "# Q1.2 = -0.17339464489795892\n",
    "# Q1.6 = 0.006656375510204228\n",
    "# Q2.0 = 0.15808494693877564\n",
    "# Q2.4 = 0.26313596734693895\n",
    "np.mean(mody[obsx] - obsy)\n",
    "mod_2534 = mody[obsx]\n",
    "obs_2534 = obsy\n",
    "# Q = 1.6 to be the best"
   ]
  },
  {
   "cell_type": "code",
   "execution_count": 327,
   "metadata": {},
   "outputs": [
    {
     "data": {
      "text/plain": [
       "[<matplotlib.lines.Line2D at 0x2ae2fa81e390>]"
      ]
     },
     "execution_count": 327,
     "metadata": {},
     "output_type": "execute_result"
    },
    {
     "data": {
      "image/png": "[encoded data removed]",
      "text/plain": [
       "<Figure size 432x288 with 1 Axes>"
      ]
     },
     "metadata": {
      "needs_background": "light"
     },
     "output_type": "display_data"
    }
   ],
   "source": [
    "# Read in the obs of study #2396\n",
    "lat = 53.99\n",
    "lon = -105.12\n",
    "# The data is selected from the BSFM (closed-canopy balck spruce with feather moss) community only\n",
    "# since this site is more similar to the mature forest.\n",
    "# Measured year is 1998 - 1999\n",
    "obsx = np.array([196, 204, 209, 271, 278, 354])\n",
    "obsy = 0.83 * 1.0368 * np.array([4.03, 3.97, 3.08, 2.84, 2.58, 0.38])\n",
    "\n",
    "# Read in the model simulation\n",
    "path='/data/keeling/a/sshu3/'\n",
    "fname='rh_2396_less_ra.txt'\n",
    "obs_fname=path+fname\n",
    "data = pd.read_csv(obs_fname,delim_whitespace=True,header=None)\n",
    "rh_prim = data.values\n",
    "\n",
    "rh_daily = np.zeros(((365*155),10))\n",
    "for i in np.arange(0,np.shape(rh_prim)[0]):\n",
    "    yr = i // 52\n",
    "    if(i % 52 == 0):\n",
    "        rh_daily[(i*7+yr):(i*7+yr+8),:] = 1000.*rh_prim[i,:]/7.\n",
    "    else:\n",
    "        rh_daily[(i*7+yr):(i*7+yr+7),:] = 1000.*rh_prim[i,:]/7.\n",
    "\n",
    "rh1m = np.zeros((np.shape(rh_daily)[0]))\n",
    "\n",
    "# Calcualte the 1-m mean Respiration\n",
    "for i in np.arange(0,np.shape(rh_daily)[0]):\n",
    "    rh1m[i] = isam.agg_1m_soil(rh_daily[i,0:8])\n",
    "\n",
    "# Calculate decadal mean of Rh for checking\n",
    "rh_decade = np.zeros((15))\n",
    "\n",
    "for t in np.arange(0,15):\n",
    "    rh_decade[t] = np.mean(rh1m[(t*3650):(t*3650+3650)])\n",
    "\n",
    "modx = np.arange(0,365)\n",
    "mody = rh1m[(138*365):(138*365+365)]\n",
    "plt.xlim([120, 300])\n",
    "plt.scatter(obsx, obsy)\n",
    "plt.plot(modx, mody)"
   ]
  },
  {
   "cell_type": "code",
   "execution_count": 328,
   "metadata": {},
   "outputs": [
    {
     "data": {
      "text/plain": [
       "-0.7503066438095236"
      ]
     },
     "execution_count": 328,
     "metadata": {},
     "output_type": "execute_result"
    }
   ],
   "source": [
    "# Q1.2 = -1.2473542628571426\n",
    "# Q1.6 = -1.0482352152380947\n",
    "# Q2.0 = -0.889378072380952\n",
    "# Q2.4 = -0.7582114057142854\n",
    "# Q2.8 = -0.6554971199999996\n",
    "np.mean(mody[obsx] - obsy)\n",
    "# mod_2396 = mody[obsx]\n",
    "# obs_2396 = obsy\n",
    "# Q = 2.8 to be the best, Rh would increase by 1.2 times"
   ]
  },
  {
   "cell_type": "code",
   "execution_count": 329,
   "metadata": {},
   "outputs": [
    {
     "data": {
      "text/plain": [
       "[<matplotlib.lines.Line2D at 0x2ae2fa8a9390>]"
      ]
     },
     "execution_count": 329,
     "metadata": {},
     "output_type": "execute_result"
    },
    {
     "data": {
      "image/png": "[encoded data removed]",
      "text/plain": [
       "<Figure size 432x288 with 1 Axes>"
      ]
     },
     "metadata": {
      "needs_background": "light"
     },
     "output_type": "display_data"
    }
   ],
   "source": [
    "# Read in the obs of study #1382\n",
    "# Boreal deciduous\n",
    "lat = 53.63\n",
    "lon = -106.2\n",
    "# Measured year is 1994\n",
    "\n",
    "obsx = np.array([106, 112, 114, 116, 120, 139, 143, 146, 147, 150, 152, 156, 158, 161, 162, 170, 173, 174, 180, 182, 187, 189, 194, 196, 197, 201, \\\n",
    "202, 203, 204, 205, 209, 211, 213, 217, 220, 222, 225, 227, 230, 231, 233, 238, 240, 243, 244, 245, 248, 249, 251, 252, 254, 258])\n",
    "# 60% contribution from root Ra\n",
    "# 23.56364 is the transfer factor from mg CO2 m-2 s-1 to gC m-2 day-1\n",
    "obsy = 0.4 * 23.56364 * np.array([0.037,0.061, 0.034, 0.028, 0.046, 0.092, 0.107, 0.104, 0.098, 0.098, 0.098, 0.147, 0.115, 0.074, 0.074, 0.079, 0.167, 0.132, 0.144, 0.135, \\\n",
    "0.126, 0.126, 0.278, 0.202, 0.228, 0.402, 0.205, 0.349, 0.301, 0.19, 0.292, 0.351, 0.375, 0.245, 0.283, 0.26, 0.248, 0.242, 0.327, 0.242, \\\n",
    "0.215, 0.28, 0.224, 0.288, 0.241, 0.209, 0.159, 0.147, 0.267, 0.232, 0.214, 0.155])\n",
    "\n",
    "# Read in the model simulation\n",
    "path='/data/keeling/a/sshu3/'\n",
    "fname='rh_1382_ra_vmax.txt'\n",
    "obs_fname=path+fname\n",
    "data = pd.read_csv(obs_fname,delim_whitespace=True,header=None)\n",
    "rh_prim = data.values\n",
    "\n",
    "rh_daily = np.zeros(((365*155),10))\n",
    "for i in np.arange(0,np.shape(rh_prim)[0]):\n",
    "    yr = i // 52\n",
    "    if(i % 52 == 0):\n",
    "        rh_daily[(i*7+yr):(i*7+yr+8),:] = 1000.*rh_prim[i,:]/7.\n",
    "    else:\n",
    "        rh_daily[(i*7+yr):(i*7+yr+7),:] = 1000.*rh_prim[i,:]/7.\n",
    "\n",
    "rh1m = np.zeros((np.shape(rh_daily)[0]))\n",
    "\n",
    "# Calcualte the 1-m mean Respiration\n",
    "for i in np.arange(0,np.shape(rh_daily)[0]):\n",
    "    rh1m[i] = isam.agg_1m_soil(rh_daily[i,0:8])\n",
    "\n",
    "# Calculate decadal mean of Rh for checking\n",
    "rh_decade = np.zeros((15))\n",
    "\n",
    "for t in np.arange(0,15):\n",
    "    rh_decade[t] = np.mean(rh1m[(t*3650):(t*3650+3650)])\n",
    "\n",
    "modx = np.arange(0,365)\n",
    "mody = rh1m[(133*365):(133*365+365)]\n",
    "plt.xlim([120, 300])\n",
    "plt.scatter(obsx, obsy)\n",
    "plt.plot(modx, mody)"
   ]
  },
  {
   "cell_type": "code",
   "execution_count": 330,
   "metadata": {},
   "outputs": [
    {
     "data": {
      "text/plain": [
       "-0.007488654989011036"
      ]
     },
     "execution_count": 330,
     "metadata": {},
     "output_type": "execute_result"
    }
   ],
   "source": [
    "# Q1.2 = -0.543095797846154\n",
    "# Q1.6 = -0.3188540396043956\n",
    "# Q2.0 = -0.22135953410989015\n",
    "# Q2.4 = -0.20715074290109897\n",
    "# Q2.8 = 0.06557343292307681\n",
    "np.mean(mody[obsx] - obsy)\n",
    "# mod_1382 = mody[obsx]\n",
    "# obs_1382 = obsy\n",
    "# Q = 2.8 to be the best, but we may have to increase the Rh 1.2 times for this deciduous forest."
   ]
  },
  {
   "cell_type": "code",
   "execution_count": 344,
   "metadata": {},
   "outputs": [
    {
     "data": {
      "text/plain": [
       "[<matplotlib.lines.Line2D at 0x2ae2fac9f0d0>]"
      ]
     },
     "execution_count": 344,
     "metadata": {},
     "output_type": "execute_result"
    },
    {
     "data": {
      "image/png": "[encoded data removed]",
      "text/plain": [
       "<Figure size 432x288 with 1 Axes>"
      ]
     },
     "metadata": {
      "needs_background": "light"
     },
     "output_type": "display_data"
    }
   ],
   "source": [
    "# Read in the obs of study #4604\n",
    "lat = 61.78\n",
    "lon = 24.3\n",
    "# The data is selected from the Forest community only\n",
    "# This paper also has all fluxes for the mire (wetland) which maybe helpful for the future study\n",
    "# Measured year is 2005\n",
    "obsx = np.array([28, 62, 100, 128, 136, 164, 183, 203, 214, 227, 245, 259, 266, 285, 304, 314])\n",
    "# 30% contribution from root Ra (since no data then we assume 30%)\n",
    "# 6.545455 is the transfer factor from g CO2 m-2 h-1 to gC m-2 day-1\n",
    "obsy = 0.7 * 6.545455 * np.array([0.041, 0.01, 0.072, 0.141, 0.257, 0.38, 0.491, 0.532, 0.576, 0.511, 0.473, 0.406, 0.318, 0.266, 0.276, 0.235])\n",
    "\n",
    "# Read in the model simulation\n",
    "path='/data/keeling/a/sshu3/'\n",
    "fname='rh_4604_ra_vmax.txt'\n",
    "obs_fname=path+fname\n",
    "data = pd.read_csv(obs_fname,delim_whitespace=True,header=None)\n",
    "rh_prim = data.values\n",
    "\n",
    "rh_daily = np.zeros(((365*155),10))\n",
    "for i in np.arange(0,np.shape(rh_prim)[0]):\n",
    "    yr = i // 52\n",
    "    if(i % 52 == 0):\n",
    "        rh_daily[(i*7+yr):(i*7+yr+8),:] = 1000.*rh_prim[i,:]/7.\n",
    "    else:\n",
    "        rh_daily[(i*7+yr):(i*7+yr+7),:] = 1000.*rh_prim[i,:]/7.\n",
    "\n",
    "rh1m = np.zeros((np.shape(rh_daily)[0]))\n",
    "\n",
    "# Calcualte the 1-m mean Respiration\n",
    "for i in np.arange(0,np.shape(rh_daily)[0]):\n",
    "    rh1m[i] = isam.agg_1m_soil(rh_daily[i,0:8])\n",
    "\n",
    "# Calculate decadal mean of Rh for checking\n",
    "rh_decade = np.zeros((15))\n",
    "\n",
    "for t in np.arange(0,15):\n",
    "    rh_decade[t] = np.mean(rh1m[(t*3650):(t*3650+3650)])\n",
    "\n",
    "modx = np.arange(0,365)\n",
    "mody = 1.2*rh1m[(144*365):(144*365+365)]\n",
    "plt.xlim([120, 300])\n",
    "plt.scatter(obsx, obsy)\n",
    "plt.plot(modx, mody)"
   ]
  },
  {
   "cell_type": "code",
   "execution_count": 345,
   "metadata": {},
   "outputs": [
    {
     "data": {
      "text/plain": [
       "-0.32855854069196433"
      ]
     },
     "execution_count": 345,
     "metadata": {},
     "output_type": "execute_result"
    }
   ],
   "source": [
    "# Q1.2 = -0.7119692549776785\n",
    "# Q1.6 = -0.6594067549776785\n",
    "# Q2.0 = -0.6085228264062499\n",
    "# Q2.4 = -0.56639782640625\n",
    "# Q2.8 = -0.5327460406919642\n",
    "np.mean(mody[obsx] - obsy)\n",
    "\n",
    "# Q = 3.0 to be the best, but we may have to increase the Rh 1.6 times for this boreal forest before."
   ]
  },
  {
   "cell_type": "code",
   "execution_count": 348,
   "metadata": {},
   "outputs": [
    {
     "data": {
      "text/plain": [
       "[<matplotlib.lines.Line2D at 0x2ae2fad9ad50>]"
      ]
     },
     "execution_count": 348,
     "metadata": {},
     "output_type": "execute_result"
    },
    {
     "data": {
      "image/png": "[encoded data removed]",
      "text/plain": [
       "<Figure size 432x288 with 1 Axes>"
      ]
     },
     "metadata": {
      "needs_background": "light"
     },
     "output_type": "display_data"
    }
   ],
   "source": [
    "# Read in the obs of study #4166\n",
    "lat = 62.87\n",
    "lon = 30.82\n",
    "# Measured year is 2001 - 2004, here only used the data for year 2001. Other data can be obtained later\n",
    "obsx = np.array([106, 117, 119, 122, 130, 137, 142, 148, 153, 158, 163, 171, 177, 180, 194, 196, 198, 201, 204, 209, 213, 218, 223, 226, 230, 233, \\\n",
    "239, 242, 247, 252, 257, 260, 262, 269, 278, 284, 292, 294])\n",
    "# 35% contribution from root Ra\n",
    "# 1.0368 is the transfer factor from umol CO2 m-2 s-1 to gC m-2 day-1\n",
    "obsy = 0.65 * 1.0368 * np.array([0.289, 0.557, 0.806, 0.959, 0.959, 0.825, 0.729, 0.979, 1.343, 1.688, 1.783, 2.109, 2.377, 2.837, 3.891, 4.696, 4.773, \\\n",
    "4.466, 3.47, 3.278, 2.339, 3.623, 4.313, 4.485, 3.144, 2.78, 1.822, 1.477, 2.282, 1.994, 1.649, 1.381, 1.094, 0.9, \\\n",
    "0.73, 0.86, 0.653, 0.442])\n",
    "\n",
    "# Read in the model simulation\n",
    "path='/data/keeling/a/sshu3/'\n",
    "fname='rh_4166_new.txt'\n",
    "obs_fname=path+fname\n",
    "data = pd.read_csv(obs_fname,delim_whitespace=True,header=None)\n",
    "rh_prim = data.values\n",
    "\n",
    "rh_daily = np.zeros(((365*155),10))\n",
    "for i in np.arange(0,np.shape(rh_prim)[0]):\n",
    "    yr = i // 52\n",
    "    if(i % 52 == 0):\n",
    "        rh_daily[(i*7+yr):(i*7+yr+8),:] = 1000.*rh_prim[i,:]/7.\n",
    "    else:\n",
    "        rh_daily[(i*7+yr):(i*7+yr+7),:] = 1000.*rh_prim[i,:]/7.\n",
    "\n",
    "rh1m = np.zeros((np.shape(rh_daily)[0]))\n",
    "\n",
    "# Calcualte the 1-m mean Respiration\n",
    "for i in np.arange(0,np.shape(rh_daily)[0]):\n",
    "    rh1m[i] = isam.agg_1m_soil(rh_daily[i,0:8])\n",
    "\n",
    "# Calculate decadal mean of Rh for checking\n",
    "rh_decade = np.zeros((15))\n",
    "\n",
    "for t in np.arange(0,15):\n",
    "    rh_decade[t] = np.mean(rh1m[(t*3650):(t*3650+3650)])\n",
    "\n",
    "modx = np.arange(0,365)\n",
    "mody = rh1m[(140*365):(140*365+365)]\n",
    "\n",
    "plt.xlim([120, 300])\n",
    "plt.scatter(obsx, obsy)\n",
    "plt.plot(modx, mody)\n"
   ]
  },
  {
   "cell_type": "code",
   "execution_count": 349,
   "metadata": {},
   "outputs": [
    {
     "data": {
      "text/plain": [
       "-0.12999006796992474"
      ]
     },
     "execution_count": 349,
     "metadata": {},
     "output_type": "execute_result"
    }
   ],
   "source": [
    "# Q1.2 = -0.5269599927819547\n",
    "# Q1.6 = -0.41629833864661636\n",
    "# Q2.0 = -0.32698630857142846\n",
    "# Q2.4 = -0.2661404439097743\n",
    "# Q2.8 = -0.21910660932330822\n",
    "np.mean(mody[obsx] - obsy)\n",
    "# mod_4166 = mody[obsx]\n",
    "# obs_4166 = obsy\n",
    "# Q > 2.8 to be the best. 1.2 times is the best"
   ]
  },
  {
   "cell_type": "code",
   "execution_count": 218,
   "metadata": {},
   "outputs": [
    {
     "data": {
      "text/plain": [
       "array([0.19476288, 0.37537344, 0.54317952, 0.64628928, 0.64628928,\n",
       "       0.555984  , 0.49128768, 0.65976768, 0.90507456, 1.13757696,\n",
       "       1.20159936, 1.42129728, 1.60190784, 1.91191104, 2.62222272,\n",
       "       3.16472832, 3.21662016, 3.00972672, 2.3385024 , 2.20910976,\n",
       "       1.57629888, 2.44161216, 2.90661696, 3.0225312 , 2.11880448,\n",
       "       1.8734976 , 1.22788224, 0.99537984, 1.53788544, 1.34379648,\n",
       "       1.11129408, 0.93068352, 0.73726848, 0.606528  , 0.4919616 ,\n",
       "       0.5795712 , 0.44006976, 0.29787264])"
      ]
     },
     "execution_count": 218,
     "metadata": {},
     "output_type": "execute_result"
    }
   ],
   "source": []
  },
  {
   "cell_type": "code",
   "execution_count": 350,
   "metadata": {},
   "outputs": [
    {
     "data": {
      "text/plain": [
       "[<matplotlib.lines.Line2D at 0x2ae2fae1f6d0>]"
      ]
     },
     "execution_count": 350,
     "metadata": {},
     "output_type": "execute_result"
    },
    {
     "data": {
      "image/png": "[encoded data removed]",
      "text/plain": [
       "<Figure size 432x288 with 1 Axes>"
      ]
     },
     "metadata": {
      "needs_background": "light"
     },
     "output_type": "display_data"
    }
   ],
   "source": [
    "# Read in the obs of study #5305\n",
    "lat = 46.77\n",
    "lon = 9.87\n",
    "# Measured year is 2007\n",
    "obsx = np.array([36, 54, 88, 110, 117, 131, 135, 139, 147, 161, 168, 172, 180, 193, 199, 215, 226, 244])\n",
    "# 30% contribution from root Ra (since no data then we assume 30%)\n",
    "# 0.024 is the transfer factor from mg C m-2 h-1 to gC m-2 day-1\n",
    "obsy = 0.7 * 0.024 * np.array([6.27, 11.7, 6.46, 26.19, 53, 53.1, 76.28, 69.15, 95.97, 84.41, 53.19, 46.06, 137.16, 144.35, 119.37, 99.79, 81.97, 43.65])\n",
    "\n",
    "# Read in the model simulation\n",
    "path='/data/keeling/a/sshu3/'\n",
    "fname='rh_5305_new.txt'\n",
    "obs_fname=path+fname\n",
    "data = pd.read_csv(obs_fname,delim_whitespace=True,header=None)\n",
    "rh_prim = data.values\n",
    "\n",
    "rh_daily = np.zeros(((365*155),10))\n",
    "for i in np.arange(0,np.shape(rh_prim)[0]):\n",
    "    yr = i // 52\n",
    "    if(i % 52 == 0):\n",
    "        rh_daily[(i*7+yr):(i*7+yr+8),:] = 1000.*rh_prim[i,:]/7.\n",
    "    else:\n",
    "        rh_daily[(i*7+yr):(i*7+yr+7),:] = 1000.*rh_prim[i,:]/7.\n",
    "\n",
    "rh1m = np.zeros((np.shape(rh_daily)[0]))\n",
    "\n",
    "# Calcualte the 1-m mean Respiration\n",
    "for i in np.arange(0,np.shape(rh_daily)[0]):\n",
    "    rh1m[i] = isam.agg_1m_soil(rh_daily[i,0:8])\n",
    "\n",
    "# Calculate decadal mean of Rh for checking\n",
    "rh_decade = np.zeros((15))\n",
    "\n",
    "for t in np.arange(0,15):\n",
    "    rh_decade[t] = np.mean(rh1m[(t*3650):(t*3650+3650)])\n",
    "\n",
    "modx = np.arange(0,365)\n",
    "mody = rh1m[(146*365):(146*365+365)]\n",
    "\n",
    "plt.xlim([120, 300])\n",
    "plt.scatter(obsx, obsy)\n",
    "plt.plot(modx,mody)"
   ]
  },
  {
   "cell_type": "code",
   "execution_count": 351,
   "metadata": {},
   "outputs": [
    {
     "data": {
      "text/plain": [
       "-0.19784152380952372"
      ]
     },
     "execution_count": 351,
     "metadata": {},
     "output_type": "execute_result"
    }
   ],
   "source": [
    "# Q1.2 = -0.5575240634920635\n",
    "# Q1.6 = -0.49550819047619044\n",
    "# Q2.0 = -0.4474605714285713\n",
    "# Q2.4 = -0.40846057142857134\n",
    "# Q2.8 = -0.37298438095238096\n",
    "np.mean(mody[obsx] - obsy)\n",
    "\n",
    "# Q = 2.8 to be the best, this boreal forest is out of the phase comparing to other sites so I here abandon it for now."
   ]
  },
  {
   "cell_type": "code",
   "execution_count": 48,
   "metadata": {},
   "outputs": [
    {
     "data": {
      "text/plain": [
       "<matplotlib.collections.PathCollection at 0x2ae2f56ef650>"
      ]
     },
     "execution_count": 48,
     "metadata": {},
     "output_type": "execute_result"
    },
    {
     "data": {
      "image/png": "[encoded data removed]",
      "text/plain": [
       "<Figure size 432x288 with 1 Axes>"
      ]
     },
     "metadata": {
      "needs_background": "light"
     },
     "output_type": "display_data"
    }
   ],
   "source": [
    "### I think we shall abandon this site right now since the data are too wierd\n",
    "\n",
    "# Read in the obs of study #2081\n",
    "# Grassland in Finland\n",
    "lat = 62.52\n",
    "lon = 29.38\n",
    "\n",
    "# Only the grassland sample is used since it is the only natural samples. Others are all managed.\n",
    "# Measured year is 1997\n",
    "obsx = np.array([167, 169, 170, 171, 172, 173, 174, 176, 178, 179, 181, 184, 185, 186, 188, 190, 192, 194, 197, 199, 201, 202, 203, 205, 206])\n",
    "\n",
    "# Guessed 50% contribution from root Ra for grassland (since no data)\n",
    "# 0.006545455is the transfer factor from mg CO2 m-2 h-1 to gC m-2 day-1\n",
    "obsy = 0.5 * 0.006545455 * np.array([2083., 1207., 2164., 1217., 1779., 1439., 1550., 1335., 1176., 1906., 2381., 2180., \\\n",
    "1727., 1415., 1384., 1916., 1377., 1104., 1311., 1589., 1783., 2401., 1835., 1593., 1465.])\n",
    "\n",
    "# modx = np.arange(0,365)\n",
    "# mody = rh1m_boreal[(140*365):(140*365+365)]\n",
    "\n",
    "plt.xlim([120, 300])\n",
    "plt.scatter(obsx, obsy)"
   ]
  },
  {
   "cell_type": "code",
   "execution_count": 362,
   "metadata": {},
   "outputs": [
    {
     "data": {
      "text/plain": [
       "[<matplotlib.lines.Line2D at 0x2ae2fb18b510>]"
      ]
     },
     "execution_count": 362,
     "metadata": {},
     "output_type": "execute_result"
    },
    {
     "data": {
      "image/png": "[encoded data removed]",
      "text/plain": [
       "<Figure size 432x288 with 1 Axes>"
      ]
     },
     "metadata": {
      "needs_background": "light"
     },
     "output_type": "display_data"
    }
   ],
   "source": [
    "# Read in the obs of study #5391\n",
    "# Tundra in Sweden\n",
    "lat = 68.333\n",
    "lon = 18.5\n",
    "\n",
    "# Only the sample from sweden is used here, another from Svalbard is at the northernmost on small island so not sure if ISAM\n",
    "# has output for that grid.\n",
    "# Measured year is 2007 - 2008\n",
    "obsx = np.array([27, 64, 92, 137, 159, 178, 192, 234, 236, 245])\n",
    "\n",
    "# Guessed 50% contribution from root Ra for tundra (since no data)\n",
    "# 0.006545455 is the transfer factor from mg CO2 m-2 h-1 to gC m-2 day-1\n",
    "obsy = 0.5 * 0.006545455 * np.array([161.65, 33.00, 22.07, 41.09, 560.68, 614.31, 732.67, 811.49, 733.97, 540.54])\n",
    "\n",
    "# Read in the model simulation\n",
    "path='/data/keeling/a/sshu3/'\n",
    "fname='rh_5391_low_ra.txt'\n",
    "obs_fname=path+fname\n",
    "data = pd.read_csv(obs_fname,delim_whitespace=True,header=None)\n",
    "rh_prim = data.values\n",
    "\n",
    "rh_daily = np.zeros(((365*155),10))\n",
    "for i in np.arange(0,np.shape(rh_prim)[0]):\n",
    "    yr = i // 52\n",
    "    if(i % 52 == 0):\n",
    "        rh_daily[(i*7+yr):(i*7+yr+8),:] = 1000.*rh_prim[i,:]/7.\n",
    "    else:\n",
    "        rh_daily[(i*7+yr):(i*7+yr+7),:] = 1000.*rh_prim[i,:]/7.\n",
    "\n",
    "rh1m = np.zeros((np.shape(rh_daily)[0]))\n",
    "\n",
    "# Calcualte the 1-m mean Respiration\n",
    "for i in np.arange(0,np.shape(rh_daily)[0]):\n",
    "    rh1m[i] = isam.agg_1m_soil(rh_daily[i,0:8])\n",
    "\n",
    "# Calculate decadal mean of Rh for checking\n",
    "rh_decade = np.zeros((15))\n",
    "\n",
    "for t in np.arange(0,15):\n",
    "    rh_decade[t] = np.mean(rh1m[(t*3650):(t*3650+3650)])\n",
    "\n",
    "modx = np.arange(0,365)\n",
    "mody = rh1m[(140*365):(140*365+365)]\n",
    "plt.xlim([120, 300])\n",
    "plt.scatter(obsx, obsy)\n",
    "plt.plot(modx, mody)"
   ]
  },
  {
   "cell_type": "code",
   "execution_count": 363,
   "metadata": {},
   "outputs": [
    {
     "data": {
      "text/plain": [
       "-0.5958759927282142"
      ]
     },
     "execution_count": 363,
     "metadata": {},
     "output_type": "execute_result"
    }
   ],
   "source": [
    "# Q1.2 = -0.8678474212996428\n",
    "# Q1.6 = -0.86\n",
    "# Q2.0 = -0.04371170701392858\n",
    "# Q2.4 = -0.87\n",
    "# Q2.8 = -0.8838902784425\n",
    "np.mean(mody[obsx] - obsy)\n",
    "\n",
    "# Q = 2.0 to be the best, but we may have to increase the Rh 2.5 times this tundra forest before."
   ]
  },
  {
   "cell_type": "code",
   "execution_count": 171,
   "metadata": {},
   "outputs": [
    {
     "data": {
      "text/plain": [
       "<matplotlib.collections.PathCollection at 0x2ae2f7f3ab10>"
      ]
     },
     "execution_count": 171,
     "metadata": {},
     "output_type": "execute_result"
    },
    {
     "data": {
      "image/png": "[encoded data removed]",
      "text/plain": [
       "<Figure size 432x288 with 1 Axes>"
      ]
     },
     "metadata": {
      "needs_background": "light"
     },
     "output_type": "display_data"
    }
   ],
   "source": [
    "# Read in the obs of study #3811\n",
    "# Tundra in Norway Svalbard?\n",
    "# Model does not simulate Svalbard, so right now don't use it.\n",
    "lat = 78\n",
    "lon = 19\n",
    "\n",
    "# Measured year is 2004 - 2005\n",
    "obsx = np.array([120, 127, 140, 147, 154, 162, 189, 196, 203, 212, 217, 221, \\\n",
    "       224, 227, 232, 238, 239, 246, 247, 252, 253, 258, 259, 265, 267, 270, 275, 284, 290, 304, 312, 318, \\\n",
    "       328, 339])\n",
    "# Guessed 30% contribution from root Ra for shrubland (since no data)\n",
    "# 1.0368 is the transfer factor from umol CO2 m-2 s-1 to gC m-2 day-1\n",
    "obsy = 0.7 * 1.0368 * np.array([ 0.13, 0.27, 0.26, 0.64, 0.97, 1.66, 1.34, 1.23, 1.66, 1.62, 1.64, 1.56, \\\n",
    "                                1.16, 1.2, 1.26, 1.21, 1.09, 0.76, 1.26, 0.42, 0.46, 0.36, \\\n",
    "                                0.4, 0.4, 0.49, 0.22, 0.3, 0.35, 0.22, 0.17, 0.1, 0.06, 0.06, 0.1])\n",
    "\n",
    "#modx = np.arange(0,365)\n",
    "#mody = rh1m[(140*365):(140*365+365)]\n",
    "plt.xlim([120, 300])\n",
    "plt.scatter(obsx, obsy)\n",
    "#plt.plot(modx, mody)"
   ]
  },
  {
   "cell_type": "code",
   "execution_count": null,
   "metadata": {},
   "outputs": [],
   "source": []
  },
  {
   "cell_type": "code",
   "execution_count": 241,
   "metadata": {},
   "outputs": [
    {
     "data": {
      "text/plain": [
       "[<matplotlib.lines.Line2D at 0x2ae2f90de890>]"
      ]
     },
     "execution_count": 241,
     "metadata": {},
     "output_type": "execute_result"
    },
    {
     "data": {
      "image/png": "[encoded data removed]",
      "text/plain": [
       "<Figure size 432x288 with 1 Axes>"
      ]
     },
     "metadata": {
      "needs_background": "light"
     },
     "output_type": "display_data"
    }
   ],
   "source": [
    "# Read in the obs of study #4212\n",
    "# Grassland in Finland\n",
    "lat = 67.72\n",
    "lon = 29.6\n",
    "\n",
    "# Measured year is 2003 - 2004\n",
    "obsx = np.array([169, 170, 171, 172, 173, 174, 175, 176, 177, 178, 179, 180])\n",
    "\n",
    "# Guessed 50% contribution from root Ra for grassland (since no data)\n",
    "# 1.0368 is the transfer factor from umol CO2 m-2 s-1 to gC m-2 day-1\n",
    "obsy = 0.5 * 1.0368 * np.array([3.24, 3.92, 3.07, 3.4, 2.41, 2.35, 3.13, 2.61, 2.78, 3.13, 3.03, 3.46])\n",
    "\n",
    "# Read in the model simulation\n",
    "path='/data/keeling/a/sshu3/'\n",
    "fname='rh_4212_q1_6.txt'\n",
    "obs_fname=path+fname\n",
    "data = pd.read_csv(obs_fname,delim_whitespace=True,header=None)\n",
    "rh_prim = data.values\n",
    "\n",
    "rh_daily = np.zeros(((365*155),10))\n",
    "for i in np.arange(0,np.shape(rh_prim)[0]):\n",
    "    yr = i // 52\n",
    "    if(i % 52 == 0):\n",
    "        rh_daily[(i*7+yr):(i*7+yr+8),:] = 1000.*rh_prim[i,:]/7.\n",
    "    else:\n",
    "        rh_daily[(i*7+yr):(i*7+yr+7),:] = 1000.*rh_prim[i,:]/7.\n",
    "\n",
    "rh1m = np.zeros((np.shape(rh_daily)[0]))\n",
    "\n",
    "# Calcualte the 1-m mean Respiration\n",
    "for i in np.arange(0,np.shape(rh_daily)[0]):\n",
    "    rh1m[i] = isam.agg_1m_soil(rh_daily[i,0:8])\n",
    "\n",
    "# Calculate decadal mean of Rh for checking\n",
    "rh_decade = np.zeros((15))\n",
    "\n",
    "for t in np.arange(0,15):\n",
    "    rh_decade[t] = np.mean(rh1m[(t*3650):(t*3650+3650)])\n",
    "\n",
    "modx = np.arange(0,365)\n",
    "mody = rh1m[(140*365):(140*365+365)]\n",
    "plt.xlim([120, 300])\n",
    "plt.scatter(obsx, obsy)\n",
    "plt.plot(modx, mody)"
   ]
  },
  {
   "cell_type": "code",
   "execution_count": 243,
   "metadata": {},
   "outputs": [],
   "source": [
    "# Q1.2 = -0.37245314285714254\n",
    "# Q1.6 = -0.06823885714285717\n",
    "# Q2.0 = 0.13776114285714305\n",
    "# Q2.4 = 0.30226114285714273\n",
    "# Q2.8 = 0.4160468571428572\n",
    "np.mean(mody[obsx] - obsy)\n",
    "mod_4212 = mody[obsx]\n",
    "obs_4212 = obsy\n",
    "# Q = 1.6 to be the best"
   ]
  },
  {
   "cell_type": "code",
   "execution_count": 372,
   "metadata": {},
   "outputs": [
    {
     "data": {
      "text/plain": [
       "[<matplotlib.lines.Line2D at 0x2ae2fb48d590>]"
      ]
     },
     "execution_count": 372,
     "metadata": {},
     "output_type": "execute_result"
    },
    {
     "data": {
      "image/png": "[encoded data removed]",
      "text/plain": [
       "<Figure size 432x288 with 1 Axes>"
      ]
     },
     "metadata": {
      "needs_background": "light"
     },
     "output_type": "display_data"
    }
   ],
   "source": [
    "# Read in the obs of study #7198\n",
    "# Shrubland in Finland\n",
    "lat = 63.9\n",
    "lon = 23.93\n",
    "\n",
    "# Measured year is 2002 - 2004\n",
    "obsx = np.array([183, 220, 235, 246, 273, 288, 304])# 505, 512, 526, 545, 560, 573, 585, 589, 600, \\\n",
    "                 #615, 643, 857, 876, 885, 898, 912, 939, 951, 972, 980])\n",
    "\n",
    "# The sample AB1 is applied here since it to be the close to the multu-samples mean\n",
    "# 55% of Reco is Rs\n",
    "# Guessed 70% contribution from root Ra for this shrubland site since Ra is high comparing to Reco (since no data)\n",
    "# 0.024 is the transfer factor from mg C m-2 h-1 to gC m-2 day-1\n",
    "obsy = 0.55 * 0.3 * 0.024 * np.array([446.32, 377.88, 332.32, 309.51, 157.81, 119.83, 89.41])# 110.72, 216.74, 307.55, 428.63, \\\n",
    "                                #534.59, 625.4, 511.68, 443.47, 450.97, 359.96, 329.46, 191.59, 199.03, 327.76, 350.4, \\\n",
    "                                #532.12, 494.05, 456.09, 334.72, 205.88])\n",
    "\n",
    "# Read in the model simulation\n",
    "path='/data/keeling/a/sshu3/'\n",
    "fname='rh_7198_new.txt'\n",
    "obs_fname=path+fname\n",
    "data = pd.read_csv(obs_fname,delim_whitespace=True,header=None)\n",
    "rh_prim = data.values\n",
    "\n",
    "rh_daily = np.zeros(((365*155),10))\n",
    "for i in np.arange(0,np.shape(rh_prim)[0]):\n",
    "    yr = i // 52\n",
    "    if(i % 52 == 0):\n",
    "        rh_daily[(i*7+yr):(i*7+yr+8),:] = 1000.*rh_prim[i,:]/7.\n",
    "    else:\n",
    "        rh_daily[(i*7+yr):(i*7+yr+7),:] = 1000.*rh_prim[i,:]/7.\n",
    "\n",
    "rh1m = np.zeros((np.shape(rh_daily)[0]))\n",
    "\n",
    "# Calcualte the 1-m mean Respiration\n",
    "for i in np.arange(0,np.shape(rh_daily)[0]):\n",
    "    rh1m[i] = isam.agg_1m_soil(rh_daily[i,0:8])\n",
    "\n",
    "# Calculate decadal mean of Rh for checking\n",
    "rh_decade = np.zeros((15))\n",
    "\n",
    "for t in np.arange(0,15):\n",
    "    rh_decade[t] = np.mean(rh1m[(t*3650):(t*3650+3650)])\n",
    "\n",
    "modx = np.arange(0,365)\n",
    "mody = rh1m[(140*365):(140*365+365)]\n",
    "plt.xlim([120, 300])\n",
    "plt.scatter(obsx, obsy)\n",
    "plt.plot(modx, mody)"
   ]
  },
  {
   "cell_type": "code",
   "execution_count": 373,
   "metadata": {},
   "outputs": [
    {
     "data": {
      "text/plain": [
       "0.14495964081632656"
      ]
     },
     "execution_count": 373,
     "metadata": {},
     "output_type": "execute_result"
    }
   ],
   "source": [
    "# Q1.2 = 0.6141024979591838\n",
    "# Q1.6 = 0.7428371918367347\n",
    "# Q2.0 = 0.8098167836734694\n",
    "# Q2.4 = 0.8418576\n",
    "# Q2.8 = 0.8662657632653061\n",
    "np.mean(mody[obsx] - obsy)\n",
    "\n",
    "# Q = 2.4 to be the best, need to decrease the productivity to 0.5 times and check again ..."
   ]
  },
  {
   "cell_type": "code",
   "execution_count": 257,
   "metadata": {},
   "outputs": [],
   "source": [
    "obs_boreal = np.concatenate((obs_2534, obs_2396, obs_4604, obs_4166))\n",
    "mod_boreal = np.concatenate((mod_2534, mod_2396, mod_4604, mod_4166))\n",
    "obs_tundra = obs_5391\n",
    "mod_tundra = mod_5391\n",
    "obs_decid = obs_1382\n",
    "mod_decid = mod_1382\n",
    "obs_grass = obs_4212\n",
    "mod_grass = mod_4212\n",
    "obs_shrub = obs_7198\n",
    "mod_shrub = mod_7198\n"
   ]
  },
  {
   "cell_type": "code",
   "execution_count": 285,
   "metadata": {},
   "outputs": [],
   "source": [
    "obs_b_mean = np.mean(obs_boreal)\n",
    "obs_b_std = np.std(obs_boreal)\n",
    "mod_b_mean = np.mean(mod_boreal)\n",
    "mod_b_std = np.std(mod_boreal)\n",
    "\n",
    "obs_d_mean = np.mean(obs_decid)\n",
    "obs_d_std = np.std(obs_decid)\n",
    "mod_d_mean = np.mean(mod_decid)\n",
    "mod_d_std = np.std(mod_decid)\n",
    "\n",
    "obs_t_mean = np.mean(obs_tundra)\n",
    "obs_t_std = np.std(obs_tundra)\n",
    "mod_t_mean = np.mean(mod_tundra)\n",
    "mod_t_std = np.std(mod_tundra)\n",
    "\n",
    "obs_g_mean = np.mean(obs_grass)\n",
    "obs_g_std = np.std(obs_grass)\n",
    "mod_g_mean = np.mean(mod_grass)\n",
    "mod_g_std = np.std(mod_grass)\n",
    "\n",
    "obs_s_mean = np.mean(obs_shrub)\n",
    "obs_s_std = np.std(obs_shrub)\n",
    "mod_s_mean = np.mean(mod_shrub)\n",
    "mod_s_std = np.std(mod_shrub)"
   ]
  },
  {
   "cell_type": "code",
   "execution_count": 288,
   "metadata": {},
   "outputs": [
    {
     "data": {
      "image/png": "[encoded data removed]",
      "text/plain": [
       "<Figure size 432x288 with 1 Axes>"
      ]
     },
     "metadata": {
      "needs_background": "light"
     },
     "output_type": "display_data"
    }
   ],
   "source": [
    "fig, ax = plt.subplots()\n",
    "plt.xlim([0, 2.5])\n",
    "plt.ylim([0, 2.5])\n",
    "plt.scatter(obs_b_mean, mod_b_mean, color='green')\n",
    "plt.scatter(obs_d_mean, mod_d_mean, color='gold')\n",
    "plt.scatter(obs_t_mean, mod_t_mean, color='brown')\n",
    "plt.scatter(obs_g_mean, mod_g_mean, color='blue')\n",
    "plt.scatter(obs_s_mean, mod_s_mean, color='red')\n",
    "ax.errorbar()\n",
    "line = mlines.Line2D([0, 4.5], [0, 4.5], color='red')\n",
    "ax.add_line(line)\n",
    "plt.legend(['1:1 line', 'Boreal Evergreen', 'Boreal Deciduous', 'Tundra', 'Grassland', 'Shrubland'])\n",
    "plt.savefig('Calibration_rh_mean.jpg')"
   ]
  },
  {
   "cell_type": "code",
   "execution_count": 273,
   "metadata": {},
   "outputs": [
    {
     "data": {
      "text/plain": [
       "<Figure size 720x576 with 0 Axes>"
      ]
     },
     "metadata": {},
     "output_type": "display_data"
    },
    {
     "data": {
      "image/png": "[encoded data removed]",
      "text/plain": [
       "<Figure size 432x288 with 1 Axes>"
      ]
     },
     "metadata": {
      "needs_background": "light"
     },
     "output_type": "display_data"
    }
   ],
   "source": [
    "import matplotlib.lines as mlines\n",
    "import matplotlib.transforms as mtransforms\n",
    "\n",
    "fig = plt.figure(figsize=(10,8))\n",
    "fig, ax = plt.subplots()\n",
    "plt.scatter(obs_boreal, mod_boreal, color='green')\n",
    "plt.scatter(obs_decid, mod_decid, color='gold')\n",
    "plt.scatter(obs_tundra, mod_tundra, color='brown')\n",
    "plt.scatter(obs_grass, mod_grass, color='blue')\n",
    "plt.scatter(obs_shrub, mod_shrub, color='red')\n",
    "line = mlines.Line2D([0, 4.5], [0, 4.5], color='red')\n",
    "#transform = ax.transAxes\n",
    "#line.set_transform(transform)\n",
    "ax.add_line(line)\n",
    "plt.legend(['1:1 line', 'Boreal Evergreen', 'Boreal Deciduous', 'Tundra', 'Grassland', 'Shrubland'])\n",
    "plt.savefig('Calibration_rh_res.jpg')"
   ]
  },
  {
   "cell_type": "code",
   "execution_count": 6,
   "metadata": {},
   "outputs": [
    {
     "data": {
      "text/plain": [
       "<matplotlib.legend.Legend at 0x2ae2f4cdc510>"
      ]
     },
     "execution_count": 6,
     "metadata": {},
     "output_type": "execute_result"
    },
    {
     "data": {
      "image/png": "[encoded data removed]",
      "text/plain": [
       "<Figure size 432x288 with 1 Axes>"
      ]
     },
     "metadata": {
      "needs_background": "light"
     },
     "output_type": "display_data"
    }
   ],
   "source": [
    "# Check the seasonality of SoilT\n",
    "plt.plot(st_boreal_decade - st_boreal_decade[0])\n",
    "plt.plot(st_tundra_decade - st_tundra_decade[0])\n",
    "\n",
    "plt.legend(['ST_weighted_boreal', 'ST_weighted_tundra'])"
   ]
  },
  {
   "cell_type": "code",
   "execution_count": null,
   "metadata": {},
   "outputs": [],
   "source": [
    "# Check seasonality of Rh\n",
    "plt.figure(figsize=(10,8))\n",
    "# Calculate the mean of every 10 years\n",
    "rh_boreal_1861 = rh1m_boreal[(0*365):(0*365+2*365)]\n",
    "rh_boreal_1941 = rh1m_boreal[(100*365):(100*365+2*365)]\n",
    "rh_tundra_1861 = rh1m_tundra[(0*365):(0*365+2*365)]\n",
    "rh_tundra_1941 = rh1m_tundra[(100*365):(100*365+2*365)]\n",
    "# Check the seasonality\n",
    "plt.plot(rh_boreal_1861)\n",
    "plt.plot(rh_boreal_1941)\n",
    "plt.plot(rh_tundra_1861)\n",
    "plt.plot(rh_tundra_1941)\n",
    "plt.legend(['Rh_boreal_1861', 'Rh_boreal_1961', 'Rh_tundra_1861', 'Rh_tundra_1961'])\n"
   ]
  },
  {
   "cell_type": "code",
   "execution_count": null,
   "metadata": {},
   "outputs": [],
   "source": [
    "52*7"
   ]
  },
  {
   "cell_type": "code",
   "execution_count": null,
   "metadata": {},
   "outputs": [],
   "source": [
    "# Tundra\n",
    "plt.figure(figsize=(20,8))\n",
    "# Calculate the mean of every 10 years\n",
    "at_boreal_series = at_tundra[(0*365):(0*365+5*365)]\n",
    "at_tundra_series = at_tundra[(100*365):(100*365+5*365)]\n",
    "st_boreal_series = st_tundra[(0*365):(0*365+5*365),0]\n",
    "st_tundra_series = st_tundra[(100*365):(100*365+5*365),0]\n",
    "# Check the seasonality\n",
    "plt.ylim([280,300])\n",
    "#plt.plot(at_boreal_series)\n",
    "plt.plot(st_boreal_series)\n",
    "#plt.plot(at_tundra_series)\n",
    "plt.plot(st_tundra_series)\n",
    "plt.legend(['AT_1861', 'ST_1861', 'AT_1941', 'ST_1941'])\n"
   ]
  },
  {
   "cell_type": "code",
   "execution_count": null,
   "metadata": {},
   "outputs": [],
   "source": [
    "plt.figure(figsize=(10,8))\n",
    "# Calculate the mean of every 10 years\n",
    "at_boreal_series = at_boreal[(0*365):(0*365+2*365)]\n",
    "at_tundra_series = at_boreal[(77*365):(77*365+2*365)]\n",
    "st_boreal_series = st_boreal[(0*365):(0*365+2*365),0]\n",
    "st_tundra_series = st_boreal[(77*365):(77*365+2*365),0]\n",
    "# Check the seasonality\n",
    "plt.plot(at_boreal_series)\n",
    "plt.plot(st_boreal_series)\n",
    "plt.plot(at_tundra_series)\n",
    "plt.plot(st_tundra_series)\n",
    "plt.legend(['AT_1861', 'ST_1861', 'AT_1941', 'ST_1941'])\n"
   ]
  },
  {
   "cell_type": "code",
   "execution_count": null,
   "metadata": {},
   "outputs": [],
   "source": [
    "plt.figure(figsize=(10,8))\n",
    "# Calculate the mean of every 10 years\n",
    "ice_boreal_series = ice_boreal[(0*365):(0*365+2*365),0]\n",
    "ice_tundra_series = ice_boreal[(77*365):(77*365+2*365),0]\n",
    "sm_boreal_series = sm_boreal[(0*365):(0*365+2*365),0]\n",
    "sm_tundra_series = sm_boreal[(77*365):(77*365+2*365),0]\n",
    "# Check the seasonality\n",
    "#plt.plot(ice_boreal_series)\n",
    "#plt.plot(ice_tundra_series)\n",
    "plt.plot(sm_boreal_series)\n",
    "plt.plot(sm_tundra_series)\n",
    "plt.legend(['AT_1861', 'ST_1861', 'AT_1941', 'ST_1941'])\n"
   ]
  },
  {
   "cell_type": "code",
   "execution_count": null,
   "metadata": {},
   "outputs": [],
   "source": [
    "plt.figure(figsize=(10,8))\n",
    "# Calculate the mean of every 10 years\n",
    "ice_boreal_series = ice_tundra[(0*365):(0*365+2*365),0]\n",
    "ice_tundra_series = ice_tundra[(77*365):(77*365+2*365),0]\n",
    "sm_boreal_series = sm_tundra[(0*365):(0*365+2*365),0]\n",
    "sm_tundra_series = sm_tundra[(77*365):(77*365+2*365),0]\n",
    "# Check the seasonality\n",
    "#plt.plot(ice_boreal_series)\n",
    "#plt.plot(ice_tundra_series)\n",
    "plt.plot(sm_boreal_series)\n",
    "plt.plot(sm_tundra_series)\n",
    "plt.legend(['AT_1861', 'ST_1861', 'AT_1941', 'ST_1941'])"
   ]
  },
  {
   "cell_type": "code",
   "execution_count": null,
   "metadata": {},
   "outputs": [],
   "source": [
    "# Check Precipitation during summer only\n",
    "# Calculate the mean of every 10 years\n",
    "pr_boreal_series = np.zeros((150))\n",
    "pr_tundra_series = np.zeros((150))\n",
    "srad_boreal_series = np.zeros((150))\n",
    "srad_tundra_series = np.zeros((150))\n",
    "lrad_boreal_series = np.zeros((150))\n",
    "lrad_tundra_series = np.zeros((150))\n",
    "for t in np.arange(0,150):\n",
    "    pr_boreal_series[t] = np.mean(pr_boreal[(t*365+150):(t*365+250)])\n",
    "    pr_tundra_series[t] = np.mean(pr_tundra[(t*365+150):(t*365+250)])\n",
    "    srad_boreal_series[t] = np.mean(srad_boreal[(t*365+150):(t*365+250)])\n",
    "    srad_tundra_series[t] = np.mean(srad_tundra[(t*365+150):(t*365+250)])\n",
    "    lrad_boreal_series[t] = np.mean(lrad_boreal[(t*365+150):(t*365+250)])\n",
    "    lrad_tundra_series[t] = np.mean(lrad_tundra[(t*365+150):(t*365+250)])\n",
    "\n",
    "# Calculate decadal mean\n",
    "pr_boreal_decade = np.zeros((15))\n",
    "pr_tundra_decade = np.zeros((15))\n",
    "srad_boreal_decade = np.zeros((15))\n",
    "srad_tundra_decade = np.zeros((15))\n",
    "lrad_boreal_decade = np.zeros((15))\n",
    "lrad_tundra_decade = np.zeros((15))\n",
    "for t in np.arange(0,15):\n",
    "    pr_boreal_decade[t] = np.mean(pr_boreal_series[(t*10):(t*10+10)])\n",
    "    pr_tundra_decade[t] = np.mean(pr_tundra_series[(t*10):(t*10+10)])\n",
    "    srad_boreal_decade[t] = np.mean(srad_boreal_series[(t*10):(t*10+10)])\n",
    "    srad_tundra_decade[t] = np.mean(srad_tundra_series[(t*10):(t*10+10)])\n",
    "    lrad_boreal_decade[t] = np.mean(lrad_boreal_series[(t*10):(t*10+10)])\n",
    "    lrad_tundra_decade[t] = np.mean(lrad_tundra_series[(t*10):(t*10+10)])\n",
    "\n",
    "#plt.plot(pr_boreal_decade)# - pr_boreal_decade[0])\n",
    "#plt.plot(srad_boreal_decade)# - srad_boreal_decade[0])\n",
    "plt.plot(lrad_boreal_decade - lrad_boreal_decade[0])\n",
    "#plt.plot(pr_tundra_decade)# - pr_tundra_decade[0])\n",
    "#plt.plot(srad_tundra_decade)# - srad_tundra_decade[0])\n",
    "plt.plot(lrad_tundra_decade - lrad_tundra_decade[0])\n",
    "plt.legend(['Srad_boreal', 'Srad_tundra'])"
   ]
  },
  {
   "cell_type": "code",
   "execution_count": null,
   "metadata": {},
   "outputs": [],
   "source": [
    "# Check tundra precipitation\n",
    "# Tundra\n",
    "plt.figure(figsize=(10,8))\n",
    "# Calculate the mean of every 10 years\n",
    "pr_tundra_1861 = pr_tundra[(0*365):(0*365+2*365)]\n",
    "pr_tundra_1941 = pr_tundra[(77*365):(77*365+2*365)]\n",
    "#st_boreal_series = st_tundra[(0*365):(0*365+2*365),0]\n",
    "#st_tundra_series = st_tundra[(77*365):(77*365+2*365),0]\n",
    "# Check the seasonality\n",
    "plt.plot(pr_tundra_1861)\n",
    "plt.plot(pr_tundra_1941)\n",
    "#plt.plot(at_tundra_series)\n",
    "#plt.plot(st_tundra_series)\n",
    "plt.legend(['PR_1861', 'PR_1941'])"
   ]
  },
  {
   "cell_type": "code",
   "execution_count": null,
   "metadata": {},
   "outputs": [],
   "source": [
    "# Check tundra snow temperature\n",
    "plt.figure(figsize=(10,8))\n",
    "# Calculate the mean of every 10 years\n",
    "sw_tundra_1861 = sw_tundra[(0*365):(0*365+2*365),4]\n",
    "sw_tundra_1941 = sw_tundra[(77*365):(77*365+2*365),4]\n",
    "# Check the seasonality\n",
    "plt.plot(sw_tundra_1861)\n",
    "plt.plot(sw_tundra_1941)\n",
    "#plt.plot(at_tundra_series)\n",
    "#plt.plot(st_tundra_series)\n",
    "plt.legend(['SWT_1861', 'SWT_1941'])\n"
   ]
  },
  {
   "cell_type": "code",
   "execution_count": null,
   "metadata": {},
   "outputs": [],
   "source": [
    "# Check tundra lwrad\n",
    "plt.figure(figsize=(10,8))\n",
    "# Calculate the mean of every 10 years\n",
    "lrad_boreal_1861 = lrad_boreal[(0*365):(0*365+2*365)]\n",
    "lrad_boreal_1941 = lrad_boreal[(100*365):(100*365+2*365)]\n",
    "lrad_tundra_1861 = lrad_tundra[(0*365):(0*365+2*365)]\n",
    "lrad_tundra_1941 = lrad_tundra[(100*365):(100*365+2*365)]\n",
    "# Check the seasonality\n",
    "plt.plot(lrad_boreal_1861)\n",
    "#plt.plot(lrad_boreal_1941)\n",
    "plt.plot(lrad_tundra_1861)\n",
    "#plt.plot(lrad_tundra_1941)\n",
    "plt.legend(['Lrad_1861_jra', 'Lrad_1961_jra', 'Lrad_1861_ncep', 'Lrad_1961_ncep'])"
   ]
  },
  {
   "cell_type": "code",
   "execution_count": null,
   "metadata": {},
   "outputs": [],
   "source": [
    "# Check the ground heat flux (summer only)\n",
    "# Calculate the mean of every 10 years\n",
    "grndf_boreal_series = np.zeros((150))\n",
    "grndf_tundra_series = np.zeros((150))\n",
    "st_boreal_series = np.zeros((150))\n",
    "st_tundra_series = np.zeros((150))\n",
    "for t in np.arange(0,150):\n",
    "    grndf_boreal_series[t] = np.mean(grndf_boreal[(t*365+150):(t*365+250)])\n",
    "    grndf_tundra_series[t] = np.mean(grndf_tundra[(t*365+150):(t*365+250)])\n",
    "    st_boreal_series[t] = np.mean(st_boreal[(t*365+150):(t*365+250),0])\n",
    "    st_tundra_series[t] = np.mean(st_tundra[(t*365+150):(t*365+250),0])\n",
    "\n",
    "# Calculate decadal mean\n",
    "grndf_boreal_decade = np.zeros((15))\n",
    "grndf_tundra_decade = np.zeros((15))\n",
    "st_boreal_decade = np.zeros((15))\n",
    "st_tundra_decade = np.zeros((15))\n",
    "for t in np.arange(0,15):\n",
    "    grndf_boreal_decade[t] = np.mean(grndf_boreal_series[(t*10):(t*10+10)])\n",
    "    grndf_tundra_decade[t] = np.mean(grndf_tundra_series[(t*10):(t*10+10)])\n",
    "    st_boreal_decade[t] = np.mean(st_boreal_series[(t*10):(t*10+10)])\n",
    "    st_tundra_decade[t] = np.mean(st_tundra_series[(t*10):(t*10+10)])\n",
    "\n",
    "plt.plot(grndf_boreal_decade - grndf_boreal_decade[0])\n",
    "plt.plot(st_boreal_decade - st_boreal_decade[0])\n",
    "plt.plot(grndf_tundra_decade - grndf_tundra_decade[0])\n",
    "plt.plot(st_tundra_decade - st_tundra_decade[0])\n",
    "plt.legend(['GrndF_boreal', 'ST_boreal', 'GrndF_tundra', 'ST_tundra'])"
   ]
  },
  {
   "cell_type": "code",
   "execution_count": null,
   "metadata": {},
   "outputs": [],
   "source": [
    "st_tundra_decade"
   ]
  },
  {
   "cell_type": "code",
   "execution_count": null,
   "metadata": {},
   "outputs": [],
   "source": [
    "at_tundra_decade"
   ]
  },
  {
   "cell_type": "code",
   "execution_count": null,
   "metadata": {
    "scrolled": false
   },
   "outputs": [],
   "source": []
  },
  {
   "cell_type": "code",
   "execution_count": null,
   "metadata": {},
   "outputs": [],
   "source": [
    "lonnc2"
   ]
  },
  {
   "cell_type": "code",
   "execution_count": null,
   "metadata": {},
   "outputs": [],
   "source": [
    "lonnc2 % 360\n"
   ]
  }
 ],
 "metadata": {
  "anaconda-cloud": {},
  "kernelspec": {
   "display_name": "Python 2",
   "language": "python",
   "name": "python2"
  },
  "language_info": {
   "codemirror_mode": {
    "name": "ipython",
    "version": 2
   },
   "file_extension": ".py",
   "mimetype": "text/x-python",
   "name": "python",
   "nbconvert_exporter": "python",
   "pygments_lexer": "ipython2",
   "version": "2.7.16"
  }
 },
 "nbformat": 4,
 "nbformat_minor": 1
}
