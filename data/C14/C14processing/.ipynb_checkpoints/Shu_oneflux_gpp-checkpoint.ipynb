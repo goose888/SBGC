{
 "cells": [
  {
   "cell_type": "code",
   "execution_count": 2,
   "metadata": {},
   "outputs": [],
   "source": [
    "import pandas as pd\n",
    "import numpy as np\n",
    "import os\n",
    "os.environ['PROJ_LIB'] = '/data/keeling/a/sshu3/anaconda2/share/proj'\n",
    "from mpl_toolkits.basemap import Basemap, cm, shiftgrid,maskoceans\n",
    "import matplotlib.pyplot as plt\n",
    "from netCDF4 import Dataset as NetCDFFile\n",
    "import C14preproc as prep\n",
    "import pylab\n",
    "import C14utils\n",
    "import matplotlib\n",
    "import socplot_lib as socplt\n",
    "import isamcalc_lib as isam\n",
    "import SOCtools as soc\n"
   ]
  },
  {
   "cell_type": "code",
   "execution_count": 3,
   "metadata": {
    "scrolled": false
   },
   "outputs": [
    {
     "name": "stdout",
     "output_type": "stream",
     "text": [
      "CA-Ca1\n",
      "obs:\n",
      "1935.5318189083337\n",
      "std:\n",
      "479.9448411666667\n",
      "mod:\n",
      "1335.681290923077\n"
     ]
    },
    {
     "name": "stderr",
     "output_type": "stream",
     "text": [
      "/data/keeling/a/sshu3/anaconda2/lib/python2.7/site-packages/ipykernel_launcher.py:68: RuntimeWarning: invalid value encountered in less\n"
     ]
    }
   ],
   "source": [
    "# =====================================================================\n",
    "#  Plot the simulated GPP \n",
    "#  Compare with the Fluxnet observation\n",
    "# =====================================================================\n",
    "respath = '/data/jain1/c/sshu3/SBGC/runs/oneflux/runs/' \n",
    "obspath = '/data/jain1/c/sshu3/SBGC/runs/oneflux/obs/'\n",
    "\n",
    "site =  {\n",
    "    \"CA-Ca1\" : 0,\n",
    "#     \"CA-Ca2\" : 1,\n",
    "#     \"CA-Ca3\" : 2,\n",
    "#     \"US-Ho1\" : 3,\n",
    "#     \"US-MMS\" : 4,\n",
    "#     \"US-UMB\" : 5,\n",
    "#     \"US-Bar\" : 6,\n",
    "#     \"US-Seg\" : 7,\n",
    "#     \"US-Ses\" : 8,\n",
    "#     \"US-Vcm\" : 9,\n",
    "#     \"US-Wjs\" : 10,\n",
    "#     \"US-Mpj\" : 11,\n",
    "#     \"US-Men\" : 12,\n",
    "#     \"US-FR2\" : 13,\n",
    "#     \"US-Pnp\" : 14,\n",
    "#     \"US-ARc\" : 15,\n",
    "#     \"US-ARM\" : 16,\n",
    "#     \"US-EML\" : 17,\n",
    "}\n",
    "\n",
    "siteyear = [13,11,11,23,19,11,13,11,11,11,11,10,4,4,2,2,16,11]\n",
    "\n",
    "# Note: US-MMS measurement is hourly.\n",
    "for siteid, ind in site.items():\n",
    "    print(siteid)\n",
    "    fname='/site_daily_2_pft.txt'\n",
    "    mod_fname=respath+siteid+fname\n",
    "    data = pd.read_csv(mod_fname,delim_whitespace=True,header=None)\n",
    "    sz = np.shape(data)\n",
    "    # Only obtain the results from the last cycle\n",
    "    mod_gpp = data.values[(sz[0]-siteyear[ind]*365):sz[0],2]\n",
    "    # Aggregate to annual\n",
    "    sz = np.shape(mod_gpp)\n",
    "    lenz = sz[0]/365\n",
    "    mod_annual = np.zeros((lenz))\n",
    "    for i in np.arange(0,lenz):\n",
    "        mod_annual[i] = np.nansum(mod_gpp[(i*365):(i*365+365)]) \n",
    "    mod_annual[mod_annual<50] = np.float('nan')\n",
    "\n",
    "    # Oneflux has daily product which does not require unit conversion\n",
    "    obs_fname=obspath+siteid+'_GPP.txt'\n",
    "    data = pd.read_csv(obs_fname,delim_whitespace=True)\n",
    "    sz = np.shape(data)\n",
    "    obsdata = data.values\n",
    "    obsdata[obsdata<-100] = np.float('nan')\n",
    "    # Aggregate to annual\n",
    "    sz = np.shape(obsdata)\n",
    "    lenz = sz[0]/365\n",
    "    obs_annual = np.zeros((lenz))\n",
    "    for i in np.arange(0,lenz):\n",
    "        obs_annual[i] = np.nansum(obsdata[(i*365):(i*365+365)]) \n",
    "    obs_annual[obs_annual<50] = np.float('nan')\n",
    "  \n",
    "    # SE (This SE is too small for representing the STD)\n",
    "    # Shall follow Rahul's method to calculate STD\n",
    "    std_fname=obspath+siteid+'_UC.txt'\n",
    "    data = pd.read_csv(std_fname,delim_whitespace=True)\n",
    "    sz = np.shape(data)\n",
    "    stddata = data.values\n",
    "    stddata[stddata<-100] = np.float('nan')\n",
    "    # Aggregate to annual\n",
    "    sz = np.shape(stddata)\n",
    "    lenz = sz[0]/365\n",
    "    std_annual = np.zeros((lenz))\n",
    "    for i in np.arange(0,lenz):\n",
    "        std_annual[i] = np.nansum(stddata[(i*365):(i*365+365)]) \n",
    "    std_annual[std_annual<50] = np.float('nan')\n",
    "\n",
    "#     # Special case for site US-EML\n",
    "#     obs_fname=obspath+siteid+'_GPP.txt'\n",
    "#     data = pd.read_csv(obs_fname,delim_whitespace=True)\n",
    "#     sz = np.shape(data)\n",
    "#     obsdata = data.values\n",
    "#     obsdata[obsdata<-100] = np.float('nan')\n",
    "#     obsdata = obsdata*0.0216\n",
    "#     # Aggregate to daily\n",
    "#     lenz = sz[0]/48\n",
    "#     obs_gpp = np.zeros((lenz))\n",
    "#     for i in np.arange(0,lenz):\n",
    "#         obs_gpp[i] = np.nansum(obsdata[(i*48):(i*48+48)]) \n",
    "#     # Aggregate to annual\n",
    "#     sz = np.shape(obs_gpp)\n",
    "#     lenz = sz[0]/365\n",
    "#     obs_annual = np.zeros((lenz))\n",
    "#     for i in np.arange(0,lenz):\n",
    "#         obs_annual[i] = np.nansum(obs_gpp[(i*365):(i*365+365)]) \n",
    "#     obs_annual[obs_annual<50] = np.float('nan')\n",
    "\n",
    "    print('obs:')\n",
    "    print(np.nanmean(obs_annual))\n",
    "    print('std:')\n",
    "    print(np.nanmean(std_annual))\n",
    "    print('mod:')\n",
    "    print(np.nanmean(mod_annual))"
   ]
  },
  {
   "cell_type": "code",
   "execution_count": 7,
   "metadata": {},
   "outputs": [
    {
     "ename": "NameError",
     "evalue": "name 'df' is not defined",
     "output_type": "error",
     "traceback": [
      "\u001b[0;31m---------------------------------------------------------------------------\u001b[0m",
      "\u001b[0;31mNameError\u001b[0m                                 Traceback (most recent call last)",
      "\u001b[0;32m<ipython-input-7-341aa7500e87>\u001b[0m in \u001b[0;36m<module>\u001b[0;34m()\u001b[0m\n\u001b[1;32m      1\u001b[0m \u001b[0;31m#plt.plot(obsdata)\u001b[0m\u001b[0;34m\u001b[0m\u001b[0;34m\u001b[0m\u001b[0m\n\u001b[1;32m      2\u001b[0m \u001b[0;31m#plt.plot(mod_gpp)\u001b[0m\u001b[0;34m\u001b[0m\u001b[0;34m\u001b[0m\u001b[0m\n\u001b[0;32m----> 3\u001b[0;31m \u001b[0mexport_csv\u001b[0m \u001b[0;34m=\u001b[0m \u001b[0mdf\u001b[0m\u001b[0;34m.\u001b[0m\u001b[0mto_csv\u001b[0m \u001b[0;34m(\u001b[0m\u001b[0;34mr'./export_dataframe.csv'\u001b[0m\u001b[0;34m,\u001b[0m \u001b[0mindex\u001b[0m \u001b[0;34m=\u001b[0m \u001b[0mNone\u001b[0m\u001b[0;34m,\u001b[0m \u001b[0mheader\u001b[0m\u001b[0;34m=\u001b[0m\u001b[0mTrue\u001b[0m\u001b[0;34m)\u001b[0m\u001b[0;34m\u001b[0m\u001b[0m\n\u001b[0m",
      "\u001b[0;31mNameError\u001b[0m: name 'df' is not defined"
     ]
    }
   ],
   "source": [
    "#plt.plot(obsdata)\n",
    "#plt.plot(mod_gpp)\n"
   ]
  },
  {
   "cell_type": "code",
   "execution_count": null,
   "metadata": {},
   "outputs": [],
   "source": []
  }
 ],
 "metadata": {
  "kernelspec": {
   "display_name": "Python 2",
   "language": "python",
   "name": "python2"
  },
  "language_info": {
   "codemirror_mode": {
    "name": "ipython",
    "version": 2
   },
   "file_extension": ".py",
   "mimetype": "text/x-python",
   "name": "python",
   "nbconvert_exporter": "python",
   "pygments_lexer": "ipython2",
   "version": "2.7.16"
  }
 },
 "nbformat": 4,
 "nbformat_minor": 2
}
