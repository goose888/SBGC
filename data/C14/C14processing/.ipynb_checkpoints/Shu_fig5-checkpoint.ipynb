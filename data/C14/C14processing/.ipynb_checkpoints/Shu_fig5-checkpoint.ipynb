{
 "cells": [
  {
   "cell_type": "code",
   "execution_count": 1,
   "metadata": {},
   "outputs": [],
   "source": [
    "import pandas as pd\n",
    "import numpy as np\n",
    "import os\n",
    "os.environ['PROJ_LIB'] = '/data/keeling/a/sshu3/anaconda2/share/proj'\n",
    "import matplotlib.pyplot as plt\n",
    "import C14preproc as prep\n",
    "import pylab\n",
    "import C14utils\n",
    "import matplotlib\n",
    "import socplot_lib as socplt\n",
    "import isamcalc_lib as isam\n",
    "import SOCtools as soc\n"
   ]
  },
  {
   "cell_type": "code",
   "execution_count": 3,
   "metadata": {},
   "outputs": [
    {
     "name": "stderr",
     "output_type": "stream",
     "text": [
      "/data/keeling/a/sshu3/anaconda2/lib/python2.7/site-packages/ipykernel_launcher.py:1: FutureWarning: Method .as_matrix will be removed in a future version. Use .values instead.\n",
      "  \"\"\"Entry point for launching an IPython kernel.\n"
     ]
    }
   ],
   "source": [
    "tt = obs.as_matrix()[:,0:100]"
   ]
  },
  {
   "cell_type": "code",
   "execution_count": null,
   "metadata": {},
   "outputs": [],
   "source": [
    "np.shape(tt)"
   ]
  },
  {
   "cell_type": "code",
   "execution_count": 9,
   "metadata": {},
   "outputs": [
    {
     "data": {
      "text/plain": [
       "array([[0.10000922, 0.09991085, 0.09974689, ...,        nan,        nan,\n",
       "               nan],\n",
       "       [0.14234121, 0.13883206, 0.13298348, ...,        nan,        nan,\n",
       "               nan],\n",
       "       [0.09582016, 0.09604147, 0.09641032, ...,        nan,        nan,\n",
       "               nan],\n",
       "       ...,\n",
       "       [0.16348264, 0.16060439, 0.15580731, ...,        nan,        nan,\n",
       "               nan],\n",
       "       [0.07726219, 0.07745682, 0.07778121, ...,        nan,        nan,\n",
       "               nan],\n",
       "       [0.03940964, 0.03783772, 0.03521786, ...,        nan,        nan,\n",
       "               nan]])"
      ]
     },
     "execution_count": 9,
     "metadata": {},
     "output_type": "execute_result"
    }
   ],
   "source": [
    "tt[np.isnan(tt[:, 99])]"
   ]
  },
  {
   "cell_type": "code",
   "execution_count": 21,
   "metadata": {},
   "outputs": [
    {
     "name": "stderr",
     "output_type": "stream",
     "text": [
      "/data/keeling/a/sshu3/anaconda2/lib/python2.7/site-packages/ipykernel_launcher.py:1: FutureWarning: Method .as_matrix will be removed in a future version. Use .values instead.\n",
      "  \"\"\"Entry point for launching an IPython kernel.\n"
     ]
    },
    {
     "data": {
      "text/plain": [
       "(197, 200)"
      ]
     },
     "execution_count": 21,
     "metadata": {},
     "output_type": "execute_result"
    }
   ],
   "source": [
    "np.shape(obs.as_matrix())"
   ]
  },
  {
   "cell_type": "code",
   "execution_count": 22,
   "metadata": {},
   "outputs": [
    {
     "name": "stderr",
     "output_type": "stream",
     "text": [
      "/data/keeling/a/sshu3/anaconda2/lib/python2.7/site-packages/ipykernel_launcher.py:1: FutureWarning: Method .as_matrix will be removed in a future version. Use .values instead.\n",
      "  \"\"\"Entry point for launching an IPython kernel.\n"
     ]
    }
   ],
   "source": [
    "aa = obs.as_matrix()\n",
    "for i in np.arange(0,197):\n",
    "    if(np.isnan(tt[i, 99])):\n",
    "        aa[i,:] = np.float('nan')"
   ]
  },
  {
   "cell_type": "code",
   "execution_count": 17,
   "metadata": {},
   "outputs": [
    {
     "data": {
      "text/plain": [
       "array([ 9.31759678,  8.4493855 , 10.17317592,  8.00438792, 18.12003517,\n",
       "       13.85314331,  9.73247051,  1.32006115,  5.16484337,  1.19132371,\n",
       "       12.37676866,  8.46869198, 14.03173107, 33.03602721, 26.4206749 ,\n",
       "       14.11035385, 10.83207403, 26.1500528 , 14.39317107, 26.78370958,\n",
       "       24.49636595, 29.69442994, 20.21418969, 10.06444558, 22.73745794,\n",
       "        1.60015816,  5.06455269, 11.95364826,  2.41767143,  9.86370312,\n",
       "       17.217686  ,  8.70490693,  5.9505984 ,  9.17197146,  5.79617087,\n",
       "        6.07624387, 19.53390236, 13.72682948, 29.97011079, 15.86077843,\n",
       "       24.92057026,  5.59530596, 30.97985654, 35.95632655, 38.57634504,\n",
       "       13.0982091 ,  7.4333729 , 10.58867839, 11.98266742,  5.70401985,\n",
       "       12.10154717,  8.77800309,  7.33220202,  6.99462575,  7.44006207,\n",
       "        5.42085412,  7.26689963, 11.44747282,  4.79699463, 18.69461585,\n",
       "       40.9339705 , 10.76550863, 12.5698224 , 32.41861881, 24.27500457,\n",
       "       21.40366452, 21.51329884, 18.96089165, 23.05047694, 24.96045538,\n",
       "       12.3782233 , 22.28290042,  9.55059412,  5.18178095,  6.63172713,\n",
       "       22.9933187 , 29.70373498, 19.22419149, 17.92489949, 11.84931565,\n",
       "       13.39643936, 14.54187747, 12.93278775, 14.94496527,  5.23669616,\n",
       "       17.7255872 , 20.26088254, 13.35260698, 18.6197478 , 14.53644557,\n",
       "       23.99032841, 25.37908723, 13.29618655, 24.09345163, 10.34685756,\n",
       "       27.67786197, 17.45016768, 24.22492716, 24.58856933,  8.90668209,\n",
       "        7.92959624,  3.57308798,  8.98430753, 11.61349005,  7.43270635,\n",
       "        0.60195326,  5.24956575,  4.82286186, 19.76100488, 10.53080467,\n",
       "       13.85022943,  9.07384702, 17.21066049,  9.12730304,  5.81288549,\n",
       "       16.13479246, 10.21398207,  8.23584533, 14.16262025,  7.4089285 ,\n",
       "       12.65241012,  9.01470696,  8.19543822, 10.70007259, 12.07010476,\n",
       "        6.21996049, 10.10722084,  4.30685718, 12.42397572, 11.68767262,\n",
       "        7.14782548,  5.21709112,  4.9281859 ,  3.75128862,  7.05146167,\n",
       "        4.36748609,  7.60677198,  4.61354252,  4.81610995,  6.11962585,\n",
       "       11.71984911, 11.68052533, 10.54505955,  8.63097076,  8.60670566,\n",
       "        6.04992795,  8.26354302, 17.76900449, 10.97428076, 19.52197162,\n",
       "       27.16214526, 26.78622327, 10.36649155, 20.75756055,  8.01412014,\n",
       "        1.52672885, 11.81123901, 12.14192087,  7.66054244, 13.67361136,\n",
       "       14.01741466, 21.25801098, 29.07963304, 36.3180589 ,  8.5270751 ,\n",
       "        3.01662177, 23.72240144, 11.91413388, 17.64950725,  7.58403288,\n",
       "       11.8055912 , 21.43572316, 14.98910825, 25.88067925,  9.62419397,\n",
       "        6.02211312, 20.60825367, 15.37302928, 16.17469034, 11.71736809,\n",
       "        6.68819271,  7.09791795,  7.5426829 ,  6.31995191,  5.51239941,\n",
       "       21.47679299, 18.23409987, 14.54070531, 15.48419171, 16.26292913,\n",
       "        7.63486282, 10.16893122,  8.23289864,  3.3822705 ,  3.50411901,\n",
       "       19.20673184,         nan])"
      ]
     },
     "execution_count": 17,
     "metadata": {},
     "output_type": "execute_result"
    }
   ],
   "source": [
    "sel_profid = mod_pid.index\n",
    "# Convert the interpolated SOC into ISAM depth\n",
    "z, dz, zsoih = isam.get_isam_soildp(10)\n",
    "# obs_as_isam = isam.mean_by_depth(10, zsoih, sel_profid.size, obs_sel.as_matrix())\n",
    "obs_as_isam = isam.mean_by_depth_sep8(10, zsoih, sel_profid.size, aa)\n",
    "obs_as_isam[obs_as_isam<=0]=float('nan')\n",
    "# Unit convert: g/cm3 -> kg/m3\n",
    "obs_isam = obs_as_isam * 1000.\n",
    "obs_isam[obs_isam<0.] = float(\"nan\")\n",
    "# Aggregated SOC density to SOC stock profile till 1m\n",
    "obs_agg_prof = soc.aggre_profden_to_profstock(10, dz, obs_isam)\n",
    "# obs_agg = soc.aggre_profden_to_stock(7, dz, obs_isam)\n",
    "obs_agg = soc.aggre_profden_to_stock_1m(zsoih, dz, obs_isam)\n",
    "obs_top = soc.aggre_profden_to_stock_30cm(zsoih, dz, obs_isam)\n",
    "obs_sub = obs_agg - obs_top\n",
    "\n",
    "mod_isam = mod.as_matrix()/dz\n",
    "mod_isam[mod_isam<0.] = float(\"nan\")\n",
    "mod_agg_prof = soc.aggre_profden_to_profstock(10, dz, mod_isam)\n",
    "# mod_agg = soc.aggre_profden_to_stock(7, dz, mod_isam)\n",
    "mod_agg = soc.aggre_profden_to_stock_1m(zsoih, dz, mod_isam)\n",
    "mod_top = soc.aggre_profden_to_stock_30cm(zsoih, dz, mod_isam)\n",
    "mod_sub = mod_agg - mod_top"
   ]
  },
  {
   "cell_type": "code",
   "execution_count": 5,
   "metadata": {},
   "outputs": [
    {
     "data": {
      "text/plain": [
       "13.508299511242193"
      ]
     },
     "execution_count": 5,
     "metadata": {},
     "output_type": "execute_result"
    }
   ],
   "source": [
    "np.nanmean(obs_top)"
   ]
  },
  {
   "cell_type": "code",
   "execution_count": 6,
   "metadata": {
    "scrolled": true
   },
   "outputs": [
    {
     "data": {
      "text/plain": [
       "19.576211115630304"
      ]
     },
     "execution_count": 6,
     "metadata": {},
     "output_type": "execute_result"
    }
   ],
   "source": [
    "np.nanmean(obs_sub)"
   ]
  },
  {
   "cell_type": "code",
   "execution_count": 8,
   "metadata": {},
   "outputs": [
    {
     "data": {
      "text/plain": [
       "10.096867989847714"
      ]
     },
     "execution_count": 8,
     "metadata": {},
     "output_type": "execute_result"
    }
   ],
   "source": [
    "np.nanmean(mod_top)"
   ]
  },
  {
   "cell_type": "code",
   "execution_count": null,
   "metadata": {},
   "outputs": [],
   "source": [
    "np.nanmean(mod_sub)"
   ]
  },
  {
   "cell_type": "code",
   "execution_count": 2,
   "metadata": {
    "scrolled": false
   },
   "outputs": [
    {
     "name": "stderr",
     "output_type": "stream",
     "text": [
      "/data/keeling/a/sshu3/anaconda2/lib/python2.7/site-packages/ipykernel_launcher.py:33: FutureWarning: Method .as_matrix will be removed in a future version. Use .values instead.\n",
      "isamcalc_lib.py:116: RuntimeWarning: Mean of empty slice\n",
      "  val[i, j] = np.nanmean(profile[i, ub:lb])\n",
      "isamcalc_lib.py:125: RuntimeWarning: Mean of empty slice\n",
      "  val[i, j] = np.nanmean(profile[i, ub:lb])\n",
      "/data/keeling/a/sshu3/anaconda2/lib/python2.7/site-packages/ipykernel_launcher.py:34: RuntimeWarning: invalid value encountered in less_equal\n",
      "/data/keeling/a/sshu3/anaconda2/lib/python2.7/site-packages/ipykernel_launcher.py:37: RuntimeWarning: invalid value encountered in less\n",
      "/data/keeling/a/sshu3/anaconda2/lib/python2.7/site-packages/ipykernel_launcher.py:45: FutureWarning: Method .as_matrix will be removed in a future version. Use .values instead.\n",
      "/data/keeling/a/sshu3/anaconda2/lib/python2.7/site-packages/ipykernel_launcher.py:59: FutureWarning: Method .as_matrix will be removed in a future version. Use .values instead.\n",
      "/data/keeling/a/sshu3/anaconda2/lib/python2.7/site-packages/ipykernel_launcher.py:62: FutureWarning: Method .as_matrix will be removed in a future version. Use .values instead.\n",
      "/data/keeling/a/sshu3/anaconda2/lib/python2.7/site-packages/matplotlib/cbook/deprecation.py:107: MatplotlibDeprecationWarning: Passing one of 'on', 'true', 'off', 'false' as a boolean is deprecated; use an actual boolean (True/False) instead.\n",
      "  warnings.warn(message, mplDeprecation, stacklevel=1)\n"
     ]
    },
    {
     "data": {
      "image/png": "[encoded data removed]",
      "text/plain": [
       "<Figure size 1728x1080 with 1 Axes>"
      ]
     },
     "metadata": {
      "needs_background": "light"
     },
     "output_type": "display_data"
    }
   ],
   "source": [
    "# =====================================================================\n",
    "#  Plot the simulated SOC profiles for Umakant's samples\n",
    "#  Compare with the observation also\n",
    "# =====================================================================\n",
    "fobs = \"Mishra_soc_interp_197sites.csv\"\n",
    "fmod_pid = \"caselist_197sites\"\n",
    "fmod_biome = \"pftlist_197sites\"\n",
    "#fmod = \"isam_um_soc_highdecomp.dat\"\n",
    "fmod = \"isam_um_soc.dat\"\n",
    "fmod0 = \"isam_0d_soc.dat\"\n",
    "fncscd = \"NCSCD_extracted_197sites.csv\"\n",
    "\n",
    "# Read in obs\n",
    "# 197 samples in total\n",
    "obs = pd.read_csv(fobs, encoding='iso-8859-1', index_col=0)\n",
    "# Read in the model output\n",
    "mod = pd.read_csv(fmod, delim_whitespace=True, header=None)\n",
    "#mod = pd.read_csv(fmod, header=None)\n",
    "mod_pid = pd.read_csv(fmod_pid, header=None, index_col=0)\n",
    "mod_biome = pd.read_csv(fmod_biome, header=None, index_col=0)\n",
    "mod.index = mod_pid.index\n",
    "# Read in the 0d model output\n",
    "#mod0 = pd.read_csv(fmod0, delim_whitespace=True, header=None)\n",
    "mod0 = pd.read_csv(fmod0, header=None)\n",
    "mod0.index = mod_pid.index\n",
    "# Read in the NCSCD data product!\n",
    "ncscd_data = pd.read_csv(fncscd, index_col=0)\n",
    "\n",
    "sel_profid = mod_pid.index\n",
    "# Convert the interpolated SOC into ISAM depth\n",
    "z, dz, zsoih = isam.get_isam_soildp(10)\n",
    "# obs_as_isam = isam.mean_by_depth(10, zsoih, sel_profid.size, obs_sel.as_matrix())\n",
    "obs_as_isam = isam.mean_by_depth_sep8(10, zsoih, sel_profid.size, obs.as_matrix())\n",
    "obs_as_isam[obs_as_isam<=0]=float('nan')\n",
    "# Unit convert: g/cm3 -> kg/m3\n",
    "obs_isam = obs_as_isam * 1000.\n",
    "obs_isam[obs_isam<0.] = float(\"nan\")\n",
    "# Aggregated SOC density to SOC stock profile till 1m\n",
    "obs_agg_prof = soc.aggre_profden_to_profstock(10, dz, obs_isam)\n",
    "# obs_agg = soc.aggre_profden_to_stock(7, dz, obs_isam)\n",
    "obs_agg = soc.aggre_profden_to_stock_1m(zsoih, dz, obs_isam)\n",
    "obs_top = soc.aggre_profden_to_stock_30cm(zsoih, dz, obs_isam)\n",
    "obs_sub = obs_agg - obs_top\n",
    "\n",
    "mod_isam = mod.as_matrix()/dz\n",
    "mod_isam[mod_isam<0.] = float(\"nan\")\n",
    "mod_agg_prof = soc.aggre_profden_to_profstock(10, dz, mod_isam)\n",
    "# mod_agg = soc.aggre_profden_to_stock(7, dz, mod_isam)\n",
    "mod_agg = soc.aggre_profden_to_stock_1m(zsoih, dz, mod_isam)\n",
    "mod_top = soc.aggre_profden_to_stock_30cm(zsoih, dz, mod_isam)\n",
    "mod_sub = mod_agg - mod_top\n",
    "\n",
    "# Filter out the observation if model did not calculate\n",
    "# This may not be useful since all the results are available\n",
    "obs_agg[np.isnan(mod_agg)] = float(\"nan\")\n",
    "obs_agg_prof[np.isnan(mod_agg_prof)] = float(\"nan\")\n",
    "\n",
    "mod0[mod0<0] = float(\"nan\")\n",
    "mod0_agg = mod0.as_matrix().reshape(197)\n",
    "\n",
    "# Screen out NCSCD observations with the written\n",
    "ncscd = ncscd_data.NCSCDv2_Ci.as_matrix()\n",
    "ncscd[np.isnan(mod_agg)] = float(\"nan\")\n",
    "\n",
    "# Prepare figures\n",
    "# 1) Barplot of the comparison of the total SOC stock \n",
    "# do not separate into different biomes (all in one)\n",
    "obs_agg_avg = np.nanmean(obs_agg)\n",
    "mod_agg_avg = np.nanmean(mod_agg)\n",
    "mod0_avg = np.nanmean(mod0)\n",
    "# Boxplot of the total SOC in the first 1m\n",
    "# Shijie: Shall filter out peat before plotting!\n",
    "data_for_bplot = [mod_agg[~np.isnan(mod_agg)], mod0_agg[~np.isnan(mod0_agg)], obs_agg[~np.isnan(obs_agg)], ncscd[~np.isnan(ncscd)]]\n",
    "\n",
    "# multiple box plots on one figure\n",
    "plt.figure(figsize=(24,15))\n",
    "boxprops = dict(linestyle='-', linewidth=4, color='darkgoldenrod')\n",
    "flierprops = dict(marker='o', markerfacecolor='green', markersize=18,\n",
    "                  linestyle='none')\n",
    "medianprops = dict(linestyle='-.', linewidth=2.5, color='firebrick')\n",
    "meanprops = dict(marker='^', markerfacecolor='blue', markersize=18,\n",
    "                  linestyle='none')\n",
    "#meanlineprops = dict(linestyle='--', linewidth=2.5, color='purple')\n",
    "\n",
    "plt.boxplot(data_for_bplot, boxprops=boxprops, flierprops=flierprops, \\\n",
    "           medianprops=medianprops, meanprops=meanprops, showmeans=True) #, meanlineprops=meanlineprops)\n",
    "plt.xticks([1, 2, 3, 4], ['ISAM-1D', 'ISAM-0D', 'OBS (Mishra)', 'OBS (NCSCD)'], fontsize=30)\n",
    "plt.yticks([0, 25, 50, 75, 100, 125, 150, 175], fontsize=30)\n",
    "#plt.xlim((0, 9))\n",
    "#plt.ylim((-500, 500))\n",
    "#plt.xlabel('xlabel')\n",
    "plt.ylabel('Soil Organic Carbon Stock ($kgC/m^2$)', fontsize=30)\n",
    "plt.grid(color='gray', which='major', axis='both', alpha=0.3)\n",
    "plt.minorticks_on()\n",
    "plt.axhline((np.nanmean(data_for_bplot[2])+np.nanmean(data_for_bplot[3]))/2, color=\"gray\", linestyle= 'dashdot')\n",
    "plt.tick_params(axis='x',which='major',direction='in',length=8, width=2)\n",
    "plt.tick_params(axis='x',which='minor',bottom='off')\n",
    "plt.tick_params(axis='y',which='major',direction='in',length=8, width=2)\n",
    "plt.tick_params(axis='y',which='minor',direction='in',length=3)\n",
    "plt.tick_params(axis=\"x\", which=\"major\", top=True)\n",
    "plt.tick_params(axis=\"y\", which=\"both\", right=True)\n",
    "plt.tick_params(axis='x', pad=20)\n",
    "plt.text(0.65, 160, \"(a)\", fontsize=32)\n",
    "\n",
    "plt.show()\n",
    "#plt.savefig('./figures/fig5/fig5a.png')\n"
   ]
  },
  {
   "cell_type": "code",
   "execution_count": null,
   "metadata": {},
   "outputs": [],
   "source": [
    "np.nanmean(data_for_bplot[0])"
   ]
  },
  {
   "cell_type": "code",
   "execution_count": null,
   "metadata": {},
   "outputs": [],
   "source": [
    "np.nanmean(data_for_bplot[1])"
   ]
  },
  {
   "cell_type": "code",
   "execution_count": null,
   "metadata": {},
   "outputs": [],
   "source": [
    "# =====================================================================\n",
    "# Optional, not included in the paper\n",
    "# =====================================================================\n",
    "# 2) The comparison of the accumulated SOC profile\n",
    "obs_aggprof_avg = np.nanmean(obs_agg_prof, axis=0)\n",
    "mod_aggprof_avg = np.nanmean(mod_agg_prof, axis=0)\n",
    "obs_aggprof_std = np.nanstd(obs_isam*dz, axis=0)\n",
    "mod_aggprof_std = np.nanstd(mod_isam*dz, axis=0)\n",
    "obs_aggprof_avg[9] = float(\"nan\")\n",
    "obs_aggprof_std[9] = float(\"nan\")\n",
    "mod_aggprof_std[:] = 0.\n",
    "obs_aggprof_std = obs_aggprof_std #/np.sqrt(146.)  # 146 is the sample size\n",
    "mod_aggprof_std = mod_aggprof_std #/np.sqrt(146.)  # 146 is the sample size\n",
    "\n",
    "soildp = z[0:8]*100\n",
    "#tit = \"Accumulated SOC profile\"\n",
    "tit = \"\"\n",
    "path = \"./figures/fig5/Um_SOC_profile.png\"\n",
    "\n",
    "kwargs = {'Xobs': obs_aggprof_avg[0:8], 'Yobs': soildp, 'Xmod': mod_aggprof_avg[0:8], 'Ymod': soildp,\n",
    "          'Xobs_std': obs_aggprof_std[0:8], 'Xmod_std': mod_aggprof_std[0:8], 'tit': ' ', 'path': path}\n",
    "\n",
    "# Figure with std as error bar\n",
    "status = socplt.plot_obsvsmod_with_errbar(**kwargs)\n"
   ]
  },
  {
   "cell_type": "code",
   "execution_count": null,
   "metadata": {},
   "outputs": [],
   "source": [
    "# =====================================================================\n",
    "# Optional, not included in the paper\n",
    "# =====================================================================\n",
    "# 3) The comparison of the accumulated SOC profile by different biomes\n",
    "# Pick one biome and run the code once at a time\n",
    "# 5 biomes in total:\n",
    "# 7 - grassland\n",
    "# 8 - shrub\n",
    "# 9 - tundra\n",
    "# 5 - boreal evergreen\n",
    "# 20 - boreal deciduous\n",
    "obs_agg_prof_pft = obs_agg_prof[mod_biome.index == 7]\n",
    "mod_agg_prof_pft = 1.7*mod_agg_prof[mod_biome.index == 7]\n",
    "obs_aggprof_avg = np.nanmean(obs_agg_prof_pft, axis=0)\n",
    "mod_aggprof_avg = np.nanmean(mod_agg_prof_pft, axis=0)\n",
    "obs_aggprof_std = np.nanstd(obs_isam[mod_biome.index == 7]*dz, axis=0)\n",
    "mod_aggprof_std = np.nanstd(mod_isam[mod_biome.index == 7]*dz, axis=0)\n",
    "obs_aggprof_avg[9] = float(\"nan\")\n",
    "obs_aggprof_std[9] = float(\"nan\")\n",
    "mod_aggprof_std[:] = 0.\n",
    "obs_aggprof_std = obs_aggprof_std #/np.sqrt(146.)  # 146 is the sample size\n",
    "mod_aggprof_std = mod_aggprof_std #/np.sqrt(146.)  # 146 is the sample size\n",
    "\n",
    "soildp = z[0:8]*100\n",
    "#tit = \"Accumulated SOC profile\"\n",
    "tit = \"\"\n",
    "path = \"./SOC_grassland_profile.png\"\n",
    "\n",
    "status = socplt.plot_obsvsmod_with_errbar(obs_aggprof_avg[0:8], soildp, mod_aggprof_avg[0:8], soildp, obs_aggprof_std[0:8], mod_aggprof_std[0:8], tit, path)\n"
   ]
  },
  {
   "cell_type": "code",
   "execution_count": null,
   "metadata": {},
   "outputs": [],
   "source": [
    "# =====================================================================\n",
    "#  Plot the simulated 1-m integrated D14C profiles for Umakant's samples\n",
    "#  Compare with the others?\n",
    "# =====================================================================\n",
    "# ==========================================\n",
    "## Recalculate the Tau for 1-D ISAM model\n",
    "# ==========================================\n",
    "N_sample=197\n",
    "fmod_pid = \"caselist_197sites\"\n",
    "fmod_biome = \"pftlist_197sites\"\n",
    "fmod = \"isam_um_dc14.dat\"\n",
    "fmod_soc = \"isam_um_soc.dat\"\n",
    "\n",
    "# Read in D14C from observation\n",
    "data = pd.read_csv(fmod, delim_whitespace=True, header=None)\n",
    "pid = pd.read_csv(fmod_pid, header=None, index_col=0)\n",
    "data.index = pid.index\n",
    "\n",
    "# Read in the SOC profile\n",
    "dsoc = pd.read_csv(fmod_soc, delim_whitespace=True, header=None)\n",
    "dsoc.index = pid.index\n",
    "soc = dsoc.as_matrix()\n",
    "frac = soc * np.float(\"nan\")\n",
    "for i in np.arange(0,7):\n",
    "    frac[:,i] = soc[:,i]/(np.sum(soc[:,0:7], axis=1)+0.3*soc[:,7])\n",
    "frac[:,7] = 0.3*soc[:,7]/(np.sum(soc[:,0:7], axis=1)+0.3*soc[:,7])\n",
    "    \n",
    "# Assign Nan value for the all the data with -9999.\n",
    "data[data<-1200.] = float(\"nan\")\n",
    "# Get the C-weighted D14\n",
    "d14c = np.nansum(frac * data, axis=1)\n",
    "d14c[d14c==0.]=np.float(\"nan\")\n",
    "\n",
    "# Calculate tau\n",
    "z, dz, zsoih = isam.get_isam_soildp(10)\n",
    "# First get the C-weighted mean D14C for each profile\n",
    " \n",
    "sampleyr = 2010 * np.ones(len(d14c))\n",
    "\n",
    "tau, cost = C14utils.cal_tau(d14c, sampleyr, 1, 0)\n",
    "# Not showing too extreme anomalies\n",
    "tau[tau>=4.00000000e+03] = np.float(\"nan\")\n",
    "data['tau'] = pd.Series(tau[:,0], index=data.index)\n",
    "data.nodedepth = z*100\n",
    "#tau=np.loadtxt(\"isam_um_tau.csv\")\n",
    "ttt=tau.reshape(N_sample)\n",
    "\n",
    "# ==========================================\n",
    "## Recalculate the Tau for 0-D ISAM model\n",
    "# ==========================================\n",
    "fmod_pid = \"caselist_197sites\"\n",
    "fmod_biome = \"pftlist_197sites\"\n",
    "fmod = \"isam_0d_dc14.dat\"\n",
    "fmod_soc = \"isam_0d_soc.dat\"\n",
    "\n",
    "# Read in D14C from observation\n",
    "data0d = pd.read_csv(fmod, delim_whitespace=True, header=None)\n",
    "pid = pd.read_csv(fmod_pid, header=None, index_col=0)\n",
    "data0d.index = pid.index\n",
    "\n",
    "# Read in the SOC profile\n",
    "dsoc = pd.read_csv(fmod_soc, delim_whitespace=True, header=None)\n",
    "dsoc.index = pid.index\n",
    "soc0d = dsoc.as_matrix()\n",
    "\n",
    "# Assign Nan value for the all the data with -9999.\n",
    "data0d[data0d<-1200.] = float(\"nan\")\n",
    "# Get the C-weighted D14\n",
    "d14c0d = np.nansum(data0d, axis=1)\n",
    "d14c0d[d14c0d==0.]=np.float(\"nan\")\n",
    "\n",
    "# Calculate tau\n",
    "z, dz, zsoih = isam.get_isam_soildp(10)\n",
    "# First get the C-weighted mean D14C for each profile\n",
    " \n",
    "sampleyr = 2010 * np.ones(len(d14c0d[0:N_sample]))\n",
    "\n",
    "tau0, cost = C14utils.cal_tau(d14c0d[0:N_sample], sampleyr, 1, 0)\n",
    "# Not showing too extreme anomalies\n",
    "tau0[tau0>=4.00000000e+03] = np.float(\"nan\")\n",
    "data['tau'] = pd.Series(tau0[:,0], index=data.index)\n",
    "data.nodedepth = z*100\n",
    "ttt0=tau0.reshape(N_sample)\n",
    "\n",
    "# ==========================================\n",
    "## Site level estimations of Tau\n",
    "# ==========================================\n",
    "# Schadel et al., 2014\n",
    "tau_org = 98.95\n",
    "tau_min = 2350.443\n",
    "# Assume the same fraction of organic vs mineral\n",
    "tau_comb = 0.5*tau_org + 0.5*tau_min \n",
    "ttt_o = [tau_org, tau_min, tau_comb]\n",
    "\n",
    "# Knoblauch et al., 2013\n",
    "tau_a = 0.26*0.0222+170.3*0.9778\n",
    "tau_ana = 0.21*0.0064+2652*0.9936\n",
    "# Assume the same fraction of organic vs mineral\n",
    "tau_comb = 0.5*tau_a + 0.5*tau_ana \n",
    "ttt_o2 = [tau_a, tau_ana, tau_comb]\n",
    "\n",
    "# Trumbore and Harden, 1997\n",
    "\n",
    "tau_s1 = 62.24605043\n",
    "tau_s2 = 1017.085308\n",
    "#tau_s3 = 1068.201909\n",
    "tau_s3 = 2485.23\n",
    "#ttt_o3 = [tau_s1, tau_s2, tau_s3, tau_s4]\n",
    "ttt_o3 = [tau_s1, tau_s2, tau_s3]\n",
    "\n",
    "lit_all = ttt_o + ttt_o2 + ttt_o3\n",
    "mean_lit = np.nanmean(lit_all)\n",
    "\n",
    "\n",
    "data_bplot = [ttt[~np.isnan(ttt)], ttt0[~np.isnan(ttt0)], ttt_o, ttt_o2, ttt_o3]\n",
    "\n",
    "# Plot boxplot for tau\n",
    "plt.figure(figsize=(24,15))\n",
    "boxprops = dict(linestyle='-', linewidth=4, color='darkgoldenrod')\n",
    "flierprops = dict(marker='o', markerfacecolor='green', markersize=18,\n",
    "                  linestyle='none')\n",
    "medianprops = dict(linestyle='-.', linewidth=2.5, color='firebrick')\n",
    "meanprops = dict(marker='^', markerfacecolor='blue', markersize=18,\n",
    "                  linestyle='none')\n",
    "plt.boxplot(data_bplot,  boxprops=boxprops, flierprops=flierprops, \\\n",
    "           medianprops=medianprops, meanprops=meanprops, showmeans=True)\n",
    "plt.xticks([1,2,3,4,5], ['ISAM-1D', 'ISAM-0D', 'Schadel et al.\\n 2014', \\\n",
    "                         'Knoblauch et al.\\n 2013', 'Trumbore and \\n Harden, 1997'], fontsize=30)\n",
    "#plt.boxplot(data_bplot,  boxprops=boxprops, flierprops=flierprops, \\\n",
    "#           medianprops=medianprops, meanprops=meanprops, showmeans=True)\n",
    "# Add the line representing the mean value\n",
    "plt.grid(color='gray', which='major', axis='both', alpha=0.3)\n",
    "plt.minorticks_on()\n",
    "plt.tick_params(axis='x',which='major',direction='in',length=8, width=2)\n",
    "plt.tick_params(axis='x',which='minor',bottom='off')\n",
    "plt.tick_params(axis='y',which='major',direction='in',length=8, width=2)\n",
    "plt.tick_params(axis='y',which='minor',direction='in',length=3)\n",
    "plt.tick_params(axis=\"x\", which=\"major\", top=True)\n",
    "plt.tick_params(axis=\"y\", which=\"both\", right=True)\n",
    "plt.tick_params(axis='x', pad=20)\n",
    "plt.ylabel('Turnover Time ($year$)', fontsize=30)\n",
    "plt.axhline(mean_lit, color=\"gray\", linestyle= 'dashdot')\n",
    "plt.yticks([0, 500, 1000, 1500, 2000, 2500, 3000, 3500, 4000], fontsize=30)\n",
    "plt.text(0.65, 3600, \"(b)\", fontsize=32)\n",
    "\n",
    "#plt.show()\n",
    "plt.savefig('./figures/fig5/fig5b.png')\n"
   ]
  },
  {
   "cell_type": "code",
   "execution_count": null,
   "metadata": {},
   "outputs": [],
   "source": [
    "np.nanmean(data_bplot[0])"
   ]
  },
  {
   "cell_type": "code",
   "execution_count": null,
   "metadata": {},
   "outputs": [],
   "source": [
    "np.nanmean(data_bplot[1])"
   ]
  },
  {
   "cell_type": "code",
   "execution_count": null,
   "metadata": {},
   "outputs": [],
   "source": [
    "# Shijie: Compare ISAM-1D with Mishra SOC for topsoil and subsoil separately\n",
    "\n"
   ]
  },
  {
   "cell_type": "code",
   "execution_count": null,
   "metadata": {},
   "outputs": [],
   "source": []
  }
 ],
 "metadata": {
  "kernelspec": {
   "display_name": "Python 2",
   "language": "python",
   "name": "python2"
  },
  "language_info": {
   "codemirror_mode": {
    "name": "ipython",
    "version": 2
   },
   "file_extension": ".py",
   "mimetype": "text/x-python",
   "name": "python",
   "nbconvert_exporter": "python",
   "pygments_lexer": "ipython2",
   "version": "2.7.16"
  }
 },
 "nbformat": 4,
 "nbformat_minor": 2
}
