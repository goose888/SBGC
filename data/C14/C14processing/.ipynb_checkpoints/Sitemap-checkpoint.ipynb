{
 "cells": [
  {
   "cell_type": "code",
   "execution_count": 1,
   "metadata": {
    "collapsed": false
   },
   "outputs": [],
   "source": [
    "import pandas as pd\n",
    "import numpy as np\n",
    "import matplotlib.pyplot as plt\n",
    "import C14preproc as prep\n",
    "from mpl_toolkits.basemap import Basemap, cm\n",
    "from netCDF4 import Dataset"
   ]
  },
  {
   "cell_type": "code",
   "execution_count": null,
   "metadata": {
    "collapsed": false
   },
   "outputs": [],
   "source": [
    "#%% plot all profiles\n",
    "filename = 'Non_peat_data_synthesis.csv'\n",
    "data = pd.read_csv(filename,encoding='iso-8859-1',index_col='ProfileID', skiprows=[1])\n",
    "profid = data.index.unique()\n",
    "lons = prep.getvarxls(data,'Lon',profid,0)\n",
    "lats = prep.getvarxls(data,'Lat',profid,0)\n",
    "fig = plt.figure()\n",
    "ax = fig.add_axes([0.05,0.05,0.9,0.9])\n",
    "m = Basemap(llcrnrlon=-180,llcrnrlat=-60,urcrnrlon=180,urcrnrlat=80,projection='mill',lon_0=0,lat_0=0)\n",
    "lon, lat = np.meshgrid(lons, lats)\n",
    "x, y = m(lons,lats)\n",
    "m.drawcoastlines(linewidth=0.25)\n",
    "m.drawcountries(linewidth=0.25)\n",
    "m.drawmapboundary(fill_color='#99ffff')\n",
    "m.fillcontinents(color='grey',lake_color='#99ffff',zorder=0)\n",
    "m.scatter(lons,lats,15,marker='^',color='r',alpha=0.7,latlon=True)\n",
    "# draw parallels.\n",
    "parallels = np.arange(-90.,90.,30.)\n",
    "m.drawparallels(parallels,labels=[1,0,0,0],fontsize=10)\n",
    "# draw meridians\n",
    "meridians = np.arange(0.,360.,45.)\n",
    "m.drawmeridians(meridians,labels=[0,0,0,1],fontsize=10)\n",
    "ax.set_title('Profile Sites')\n",
    "fig.savefig('./Allprofiles.png')"
   ]
  },
  {
   "cell_type": "code",
   "execution_count": null,
   "metadata": {
    "collapsed": false
   },
   "outputs": [],
   "source": [
    "#%% plot profiles that are extracted for modeling\n",
    "filename = 'tot48prof.txt'\n",
    "data = np.loadtxt(filename,unpack=True,delimiter=',')[0:2,:].T\n",
    "lons = data[:,0].astype(float)\n",
    "lats = data[:,1].astype(float)\n",
    "fig = plt.figure()\n",
    "ax = fig.add_axes([0.05,0.05,0.9,0.9])\n",
    "m = Basemap(llcrnrlon=-180,llcrnrlat=-60,urcrnrlon=180,urcrnrlat=80,projection='mill',lon_0=0.,lat_0=0.)\n",
    "m.drawcoastlines(linewidth=0.25)\n",
    "#m.drawcountries(linewidth=0.25)\n",
    "m.drawmapboundary(fill_color='#99ffff')\n",
    "m.fillcontinents(color='grey',lake_color='#99ffff',zorder=0)\n",
    "#x, y = m(lons,lats)\n",
    "#m.scatter(lons,lats,17,marker='^',color='r',alpha=0.7,latlon=True)\n",
    "x, y = m(lons,lats)\n",
    "for i in range(x.shape[0]):\n",
    "    m.scatter(lons[i],lats[i],17,marker='^',color='r',alpha=0.7,latlon=True)\n",
    "# draw parallels.\n",
    "parallels = np.arange(-90.,90.,30.)\n",
    "m.drawparallels(parallels,labels=[1,0,0,0],fontsize=10)\n",
    "# draw meridians\n",
    "meridians = np.arange(0.,360.,45.)\n",
    "m.drawmeridians(meridians,labels=[0,0,0,1],fontsize=10)\n",
    "ax.set_title('Profile Sites Extracted for modeling')\n",
    "fig.savefig('./ProfileExtracted4modeling2.png')"
   ]
  },
  {
   "cell_type": "code",
   "execution_count": null,
   "metadata": {
    "collapsed": false
   },
   "outputs": [],
   "source": [
    "#%% plot all profiles with veg\n",
    "filename = 'Non_peat_data_synthesis.csv'\n",
    "data = pd.read_csv(filename,encoding='iso-8859-1',index_col='ProfileID')\n",
    "biome = {1:'Boreal Forest',2:'Temperate Forest',3:'Tropical Forest',4:'Grassland', \\\n",
    "         5:'Cropland',6:'Shrublands',7:'Peatland',8:'Savannas'}\n",
    "lons = data['Lon'][1:].values.astype(float)\n",
    "lats = data['Lat'][1:].values.astype(float)\n",
    "veg = data['VegTypeCode_Local'][1:].values.astype(float)\n",
    "nveg = len(np.unique(veg[~np.isnan(veg)]))\n",
    "fig = plt.figure()\n",
    "ax = fig.add_axes([0.05,0.05,0.9,0.9])\n",
    "m = Basemap(llcrnrlon=-180,llcrnrlat=-60,urcrnrlon=180,urcrnrlat=80,projection='mill',lon_0=180,lat_0=0)\n",
    "m.drawcoastlines(linewidth=0.25)\n",
    "m.drawcountries(linewidth=0.25)\n",
    "m.drawmapboundary(fill_color='#99ffff')\n",
    "m.fillcontinents(color='grey',lake_color='#99ffff',zorder=0)\n",
    "cmm = plt.get_cmap('Set1')\n",
    "#for i in np.unique(veg[~np.isnan(veg)]):\n",
    "for i in range(1,9):\n",
    "    x, y = m(lons[veg==i],lats[veg==i])\n",
    "    m.scatter(x,y,55,marker='^',color=cmm(1.*i/nveg*1.),label=biome[i],alpha=1)\n",
    "plt.legend(scatterpoints=1,loc=3)\n",
    "# draw parallels.\n",
    "parallels = np.arange(-90.,90.,30.)\n",
    "m.drawparallels(parallels,labels=[1,0,0,0],fontsize=10)\n",
    "# draw meridians\n",
    "meridians = np.arange(0.,360.,45.)\n",
    "m.drawmeridians(meridians,labels=[0,0,0,1],fontsize=10)\n",
    "ax.set_title('Profile Sites')\n",
    "fig.savefig('./Allprofiles_wtveg.png')"
   ]
  },
  {
   "cell_type": "code",
   "execution_count": null,
   "metadata": {
    "collapsed": false
   },
   "outputs": [],
   "source": [
    "biome[1]"
   ]
  },
  {
   "cell_type": "code",
   "execution_count": 2,
   "metadata": {
    "collapsed": false
   },
   "outputs": [
    {
     "name": "stdout",
     "output_type": "stream",
     "text": [
      "NetCDF Global Attributes:\n",
      "\tmodified: u'Will Wieder Thu Sep  6 14:57:39 MDT 2012'\n",
      "\tinstitution: u'NCAR (National Center for Atmospheric Research, USA)'\n",
      "\tcreator: u'Will Wieder'\n",
      "\tcreator_email: u'wwieder@ucar.edu'\n",
      "\ttitle: u'3x3minute regridded HWSD - Reference depth of soil unit'\n",
      "\tsource: u'Original data from HWSD and processed with ESRI ArcGIS 10.0'\n",
      "\tprocessing: u'HWSD regridded from native resolution (30 arc-second) to 3 arc-minute using Environmental Systems Research Institute ArcGIS 10.0.\\n Zonal statistics were performed on the original HWSD to obtain the most common HWSD soil mapping unit identifier (MU_GLOBAL) for each new grid cell.\\n Only MU_GLOBAL with highest SHARE (SEQ = 1) were included in zonal statistics.\\n Each parameter was exported as a netCDF file.'\n",
      "\tConventions: u'CF-1.5'\n",
      "\treferences: u'FAO/IIASA/ISRIC/ISSCAS/JRC, 2012. Harmonized World Soil Database (version 1.2). FAO, Rome, Italy and IIASA, Laxenburg, Austria.\\nHWSD Documentation URL: http://webarchive.iiasa.ac.at/Research/LUC/External-World-soil-database/HWSD_Documentation.pdf'\n",
      "\thistory: u'changed missing values to -1\\nFlipped lat (-90:90)'\n",
      "NetCDF dimension information:\n",
      "\tName: lon\n",
      "\t\tsize: 7200\n",
      "\t\ttype: dtype('float64')\n",
      "\t\taxis: u'X'\n",
      "\t\tlong_name: u'longitude'\n",
      "\t\tstandard_name: u'longitude'\n",
      "\t\tunits: u'degrees_east'\n",
      "\tName: lat\n",
      "\t\tsize: 3600\n",
      "\t\ttype: dtype('float64')\n",
      "\t\taxis: u'Y'\n",
      "\t\tlong_name: u'latitude'\n",
      "\t\tstandard_name: u'latitude'\n",
      "\t\tunits: u'degrees_north'\n",
      "NetCDF variable information:\n",
      "\tName: REF_DEPTH\n",
      "\t\tdimensions: (u'lat', u'lon')\n",
      "\t\tsize: 25920000\n",
      "\t\ttype: dtype('float64')\n",
      "\t\t_FillValue: -1.0\n",
      "\t\tmissing_value: -1.0\n",
      "\t\tlong_name: u'reference depth of soil unit'\n",
      "\t\tvariable: u'REF_DEPTH'\n",
      "\t\tstandard_name: u'depth'\n",
      "\t\tunits: u'cm'\n",
      "\t\tpositive: u'down'\n",
      "\t\toriginal_name: u'REF_DEPTH'\n",
      "\t\tcomment: u'Reference soil depth of all soil units are set at 100 cm, except for Rendzinas and Rankers of FAO-74 and Leptosols of FAO-90, where the reference soil depth is set at 30 cm, and for Lithosols of FAO-74 and Lithic Leptosols of FAO-90, where it is set at 10 cm.'\n"
     ]
    },
    {
     "name": "stderr",
     "output_type": "stream",
     "text": [
      "/data/keeling/a/sshu3/anaconda2/lib/python2.7/site-packages/mpl_toolkits/basemap/__init__.py:3296: MatplotlibDeprecationWarning: The ishold function was deprecated in version 2.0.\n",
      "  b = ax.ishold()\n",
      "/data/keeling/a/sshu3/anaconda2/lib/python2.7/site-packages/mpl_toolkits/basemap/__init__.py:3305: MatplotlibDeprecationWarning: axes.hold is deprecated.\n",
      "    See the API Changes document (http://matplotlib.org/api/api_changes.html)\n",
      "    for more details.\n",
      "  ax.hold(b)\n"
     ]
    }
   ],
   "source": []
  }
 ],
 "metadata": {
  "kernelspec": {
   "display_name": "Python 2",
   "language": "python",
   "name": "python2"
  },
  "language_info": {
   "codemirror_mode": {
    "name": "ipython",
    "version": 2
   },
   "file_extension": ".py",
   "mimetype": "text/x-python",
   "name": "python",
   "nbconvert_exporter": "python",
   "pygments_lexer": "ipython2",
   "version": "2.7.13"
  }
 },
 "nbformat": 4,
 "nbformat_minor": 2
}
