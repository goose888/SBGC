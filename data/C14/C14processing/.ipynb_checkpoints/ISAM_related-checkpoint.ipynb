{
 "cells": [
  {
   "cell_type": "code",
   "execution_count": 1,
   "metadata": {
    "collapsed": false
   },
   "outputs": [],
   "source": [
    "import isamcalc_lib as isam\n",
    "z, dz, zsoih = isam.get_isam_soildp(10)\n",
    "mod = isam.get_depth_modifier(10, z)"
   ]
  },
  {
   "cell_type": "code",
   "execution_count": 2,
   "metadata": {
    "collapsed": false
   },
   "outputs": [
    {
     "data": {
      "text/plain": [
       "array([  1.00000000e+00,   9.04412002e-01,   7.50314786e-01,\n",
       "         5.22508289e-01,   2.55936328e-01,   6.60425567e-02,\n",
       "         6.12133733e-03,   1.15479591e-04,   1.64947994e-07,\n",
       "         3.36071402e-12])"
      ]
     },
     "execution_count": 2,
     "metadata": {},
     "output_type": "execute_result"
    }
   ],
   "source": [
    "mod"
   ]
  },
  {
   "cell_type": "code",
   "execution_count": 3,
   "metadata": {
    "collapsed": false
   },
   "outputs": [
    {
     "data": {
      "text/plain": [
       "array([ 0.00710064,  0.027925  ,  0.06225857,  0.11886507,  0.2121934 ,\n",
       "        0.3660658 ,  0.6197585 ,  1.03802705,  1.72763531,  2.86460711])"
      ]
     },
     "execution_count": 3,
     "metadata": {},
     "output_type": "execute_result"
    }
   ],
   "source": [
    "z"
   ]
  }
 ],
 "metadata": {
  "kernelspec": {
   "display_name": "Python 2",
   "language": "python",
   "name": "python2"
  },
  "language_info": {
   "codemirror_mode": {
    "name": "ipython",
    "version": 2
   },
   "file_extension": ".py",
   "mimetype": "text/x-python",
   "name": "python",
   "nbconvert_exporter": "python",
   "pygments_lexer": "ipython2",
   "version": "2.7.13"
  }
 },
 "nbformat": 4,
 "nbformat_minor": 2
}
