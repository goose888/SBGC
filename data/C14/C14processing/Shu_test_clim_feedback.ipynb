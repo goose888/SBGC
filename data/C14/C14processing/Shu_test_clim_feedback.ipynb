{
 "cells": [
  {
   "cell_type": "code",
   "execution_count": 1,
   "metadata": {},
   "outputs": [],
   "source": [
    "import os\n",
    "os.environ['PROJ_LIB'] = '/data/keeling/a/sshu3/anaconda2/share/proj'\n",
    "from mpl_toolkits.basemap import Basemap, cm, shiftgrid,maskoceans\n",
    "from netCDF4 import Dataset as NetCDFFile\n",
    "import numpy as np\n",
    "import numpy.ma as ma\n",
    "import matplotlib.pyplot as plt\n",
    "from matplotlib import colors, ticker\n",
    "import numpy.ma as ma\n",
    "from scipy.interpolate import griddata\n",
    "from pyresample import geometry,image, kd_tree\n",
    "import copy"
   ]
  },
  {
   "cell_type": "code",
   "execution_count": 2,
   "metadata": {},
   "outputs": [
    {
     "name": "stdout",
     "output_type": "stream",
     "text": [
      "mean_bgc3d_1861_1870.nc\n",
      "mean_bgc3d_1871_1880.nc\n",
      "mean_bgc3d_1881_1890.nc\n",
      "mean_bgc3d_1891_1900.nc\n",
      "mean_bgc3d_1901_1910.nc\n",
      "mean_bgc3d_1911_1920.nc\n",
      "mean_bgc3d_1921_1930.nc\n",
      "mean_bgc3d_1931_1940.nc\n",
      "mean_bgc3d_1941_1950.nc\n",
      "mean_bgc3d_1951_1960.nc\n",
      "mean_bgc3d_1961_1970.nc\n",
      "mean_bgc3d_1971_1980.nc\n",
      "mean_bgc3d_1981_1990.nc\n",
      "mean_bgc3d_1991_2000.nc\n",
      "mean_bgc3d_2001_2010.nc\n"
     ]
    }
   ],
   "source": [
    "# Option\n",
    "dave_mc=False\n",
    "\n",
    "## Code to plot the impact from CO2 and climate separately\n",
    "# Control - noclimate = Climate impact\n",
    "# Control - noco2 = CO2 effect\n",
    "\n",
    "# Open NCSCD as observation\n",
    "path='/data/jain1/c/sshu3/SBGC/data/NCSCDv2_Circumpolar_netCDF_05deg/ncscdv2_soilc_0.5x0.5.nc'\n",
    "#path='/data/jain1/c/sshu3/SBGC/data/NCSCDv2_Circumpolar_netCDF_05deg/ncscd_masked_0.5x0.5.nc'\n",
    "nclu_obs=NetCDFFile(path,'r')\n",
    "soc_ncscd_orig = nclu_obs.variables['soilc'][:]\n",
    "latnc2 = nclu_obs.variables['lat'][:]\n",
    "lonnc2 = nclu_obs.variables['lon'][:]\n",
    "nclu_obs.close()\n",
    "soc_ncscd = soc_ncscd_orig[0,:,:]\n",
    "\n",
    "# Use the NCSCD permafrost mask, which is the norther high latitude permafrost region without greenland\n",
    "# The mask Mcguire et al., 2016 used including alpine permafrost (Tiebet and the Alps)\n",
    "# Alpine permafrost to be treated as having a very small amount of SOC, though for the paper we have \n",
    "# to consider the whole region.\n",
    "mask_permafrost = copy.deepcopy(ma.getmask(soc_ncscd))\n",
    "another_mask = ma.masked_where(soc_ncscd<=0, soc_ncscd)\n",
    "temp = copy.deepcopy(mask_permafrost[:, 0:360])\n",
    "mask_permafrost[:, 0:360] = mask_permafrost[:, 360:720]\n",
    "mask_permafrost[:, 360:720] = temp\n",
    "temp = copy.deepcopy(another_mask[:, 0:360])\n",
    "another_mask[:, 0:360] = another_mask[:, 360:720]\n",
    "another_mask[:, 360:720] = temp\n",
    "#new_mask = np.logical_or(another_mask, mask_permafrost)\n",
    "\n",
    "# Background time series\n",
    "respath_ctrl='/data/jain1/d/sshu3/SBGC_1d'\n",
    "respath_noco2='/data/jain1/d/sshu3/SBGC_1d_noco2'\n",
    "respath_noclim='/data/jain1/d/sshu3/SBGC_1d_noclim'\n",
    "flist = ['mean_bgc3d_1861_1870.nc', 'mean_bgc3d_1871_1880.nc', 'mean_bgc3d_1881_1890.nc', 'mean_bgc3d_1891_1900.nc', \\\n",
    "        'mean_bgc3d_1901_1910.nc', 'mean_bgc3d_1911_1920.nc', 'mean_bgc3d_1921_1930.nc', 'mean_bgc3d_1931_1940.nc', \\\n",
    "        'mean_bgc3d_1941_1950.nc', 'mean_bgc3d_1951_1960.nc', 'mean_bgc3d_1961_1970.nc', 'mean_bgc3d_1971_1980.nc', \\\n",
    "        'mean_bgc3d_1981_1990.nc', 'mean_bgc3d_1991_2000.nc', 'mean_bgc3d_2001_2010.nc']\n",
    "flist_ctrl = flist\n",
    "#['mean_bgc3d_1801_1810.nc', 'mean_bgc3d_1811_1820.nc', 'mean_bgc3d_1821_1830.nc', 'mean_bgc3d_1831_1840.nc', \\\n",
    "#        'mean_bgc3d_1841_1850.nc', 'mean_bgc3d_1851_1860.nc', 'mean_bgc3d_1861_1870.nc', 'mean_bgc3d_1871_1880.nc', \\\n",
    "#        'mean_bgc3d_1881_1890.nc', 'mean_bgc3d_1891_1900.nc', 'mean_bgc3d_1901_1910.nc', 'mean_bgc3d_1911_1920.nc', \\\n",
    "#        'mean_bgc3d_1921_1930.nc', 'mean_bgc3d_1931_1940.nc', 'mean_bgc3d_1941_1950.nc']\n",
    "\n",
    "flen = len(flist)\n",
    "\n",
    "soc_ctrl = np.zeros((flen, 360, 720))\n",
    "soc_noclim = np.zeros((flen, 360, 720))\n",
    "soc_noco2 = np.zeros((flen, 360, 720))\n",
    "\n",
    "for i in np.arange(0,flen):\n",
    "    # 0D\n",
    "    print(flist[i])\n",
    "    fp=respath_ctrl+'/'+flist_ctrl[i]\n",
    "    nclu=NetCDFFile(fp,'r')\n",
    "    #soc_temp_ctrl = nclu.variables['soil_c'][:]\n",
    "    soclev_ctrl = nclu.variables['soil_c_lev'][:]\n",
    "    resplev_ctrl = nclu.variables['resp_lev'][:]\n",
    "    latnc = nclu.variables['lat'][:]\n",
    "    lonnc = nclu.variables['lon'][:]\n",
    "    nclu.close()\n",
    "    \n",
    "    fp=respath_noco2+'/'+flist[i]\n",
    "    nclu=NetCDFFile(fp,'r')\n",
    "    #soc_temp_noco2 = nclu.variables['soil_c'][:]\n",
    "    soclev_noco2 = nclu.variables['soil_c_lev'][:]\n",
    "    resplev_noco2 = nclu.variables['resp_lev'][:]\n",
    "    nclu.close()\n",
    "    \n",
    "    fp=respath_noclim+'/'+flist[i]\n",
    "    nclu=NetCDFFile(fp,'r')\n",
    "    #soc_temp_noco2 = nclu.variables['soil_c'][:]\n",
    "    soclev_noclim = nclu.variables['soil_c_lev'][:]\n",
    "    resplev_noclim = nclu.variables['resp_lev'][:]\n",
    "    nclu.close()\n",
    "\n",
    "    # Get the topsoil SOC (0-30cm) from 1D model\n",
    "    soc_top_ctrl = np.sum(soclev_ctrl[0:5,:,:], 0)\n",
    "    soc_top_noco2 = np.sum(soclev_noco2[0:5,:,:], 0)\n",
    "    soc_top_noclim = np.sum(soclev_noclim[0:5,:,:], 0)\n",
    "    \n",
    "    soc_sub_ctrl = np.sum(soclev_ctrl[5:7,:,:], 0)+0.3*soclev_ctrl[7,:,:]\n",
    "    soc_sub_noco2 = np.sum(soclev_noco2[5:7,:,:], 0)+0.3*soclev_noco2[7,:,:]\n",
    "    soc_sub_noclim = np.sum(soclev_noclim[5:7,:,:], 0)+0.3*soclev_noclim[7,:,:]\n",
    "    \n",
    "    soc_ctrl[i,:,:] = soc_top_ctrl + soc_sub_ctrl\n",
    "    soc_noco2[i,:,:] = soc_top_noco2 + soc_sub_noco2\n",
    "    soc_noclim[i,:,:] = soc_top_noclim + soc_sub_noclim\n",
    "\n",
    "    #soc_ctrl[i,:,:] = soc_temp_ctrl\n",
    "    #soc_noco2[i,:,:] = soc_temp_noco2\n",
    "    "
   ]
  },
  {
   "cell_type": "code",
   "execution_count": null,
   "metadata": {},
   "outputs": [],
   "source": [
    "a = [-2, -1, 0, 1, 2]"
   ]
  },
  {
   "cell_type": "code",
   "execution_count": null,
   "metadata": {},
   "outputs": [],
   "source": [
    "len(np.where(a <0)[0])"
   ]
  },
  {
   "cell_type": "code",
   "execution_count": null,
   "metadata": {},
   "outputs": [],
   "source": []
  },
  {
   "cell_type": "code",
   "execution_count": 3,
   "metadata": {},
   "outputs": [],
   "source": [
    "# Calculate total numbers for paper\n",
    "# Mask all regions outside the northern permafrost extent\n",
    "\n",
    "# soc_ctrl_perm = copy.deepcopy(soc_ctrl)\n",
    "# soc_noclim_perm = copy.deepcopy(soc_noclim)\n",
    "# soc_noco2_perm = copy.deepcopy(soc_noco2)\n",
    "# soc0d_ctrl_perm = copy.deepcopy(soc0d_ctrl)\n",
    "# soc0d_noclim_perm = copy.deepcopy(soc0d_noclim)\n",
    "# soc0d_noco2_perm = copy.deepcopy(soc0d_noco2)\n",
    "\n",
    "\n",
    "# Get the grid area\n",
    "nlon = 720\n",
    "nlat = 360\n",
    "grid_area = np.ones((nlat, nlon))*-9999.\n",
    "#val = np.ones((nlat, nlon))*float(\"nan\")\n",
    "#val_0d = np.ones((nlat, nlon))*float(\"nan\")\n",
    "#val_obs = np.ones((nlat, nlon))*float(\"nan\")\n",
    "earth_area =  5.096e14;\n",
    "lat = np.arange(-89.75, 90.25, 0.5)\n",
    "res = 0.5;\n",
    "for i in np.arange(0,nlat):\n",
    "    for j in np.arange(0,nlon):\n",
    "        grid_area[i,j] = (earth_area/2)*abs(np.sin((lat[i] - res/2)*np.pi/180) -\n",
    "                    np.sin((lat[i] + res/2)*np.pi/180))/(360/res)\n",
    "\n",
    "soc1d_ctrl_ts = np.zeros((flen))\n",
    "soc1d_noco2_ts = np.zeros((flen))\n",
    "soc1d_noclim_ts = np.zeros((flen))\n",
    "\n",
    "for i in np.arange(0,flen):\n",
    "    soc_ctrl_perm =  ma.masked_array(soc_ctrl[i,:,:], mask=another_mask.mask)\n",
    "    soc_noco2_perm =  ma.masked_array(soc_noco2[i,:,:], mask=another_mask.mask)\n",
    "    soc_noclim_perm =  ma.masked_array(soc_noclim[i,:,:], mask=another_mask.mask)\n",
    "    # This condition is applied to filter out problematic outputs\n",
    "    soc_ctrl_perm[soc_ctrl_perm<5] = np.float('nan')\n",
    "    soc_noco2_perm[soc_noco2_perm<5] = np.float('nan')\n",
    "    soc_noclim_perm[soc_noclim_perm<5] = np.float('nan')\n",
    "    \n",
    "    val_ctrl = soc_ctrl_perm * grid_area\n",
    "    val_noco2 = soc_noco2_perm * grid_area\n",
    "    val_noclim = soc_noclim_perm * grid_area\n",
    "    \n",
    "    soc1d_ctrl_ts[i] = np.nansum(val_ctrl)/1e12\n",
    "    soc1d_noco2_ts[i] = np.nansum(val_noco2)/1e12\n",
    "    soc1d_noclim_ts[i] = np.nansum(val_noclim)/1e12  "
   ]
  },
  {
   "cell_type": "code",
   "execution_count": null,
   "metadata": {},
   "outputs": [],
   "source": [
    "# CO2 fertilize\n",
    "co2_ts = soc1d_ctrl_ts - soc1d_noco2_ts\n",
    "clim_ts = soc1d_ctrl_ts - soc1d_noclim_ts\n",
    "co20d_ts = soc0d_ctrl_ts - soc0d_noco2_ts\n",
    "clim0d_ts = soc0d_ctrl_ts - soc0d_noclim_ts"
   ]
  },
  {
   "cell_type": "code",
   "execution_count": null,
   "metadata": {},
   "outputs": [],
   "source": [
    "soc1d_ctrl_ts[6:15] = soc1d_ctrl_ts[6:15] + 1.0"
   ]
  },
  {
   "cell_type": "code",
   "execution_count": null,
   "metadata": {},
   "outputs": [],
   "source": [
    "soc1d_noco2_ts"
   ]
  },
  {
   "cell_type": "code",
   "execution_count": null,
   "metadata": {},
   "outputs": [],
   "source": [
    "plt.plot(soc1d_noco2_ts - soc1d_ctrl_ts)\n",
    "#plt.savefig('Climte_impact_of_0D_with_ST.png')"
   ]
  },
  {
   "cell_type": "code",
   "execution_count": 4,
   "metadata": {},
   "outputs": [
    {
     "data": {
      "text/plain": [
       "<matplotlib.legend.Legend at 0x2b7c3f87e150>"
      ]
     },
     "execution_count": 4,
     "metadata": {},
     "output_type": "execute_result"
    },
    {
     "data": {
      "image/png": "[encoded data removed]",
      "text/plain": [
       "<Figure size 432x288 with 1 Axes>"
      ]
     },
     "metadata": {
      "needs_background": "light"
     },
     "output_type": "display_data"
    }
   ],
   "source": [
    "x = [1865, 1875, 1885, 1895, 1905, 1915, 1925, 1935, 1945, 1955, 1965, 1975, 1985, 1995, 2005]\n",
    "ddd= soc1d_noco2_ts - soc1d_ctrl_ts\n",
    "plt.plot(x, (soc1d_noclim_ts - soc1d_ctrl_ts))\n",
    "plt.plot(x, (soc1d_noco2_ts - soc1d_ctrl_ts))\n",
    "plt.legend(['ISAM-1D_CO2', 'ISAM-1D_Climate'])\n",
    "#plt.savefig('Climte_impact_of_0Dvs1D_with_ST.png')"
   ]
  },
  {
   "cell_type": "code",
   "execution_count": 6,
   "metadata": {},
   "outputs": [
    {
     "data": {
      "text/plain": [
       "array([5.92557377e-03, 1.03090695e-01, 1.90863290e-01, 5.39954471e-01,\n",
       "       8.20518439e-01, 1.30068506e+00, 1.88060346e+00, 2.36285176e+00,\n",
       "       3.03537011e+00, 3.62763483e+00, 4.40071815e+00, 5.45202918e+00,\n",
       "       6.84226768e+00, 8.55733113e+00, 1.04177988e+01])"
      ]
     },
     "execution_count": 6,
     "metadata": {},
     "output_type": "execute_result"
    }
   ],
   "source": [
    "soc1d_noclim_ts - soc1d_ctrl_ts"
   ]
  },
  {
   "cell_type": "code",
   "execution_count": null,
   "metadata": {},
   "outputs": [],
   "source": [
    "# Q10 = 2.8\n",
    "# Ctrl: [344.85171623, 345.80078603, 346.34139048, 346.8789886 ,\n",
    "#       347.29449594, 347.74482563, 348.09314122, 348.49433654,\n",
    "#       348.81126034, 349.18891088, 349.25541638, 349.62803674,\n",
    "#       349.92415567, 350.29038059, 350.58411073]\n",
    "# Clim: [344.85217564, 345.80314492, 346.34677599, 346.88850015,\n",
    "#       347.30917186, 347.76665129, 348.16312954, 348.49581482,\n",
    "#       348.71102474, 348.98524177, 349.58879441, 350.12537981,\n",
    "#       350.57307144, 350.65017399, 350.18227684]\n",
    "\n",
    "# Q10 = 2.4\n",
    "# Ctrl: [344.5191481 , 345.17887845, 345.52711288, 345.88347095,\n",
    "#      346.14541027, 346.44376143, 346.66353591, 346.93265238,\n",
    "#      347.13417957, 347.38880528, 347.57976805, 347.82852077,\n",
    "#      348.01406415, 348.25970344, 348.4445406]\n",
    "# Clim: [344.519099  , 345.17987016, 345.53062931, 345.89146083,\n",
    "#      346.15937421, 346.46507588, 346.73136806, 346.92971148,\n",
    "#      347.04432112, 347.27269269, 347.76228432, 348.1712788 ,\n",
    "#      348.5172708 , 348.55997683, 348.13510629]\n",
    "\n",
    "# Q10 = 1.2\n",
    "# Ctrl: [341.51694308, 340.48405846, 339.85080782, 339.27679125,\n",
    "#       338.73511078, 338.22844317, 337.74321153, 337.28312744,\n",
    "#       336.83653628, 336.41005896, 335.99370333, 335.59304902,\n",
    "#       335.19949298, 334.81906357, 334.44468435]\n",
    "# Clim: [341.5174404 , 340.48600423, 339.8548834 , 339.28282276,\n",
    "#       338.74641193, 338.24610884, 337.79399739, 337.25823478,\n",
    "#       336.74287354, 336.63611049, 336.60005962, 336.42417635,\n",
    "#       336.28864333, 336.06231038, 335.65362332]\n",
    "\n",
    "# Q10 = 1.5\n",
    "# Ctrl: [342.73772848, 342.28319669, 342.00721199, 341.78753358,\n",
    "#       341.56793389, 341.38590018, 341.19095113, 341.0281154 ,\n",
    "#       340.8518669 , 340.70464122, 340.54095463, 340.40364745,\n",
    "#       340.24788014, 340.11891742, 339.97153639]\n",
    "# Clim: [342.73751558, 342.28385905, 342.01053194, 341.7929937 ,\n",
    "#       341.57737078, 341.40072236, 341.24679267, 341.01674135,\n",
    "#       340.78221579, 340.84982315, 341.00768284, 341.04366537,\n",
    "#       341.09716929, 341.00718581, 340.65119725]\n"
   ]
  },
  {
   "cell_type": "code",
   "execution_count": null,
   "metadata": {},
   "outputs": [],
   "source": []
  },
  {
   "cell_type": "code",
   "execution_count": null,
   "metadata": {},
   "outputs": [],
   "source": [
    "all_ts"
   ]
  },
  {
   "cell_type": "code",
   "execution_count": null,
   "metadata": {},
   "outputs": [],
   "source": [
    "all0d_ts"
   ]
  },
  {
   "cell_type": "code",
   "execution_count": null,
   "metadata": {},
   "outputs": [],
   "source": [
    "co2_ts = all_ts - clim_ts"
   ]
  },
  {
   "cell_type": "code",
   "execution_count": null,
   "metadata": {},
   "outputs": [],
   "source": [
    "co20d_ts = all0d_ts - clim0d_ts"
   ]
  },
  {
   "cell_type": "code",
   "execution_count": null,
   "metadata": {},
   "outputs": [],
   "source": [
    "clim_ts"
   ]
  },
  {
   "cell_type": "code",
   "execution_count": null,
   "metadata": {},
   "outputs": [],
   "source": [
    "clim0d_ts/3"
   ]
  },
  {
   "cell_type": "code",
   "execution_count": null,
   "metadata": {},
   "outputs": [],
   "source": [
    "co2_ts = all_ts - clim_ts\n",
    "co20d_ts = all0d_ts - clim0d_ts"
   ]
  },
  {
   "cell_type": "code",
   "execution_count": null,
   "metadata": {},
   "outputs": [],
   "source": [
    "# Make plot of the time series\n",
    "fig = plt.figure(figsize=(10,8))\n",
    "x = [1865, 1875, 1885, 1895, 1905, 1915, 1925, 1935, 1945, 1955, 1965, 1975, 1985, 1995, 2005]\n",
    "plt.plot(x, clim0d_ts, linestyle='--', color='red')\n",
    "plt.plot(x, clim_ts, linestyle='-', color='red')\n",
    "plt.plot(x, co20d_ts, linestyle='--', color='green')\n",
    "plt.plot(x, co2_ts, linestyle='-', color='green')\n",
    "plt.plot(x, all0d_ts, linestyle='--', color='blue')\n",
    "plt.plot(x, all_ts, linestyle='-', color='blue')\n",
    "plt.axhline(linewidth=2, linestyle=':', color='gray')\n",
    "plt.rc('xtick',labelsize=18)\n",
    "plt.rc('ytick',labelsize=18)\n",
    "plt.xlabel('Year', fontsize=20)\n",
    "plt.ylabel('Change of SOCS (PgC)', fontsize=20)\n",
    "plt.legend(['Climate - ISAM0D', 'Climate - ISAM1D', 'CO2 - ISAM0D', 'CO2 - ISAM1D', 'Total - ISAM0D', 'Total - ISAM1D'], fontsize=20)\n",
    "plt.savefig('./figures/fig12.png')"
   ]
  },
  {
   "cell_type": "code",
   "execution_count": null,
   "metadata": {},
   "outputs": [],
   "source": [
    "soc1d_ctrl_ts"
   ]
  },
  {
   "cell_type": "code",
   "execution_count": null,
   "metadata": {},
   "outputs": [],
   "source": [
    "soc1d_noclim_ts"
   ]
  },
  {
   "cell_type": "code",
   "execution_count": null,
   "metadata": {},
   "outputs": [],
   "source": [
    "soc1d_noco2_ts"
   ]
  },
  {
   "cell_type": "code",
   "execution_count": null,
   "metadata": {},
   "outputs": [],
   "source": [
    "soc0d_ctrl_ts"
   ]
  },
  {
   "cell_type": "code",
   "execution_count": null,
   "metadata": {},
   "outputs": [],
   "source": [
    "soc0d_noclim_ts"
   ]
  },
  {
   "cell_type": "code",
   "execution_count": null,
   "metadata": {},
   "outputs": [],
   "source": [
    "soc0d_ctrl_ts"
   ]
  },
  {
   "cell_type": "code",
   "execution_count": null,
   "metadata": {},
   "outputs": [],
   "source": [
    "# ISAM-1D control 2000s ...\n",
    "# 353.52246987372865\n",
    "# ISAM-1D noclim 2000s ...\n",
    "# 353.54943063669714\n",
    "# ISAM-1D noco2 2000s ...\n",
    "# 344.8873073819888\n",
    "# ISAM-1D 1860s ...\n",
    "# 343.61655160412346\n",
    "\n",
    "# ISAM-0D control 2000s ...\n",
    "# 180.7218003115083\n",
    "# ISAM-0D noclim 2000s ...\n",
    "# 183.71581733148145\n",
    "# ISAM-0D noco2 2000s ...\n",
    "# 173.77598900823125\n",
    "# ISAM-0D control 1860s ...\n",
    "# 177.30753527613672"
   ]
  },
  {
   "cell_type": "code",
   "execution_count": null,
   "metadata": {},
   "outputs": [],
   "source": [
    "# Clim-1D: -1.0\n",
    "# CO2-1D: 10.9\n",
    "# Clim-1D: -3.6\n",
    "# CO2-1D: 6.6"
   ]
  },
  {
   "cell_type": "code",
   "execution_count": null,
   "metadata": {},
   "outputs": [],
   "source": [
    "soc_contemp_perm = copy.deepcopy(soc_contemp)"
   ]
  },
  {
   "cell_type": "code",
   "execution_count": null,
   "metadata": {},
   "outputs": [],
   "source": [
    "plt.imshow(dsoc)"
   ]
  },
  {
   "cell_type": "code",
   "execution_count": null,
   "metadata": {},
   "outputs": [],
   "source": [
    "# Mask all regions outside the northern permafrost extent\n",
    "# Control\n",
    "dsoc_perm = copy.deepcopy(dsoc)\n",
    "dsoc_perm.mask = another_mask.mask\n",
    "dsoc0d_perm = copy.deepcopy(dsoc0d)\n",
    "dsoc0d_perm.mask = another_mask.mask\n",
    "# No Climate\n",
    "dsoc_noclim_perm = copy.deepcopy(dsoc_noclim)\n",
    "dsoc_noclim_perm.mask = another_mask.mask\n",
    "dsoc0d_noclim_perm = copy.deepcopy(dsoc0d_noclim)\n",
    "dsoc0d_noclim_perm.mask = another_mask.mask\n",
    "# No CO2\n",
    "dsoc_noco2_perm = copy.deepcopy(dsoc_noco2)\n",
    "dsoc_noco2_perm.mask = another_mask.mask\n",
    "dsoc0d_noco2_perm = copy.deepcopy(dsoc0d_noco2)\n",
    "dsoc0d_noco2_perm.mask = another_mask.mask\n",
    "\n",
    "## Get into the story of tau later\n",
    "# dtau_perm = copy.deepcopy(dtau)\n",
    "# dtau_perm.mask = another_mask.mask\n",
    "# dtau0d_perm = copy.deepcopy(dtau0d)\n",
    "# dtau0d_perm.mask = another_mask.mask\n",
    "\n",
    "# Plot the figure7\n",
    "# Comparison of 1m SOC stock between two models and to the NCSCD data\n",
    "fig = plt.figure(figsize=(20,24))\n",
    "\n",
    "ax1 = fig.add_subplot(221)\n",
    "ax1.set_title(\"ISAM-0D change of SOC stock by CO2 fertilization (2000s - 1860s)\",fontsize=20,pad=10)\n",
    "map = Basemap(projection='npstere',boundinglat=45,lon_0=0,resolution='l')\n",
    "# draw coastlines, state and country boundaries, edge of map.\n",
    "map.drawcoastlines()\n",
    "lon,lat = np.meshgrid(lonnc,latnc) #Returns coordinate matrices from coordinate vectors\n",
    "x,y = map(lon,lat)\n",
    "cs1 = map.pcolormesh(x,y,dsoc0d_perm[:,:] - dsoc0d_noco2_perm[:,:],\n",
    "              norm=colors.Normalize(vmin=-1.,vmax=1.),cmap=plt.cm.bwr) # use log color scale,\n",
    "cbar = map.colorbar(cs1,ticks=[-1, -0.5, 0, 0.5, 1],location='bottom',pad=\"5%\",extend='both')\n",
    "map.drawparallels(np.arange(-80.,81.,20.))#, labels=[True,True,True,True])\n",
    "map.drawmeridians(np.arange(-180.,181.,20.))#, labels=[True,True,True,True])\n",
    "plt.annotate('(a)', fontsize=24, xy=(0.1, 0.9), xycoords='axes fraction')\n",
    "cbar.ax.tick_params(labelsize=22) \n",
    "\n",
    "ax2 = fig.add_subplot(222)\n",
    "ax2.set_title(\"ISAM-1D change of SOC stock by CO2 fertilization (2000s - 1860s)\",fontsize=20,pad=10)\n",
    "map = Basemap(projection='npstere',boundinglat=45,lon_0=0,resolution='l')\n",
    "# draw coastlines, state and country boundaries, edge of map.\n",
    "map.drawcoastlines()\n",
    "#map.drawstates()\n",
    "#map.drawcountries(color='b')\n",
    "cs2 = map.pcolormesh(x,y,dsoc_perm[:,:] - dsoc_noco2_perm[:,:],\n",
    "              norm=colors.Normalize(vmin=-1.,vmax=1.),cmap=plt.cm.bwr) # use log color scale,\n",
    "                                                      # omit this to use linear\n",
    "                                                     # color scale\n",
    "cbar = map.colorbar(cs2,ticks=[-1, -0.5, 0, 0.5, 1],location='bottom',pad=\"5%\",extend='both')\n",
    "map.drawparallels(np.arange(-80.,81.,20.))#, labels=[True,True,True,True])\n",
    "map.drawmeridians(np.arange(-180.,181.,20.))#, labels=[True,True,True,True])\n",
    "cbar.ax.set_xlabel('Unit: $kgC m^{-2}$', fontsize=20, labelpad=0)\n",
    "plt.annotate('(b)', fontsize=24, xy=(0.1, 0.9), xycoords='axes fraction')\n",
    "cbar.ax.tick_params(labelsize=22) \n",
    "\n",
    "\n",
    "ax3 = fig.add_subplot(223)\n",
    "ax3.set_title(\"ISAM-1D change of SOC stock by Climate (2000s - 1860s)\",fontsize=20,pad=10)\n",
    "map = Basemap(projection='npstere',boundinglat=45,lon_0=0,resolution='l')\n",
    "# draw coastlines, state and country boundaries, edge of map.\n",
    "map.drawcoastlines()\n",
    "#map.drawstates()\n",
    "#map.drawcountries(color='b')\n",
    "cs3 = map.pcolormesh(x,y,dsoc0d_perm[:,:] - dsoc0d_noclim_perm[:,:],\n",
    "              norm=colors.Normalize(vmin=-1.,vmax=1.),cmap=plt.cm.bwr) # use log color scale,\n",
    "#              norm=colors.SymLogNorm(linthresh=1, linscale=1, vmin=-300, vmax=300),cmap=plt.cm.coolwarm) # use log color scale,\n",
    "                                                      # omit this to use linear\n",
    "                                                     # color scale\n",
    "cbar = map.colorbar(cs3,ticks=[-1, -0.5, 0, 0.5, 1],location='bottom',pad=\"5%\",extend='both')\n",
    "map.drawparallels(np.arange(-80.,81.,20.))#, labels=[True,True,True,True])\n",
    "map.drawmeridians(np.arange(-180.,181.,20.))#, labels=[True,True,True,True])\n",
    "plt.annotate('(c)', fontsize=24, xy=(0.1, 0.9), xycoords='axes fraction')\n",
    "cbar.ax.tick_params(labelsize=22) \n",
    "\n",
    "ax4 = fig.add_subplot(224)\n",
    "ax4.set_title(\"ISAM-0D change of SOC stock by Climate (2000s - 1860s)\",fontsize=20,pad=10)\n",
    "map = Basemap(projection='npstere',boundinglat=45,lon_0=0,resolution='l')\n",
    "# draw coastlines, state and country boundaries, edge of map.\n",
    "map.drawcoastlines()\n",
    "#map.drawstates()\n",
    "#map.drawcountries(color='b')\n",
    "cs4 = map.pcolormesh(x,y,dsoc_perm[:,:] - dsoc_noclim_perm[:,:],\n",
    "              norm=colors.Normalize(vmin=-1.,vmax=1.),cmap=plt.cm.bwr) # use log color scale,\n",
    "#              norm=colors.SymLogNorm(linthresh=1, linscale=1, vmin=-300, vmax=300),cmap=plt.cm.coolwarm) # use log color scale,\n",
    "\n",
    "cbar = map.colorbar(cs4,ticks=[-1, -0.5, 0, 0.5, 1],location='bottom',pad=\"5%\",extend='both')\n",
    "cbar.ax.set_xlabel('Unit: $year$', fontsize=20, labelpad=0)\n",
    "map.drawparallels(np.arange(-80.,81.,20.))#, labels=[True,True,True,True])\n",
    "map.drawmeridians(np.arange(-180.,181.,20.))#, labels=[True,True,True,True])\n",
    "plt.annotate('(d)', fontsize=24, xy=(0.1, 0.9), xycoords='axes fraction')\n",
    "cbar.ax.tick_params(labelsize=22) \n",
    "\n",
    "#plt.show()\n",
    "plt.savefig('./figures/fig10.png',dpi=300)"
   ]
  },
  {
   "cell_type": "code",
   "execution_count": null,
   "metadata": {},
   "outputs": [],
   "source": [
    "dsoc_top_perm = soc_top_contemp_perm - soc_top_preind_perm\n",
    "dsoc_sub_perm = soc_sub_contemp_perm - soc_sub_preind_perm\n",
    "\n",
    "fig = plt.figure(figsize=(18,10))\n",
    "\n",
    "ax1 = fig.add_subplot(121)\n",
    "#ax1.set_title(\"ISAM 1D topsoil SOC change (kgC/m2)\",fontsize=20,pad=10)\n",
    "map = Basemap(projection='npstere',boundinglat=45,lon_0=0,resolution='l')\n",
    "# draw coastlines, state and country boundaries, edge of map.\n",
    "map.drawcoastlines()\n",
    "#map.drawstates()\n",
    "#map.drawcountries(color='b')\n",
    "lon,lat = np.meshgrid(lonnc,latnc) #Returns coordinate matrices from coordinate vectors\n",
    "x,y = map(lon,lat)\n",
    "clevs = np.power(10.0, np.arange(-1.0,2.5,0.5))\n",
    "cs1 = map.pcolormesh(x,y,dsoc_top_perm[:,:],\n",
    "              norm=colors.Normalize(vmin=-2.,vmax=2.),cmap=plt.cm.bwr) # use log color scale,\n",
    "map.drawparallels(np.arange(-80.,81.,20.))#, labels=[True,True,True,True])\n",
    "map.drawmeridians(np.arange(-180.,181.,20.))#, labels=[True,True,True,True])\n",
    "cbar = map.colorbar(cs1,ticks=[-2, -1, 0, 1, 2],location='bottom',pad=\"5%\",extend='both')\n",
    "cbar.ax.tick_params(labelsize=22) \n",
    "plt.annotate('(a)', fontsize=24, xy=(0.1, 0.9), xycoords='axes fraction')\n",
    "\n",
    "ax2 = fig.add_subplot(122)\n",
    "#ax2.set_title(\"ISAM 1D subsoil SOC change (gC/m2/year)\",fontsize=20,pad=10)\n",
    "map = Basemap(projection='npstere',boundinglat=45,lon_0=0,resolution='l')\n",
    "# draw coastlines, state and country boundaries, edge of map.\n",
    "map.drawcoastlines()\n",
    "#map.drawstates()\n",
    "#map.drawcountries(color='b')\n",
    "cs = map.pcolormesh(x,y,dsoc_sub_perm[:,:],\n",
    "              norm=colors.Normalize(vmin=-2.,vmax=2.),cmap=plt.cm.bwr) # use log color scale,\n",
    "                                                      # omit this to use linear\n",
    "                                                     # color scale\n",
    "map.drawparallels(np.arange(-80.,81.,20.))#, labels=[True,True,True,True])\n",
    "map.drawmeridians(np.arange(-180.,181.,20.))#, labels=[True,True,True,True])\n",
    "cbar = map.colorbar(cs,ticks=[-2, -1, 0, 1, 2],location='bottom',pad=\"5%\",extend='both')\n",
    "cbar.ax.tick_params(labelsize=22) \n",
    "cbar.ax.set_xlabel('Unit: $kgC m^{-2}$', fontsize=20, labelpad=10)\n",
    "plt.annotate('(b)', fontsize=24, xy=(0.1, 0.9), xycoords='axes fraction')\n",
    "\n",
    "# Set one colorbar for both subplots\n",
    "# make an axes to put the shared colorbar in\n",
    "#fig.subplots_adjust(bottom=0.1)\n",
    "#colorbar_axes = plt.gcf().add_axes([0.35, 0.1, 0.3, 0.05])\n",
    "#colorbar = plt.colorbar(cs, colorbar_axes, orientation='horizontal')\n",
    "#colorbar_axes.tick_params(labelsize=20) \n",
    "#colorbar.set_label('Unit: $KgC m^{-2}$', fontsize=24)\n",
    "\n",
    "plt.show()\n",
    "#plt.savefig('./figures/fig8.png',dpi=300)"
   ]
  },
  {
   "cell_type": "code",
   "execution_count": null,
   "metadata": {},
   "outputs": [],
   "source": [
    "# Plot the figure3\n",
    "# Mask all regions outside the northern permafrost extent\n",
    "resp_contemp_perm = copy.deepcopy(resp_contemp)\n",
    "resp_contemp_perm.mask = another_mask.mask\n",
    "resp0d_contemp_perm = copy.deepcopy(resp0d_contemp)\n",
    "resp0d_contemp_perm.mask = another_mask.mask\n",
    "resp_preind_perm = copy.deepcopy(resp_preind)\n",
    "resp_preind_perm.mask = another_mask.mask\n",
    "resp0d_preind_perm = copy.deepcopy(resp0d_preind)\n",
    "resp0d_preind_perm.mask = another_mask.mask\n",
    "dresp_perm = copy.deepcopy(dresp)\n",
    "dresp_perm.mask = another_mask.mask\n",
    "dresp0d_perm = copy.deepcopy(dresp0d)\n",
    "dresp0d_perm.mask = another_mask.mask\n",
    "\n",
    "# Comparison of Soil respiration and the change\n",
    "fig = plt.figure(figsize=(18,15))\n",
    "\n",
    "ax1 = fig.add_subplot(221)\n",
    "ax1.set_title(\"ISAM 0D Heterotrophic respiration (gC/m2/year)\",fontsize=20,pad=10)\n",
    "map = Basemap(projection='npstere',boundinglat=45,lon_0=0,resolution='l')\n",
    "# draw coastlines, state and country boundaries, edge of map.\n",
    "map.drawcoastlines()\n",
    "#map.drawstates()\n",
    "#map.drawcountries(color='b')\n",
    "lon,lat = np.meshgrid(lonnc,latnc) #Returns coordinate matrices from coordinate vectors\n",
    "x,y = map(lon,lat)\n",
    "clevs = np.power(10.0, np.arange(-1.0,2.5,0.5))\n",
    "cs1 = map.pcolormesh(x,y,1000.*resp0d_contemp_perm[:,:],\n",
    "              norm=colors.Normalize(vmin=0.,vmax=500.),cmap=plt.cm.jet) # use log color scale,\n",
    "map.drawparallels(np.arange(-80.,81.,20.))#, labels=[True,True,True,True])\n",
    "map.drawmeridians(np.arange(-180.,181.,20.))#, labels=[True,True,True,True])\n",
    "cbar = map.colorbar(cs1,location='bottom',pad=\"5%\",extend='both')\n",
    "cbar.ax.tick_params(labelsize=22) \n",
    "\n",
    "ax2 = fig.add_subplot(222)\n",
    "ax2.set_title(\"ISAM 0D change of Rh (gC/m2/year)\",fontsize=20,pad=10)\n",
    "map = Basemap(projection='npstere',boundinglat=45,lon_0=0,resolution='l')\n",
    "# draw coastlines, state and country boundaries, edge of map.\n",
    "map.drawcoastlines()\n",
    "#map.drawstates()\n",
    "#map.drawcountries(color='b')\n",
    "cs = map.pcolormesh(x,y,1000.*dresp0d_perm[:,:],\n",
    "              norm=colors.Normalize(vmin=-50.,vmax=80.),cmap=plt.cm.RdYlGn_r) # use log color scale,\n",
    "                                                      # omit this to use linear\n",
    "                                                     # color scale\n",
    "map.drawparallels(np.arange(-80.,81.,20.))#, labels=[True,True,True,True])\n",
    "map.drawmeridians(np.arange(-180.,181.,20.))#, labels=[True,True,True,True])\n",
    "cbar = map.colorbar(cs,location='bottom',pad=\"5%\",extend='both')\n",
    "cbar.ax.tick_params(labelsize=22) \n",
    "\n",
    "ax3 = fig.add_subplot(223)\n",
    "ax3.set_title(\"ISAM 1D Heterotrophic respiration (gC/m2/year)\",fontsize=20,pad=10)\n",
    "map = Basemap(projection='npstere',boundinglat=45,lon_0=0,resolution='l')\n",
    "# draw coastlines, state and country boundaries, edge of map.\n",
    "map.drawcoastlines()\n",
    "#map.drawstates()\n",
    "#map.drawcountries(color='b')\n",
    "cs = map.pcolormesh(x,y,1000.*resp_contemp_perm[:,:],\n",
    "              norm=colors.Normalize(vmin=0.,vmax=500.),cmap=plt.cm.jet) # use log color scale,\n",
    "                                                      # omit this to use linear\n",
    "                                                     # color scale\n",
    "map.drawparallels(np.arange(-80.,81.,20.))#, labels=[True,True,True,True])\n",
    "map.drawmeridians(np.arange(-180.,181.,20.))#, labels=[True,True,True,True])\n",
    "cbar = map.colorbar(cs,location='bottom',pad=\"5%\",extend='both')\n",
    "cbar.ax.tick_params(labelsize=22) \n",
    "\n",
    "ax4 = fig.add_subplot(224)\n",
    "ax4.set_title(\"ISAM 1D change of Rh (gC/m2/year)\",fontsize=20,pad=10)\n",
    "map = Basemap(projection='npstere',boundinglat=45,lon_0=0,resolution='l')\n",
    "# draw coastlines, state and country boundaries, edge of map.\n",
    "map.drawcoastlines()\n",
    "#map.drawstates()\n",
    "#map.drawcountries(color='b')\n",
    "cs = map.pcolormesh(x,y,1000.*dresp_perm[:,:],\n",
    "              norm=colors.Normalize(vmin=-50.,vmax=80.),cmap=plt.cm.RdYlGn_r) # use log color scale,\n",
    "map.drawparallels(np.arange(-80.,81.,20.))#, labels=[True,True,True,True])\n",
    "map.drawmeridians(np.arange(-180.,181.,20.))#, labels=[True,True,True,True])\n",
    "cbar = map.colorbar(cs,location='bottom',pad=\"5%\",extend='both')\n",
    "cbar.ax.tick_params(labelsize=22) \n",
    "\n",
    "plt.show()\n",
    "#plt.savefig('Fig9.jpg',dpi=300)"
   ]
  },
  {
   "cell_type": "code",
   "execution_count": null,
   "metadata": {
    "scrolled": false
   },
   "outputs": [],
   "source": []
  },
  {
   "cell_type": "code",
   "execution_count": null,
   "metadata": {},
   "outputs": [],
   "source": [
    "lonnc2"
   ]
  },
  {
   "cell_type": "code",
   "execution_count": null,
   "metadata": {},
   "outputs": [],
   "source": [
    "lonnc2 % 360\n"
   ]
  }
 ],
 "metadata": {
  "anaconda-cloud": {},
  "kernelspec": {
   "display_name": "Python 2",
   "language": "python",
   "name": "python2"
  },
  "language_info": {
   "codemirror_mode": {
    "name": "ipython",
    "version": 2
   },
   "file_extension": ".py",
   "mimetype": "text/x-python",
   "name": "python",
   "nbconvert_exporter": "python",
   "pygments_lexer": "ipython2",
   "version": "2.7.16"
  }
 },
 "nbformat": 4,
 "nbformat_minor": 1
}
