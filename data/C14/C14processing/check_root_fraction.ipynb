{
 "cells": [
  {
   "cell_type": "code",
   "execution_count": null,
   "metadata": {},
   "outputs": [],
   "source": [
    "from netCDF4 import Dataset as NetCDFFile\n",
    "import math\n",
    "import numpy as np\n",
    "import isamcalc_lib as isam\n",
    "import matplotlib.pyplot as plt\n",
    "from matplotlib import colors\n",
    "import numpy.ma as ma\n",
    "from scipy.interpolate import griddata\n",
    "import copy"
   ]
  },
  {
   "cell_type": "code",
   "execution_count": null,
   "metadata": {},
   "outputs": [],
   "source": [
    "# Options\n",
    "fpath='/global/cscratch1/sd/sshu3/SBGC/data/'\n",
    "frootfr='bgp_to_bgc_initial_rootfr.nc'\n",
    "frootfr_new='bgp_to_bgc_initial_rootfr_new.nc'\n",
    "flc='verify_time_invarient.nc'\n",
    "varname_rootfr='rootfr_bgc'\n",
    "varname_lc='c_pft_fraction'\n",
    "nlon=720\n",
    "nlat=360"
   ]
  },
  {
   "cell_type": "code",
   "execution_count": null,
   "metadata": {},
   "outputs": [],
   "source": [
    "# Data from paper Schenk and Jackson, 2002\n",
    "obs_rootfr_boreal=np.array([0, 72.2093023255814,18.3139534883721,5.49418604651162,2.61627906976744,1.56976744186046,1.04651162790697,0.784883720930232, 0.523255813953483])\n",
    "obs_dp=np.array([0, -5.82089552238805,-24.6268656716418,-42.5373134328358,-60.8955223880597,-78.8059701492537,-97.6119402985075,-114.626865671642,-133.432835820896])\n",
    "obs_rootfr_boreal = obs_rootfr_boreal * 0.01\n",
    "obs_dp = obs_dp * 0.01\n",
    "accu_fr_obs = np.zeros((9))\n",
    "# Get accumulated fraction\n",
    "for j in np.arange(9):\n",
    "    if(j == 0):\n",
    "        accu_fr_obs[j] = 0\n",
    "    else:\n",
    "        accu_fr_obs[j] = accu_fr_obs[j-1]+obs_rootfr_boreal[j]"
   ]
  },
  {
   "cell_type": "code",
   "execution_count": null,
   "metadata": {},
   "outputs": [],
   "source": [
    "# Read in rootfr\n",
    "fp=fpath+frootfr\n",
    "nclu=NetCDFFile(fp,'r')\n",
    "rootfr = nclu.variables[varname_rootfr][:]\n",
    "nclu.close()\n",
    "# Read in LC\n",
    "fp=fpath+flc\n",
    "nclu=NetCDFFile(fp,'r')\n",
    "lc = nclu.variables[varname_lc][:]\n",
    "nclu.close()\n",
    "# Read in new rootfr\n",
    "fp=fpath+frootfr_new\n",
    "nclu=NetCDFFile(fp,'r')\n",
    "rootfr_new = nclu.variables[varname_rootfr][:]\n",
    "nclu.close()\n",
    "\n",
    "fr_mean=np.zeros((10,24))\n",
    "fr_mean_new=np.zeros((10,24))\n",
    "\n",
    "# mask the value using lc and calculate the mean profile for each lc type\n",
    "for i in np.arange(24):\n",
    "    for j in np.arange(10):\n",
    "        pfr = rootfr[j,i,:,:]\n",
    "        plc = lc[i,:,:]\n",
    "        pfr[plc<=0] = np.float('nan')\n",
    "        rootfr[j,i,:,:] = pfr\n",
    "        fr_mean[j,i] = np.nanmean(pfr)\n",
    "        pfr = rootfr_new[j,i,:,:]\n",
    "        pfr[plc<=0] = np.float('nan')\n",
    "        fr_mean_new[j,i] = np.nanmean(pfr)\n",
    "\n",
    "accu_fr_mean=np.zeros((10,24))\n",
    "accu_fr_mean_new=np.zeros((10,24))\n",
    "# Get accumulated fraction\n",
    "for i in np.arange(24):\n",
    "    for j in np.arange(10):\n",
    "        if(j == 0):\n",
    "            accu_fr_mean[j,i] = fr_mean[j,i]\n",
    "            accu_fr_mean_new[j,i] = fr_mean_new[j,i]\n",
    "        else:\n",
    "            accu_fr_mean[j,i] = accu_fr_mean[j-1,i]+fr_mean[j,i]\n",
    "            accu_fr_mean_new[j,i] = accu_fr_mean_new[j-1,i]+fr_mean_new[j,i]\n",
    "\n",
    "dp = isam.get_isam_soildp(10)"
   ]
  },
  {
   "cell_type": "code",
   "execution_count": null,
   "metadata": {},
   "outputs": [],
   "source": [
    "plt.plot(-dp[0], accu_fr_mean[:,4])\n",
    "plt.plot(-dp[0], accu_fr_mean_new[:,4])\n",
    "plt.plot(obs_dp, accu_fr_obs)\n",
    "\n",
    "plt.xlim([-1, 0])"
   ]
  },
  {
   "cell_type": "code",
   "execution_count": null,
   "metadata": {},
   "outputs": [],
   "source": []
  },
  {
   "cell_type": "code",
   "execution_count": null,
   "metadata": {},
   "outputs": [],
   "source": []
  }
 ],
 "metadata": {
  "kernelspec": {
   "display_name": "Python 2",
   "language": "python",
   "name": "python2"
  },
  "language_info": {
   "codemirror_mode": {
    "name": "ipython",
    "version": 2
   },
   "file_extension": ".py",
   "mimetype": "text/x-python",
   "name": "python",
   "nbconvert_exporter": "python",
   "pygments_lexer": "ipython2",
   "version": "2.7.16"
  }
 },
 "nbformat": 4,
 "nbformat_minor": 2
}
