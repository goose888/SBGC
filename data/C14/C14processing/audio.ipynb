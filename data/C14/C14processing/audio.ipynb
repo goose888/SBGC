{
 "cells": [
  {
   "cell_type": "code",
   "execution_count": 16,
   "metadata": {
    "collapsed": false
   },
   "outputs": [
    {
     "data": {
      "text/html": [
       "\n",
       "                <audio controls=\"controls\" >\n",
       "                    <source src=\"http://www.w3schools.com/html/horse.ogg\" type=\"audio/ogg\" />\n",
       "                    Your browser does not support the audio element.\n",
       "                </audio>\n",
       "              "
      ],
      "text/plain": [
       "<IPython.lib.display.Audio object>"
      ]
     },
     "execution_count": 16,
     "metadata": {},
     "output_type": "execute_result"
    }
   ],
   "source": [
    "import IPython.display as display\n",
    "import numpy as np\n",
    "\n",
    "## Generate a sound\n",
    "##framerate = 44100\n",
    "#t = np.linspace(0,5,framerate*5)\n",
    "#data = np.sin(2*np.pi*220*t) + np.sin(2*np.pi*224*t)\n",
    "#display.Audio(data,rate=framerate)\n",
    "\n",
    "## Can also do stereo or more channels\n",
    "#dataleft = np.sin(2*np.pi*220*t)\n",
    "#dataright = np.sin(2*np.pi*224*t)\n",
    "#display.Audio([dataleft, dataright],rate=framerate)\n",
    "\n",
    "#display.Audio(\"http://www.nch.com.au/acm/8k16bitpcm.wav\")  # From URL\n",
    "#display.Audio(url=\"http://www.w3schools.com/html/horse.ogg\")\n",
    "\n",
    "#Audio('/path/to/sound.wav')  # From file\n",
    "#Audio(filename='/path/to/sound.ogg')\n",
    "\n",
    "#Audio(b'RAW_WAV_DATA..)  # From bytes\n",
    "#Audio(data=b'RAW_WAV_DATA..)\n"
   ]
  }
 ],
 "metadata": {
  "kernelspec": {
   "display_name": "Python 2",
   "language": "python",
   "name": "python2"
  },
  "language_info": {
   "codemirror_mode": {
    "name": "ipython",
    "version": 2
   },
   "file_extension": ".py",
   "mimetype": "text/x-python",
   "name": "python",
   "nbconvert_exporter": "python",
   "pygments_lexer": "ipython2",
   "version": "2.7.13"
  }
 },
 "nbformat": 4,
 "nbformat_minor": 2
}
