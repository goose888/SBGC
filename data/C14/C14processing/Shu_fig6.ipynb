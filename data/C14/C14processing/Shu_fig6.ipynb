{
 "cells": [
  {
   "cell_type": "code",
   "execution_count": 1,
   "metadata": {
    "collapsed": false
   },
   "outputs": [],
   "source": [
    "from mpl_toolkits.basemap import Basemap, cm, shiftgrid,maskoceans\n",
    "from netCDF4 import Dataset as NetCDFFile\n",
    "import numpy as np\n",
    "import matplotlib.pyplot as plt\n",
    "from matplotlib import colors\n",
    "import numpy.ma as ma\n",
    "from scipy.interpolate import griddata\n",
    "from pyresample import geometry,image, kd_tree\n"
   ]
  },
  {
   "cell_type": "code",
   "execution_count": 2,
   "metadata": {
    "collapsed": false,
    "scrolled": true
   },
   "outputs": [],
   "source": [
    "# Path\n",
    "respath='/data/jain1/c/sshu3/SBGC/results/SBGC_regional/'\n",
    "contemp='2006_2015'\n",
    "preind='1901_1910'\n",
    "\n",
    "# Read the 3D files, For ISAM-1D\n",
    "# Historical\n",
    "fp=respath+preind+'/mean_bgc3d_'+preind+'.nc'\n",
    "nclu_preind=NetCDFFile(fp,'r')\n",
    "soclev_preind = nclu_preind.variables['soil_c_lev'][:]\n",
    "resplev_preind = nclu_preind.variables['resp_lev'][:]\n",
    "latnc = nclu_preind.variables['lat'][:]\n",
    "lonnc = nclu_preind.variables['lon'][:]\n",
    "#lonnc = ((lonnc - 180) % 360) - 180\n",
    "\n",
    "# 20th century\n",
    "fp=respath+contemp+'/mean_bgc3d_'+contemp+'.nc'\n",
    "nclu_contemp=NetCDFFile(fp,'r')\n",
    "soclev_contemp = nclu_contemp.variables['soil_c_lev'][:]\n",
    "resplev_contemp = nclu_contemp.variables['resp_lev'][:]\n",
    "\n",
    "# Path\n",
    "respath='/data/jain1/c/sshu3/SBGC/results/SBGC_0d/'\n",
    "contemp='2006_2015'\n",
    "preind='1901_1910'\n",
    "# Read the 3D files, For ISAM-0D\n",
    "# Historical\n",
    "fp=respath+preind+'/mean_bgc2d_'+preind+'.nc'\n",
    "nclu_preind=NetCDFFile(fp,'r')\n",
    "soc0d_preind = nclu_preind.variables['soil_c'][:]\n",
    "resp0d_preind = nclu_preind.variables['resp'][:]\n",
    "#lonnc = ((lonnc - 180) % 360) - 180\n",
    "\n",
    "# 20th century\n",
    "fp=respath+contemp+'/mean_bgc2d_'+contemp+'.nc'\n",
    "nclu_contemp=NetCDFFile(fp,'r')\n",
    "soc0d_contemp = nclu_contemp.variables['soil_c'][:]\n",
    "resp0d_contemp = nclu_contemp.variables['resp'][:]\n",
    "\n",
    "# Open NCSCD as observation\n",
    "#path='/data/jain1/c/sshu3/SBGC/data/NCSCDv2_Circumpolar_netCDF_05deg/ncscdv2_soilc_0.5x0.5.nc'\n",
    "path='/data/jain1/c/sshu3/SBGC/data/NCSCDv2_Circumpolar_netCDF_05deg/ncscd_masked_0.5x0.5.nc'\n",
    "nclu_obs=NetCDFFile(path,'r')\n",
    "soc_ncscd_orig = nclu_obs.variables['soilc'][:]\n",
    "latnc2 = nclu_obs.variables['lat'][:]\n",
    "lonnc2 = nclu_obs.variables['lon'][:]\n",
    "soc_ncscd = soc_ncscd_orig[0,:,:]\n",
    "#soc_ncscd[soc_ncscd<0] = float(\"nan\")\n",
    "#temp = soc_ncscd[:, 0:359]\n",
    "#soc_ncscd[:, 0:359] = soc_ncscd[:, 360:719]\n",
    "#soc_ncscd[:, 360:719] = temp[:,0:359]\n",
    "#soc_ncscd[soc0d_contemp<0] = float(\"nan\")\n",
    "\n",
    "# Open the wetland fraction map to mask peatland \n",
    "respath = '/data/jain1/c/sshu3/SBGC/data/FW/'\n",
    "fwet = 'min_fw_frac.nc'\n",
    "fp=respath+fwet\n",
    "nclu_wet=NetCDFFile(fp,'r')\n",
    "wtld = nclu_wet.variables['FW'][:]\n",
    "latnc3 = nclu_wet.variables['Lat'][:]\n",
    "lonnc3 = nclu_wet.variables['Lon'][:]\n",
    "wtld[wtld<0.05] = 0\n",
    "wtld[wtld>=0.05] = 1\n",
    "#wtld = np.flipud(wtld)\n",
    "\n",
    "# Get the topsoil SOC (0-30cm) from 1D model\n",
    "soc_top_preind = np.sum(soclev_preind[1:5,:,:], 0)\n",
    "soc_top_contemp = np.sum(soclev_contemp[1:5,:,:], 0)\n",
    "# topsoil resp\n",
    "resp_top_preind = np.sum(resplev_preind[1:5,:,:], 0)\n",
    "resp_top_contemp = np.sum(resplev_contemp[1:5,:,:], 0)\n",
    "\n",
    "# Get the subsoil SOC (30-100cm) from 1D model\n",
    "soc_sub_preind = np.sum(soclev_preind[5:7,:,:], 0)+0.3*soclev_preind[7,:,:]\n",
    "soc_sub_contemp = np.sum(soclev_contemp[5:7,:,:], 0)+0.3*soclev_preind[7,:,:]\n",
    "# subsoil resp\n",
    "resp_sub_preind = np.sum(resplev_preind[5:7,:,:], 0)+0.3*resplev_preind[7,:,:]\n",
    "resp_sub_contemp = np.sum(resplev_contemp[5:7,:,:], 0)+0.3*resplev_preind[7,:,:]\n",
    "\n",
    "# Get the first 1m SOC\n",
    "# 1D\n",
    "soc_preind = soc_top_preind + soc_sub_preind\n",
    "soc_contemp = soc_top_contemp + soc_sub_contemp\n",
    "dsoc = soc_contemp - soc_preind\n",
    "dsoc_topsoil = soc_top_contemp - soc_top_preind\n",
    "dsoc_subsoil = soc_sub_contemp - soc_sub_preind\n",
    "\n",
    "# 0D\n",
    "dsoc0d = soc0d_contemp - soc0d_preind\n",
    "\n",
    "# resp\n",
    "# 1D\n",
    "resp_preind = resp_top_preind + resp_sub_preind\n",
    "resp_contemp = resp_top_preind + resp_sub_preind\n",
    "dresp = resp_contemp - resp_preind\n",
    "dresp0d = resp0d_contemp - resp0d_preind\n",
    "\n",
    "# turnover, using annual resp/SOC pool\n",
    "# Since it is tough to get the SOC D14C with ISAM when performing spinup, we right now don't use the D14C \n",
    "# for the calculation of the turnover for the regional results\n",
    "# 1D\n",
    "# First method, only get the total bulk turnover by using the total soc and soil resp\n",
    "#tau_preind = soc_preind/resp_preind\n",
    "#tau_contemp = soc_contemp/resp_contemp\n",
    "#dtau = tau_contemp - tau_preind\n",
    "\n",
    "# Second method, get the turnover time by calculating the turnover at each layer then calculate C werighted average.\n",
    "# Get the turnover for each layer\n",
    "tau_lev_preind = soclev_preind/resplev_preind\n",
    "tau_lev_contemp = soclev_contemp/resplev_contemp\n",
    "# Calculate the C mass weights\n",
    "wt_preind = soclev_preind/soc_preind\n",
    "wt_contemp = soclev_preind/soc_contemp\n",
    "\n",
    "tau_tmp_preind = wt_preind * tau_lev_preind\n",
    "tau_tmp_contemp = wt_contemp * tau_lev_contemp\n",
    "tau_preind = np.sum(tau_tmp_preind[1:7,:,:], 0)+0.3*tau_tmp_preind[7,:,:]\n",
    "tau_contemp = np.sum(tau_tmp_contemp[1:7,:,:], 0)+0.3*tau_tmp_contemp[7,:,:]\n",
    "\n",
    "dtau = tau_contemp - tau_preind\n",
    "\n",
    "# 0D\n",
    "tau0d_preind = soc0d_preind/resp0d_preind\n",
    "tau0d_contemp = soc0d_contemp/resp0d_contemp\n",
    "dtau0d = tau0d_contemp - tau0d_preind\n",
    "\n",
    "# Also need to plot the ISAM-0D SOC results and NCSCD data to the right side \n",
    "# and compare against the mndel outputs\n",
    "# Seems like the respiration output from 1D model has some problem\n",
    "# Now let's check the 2D output\n",
    "respath='/data/jain1/c/sshu3/SBGC/results/SBGC_regional/'\n",
    "contemp='2006_2015'\n",
    "preind='1901_1910'\n",
    "# Read the 3D files, For ISAM-0D\n",
    "# Historical\n",
    "fp=respath+preind+'/mean_bgc2d_'+preind+'.nc'\n",
    "nclu_preind=NetCDFFile(fp,'r')\n",
    "resp_new_preind = nclu_preind.variables['resp'][:]\n",
    "#lonnc = ((lonnc - 180) % 360) - 180\n",
    "# Historical\n",
    "fp=respath+contemp+'/mean_bgc2d_'+contemp+'.nc'\n",
    "nclu_contemp=NetCDFFile(fp,'r')\n",
    "resp_new_contemp = nclu_contemp.variables['resp'][:]\n",
    "\n",
    "dresp_new = resp_new_contemp - resp_new_preind"
   ]
  },
  {
   "cell_type": "code",
   "execution_count": 4,
   "metadata": {
    "collapsed": false
   },
   "outputs": [
    {
     "name": "stderr",
     "output_type": "stream",
     "text": [
      "/data/keeling/a/sshu3/anaconda2/lib/python2.7/site-packages/numpy/ma/core.py:4185: UserWarning: Warning: converting a masked element to nan.\n",
      "  warnings.warn(\"Warning: converting a masked element to nan.\")\n"
     ]
    }
   ],
   "source": [
    "# Get the grid area\n",
    "nlon = 720\n",
    "nlat = 360\n",
    "grid_area = np.ones((nlat, nlon))*-9999.\n",
    "val = np.ones((nlat, nlon))*float(\"nan\")\n",
    "earth_area =  5.096e14;\n",
    "lat = np.arange(-89.75, 90.25, 0.5)\n",
    "res = 0.5;\n",
    "for i in np.arange(0,nlat):\n",
    "    for j in np.arange(0,nlon):\n",
    "        grid_area[i,j] = (earth_area/2)*abs(np.sin((lat[i] - res/2)*np.pi/180) -\n",
    "                    np.sin((lat[i] + res/2)*np.pi/180))/(360/res)\n",
    "        val[i,j] = dtau_subsoil[i,j] * grid_area[i,j]\n",
    "        \n"
   ]
  },
  {
   "cell_type": "code",
   "execution_count": null,
   "metadata": {
    "collapsed": true
   },
   "outputs": [],
   "source": []
  },
  {
   "cell_type": "code",
   "execution_count": null,
   "metadata": {
    "collapsed": false
   },
   "outputs": [],
   "source": [
    "pp/1e12"
   ]
  },
  {
   "cell_type": "code",
   "execution_count": 5,
   "metadata": {
    "collapsed": false
   },
   "outputs": [],
   "source": [
    "# Get total SOC stock of the permafrost region\n",
    "pp = np.nansum(val)\n",
    "\n",
    "# Get the mean turnover time of the permafrost region\n",
    "\n"
   ]
  },
  {
   "cell_type": "code",
   "execution_count": null,
   "metadata": {
    "collapsed": false
   },
   "outputs": [],
   "source": [
    "tau0dnow = pp/(332.84*1e12)"
   ]
  },
  {
   "cell_type": "code",
   "execution_count": 6,
   "metadata": {
    "collapsed": false
   },
   "outputs": [],
   "source": [
    "tau1dnow = pp/(288.72*1e12)"
   ]
  },
  {
   "cell_type": "code",
   "execution_count": 7,
   "metadata": {
    "collapsed": false
   },
   "outputs": [
    {
     "data": {
      "text/plain": [
       "-6.948079436602816"
      ]
     },
     "execution_count": 7,
     "metadata": {},
     "output_type": "execute_result"
    }
   ],
   "source": [
    "tau1dnow"
   ]
  },
  {
   "cell_type": "code",
   "execution_count": null,
   "metadata": {
    "collapsed": false
   },
   "outputs": [],
   "source": [
    "ncscd = pp/1e12"
   ]
  },
  {
   "cell_type": "code",
   "execution_count": null,
   "metadata": {
    "collapsed": false
   },
   "outputs": [],
   "source": [
    "soc0dnow = pp/1e12"
   ]
  },
  {
   "cell_type": "code",
   "execution_count": null,
   "metadata": {
    "collapsed": false
   },
   "outputs": [],
   "source": [
    "soc1dnow = pp/1e12"
   ]
  },
  {
   "cell_type": "code",
   "execution_count": null,
   "metadata": {
    "collapsed": false
   },
   "outputs": [],
   "source": []
  },
  {
   "cell_type": "code",
   "execution_count": null,
   "metadata": {
    "collapsed": false
   },
   "outputs": [],
   "source": [
    "x, y = np.meshgrid(lonnc3, latnc3)\n",
    "   \n",
    "plt.figure(figsize=(9, 4))\n",
    "map = Basemap(projection='npstere',boundinglat=45,lon_0=0,resolution='l')\n",
    "\n",
    "m.drawcoastlines(color='y', linewidth=0.5, linestyle='-')\n",
    "\n",
    "nx = 720\n",
    "ny = 360\n",
    "\n",
    "# m.imshow(img_new, cmap='gist_gray')\n",
    "m.scatter(x, y, s = wtld*0.05, latlon=True, marker='+', color='red')\n",
    "\n",
    "plt.show()\n"
   ]
  },
  {
   "cell_type": "code",
   "execution_count": null,
   "metadata": {
    "collapsed": false,
    "scrolled": false
   },
   "outputs": [],
   "source": [
    "# Plot the figure1\n",
    "# Comparison of 1m SOC stock between two models and to the NCSCD data\n",
    "fig = plt.figure(figsize=(30,36))\n",
    "\n",
    "ax1 = fig.add_subplot(331)\n",
    "ax1.set_title(\"ISAM-1D SOC stock (1m)\",fontsize=32)\n",
    "map = Basemap(projection='npstere',boundinglat=45,lon_0=0,resolution='l')\n",
    "# draw coastlines, state and country boundaries, edge of map.\n",
    "map.drawcoastlines()\n",
    "#map.drawstates()\n",
    "#map.drawcountries(color='b')\n",
    "lon,lat = np.meshgrid(lonnc,latnc) #Returns coordinate matrices from coordinate vectors\n",
    "x,y = map(lon,lat)\n",
    "xs, ys = np.meshgrid(lonnc3, latnc3)\n",
    "clevs = np.power(10.0, np.arange(-1.0,2.5,0.5))\n",
    "cs1 = map.pcolormesh(x,y,soc_contemp[:,:],\n",
    "              norm=colors.Normalize(vmin=0,vmax=30.),cmap=plt.cm.YlOrBr) # use log color scale,\n",
    "# Overlap scatter plot to show the peatland distribution\n",
    "map.scatter(xs, ys, s = 0.4*wtld, latlon=True, marker='_', color='cyan')\n",
    "cbar = map.colorbar(cs1,location='bottom',pad=\"5%\",extend='both')\n",
    "#parallels = np.arange(45.,80.,15.)\n",
    "## labels = [left,right,top,bottom]\n",
    "#map.drawparallels(parallels)#,labels=[False,True,True,False])\n",
    "#meridians = np.arange(15.,346.,30.)\n",
    "#map.drawmeridians(meridians)#,labels=[True,False,False,True])\n",
    "\n",
    "map.drawparallels(np.arange(-80.,81.,20.))#, labels=[True,True,True,True])\n",
    "map.drawmeridians(np.arange(-180.,181.,20.))#, labels=[True,True,True,True])\n",
    "#plt.title('Permafrost SOC stock')\n",
    "cbar.ax.tick_params(labelsize=30) \n",
    "\n",
    "ax2 = fig.add_subplot(332)\n",
    "ax2.set_title(\"ISAM-0D SOC stock (1m)\",fontsize=32)\n",
    "map = Basemap(projection='npstere',boundinglat=45,lon_0=0,resolution='l')\n",
    "# draw coastlines, state and country boundaries, edge of map.\n",
    "map.drawcoastlines()\n",
    "#map.drawstates()\n",
    "#map.drawcountries(color='b')\n",
    "cs = map.pcolormesh(x,y,soc0d_contemp[:,:],\n",
    "              norm=colors.Normalize(vmin=0.,vmax=30.),cmap=plt.cm.YlOrBr) # use log color scale,\n",
    "                                                      # omit this to use linear\n",
    "                                                     # color scale\n",
    "map.scatter(xs, ys, s = 0.4*wtld, latlon=True, marker='_', color='cyan')\n",
    "map.drawparallels(np.arange(-80.,81.,20.))#, labels=[True,True,True,True])\n",
    "map.drawmeridians(np.arange(-180.,181.,20.))#, labels=[True,True,True,True])\n",
    "cbar = map.colorbar(cs,location='bottom',pad=\"5%\",extend='both')\n",
    "cbar.ax.tick_params(labelsize=30) \n",
    "\n",
    "lon2,lat2 = np.meshgrid(lonnc2,latnc2) #Returns coordinate matrices from coordinate vectors\n",
    "x2,y2 = map(lon2,lat2)\n",
    "ax2 = fig.add_subplot(333)\n",
    "ax2.set_title(\"NCSCD SOC stock (1m)\",fontsize=32)\n",
    "map = Basemap(projection='npstere',boundinglat=45,lon_0=0,resolution='l')\n",
    "# draw coastlines, state and country boundaries, edge of map.\n",
    "map.drawcoastlines()\n",
    "#map.drawstates()\n",
    "#map.drawcountries(color='b')\n",
    "cs = map.pcolormesh(x2,y2,soc_ncscd[:,:],\n",
    "              norm=colors.Normalize(vmin=0.,vmax=30.),cmap=plt.cm.YlOrBr) # use log color scale,\n",
    "                                                     # omit this to use linear\n",
    "                                                     # color scale\n",
    "map.scatter(xs, ys, s = 0.4*wtld, latlon=True, marker='_', color='cyan')\n",
    "map.drawparallels(np.arange(-80.,81.,20.))#, labels=[True,True,True,True])\n",
    "map.drawmeridians(np.arange(-180.,181.,20.))#, labels=[True,True,True,True])\n",
    "cbar = map.colorbar(cs,location='bottom',pad=\"5%\",extend='both')\n",
    "cbar.ax.tick_params(labelsize=30) \n",
    "\n",
    "ax3 = fig.add_subplot(334)\n",
    "ax3.set_title(\"ISAM-1D SOC turnover time\",fontsize=32)\n",
    "map = Basemap(projection='npstere',boundinglat=45,lon_0=0,resolution='l')\n",
    "# draw coastlines, state and country boundaries, edge of map.\n",
    "map.drawcoastlines()\n",
    "#map.drawstates()\n",
    "#map.drawcountries(color='b')\n",
    "cs = map.pcolormesh(x,y,tau_contemp[:,:],\n",
    "              norm=colors.Normalize(vmin=0,vmax=800.),cmap=plt.cm.jet) # use log color scale,\n",
    "                                                      # omit this to use linear\n",
    "                                                     # color scale\n",
    "cbar = map.colorbar(cs,ticks=[0, 200, 400, 600, 800],location='bottom',pad=\"5%\",extend='both')\n",
    "#cbar.ax.set_xticklabels([0, 200, 400, 600, 800])  # horizontal colorbar\n",
    "map.drawparallels(np.arange(-80.,81.,20.))#, labels=[True,True,True,True])\n",
    "map.drawmeridians(np.arange(-180.,181.,20.))#, labels=[True,True,True,True])\n",
    "cbar.ax.tick_params(labelsize=30) \n",
    "\n",
    "ax3 = fig.add_subplot(335)\n",
    "ax3.set_title(\"ISAM-0D SOC turnover time\",fontsize=32)\n",
    "map = Basemap(projection='npstere',boundinglat=45,lon_0=0,resolution='l')\n",
    "# draw coastlines, state and country boundaries, edge of map.\n",
    "map.drawcoastlines()\n",
    "#map.drawstates()\n",
    "#map.drawcountries(color='b')\n",
    "cs = map.pcolormesh(x,y,tau0d_contemp[:,:],\n",
    "              norm=colors.Normalize(vmin=0,vmax=800.),cmap=plt.cm.jet) # use log color scale,\n",
    "                                                      # omit this to use linear\n",
    "                                                     # color scale\n",
    "cbar = map.colorbar(cs,ticks=[0, 200, 400, 600, 800],location='bottom',pad=\"5%\",extend='both')\n",
    "#cbar.ax.set_xticklabels([0, 200, 400, 600, 800])  # horizontal colorbar\n",
    "map.drawparallels(np.arange(-80.,81.,20.))#, labels=[True,True,True,True])\n",
    "map.drawmeridians(np.arange(-180.,181.,20.))#, labels=[True,True,True,True])\n",
    "cbar.ax.tick_params(labelsize=30) \n",
    "\n",
    "#plt.show()\n",
    "plt.savefig('./figures/fig6.png',dpi=300)"
   ]
  },
  {
   "cell_type": "code",
   "execution_count": null,
   "metadata": {
    "collapsed": false
   },
   "outputs": [],
   "source": []
  },
  {
   "cell_type": "code",
   "execution_count": null,
   "metadata": {
    "collapsed": false
   },
   "outputs": [],
   "source": [
    "# Plot the figure7\n",
    "# Comparison of 1m SOC stock between two models and to the NCSCD data\n",
    "fig = plt.figure(figsize=(18,15))\n",
    "\n",
    "#ax1 = fig.add_subplot(331)\n",
    "ax1 = fig.add_subplot(221)\n",
    "ax1.set_title(\"ISAM-1D SOC stock (2000s - 1900s)\",fontsize=20)\n",
    "map = Basemap(projection='npstere',boundinglat=45,lon_0=0,resolution='l')\n",
    "# draw coastlines, state and country boundaries, edge of map.\n",
    "map.drawcoastlines()\n",
    "#map.drawstates()\n",
    "#map.drawcountries(color='b')\n",
    "lon,lat = np.meshgrid(lonnc,latnc) #Returns coordinate matrices from coordinate vectors\n",
    "x,y = map(lon,lat)\n",
    "clevs = np.power(10.0, np.arange(-1.0,2.5,0.5))\n",
    "cs1 = map.pcolormesh(x,y,dsoc[:,:],\n",
    "              norm=colors.Normalize(vmin=-5.,vmax=5.),cmap=plt.cm.RdYlGn) # use log color scale,\n",
    "cbar = map.colorbar(cs1,location='bottom',pad=\"5%\",extend='both')\n",
    "map.drawparallels(np.arange(-80.,81.,20.))#, labels=[True,True,True,True])\n",
    "map.drawmeridians(np.arange(-180.,181.,20.))#, labels=[True,True,True,True])\n",
    "#plt.title('Permafrost SOC stock')\n",
    "cbar.ax.tick_params(labelsize=22) \n",
    "\n",
    "ax2 = fig.add_subplot(222)\n",
    "ax2.set_title(\"ISAM-0D SOC stock (2000s - 1900s)\",fontsize=20)\n",
    "map = Basemap(projection='npstere',boundinglat=45,lon_0=0,resolution='l')\n",
    "# draw coastlines, state and country boundaries, edge of map.\n",
    "map.drawcoastlines()\n",
    "#map.drawstates()\n",
    "#map.drawcountries(color='b')\n",
    "cs = map.pcolormesh(x,y,dsoc0d[:,:],\n",
    "              norm=colors.Normalize(vmin=-5.,vmax=5.),cmap=plt.cm.RdYlGn) # use log color scale,\n",
    "                                                      # omit this to use linear\n",
    "                                                     # color scale\n",
    "cbar = map.colorbar(cs,location='bottom',pad=\"5%\",extend='both')\n",
    "map.drawparallels(np.arange(-80.,81.,20.))#, labels=[True,True,True,True])\n",
    "map.drawmeridians(np.arange(-180.,181.,20.))#, labels=[True,True,True,True])\n",
    "cbar.ax.tick_params(labelsize=22) \n",
    "\n",
    "\n",
    "ax3 = fig.add_subplot(223)\n",
    "ax3.set_title(\"ISAM-1D SOC turnover time (2000s - 1900s)\",fontsize=20)\n",
    "map = Basemap(projection='npstere',boundinglat=45,lon_0=0,resolution='l')\n",
    "# draw coastlines, state and country boundaries, edge of map.\n",
    "map.drawcoastlines()\n",
    "#map.drawstates()\n",
    "#map.drawcountries(color='b')\n",
    "cs = map.pcolormesh(x,y,dtau[:,:],\n",
    "              norm=colors.Normalize(vmin=-60,vmax=60.),cmap=plt.cm.RdYlGn) # use log color scale,\n",
    "                                                      # omit this to use linear\n",
    "                                                     # color scale\n",
    "cbar = map.colorbar(cs,location='bottom',pad=\"5%\",extend='both')\n",
    "map.drawparallels(np.arange(-80.,81.,20.))#, labels=[True,True,True,True])\n",
    "map.drawmeridians(np.arange(-180.,181.,20.))#, labels=[True,True,True,True])\n",
    "cbar.ax.tick_params(labelsize=22) \n",
    "\n",
    "\n",
    "ax4 = fig.add_subplot(224)\n",
    "ax4.set_title(\"ISAM-0D SOC turnover time (2000s - 1900s)\",fontsize=20)\n",
    "map = Basemap(projection='npstere',boundinglat=45,lon_0=0,resolution='l')\n",
    "# draw coastlines, state and country boundaries, edge of map.\n",
    "map.drawcoastlines()\n",
    "#map.drawstates()\n",
    "#map.drawcountries(color='b')\n",
    "cs = map.pcolormesh(x,y,dtau0d[:,:],\n",
    "              norm=colors.Normalize(vmin=-60.,vmax=60.),cmap=plt.cm.RdYlGn) # use log color scale,\n",
    "cbar = map.colorbar(cs,location='bottom',pad=\"5%\",extend='both')\n",
    "map.drawparallels(np.arange(-80.,81.,20.))#, labels=[True,True,True,True])\n",
    "map.drawmeridians(np.arange(-180.,181.,20.))#, labels=[True,True,True,True])\n",
    "cbar.ax.tick_params(labelsize=22) \n",
    "\n",
    "#plt.show()\n",
    "plt.savefig('./figures/fig7.png',dpi=300)"
   ]
  },
  {
   "cell_type": "code",
   "execution_count": null,
   "metadata": {
    "collapsed": false
   },
   "outputs": [],
   "source": [
    "# Plot the figure3\n",
    "# Comparison of Soil respiration and the change\n",
    "fig = plt.figure(figsize=(18,15))\n",
    "\n",
    "ax1 = fig.add_subplot(221)\n",
    "ax1.set_title(\"ISAM 0D Heterotrophic respiration (gC/m2/year)\",fontsize=20)\n",
    "map = Basemap(projection='npstere',boundinglat=45,lon_0=0,resolution='l')\n",
    "# draw coastlines, state and country boundaries, edge of map.\n",
    "map.drawcoastlines()\n",
    "#map.drawstates()\n",
    "#map.drawcountries(color='b')\n",
    "lon,lat = np.meshgrid(lonnc,latnc) #Returns coordinate matrices from coordinate vectors\n",
    "x,y = map(lon,lat)\n",
    "clevs = np.power(10.0, np.arange(-1.0,2.5,0.5))\n",
    "cs1 = map.pcolormesh(x,y,1000.*resp0d_contemp[:,:],\n",
    "              norm=colors.Normalize(vmin=0.,vmax=500.),cmap=plt.cm.jet) # use log color scale,\n",
    "cbar = map.colorbar(cs1,location='bottom',pad=\"5%\",extend='both')\n",
    "#plt.title('Permafrost SOC stock')\n",
    "cbar.ax.tick_params(labelsize=22) \n",
    "\n",
    "ax2 = fig.add_subplot(222)\n",
    "ax2.set_title(\"ISAM 0D change of Rh (gC/m2/year)\",fontsize=20)\n",
    "map = Basemap(projection='npstere',boundinglat=45,lon_0=0,resolution='l')\n",
    "# draw coastlines, state and country boundaries, edge of map.\n",
    "map.drawcoastlines()\n",
    "#map.drawstates()\n",
    "#map.drawcountries(color='b')\n",
    "cs = map.pcolormesh(x,y,1000.*dresp0d[:,:],\n",
    "              norm=colors.Normalize(vmin=-50.,vmax=50.),cmap=plt.cm.RdYlGn_r) # use log color scale,\n",
    "                                                      # omit this to use linear\n",
    "                                                     # color scale\n",
    "cbar = map.colorbar(cs,location='bottom',pad=\"5%\",extend='both')\n",
    "cbar.ax.tick_params(labelsize=22) \n",
    "\n",
    "\n",
    "ax3 = fig.add_subplot(223)\n",
    "ax3.set_title(\"ISAM 1D Heterotrophic respiration (gC/m2/year)\",fontsize=20)\n",
    "map = Basemap(projection='npstere',boundinglat=45,lon_0=0,resolution='l')\n",
    "# draw coastlines, state and country boundaries, edge of map.\n",
    "map.drawcoastlines()\n",
    "#map.drawstates()\n",
    "#map.drawcountries(color='b')\n",
    "cs = map.pcolormesh(x,y,1000.*resp_new_contemp[:,:],\n",
    "              norm=colors.Normalize(vmin=0.,vmax=500.),cmap=plt.cm.jet) # use log color scale,\n",
    "                                                      # omit this to use linear\n",
    "                                                     # color scale\n",
    "cbar = map.colorbar(cs,location='bottom',pad=\"5%\",extend='both')\n",
    "cbar.ax.tick_params(labelsize=22) \n",
    "\n",
    "\n",
    "ax4 = fig.add_subplot(224)\n",
    "ax4.set_title(\"ISAM 1D change of Rh (gC/m2/year)\",fontsize=20)\n",
    "map = Basemap(projection='npstere',boundinglat=45,lon_0=0,resolution='l')\n",
    "# draw coastlines, state and country boundaries, edge of map.\n",
    "map.drawcoastlines()\n",
    "#map.drawstates()\n",
    "#map.drawcountries(color='b')\n",
    "cs = map.pcolormesh(x,y,1000.*dresp_new[:,:],\n",
    "              norm=colors.Normalize(vmin=-50.,vmax=50.),cmap=plt.cm.RdYlGn_r) # use log color scale,\n",
    "cbar = map.colorbar(cs,location='bottom',pad=\"5%\",extend='both')\n",
    "cbar.ax.tick_params(labelsize=22) \n",
    "\n",
    "plt.show()\n",
    "#plt.savefig('Fig8.jpg',dpi=300)"
   ]
  },
  {
   "cell_type": "code",
   "execution_count": null,
   "metadata": {
    "collapsed": false,
    "scrolled": false
   },
   "outputs": [],
   "source": [
    "#http://matplotlib.org/basemap/users/mapsetup.html\n",
    "\n"
   ]
  },
  {
   "cell_type": "code",
   "execution_count": null,
   "metadata": {
    "collapsed": false
   },
   "outputs": [],
   "source": [
    "lonnc2"
   ]
  },
  {
   "cell_type": "code",
   "execution_count": null,
   "metadata": {
    "collapsed": false
   },
   "outputs": [],
   "source": [
    "lonnc2 % 360\n"
   ]
  }
 ],
 "metadata": {
  "anaconda-cloud": {},
  "kernelspec": {
   "display_name": "Python 2",
   "language": "python",
   "name": "python2"
  },
  "language_info": {
   "codemirror_mode": {
    "name": "ipython",
    "version": 2
   },
   "file_extension": ".py",
   "mimetype": "text/x-python",
   "name": "python",
   "nbconvert_exporter": "python",
   "pygments_lexer": "ipython2",
   "version": "2.7.13"
  }
 },
 "nbformat": 4,
 "nbformat_minor": 1
}
