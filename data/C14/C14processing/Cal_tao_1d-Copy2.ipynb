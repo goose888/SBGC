{
 "cells": [
  {
   "cell_type": "code",
   "execution_count": 2,
   "metadata": {},
   "outputs": [],
   "source": [
    "import os\n",
    "from netCDF4 import Dataset as NetCDFFile\n",
    "import time\n",
    "import numpy as np\n",
    "import numpy.ma as ma\n",
    "import matplotlib.pyplot as plt\n",
    "from matplotlib import colors, ticker\n",
    "from scipy.interpolate import griddata\n",
    "#from pyresample import geometry,image, kd_tree\n",
    "import copy\n",
    "import isamcalc_lib as isam\n",
    "import C14utils"
   ]
  },
  {
   "cell_type": "code",
   "execution_count": null,
   "metadata": {},
   "outputs": [],
   "source": []
  },
  {
   "cell_type": "code",
   "execution_count": 2,
   "metadata": {},
   "outputs": [
    {
     "name": "stderr",
     "output_type": "stream",
     "text": [
      "isamcalc_lib.py:197: RuntimeWarning: invalid value encountered in double_scalars\n",
      "  wt[i] =  weight[(i+5)] / weight_tot\n",
      "isamcalc_lib.py:199: RuntimeWarning: invalid value encountered in double_scalars\n",
      "  wt[i] = 0.3*weight[(i+5)] / weight_tot\n"
     ]
    },
    {
     "name": "stdout",
     "output_type": "stream",
     "text": [
      "Done the averaging!\n",
      "359\n"
     ]
    },
    {
     "name": "stderr",
     "output_type": "stream",
     "text": [
      "C14utils.py:55: NumbaWarning: \u001b[1m\n",
      "Compilation is falling back to object mode WITH looplifting enabled because Function \"cal_tau\" failed type inference due to: \u001b[1m\u001b[1mUnknown attribute 'loadmat' of type Module(<module 'scipy.io' from 'C:\\Users\\sshu3\\Anaconda2\\lib\\site-packages\\scipy\\io\\__init__.pyc'>)\n",
      "\u001b[1m\n",
      "File \"C14utils.py\", line 69:\u001b[0m\n",
      "\u001b[1mdef cal_tau(d14c, smpyr, savecostn, tauonly):\n",
      "    <source elided>\n",
      "    tauslow = np.arange(2000, 200000, 5)\n",
      "\u001b[1m    atm14C = scipy.io.loadmat('atmD14C_50kBP-2012.mat')\n",
      "\u001b[0m    \u001b[1m^\u001b[0m\u001b[0m\n",
      "\u001b[0m\n",
      "\u001b[0m\u001b[1m[1] During: typing of get attribute at C14utils.py (69)\u001b[0m\n",
      "\u001b[1m\n",
      "File \"C14utils.py\", line 69:\u001b[0m\n",
      "\u001b[1mdef cal_tau(d14c, smpyr, savecostn, tauonly):\n",
      "    <source elided>\n",
      "    tauslow = np.arange(2000, 200000, 5)\n",
      "\u001b[1m    atm14C = scipy.io.loadmat('atmD14C_50kBP-2012.mat')\n",
      "\u001b[0m    \u001b[1m^\u001b[0m\u001b[0m\n",
      "\u001b[0m\n",
      "  @autojit\n",
      "C14utils.py:55: NumbaWarning: \u001b[1m\n",
      "Compilation is falling back to object mode WITHOUT looplifting enabled because Function \"cal_tau\" failed type inference due to: \u001b[1m\u001b[1mcannot determine Numba type of <class 'numba.dispatcher.LiftedLoop'>\u001b[0m\n",
      "\u001b[1m\n",
      "File \"C14utils.py\", line 72:\u001b[0m\n",
      "\u001b[1mdef cal_tau(d14c, smpyr, savecostn, tauonly):\n",
      "    <source elided>\n",
      "    atmFM = atmD14C/1000. + 1.\n",
      "\u001b[1m    for obsn, (obs, sampleyr) in enumerate(zip(d14c,smpyr)):\n",
      "\u001b[0m    \u001b[1m^\u001b[0m\u001b[0m\n",
      "\u001b[0m\u001b[0m\n",
      "  @autojit\n",
      "C:\\Users\\sshu3\\Anaconda2\\lib\\site-packages\\numba\\compiler.py:742: NumbaWarning: \u001b[1mFunction \"cal_tau\" was compiled in object mode without forceobj=True, but has lifted loops.\n",
      "\u001b[1m\n",
      "File \"C14utils.py\", line 56:\u001b[0m\n",
      "\u001b[1m@autojit   \n",
      "\u001b[1mdef cal_tau(d14c, smpyr, savecostn, tauonly):\n",
      "\u001b[0m\u001b[1m^\u001b[0m\u001b[0m\n",
      "\u001b[0m\n",
      "  self.func_ir.loc))\n",
      "C:\\Users\\sshu3\\Anaconda2\\lib\\site-packages\\numba\\compiler.py:751: NumbaDeprecationWarning: \u001b[1m\n",
      "Fall-back from the nopython compilation path to the object mode compilation path has been detected, this is deprecated behaviour.\n",
      "\n",
      "For more information visit http://numba.pydata.org/numba-doc/latest/reference/deprecation.html#deprecation-of-object-mode-fall-back-behaviour-when-using-jit\n",
      "\u001b[1m\n",
      "File \"C14utils.py\", line 56:\u001b[0m\n",
      "\u001b[1m@autojit   \n",
      "\u001b[1mdef cal_tau(d14c, smpyr, savecostn, tauonly):\n",
      "\u001b[0m\u001b[1m^\u001b[0m\u001b[0m\n",
      "\u001b[0m\n",
      "  warnings.warn(errors.NumbaDeprecationWarning(msg, self.func_ir.loc))\n"
     ]
    },
    {
     "name": "stdout",
     "output_type": "stream",
     "text": [
      "358\n",
      "357\n",
      "356\n",
      "355\n",
      "354\n",
      "353\n",
      "352\n",
      "351\n",
      "350\n",
      "349\n",
      "348\n",
      "347\n",
      "346\n",
      "345\n",
      "344\n",
      "343\n",
      "342\n",
      "341\n"
     ]
    },
    {
     "name": "stderr",
     "output_type": "stream",
     "text": [
      "C:\\Users\\sshu3\\Anaconda2\\lib\\site-packages\\ipykernel_launcher.py:64: RuntimeWarning: invalid value encountered in less\n"
     ]
    },
    {
     "name": "stdout",
     "output_type": "stream",
     "text": [
      "340\n",
      "339\n",
      "338\n",
      "337\n",
      "336\n",
      "335\n",
      "334\n",
      "333\n",
      "332\n",
      "331\n",
      "330\n",
      "329\n",
      "328\n",
      "327\n",
      "326\n",
      "325\n",
      "324\n",
      "323\n",
      "322\n",
      "321\n",
      "320\n",
      "319\n",
      "318\n",
      "317\n",
      "316\n",
      "315\n",
      "314\n",
      "313\n",
      "312\n",
      "311\n",
      "310\n",
      "309\n",
      "308\n",
      "307\n",
      "306\n",
      "305\n",
      "304\n",
      "303\n",
      "302\n",
      "301\n",
      "300\n",
      "299\n",
      "298\n",
      "297\n",
      "296\n",
      "295\n",
      "294\n",
      "293\n",
      "292\n",
      "291\n",
      "290\n",
      "289\n",
      "288\n",
      "287\n",
      "286\n",
      "285\n",
      "284\n",
      "283\n",
      "282\n",
      "281\n",
      "280\n",
      "279\n",
      "278\n",
      "277\n",
      "276\n",
      "275\n",
      "274\n",
      "273\n",
      "272\n",
      "271\n",
      "270\n",
      "269\n",
      "268\n",
      "267\n",
      "266\n",
      "265\n",
      "264\n",
      "263\n",
      "262\n",
      "261\n",
      "260\n",
      "259\n",
      "258\n",
      "257\n",
      "256\n",
      "255\n",
      "254\n",
      "253\n",
      "252\n",
      "251\n",
      "250\n",
      "249\n",
      "248\n",
      "247\n",
      "246\n",
      "245\n",
      "244\n",
      "243\n",
      "242\n",
      "241\n",
      "240\n",
      "239\n",
      "238\n",
      "237\n",
      "236\n",
      "235\n",
      "234\n",
      "233\n",
      "232\n",
      "231\n",
      "230\n",
      "229\n",
      "228\n",
      "227\n",
      "226\n",
      "225\n",
      "224\n",
      "223\n",
      "222\n",
      "221\n",
      "220\n"
     ]
    }
   ],
   "source": [
    "# Here read in the results and calculate the D14C for each layer\n",
    "fsample = 'Global_1DSBGC_NOCLIM.bgc-yearly-d14c-4d_2000s.nc'\n",
    "nclu_obs=NetCDFFile(fsample,'r')\n",
    "d14c = nclu_obs.variables['soc_del_c14'][:]\n",
    "nclu_obs.close()\n",
    "\n",
    "# SOC profile\n",
    "fsoc = 'Global_1DSBGC_NOCLIM.bgc-yearly-3d_2000s.nc'\n",
    "nclu_obs=NetCDFFile(fsoc,'r')\n",
    "soc = nclu_obs.variables['soil_c_lev'][:]\n",
    "nclu_obs.close()\n",
    "\n",
    "# LC data\n",
    "flc = 'verify_time_invarient.nc'\n",
    "nclu_obs=NetCDFFile(flc,'r')\n",
    "lc = nclu_obs.variables['c_pft_fraction'][:]\n",
    "nclu_obs.close()\n",
    "path='Global_1DSBGC.bgc-yearly-3d_2000s.nc'\n",
    "nclu=NetCDFFile(path,'r')\n",
    "fo2_2000 = nclu.variables['fo2'][:]\n",
    "fna_2000 = nclu.variables['fna'][:]\n",
    "latnc = nclu.variables['lat'][:]\n",
    "lonnc = nclu.variables['lon'][:]\n",
    "nclu.close()\n",
    "\n",
    "# Need to get the mask to prevent running for useless grids.\n",
    "fdv = 'dave_mask.nc'\n",
    "nclu_obs=NetCDFFile(fdv,'r')\n",
    "dv_msk = nclu_obs.variables['Davemask'][:]\n",
    "nclu_obs.close()\n",
    "\n",
    "# D14C is not possible to use PFT as weight.\n",
    "# Need to get the 14C/12C ratio then use PFT as a weight.\n",
    "rc14c12 = d14c/1000. + 1\n",
    "\n",
    "\n",
    "rc14c12_all = -1000*np.ones((10, 360, 720))\n",
    "for i in np.arange(0,10):\n",
    "    rc14c12_all[i,:,:] = np.sum((rc14c12[i,:,:,:] * lc), axis=0)\n",
    "\n",
    "d14c_all = 1000.*(rc14c12_all - 1)\n",
    "    \n",
    "d14c_all[d14c_all==0] = np.float('nan')\n",
    "# Get a mask to filter out grids with no values\n",
    "msk = d14c_all[0,:,:]\n",
    "msk[dv_msk>0] = -1000\n",
    "    \n",
    "tau_topsoil = np.zeros((360, 720))\n",
    "tau_subsoil = np.zeros((360, 720))\n",
    "bulk_d14c_topsoil = -1000*np.ones((360, 720))\n",
    "bulk_d14c_subsoil = -1000*np.ones((360, 720))\n",
    "\n",
    "for i in np.arange(0,720):\n",
    "    for j in np.arange(0,360):\n",
    "        if(soc[0,j,i]>0):\n",
    "            bulk_d14c_topsoil[j,i] = isam.avg_wt_topsoil(soc[:,j,i], d14c_all[:,j,i])\n",
    "            bulk_d14c_subsoil[j,i] = isam.avg_wt_subsoil(soc[:,j,i], d14c_all[:,j,i])\n",
    "\n",
    "print('Done the averaging!')\n",
    "\n",
    "# Calculate the tau, one time for a lat\n",
    "# Lat starts from 360 to 220 (20N ~ 80N), Dave Mcguire's regional mask is applied\n",
    "# First transfer into a 1-D array then pass into cal_tau?\n",
    "for i in np.arange(359,219,-1):\n",
    "    print(i)\n",
    "    # Weighted C14 for topsoil and subsoil separatedly\n",
    "    # Preindustrial year - 1860\n",
    "    # Contemporary year - 2000\n",
    "    msk_inuse = msk[i,:]\n",
    "    sampleyr = 2005*np.ones((720))\n",
    "    sampleyr[msk_inuse<-400] = np.float('nan')\n",
    "    # Calculate the turnover time\n",
    "    tau, cost = C14utils.cal_tau(bulk_d14c_topsoil[i,:], sampleyr, 1, 0)\n",
    "    tau_topsoil[i,:] = tau[:,0]\n",
    "    tau, cost = C14utils.cal_tau(bulk_d14c_subsoil[i,:], sampleyr, 1, 0)\n",
    "    tau_subsoil[i,:] = tau[:,0]\n",
    "\n",
    "tau_topsoil[tau_topsoil>3000] = np.float('nan')\n",
    "tau_subsoil[tau_subsoil>10000] = np.float('nan')\n",
    "\n",
    "# Save the file as netcdf for display\n",
    "# Create a NetCDF file to store the result\n",
    "nc = NetCDFFile('tau_1d_2000s_NOCLIM.nc','w',format='NETCDF4_CLASSIC')\n",
    "# Define a set of dimensions to be used in the file\n",
    "#level = nc.createDimension('level', 10)\n",
    "lat = nc.createDimension('lat', 360)\n",
    "lon = nc.createDimension('lon', 720)\n",
    "# Create variables\n",
    "#levels = nc.createVariable('level', np.int32, ('level',))\n",
    "latitudes = nc.createVariable('lat', np.float32, ('lat',))\n",
    "longitudes = nc.createVariable('lon', np.float32, ('lon',))\n",
    "# Create the actual 4-d variable\n",
    "tau_top = nc.createVariable('tau_top', np.float32, ('lat','lon'))\n",
    "tau_sub = nc.createVariable('tau_sub', np.float32, ('lat','lon'))\n",
    "\n",
    "# Add Global Attributes\n",
    "nc.description = 'Tau calculated from the Soil D14C.'\n",
    "nc.history = 'Created ' + time.ctime(time.time())\n",
    "nc.source = 'netCDF4 python module'\n",
    "\n",
    "# Add Variable Attributes\n",
    "latitudes.units = 'degree_north'\n",
    "longitudes.units = 'degree_east'\n",
    "tau_top.units = 'year'\n",
    "tau_sub.units = 'year'\n",
    "\n",
    "# Put longitude and latitude\n",
    "lats = np.arange(-89.75,90.25,0.5)\n",
    "lons = np.arange(0.25,360.25,0.5)\n",
    "latitudes[:] = lats\n",
    "longitudes[:] = lons\n",
    "tau_top[:,:] = tau_topsoil\n",
    "tau_sub[:,:] = tau_subsoil\n",
    "nc.close()"
   ]
  },
  {
   "cell_type": "code",
   "execution_count": 6,
   "metadata": {},
   "outputs": [],
   "source": [
    "# fsample = 'Global_1DSBGC.bgc-yearly-d14c-4d_1860s.nc'\n",
    "fsample = 'Global_1DSBGC.bgc-yearly-d14c-4d_2000s.nc'\n",
    "# fsample = 'Global_1DSBGC_NOCLIM.bgc-yearly-d14c-4d_2000s.nc'\n",
    "# fsample = 'Global_1DSBGC_NOCO2.bgc-yearly-d14c-4d_2000s.nc'\n",
    "nclu_obs=NetCDFFile(fsample,'r')\n",
    "soc = nclu_obs.variables['soc_pools'][:]\n",
    "soc14 = nclu_obs.variables['soc14_pools'][:]\n",
    "input_flux = nclu_obs.variables['input_pools'][:]\n",
    "resp_flux = nclu_obs.variables['resp_pools'][:]\n",
    "nclu_obs.close()\n",
    "\n",
    "# Need to get the mask to prevent running for useless grids.\n",
    "fdv = 'dave_mask.nc'\n",
    "nclu_obs=NetCDFFile(fdv,'r')\n",
    "dv_msk = nclu_obs.variables['Davemask'][:]\n",
    "nclu_obs.close()\n",
    "\n",
    "# Another mask if choose to use NCSCD\n",
    "path='ncscdv2_soilc_0.5x0.5.nc'\n",
    "nclu_obs=NetCDFFile(path,'r')\n",
    "soc_ncscd_orig = nclu_obs.variables['soilc'][:]\n",
    "latnc2 = nclu_obs.variables['lat'][:]\n",
    "lonnc2 = nclu_obs.variables['lon'][:]\n",
    "nclu_obs.close()\n",
    "soc_ncscd = soc_ncscd_orig[0,:,:]\n",
    "# Use the NCSCD permafrost mask, which is the norther high latitude permafrost region without greenland\n",
    "# The mask Mcguire et al., 2016 used including alpine permafrost (Tiebet and the Alps)\n",
    "# Alpine permafrost to be treated as having a very small amount of SOC, though for the paper we have \n",
    "# to consider the whole region.\n",
    "mask_permafrost = copy.deepcopy(ma.getmask(soc_ncscd))\n",
    "another_mask = ma.masked_where(soc_ncscd<=0, soc_ncscd)\n",
    "temp = copy.deepcopy(mask_permafrost[:, 0:360])\n",
    "mask_permafrost[:, 0:360] = mask_permafrost[:, 360:720]\n",
    "mask_permafrost[:, 360:720] = temp\n",
    "temp = copy.deepcopy(another_mask[:, 0:360])\n",
    "another_mask[:, 0:360] = another_mask[:, 360:720]\n",
    "another_mask[:, 360:720] = temp\n",
    "\n",
    "# First calculate the D14C of lab and res pools for each layer\n",
    "soc[soc<=0] = np.float('nan')\n",
    "soc14[soc14<=0] = np.float('nan')\n",
    "d14c_lab = 1000.*(np.nansum(soc14[:,0:7,:,:], axis=1)/np.nansum(soc[:,0:7,:,:], axis=1) - 1)\n",
    "d14c_res = 1000.*(soc14[:,7,:,:]/soc[:,7,:,:] - 1)\n",
    "\n",
    "# Second, Calculate the D14C of lab and res pools regardless of the depth \n",
    "d14c_lab_tot = 1000.*(np.nansum(np.nansum(soc14[:,0:7,:,:], axis=1), axis=0)/np.nansum(np.nansum(soc[:,0:7,:,:], axis=1), axis=0) - 1)\n",
    "d14c_res_tot = 1000.*(np.nansum(soc14[:,7,:,:], axis=0)/np.nansum(soc[:,7,:,:], axis=0) - 1)\n",
    "\n",
    "# Third, get the D14C of lab and res pools for topsoil vs. subsoil\n",
    "d14c_lab_top = 1000.*(np.nansum(np.nansum(soc14[0:5,0:7,:,:], axis=1), axis=0)/np.nansum(np.nansum(soc[0:5,0:7,:,:], axis=1), axis=0) - 1)\n",
    "d14c_res_top = 1000.*(np.nansum(soc14[0:5,7,:,:], axis=0)/np.nansum(soc[0:5,7,:,:], axis=0) - 1)\n",
    "\n",
    "d14c_lab_sub = 1000.*((np.nansum(np.nansum(soc14[5:7,0:7,:,:], axis=1), axis=0)+0.3*np.nansum(soc14[7,0:7,:,:], axis=0))\\\n",
    "                      /(np.nansum(np.nansum(soc[5:7,0:7,:,:], axis=1), axis=0)+0.3*np.nansum(soc[7,0:7,:,:], axis=0)) - 1)\n",
    "d14c_res_sub = 1000.*((np.nansum(soc14[5:7,7,:,:], axis=0)+0.3*soc14[7,7,:,:])/(np.nansum(soc[5:7,7,:,:], axis=0)+0.3*soc[7,7,:,:]) - 1)\n"
   ]
  },
  {
   "cell_type": "code",
   "execution_count": 3,
   "metadata": {},
   "outputs": [
    {
     "data": {
      "text/plain": [
       "(360L, 720L)"
      ]
     },
     "execution_count": 3,
     "metadata": {},
     "output_type": "execute_result"
    }
   ],
   "source": []
  },
  {
   "cell_type": "code",
   "execution_count": 9,
   "metadata": {},
   "outputs": [
    {
     "name": "stdout",
     "output_type": "stream",
     "text": [
      "359\n",
      "358\n",
      "357\n",
      "356\n",
      "355\n",
      "354\n",
      "353\n",
      "352\n",
      "351\n",
      "350\n",
      "349\n",
      "348\n",
      "347\n",
      "346\n",
      "345\n",
      "344\n",
      "343\n",
      "342\n",
      "341\n",
      "340\n",
      "339\n",
      "338\n",
      "337\n",
      "336\n",
      "335\n",
      "334\n",
      "333\n",
      "332\n",
      "331\n",
      "330\n",
      "329\n",
      "328\n",
      "327\n",
      "326\n",
      "325\n",
      "324\n",
      "323\n",
      "322\n",
      "321\n",
      "320\n",
      "319\n",
      "318\n",
      "317\n",
      "316\n",
      "315\n",
      "314\n",
      "313\n",
      "312\n",
      "311\n",
      "310\n",
      "309\n",
      "308\n",
      "307\n",
      "306\n",
      "305\n",
      "304\n",
      "303\n",
      "302\n",
      "301\n",
      "300\n",
      "299\n",
      "298\n",
      "297\n",
      "296\n",
      "295\n",
      "294\n",
      "293\n",
      "292\n",
      "291\n",
      "290\n",
      "289\n",
      "288\n",
      "287\n",
      "286\n",
      "285\n",
      "284\n",
      "283\n",
      "282\n",
      "281\n",
      "280\n",
      "279\n",
      "278\n",
      "277\n",
      "276\n",
      "275\n",
      "274\n",
      "273\n",
      "272\n",
      "271\n",
      "270\n",
      "269\n",
      "268\n",
      "267\n",
      "266\n",
      "265\n",
      "264\n",
      "263\n",
      "262\n",
      "261\n",
      "260\n",
      "259\n",
      "258\n",
      "257\n",
      "256\n",
      "255\n",
      "254\n",
      "253\n",
      "252\n",
      "251\n",
      "250\n",
      "249\n",
      "248\n",
      "247\n",
      "246\n",
      "245\n",
      "244\n",
      "243\n",
      "242\n",
      "241\n",
      "240\n",
      "239\n",
      "238\n",
      "237\n",
      "236\n",
      "235\n",
      "234\n",
      "233\n",
      "232\n",
      "231\n",
      "230\n",
      "229\n",
      "228\n",
      "227\n",
      "226\n",
      "225\n",
      "224\n",
      "223\n",
      "222\n",
      "221\n",
      "220\n"
     ]
    }
   ],
   "source": [
    "# Calculate STT from D14C\n",
    "tau_topsoil = np.zeros((360, 720))\n",
    "tau_subsoil = np.zeros((360, 720))\n",
    "msk = d14c_lab_top[:,:]\n",
    "msk[dv_msk>0] = -1000\n",
    "\n",
    "# Calculate the tau, one time for a lat\n",
    "# Lat starts from 360 to 220 (20N ~ 80N), Dave Mcguire's regional mask is applied\n",
    "# First transfer into a 1-D array then pass into cal_tau?\n",
    "for i in np.arange(359,219,-1):\n",
    "    print(i)\n",
    "    # Weighted C14 for topsoil and subsoil separatedly\n",
    "    # Preindustrial year - 1860\n",
    "    # Contemporary year - 2000\n",
    "    msk_inuse = msk[i,:]\n",
    "    sampleyr = 2005*np.ones((720))\n",
    "    sampleyr[msk_inuse<-400] = np.float('nan')\n",
    "    # Calculate the turnover time\n",
    "    tau, cost = C14utils.cal_tau(d14c_lab_sub[i,:], sampleyr, 1, 0)\n",
    "    tau_topsoil[i,:] = tau[:,0]\n",
    "    tau, cost = C14utils.cal_tau(d14c_res_sub[i,:], sampleyr, 1, 0)\n",
    "    tau_subsoil[i,:] = tau[:,0]\n",
    "\n",
    "tau_topsoil[tau_topsoil>1000] = np.float('nan')\n",
    "tau_subsoil[tau_subsoil>10000] = np.float('nan')\n",
    "\n",
    "# Save the file as netcdf for display\n",
    "# Create a NetCDF file to store the result\n",
    "nc = NetCDFFile('tau_1d_2000s_res_lab_subsoil.nc','w',format='NETCDF4_CLASSIC')\n",
    "# Define a set of dimensions to be used in the file\n",
    "#level = nc.createDimension('level', 10)\n",
    "lat = nc.createDimension('lat', 360)\n",
    "lon = nc.createDimension('lon', 720)\n",
    "# Create variables\n",
    "#levels = nc.createVariable('level', np.int32, ('level',))\n",
    "latitudes = nc.createVariable('lat', np.float32, ('lat',))\n",
    "longitudes = nc.createVariable('lon', np.float32, ('lon',))\n",
    "# Create the actual 4-d variable\n",
    "tau_top = nc.createVariable('tau_lab', np.float32, ('lat','lon'))\n",
    "tau_sub = nc.createVariable('tau_res', np.float32, ('lat','lon'))\n",
    "\n",
    "# Add Global Attributes\n",
    "nc.description = 'Tau calculated from the Soil D14C.'\n",
    "nc.history = 'Created ' + time.ctime(time.time())\n",
    "nc.source = 'netCDF4 python module'\n",
    "\n",
    "# Add Variable Attributes\n",
    "latitudes.units = 'degree_north'\n",
    "longitudes.units = 'degree_east'\n",
    "tau_top.units = 'year'\n",
    "tau_sub.units = 'year'\n",
    "\n",
    "# Put longitude and latitude\n",
    "lats = np.arange(-89.75,90.25,0.5)\n",
    "lons = np.arange(0.25,360.25,0.5)\n",
    "latitudes[:] = lats\n",
    "longitudes[:] = lons\n",
    "tau_top[:,:] = tau_topsoil\n",
    "tau_sub[:,:] = tau_subsoil\n",
    "nc.close()"
   ]
  },
  {
   "cell_type": "code",
   "execution_count": 7,
   "metadata": {},
   "outputs": [],
   "source": []
  },
  {
   "cell_type": "code",
   "execution_count": null,
   "metadata": {},
   "outputs": [],
   "source": []
  },
  {
   "cell_type": "code",
   "execution_count": 95,
   "metadata": {},
   "outputs": [],
   "source": [
    "# Calculate the input flux, resp flux, SOC and STT for the ISAM-1D. ISAM-1D_NOCLIM and ISAM-1D_NOCO2\n",
    "input_lab_top = np.nansum(np.nansum(input_flux[0:5,0:2,:,:], axis=1), axis=0)\n",
    "input_lab_sub = np.nansum(np.nansum(input_flux[5:7,0:2,:,:], axis=1), axis=0) + 0.3*np.nansum(input_flux[7,0:2,:,:], axis=0)\n",
    "input_lab_top = input_lab_top + np.nansum(np.nansum(input_flux[0:5,4:6,:,:], axis=1), axis=0)\n",
    "input_lab_sub = input_lab_sub + np.nansum(np.nansum(input_flux[5:7,4:6,:,:], axis=1), axis=0) + 0.3*np.nansum(input_flux[7,4:6,:,:], axis=0)\n",
    "\n",
    "input_res_top = np.nansum(input_flux[0:5,7,:,:], axis=0)\n",
    "input_res_sub = np.nansum(input_flux[5:7,7,:,:], axis=0) + 0.3*input_flux[7,7,:,:]\n",
    "\n",
    "resp_lab_top = np.nansum(np.nansum(resp_flux[0:5,0:7,:,:], axis=1), axis=0)\n",
    "resp_lab_sub = np.nansum(np.nansum(resp_flux[5:7,0:7,:,:], axis=1), axis=0) + 0.3*np.nansum(resp_flux[7,0:7,:,:], axis=0)\n",
    "resp_res_top = np.nansum(resp_flux[0:5,7,:,:], axis=0)\n",
    "resp_res_sub = np.nansum(resp_flux[5:7,7,:,:], axis=0) + 0.3*resp_flux[7,7,:,:]\n",
    "\n",
    "soc_lab_top = np.nansum(np.nansum(soc[0:5,0:7,:,:], axis=1), axis=0)\n",
    "soc_lab_sub = np.nansum(np.nansum(soc[5:7,0:7,:,:], axis=1), axis=0) + 0.3*np.nansum(soc[7,0:7,:,:], axis=0)\n",
    "soc_res_top = np.nansum(soc[0:5,7,:,:], axis=0)\n",
    "soc_res_sub = np.nansum(soc[5:7,7,:,:], axis=0) + 0.3*soc[7,7,:,:]\n",
    "\n",
    "tau_lab_top = soc_lab_top/input_lab_top\n",
    "tau_lab_sub = soc_lab_sub/input_lab_sub\n",
    "tau_res_top = soc_res_top/input_res_top\n",
    "tau_res_sub = soc_res_sub/input_res_sub\n"
   ]
  },
  {
   "cell_type": "code",
   "execution_count": 96,
   "metadata": {},
   "outputs": [],
   "source": [
    "# Obtain areal total\n",
    "# First masked values outside our mask\n",
    "input_lab_top[input_lab_top<=0] = np.float('nan')\n",
    "input_lab_sub[input_lab_sub<=0] = np.float('nan')\n",
    "input_res_top[input_res_top<=0] = np.float('nan')\n",
    "input_res_sub[input_res_sub<=0] = np.float('nan')\n",
    "\n",
    "resp_lab_top[resp_lab_top<=0] = np.float('nan')\n",
    "resp_lab_sub[resp_lab_sub<=0] = np.float('nan')\n",
    "resp_res_top[resp_res_top<=0] = np.float('nan')\n",
    "resp_res_sub[resp_res_sub<=0] = np.float('nan')\n",
    "\n",
    "input_lab_top.mask = another_mask.mask\n",
    "input_lab_sub.mask = another_mask.mask\n",
    "input_res_top.mask = another_mask.mask\n",
    "input_res_sub.mask = another_mask.mask\n",
    "\n",
    "resp_lab_top.mask = another_mask.mask\n",
    "resp_lab_sub.mask = another_mask.mask\n",
    "resp_res_top.mask = another_mask.mask\n",
    "resp_res_sub.mask = another_mask.mask\n",
    "\n",
    "soc_lab_top.mask = another_mask.mask\n",
    "soc_lab_sub.mask = another_mask.mask\n",
    "soc_res_top.mask = another_mask.mask\n",
    "soc_res_sub.mask = another_mask.mask\n",
    "\n",
    "# soc_lab_top[another_mask<=0] = np.float('nan')\n",
    "# soc_lab_sub[another_mask<=0] = np.float('nan')\n",
    "# soc_res_top[another_mask<=0] = np.float('nan')\n",
    "# soc_res_sub[another_mask<=0] = np.float('nan')\n"
   ]
  },
  {
   "cell_type": "code",
   "execution_count": 58,
   "metadata": {},
   "outputs": [
    {
     "data": {
      "text/plain": [
       "<matplotlib.colorbar.Colorbar at 0x21d491d0>"
      ]
     },
     "execution_count": 58,
     "metadata": {},
     "output_type": "execute_result"
    },
    {
     "data": {
      "image/png": "[encoded data removed]",
      "text/plain": [
       "<Figure size 432x288 with 2 Axes>"
      ]
     },
     "metadata": {
      "needs_background": "light"
     },
     "output_type": "display_data"
    }
   ],
   "source": [
    "plt.imshow(another_mask,cmap='rainbow',vmin=0, vmax=3)\n",
    "plt.colorbar()"
   ]
  },
  {
   "cell_type": "code",
   "execution_count": 59,
   "metadata": {},
   "outputs": [
    {
     "data": {
      "text/plain": [
       "<matplotlib.colorbar.Colorbar at 0x223e44a8>"
      ]
     },
     "execution_count": 59,
     "metadata": {},
     "output_type": "execute_result"
    },
    {
     "data": {
      "image/png": "[encoded data removed]",
      "text/plain": [
       "<Figure size 432x288 with 2 Axes>"
      ]
     },
     "metadata": {
      "needs_background": "light"
     },
     "output_type": "display_data"
    }
   ],
   "source": [
    "plt.imshow(dv_msk,cmap='rainbow',vmin=0, vmax=3)\n",
    "plt.colorbar()"
   ]
  },
  {
   "cell_type": "code",
   "execution_count": 97,
   "metadata": {},
   "outputs": [
    {
     "name": "stderr",
     "output_type": "stream",
     "text": [
      "C:\\Users\\sshu3\\Anaconda2\\lib\\site-packages\\ipykernel_launcher.py:17: UserWarning: Warning: converting a masked element to nan.\n",
      "C:\\Users\\sshu3\\Anaconda2\\lib\\site-packages\\ipykernel_launcher.py:18: UserWarning: Warning: converting a masked element to nan.\n",
      "C:\\Users\\sshu3\\Anaconda2\\lib\\site-packages\\ipykernel_launcher.py:19: UserWarning: Warning: converting a masked element to nan.\n",
      "C:\\Users\\sshu3\\Anaconda2\\lib\\site-packages\\ipykernel_launcher.py:20: UserWarning: Warning: converting a masked element to nan.\n"
     ]
    },
    {
     "name": "stdout",
     "output_type": "stream",
     "text": [
      "Input labile topsoil ...\n",
      "4.0567109089383795\n",
      "Input labile subsoil ...\n",
      "0.2541533491627922\n",
      "Input resistant topsoil ...\n",
      "0.4152021631852045\n",
      "Input resistant subsoil ...\n",
      "0.029570448279085105\n"
     ]
    }
   ],
   "source": [
    "# Input C fluxes\n",
    "# Get the grid area\n",
    "nlon = 720\n",
    "nlat = 360\n",
    "grid_area = np.ones((nlat, nlon))*-9999.\n",
    "val_lab_top = np.ones((nlat, nlon))*float(\"nan\")\n",
    "val_lab_sub = np.ones((nlat, nlon))*float(\"nan\")\n",
    "val_res_top = np.ones((nlat, nlon))*float(\"nan\")\n",
    "val_res_sub = np.ones((nlat, nlon))*float(\"nan\")\n",
    "earth_area =  5.096e14;\n",
    "lat = np.arange(-89.75, 90.25, 0.5)\n",
    "res = 0.5;\n",
    "for i in np.arange(0,nlat):\n",
    "    for j in np.arange(0,nlon):\n",
    "        grid_area[i,j] = (earth_area/2)*abs(np.sin((lat[i] - res/2)*np.pi/180) -\n",
    "                    np.sin((lat[i] + res/2)*np.pi/180))/(360/res)\n",
    "        val_lab_top[i,j] = input_lab_top[i,j] * grid_area[i,j]\n",
    "        val_lab_sub[i,j] = input_lab_sub[i,j] * grid_area[i,j]\n",
    "        val_res_top[i,j] = input_res_top[i,j] * grid_area[i,j]\n",
    "        val_res_sub[i,j] = input_res_sub[i,j] * grid_area[i,j]        \n",
    "\n",
    "input_lab_top_tot = np.nansum(val_lab_top)/1e12\n",
    "input_lab_sub_tot = np.nansum(val_lab_sub)/1e12\n",
    "input_res_top_tot = np.nansum(val_res_top)/1e12\n",
    "input_res_sub_tot = np.nansum(val_res_sub)/1e12\n",
    "\n",
    "print('Input labile topsoil ...')\n",
    "print(input_lab_top_tot)\n",
    "print('Input labile subsoil ...')\n",
    "print(input_lab_sub_tot)\n",
    "print('Input resistant topsoil ...')\n",
    "print(input_res_top_tot)\n",
    "print('Input resistant subsoil ...')\n",
    "print(input_res_sub_tot)\n"
   ]
  },
  {
   "cell_type": "code",
   "execution_count": 98,
   "metadata": {},
   "outputs": [
    {
     "name": "stderr",
     "output_type": "stream",
     "text": [
      "C:\\Users\\sshu3\\Anaconda2\\lib\\site-packages\\ipykernel_launcher.py:17: UserWarning: Warning: converting a masked element to nan.\n",
      "C:\\Users\\sshu3\\Anaconda2\\lib\\site-packages\\ipykernel_launcher.py:18: UserWarning: Warning: converting a masked element to nan.\n",
      "C:\\Users\\sshu3\\Anaconda2\\lib\\site-packages\\ipykernel_launcher.py:19: UserWarning: Warning: converting a masked element to nan.\n",
      "C:\\Users\\sshu3\\Anaconda2\\lib\\site-packages\\ipykernel_launcher.py:20: UserWarning: Warning: converting a masked element to nan.\n"
     ]
    },
    {
     "name": "stdout",
     "output_type": "stream",
     "text": [
      "Respiration labile topsoil ...\n",
      "3.397833109688692\n",
      "Respiration labile subsoil ...\n",
      "0.22396119930946085\n",
      "Respiration resistant topsoil ...\n",
      "0.25183448714142553\n",
      "Respiration resistant subsoil ...\n",
      "0.04061417976297514\n"
     ]
    }
   ],
   "source": [
    "# Respiration C fluxes\n",
    "# Get the grid area\n",
    "nlon = 720\n",
    "nlat = 360\n",
    "grid_area = np.ones((nlat, nlon))*-9999.\n",
    "val_lab_top = np.ones((nlat, nlon))*float(\"nan\")\n",
    "val_lab_sub = np.ones((nlat, nlon))*float(\"nan\")\n",
    "val_res_top = np.ones((nlat, nlon))*float(\"nan\")\n",
    "val_res_sub = np.ones((nlat, nlon))*float(\"nan\")\n",
    "earth_area =  5.096e14;\n",
    "lat = np.arange(-89.75, 90.25, 0.5)\n",
    "res = 0.5;\n",
    "for i in np.arange(0,nlat):\n",
    "    for j in np.arange(0,nlon):\n",
    "        grid_area[i,j] = (earth_area/2)*abs(np.sin((lat[i] - res/2)*np.pi/180) -\n",
    "                    np.sin((lat[i] + res/2)*np.pi/180))/(360/res)\n",
    "        val_lab_top[i,j] = resp_lab_top[i,j] * grid_area[i,j]\n",
    "        val_lab_sub[i,j] = resp_lab_sub[i,j] * grid_area[i,j]\n",
    "        val_res_top[i,j] = resp_res_top[i,j] * grid_area[i,j]\n",
    "        val_res_sub[i,j] = resp_res_sub[i,j] * grid_area[i,j]        \n",
    "\n",
    "resp_lab_top_tot = np.nansum(val_lab_top)/1e12\n",
    "resp_lab_sub_tot = np.nansum(val_lab_sub)/1e12\n",
    "resp_res_top_tot = np.nansum(val_res_top)/1e12\n",
    "resp_res_sub_tot = np.nansum(val_res_sub)/1e12\n",
    "\n",
    "print('Respiration labile topsoil ...')\n",
    "print(resp_lab_top_tot)\n",
    "print('Respiration labile subsoil ...')\n",
    "print(resp_lab_sub_tot)\n",
    "print('Respiration resistant topsoil ...')\n",
    "print(resp_res_top_tot)\n",
    "print('Respiration resistant subsoil ...')\n",
    "print(resp_res_sub_tot)"
   ]
  },
  {
   "cell_type": "code",
   "execution_count": 99,
   "metadata": {},
   "outputs": [
    {
     "name": "stderr",
     "output_type": "stream",
     "text": [
      "C:\\Users\\sshu3\\Anaconda2\\lib\\site-packages\\ipykernel_launcher.py:17: UserWarning: Warning: converting a masked element to nan.\n",
      "C:\\Users\\sshu3\\Anaconda2\\lib\\site-packages\\ipykernel_launcher.py:18: UserWarning: Warning: converting a masked element to nan.\n",
      "C:\\Users\\sshu3\\Anaconda2\\lib\\site-packages\\ipykernel_launcher.py:19: UserWarning: Warning: converting a masked element to nan.\n",
      "C:\\Users\\sshu3\\Anaconda2\\lib\\site-packages\\ipykernel_launcher.py:20: UserWarning: Warning: converting a masked element to nan.\n"
     ]
    },
    {
     "name": "stdout",
     "output_type": "stream",
     "text": [
      "SOC labile topsoil ...\n",
      "46.70896027405193\n",
      "SOC labile subsoil ...\n",
      "32.18671846556299\n",
      "SOC resistant topsoil ...\n",
      "79.50783364169243\n",
      "SOC resistant subsoil ...\n",
      "170.8676153510516\n"
     ]
    }
   ],
   "source": [
    "# SOC\n",
    "# Get the grid area\n",
    "nlon = 720\n",
    "nlat = 360\n",
    "grid_area = np.ones((nlat, nlon))*-9999.\n",
    "val_lab_top = np.ones((nlat, nlon))*float(\"nan\")\n",
    "val_lab_sub = np.ones((nlat, nlon))*float(\"nan\")\n",
    "val_res_top = np.ones((nlat, nlon))*float(\"nan\")\n",
    "val_res_sub = np.ones((nlat, nlon))*float(\"nan\")\n",
    "earth_area =  5.096e14;\n",
    "lat = np.arange(-89.75, 90.25, 0.5)\n",
    "res = 0.5;\n",
    "for i in np.arange(0,nlat):\n",
    "    for j in np.arange(0,nlon):\n",
    "        grid_area[i,j] = (earth_area/2)*abs(np.sin((lat[i] - res/2)*np.pi/180) -\n",
    "                    np.sin((lat[i] + res/2)*np.pi/180))/(360/res)\n",
    "        val_lab_top[i,j] = soc_lab_top[i,j] * grid_area[i,j]\n",
    "        val_lab_sub[i,j] = soc_lab_sub[i,j] * grid_area[i,j]\n",
    "        val_res_top[i,j] = soc_res_top[i,j] * grid_area[i,j]\n",
    "        val_res_sub[i,j] = soc_res_sub[i,j] * grid_area[i,j]        \n",
    "\n",
    "soc_lab_top_tot = np.nansum(val_lab_top)/1e12\n",
    "soc_lab_sub_tot = np.nansum(val_lab_sub)/1e12\n",
    "soc_res_top_tot = np.nansum(val_res_top)/1e12\n",
    "soc_res_sub_tot = np.nansum(val_res_sub)/1e12\n",
    "\n",
    "print('SOC labile topsoil ...')\n",
    "print(soc_lab_top_tot)\n",
    "print('SOC labile subsoil ...')\n",
    "print(soc_lab_sub_tot)\n",
    "print('SOC resistant topsoil ...')\n",
    "print(soc_res_top_tot)\n",
    "print('SOC resistant subsoil ...')\n",
    "print(soc_res_sub_tot)"
   ]
  },
  {
   "cell_type": "code",
   "execution_count": 18,
   "metadata": {},
   "outputs": [
    {
     "data": {
      "text/plain": [
       "<matplotlib.colorbar.Colorbar at 0x19fb2080>"
      ]
     },
     "execution_count": 18,
     "metadata": {},
     "output_type": "execute_result"
    },
    {
     "data": {
      "image/png": "[encoded data removed]",
      "text/plain": [
       "<Figure size 432x288 with 2 Axes>"
      ]
     },
     "metadata": {
      "needs_background": "light"
     },
     "output_type": "display_data"
    }
   ],
   "source": [
    "# Plots to check some results\n",
    "plt.imshow(soc_lab_top_tot,cmap='rainbow',vmin=0, vmax=0.5)\n",
    "plt.colorbar()"
   ]
  },
  {
   "cell_type": "code",
   "execution_count": 64,
   "metadata": {},
   "outputs": [
    {
     "data": {
      "text/plain": [
       "319"
      ]
     },
     "execution_count": 64,
     "metadata": {},
     "output_type": "execute_result"
    }
   ],
   "source": []
  },
  {
   "cell_type": "code",
   "execution_count": 14,
   "metadata": {},
   "outputs": [
    {
     "data": {
      "text/plain": [
       "<matplotlib.colorbar.Colorbar at 0x199dc828>"
      ]
     },
     "execution_count": 14,
     "metadata": {},
     "output_type": "execute_result"
    },
    {
     "data": {
      "image/png": "[encoded data removed]",
      "text/plain": [
       "<Figure size 432x288 with 2 Axes>"
      ]
     },
     "metadata": {
      "needs_background": "light"
     },
     "output_type": "display_data"
    }
   ],
   "source": [
    "plt.imshow(tau_res_sub,cmap='rainbow',vmin=0, vmax=3000)\n",
    "plt.colorbar()"
   ]
  },
  {
   "cell_type": "code",
   "execution_count": 11,
   "metadata": {},
   "outputs": [
    {
     "data": {
      "text/plain": [
       "<matplotlib.colorbar.Colorbar at 0x15f69ac8>"
      ]
     },
     "execution_count": 11,
     "metadata": {},
     "output_type": "execute_result"
    },
    {
     "data": {
      "image/png": "[encoded data removed]",
      "text/plain": [
       "<Figure size 432x288 with 2 Axes>"
      ]
     },
     "metadata": {
      "needs_background": "light"
     },
     "output_type": "display_data"
    }
   ],
   "source": [
    "plt.imshow(input_lab_sub,cmap='rainbow',vmin=0, vmax=0.5)\n",
    "plt.colorbar()"
   ]
  },
  {
   "cell_type": "code",
   "execution_count": 36,
   "metadata": {},
   "outputs": [
    {
     "data": {
      "text/plain": [
       "<matplotlib.colorbar.Colorbar at 0x1d1d7ba8>"
      ]
     },
     "execution_count": 36,
     "metadata": {},
     "output_type": "execute_result"
    },
    {
     "data": {
      "image/png": "[encoded data removed]",
      "text/plain": [
       "<Figure size 432x288 with 2 Axes>"
      ]
     },
     "metadata": {
      "needs_background": "light"
     },
     "output_type": "display_data"
    }
   ],
   "source": [
    "plt.imshow(d14c_res_top,cmap='rainbow',vmin=-600, vmax=200)\n",
    "plt.colorbar()"
   ]
  },
  {
   "cell_type": "code",
   "execution_count": 37,
   "metadata": {},
   "outputs": [
    {
     "data": {
      "text/plain": [
       "<matplotlib.colorbar.Colorbar at 0x2086c940>"
      ]
     },
     "execution_count": 37,
     "metadata": {},
     "output_type": "execute_result"
    },
    {
     "data": {
      "image/png": "[encoded data removed]",
      "text/plain": [
       "<Figure size 432x288 with 2 Axes>"
      ]
     },
     "metadata": {
      "needs_background": "light"
     },
     "output_type": "display_data"
    }
   ],
   "source": [
    "plt.imshow(d14c_res_sub,cmap='rainbow',vmin=-600, vmax=200)\n",
    "plt.colorbar()"
   ]
  },
  {
   "cell_type": "code",
   "execution_count": 38,
   "metadata": {},
   "outputs": [
    {
     "data": {
      "text/plain": [
       "<matplotlib.colorbar.Colorbar at 0x20e58550>"
      ]
     },
     "execution_count": 38,
     "metadata": {},
     "output_type": "execute_result"
    },
    {
     "data": {
      "image/png": "[encoded data removed]",
      "text/plain": [
       "<Figure size 432x288 with 2 Axes>"
      ]
     },
     "metadata": {
      "needs_background": "light"
     },
     "output_type": "display_data"
    }
   ],
   "source": [
    "plt.imshow(d14c_lab_top,cmap='rainbow',vmin=-100, vmax=200)\n",
    "plt.colorbar()"
   ]
  },
  {
   "cell_type": "code",
   "execution_count": 39,
   "metadata": {},
   "outputs": [
    {
     "data": {
      "text/plain": [
       "<matplotlib.colorbar.Colorbar at 0x1d1d6e80>"
      ]
     },
     "execution_count": 39,
     "metadata": {},
     "output_type": "execute_result"
    },
    {
     "data": {
      "image/png": "[encoded data removed]",
      "text/plain": [
       "<Figure size 432x288 with 2 Axes>"
      ]
     },
     "metadata": {
      "needs_background": "light"
     },
     "output_type": "display_data"
    }
   ],
   "source": [
    "plt.imshow(d14c_lab_sub,cmap='rainbow',vmin=-100, vmax=200)\n",
    "plt.colorbar()"
   ]
  },
  {
   "cell_type": "code",
   "execution_count": 30,
   "metadata": {},
   "outputs": [
    {
     "data": {
      "text/plain": [
       "<matplotlib.colorbar.Colorbar at 0x2002b048>"
      ]
     },
     "execution_count": 30,
     "metadata": {},
     "output_type": "execute_result"
    },
    {
     "data": {
      "image/png": "[encoded data removed]",
      "text/plain": [
       "<Figure size 432x288 with 2 Axes>"
      ]
     },
     "metadata": {
      "needs_background": "light"
     },
     "output_type": "display_data"
    }
   ],
   "source": [
    "plt.imshow(d14c_lab_tot,cmap='rainbow',vmin=-100, vmax=200)\n",
    "plt.colorbar()"
   ]
  },
  {
   "cell_type": "code",
   "execution_count": null,
   "metadata": {},
   "outputs": [],
   "source": [
    "# Here read in the results and calculate the D14C for labile vs. resistance pool\n",
    "# fsample = 'Global_1DSBGC.bgc-yearly-d14c-4d_1860s.nc'\n",
    "# nclu_obs=NetCDFFile(fsample,'r')\n",
    "# soc_1860 = nclu_obs.variables['soc_pools'][:]\n",
    "# soc14_1860 = nclu_obs.variables['soc14_pools'][:]\n",
    "# nclu_obs.close()\n",
    "\n",
    "fsample = 'Global_1DSBGC.bgc-yearly-d14c-4d_2000s.nc'\n",
    "nclu_obs=NetCDFFile(fsample,'r')\n",
    "soc = nclu_obs.variables['soc_pools'][:]\n",
    "soc14 = nclu_obs.variables['soc14_pools'][:]\n",
    "nclu_obs.close()\n",
    "\n",
    "# Need to get the mask to prevent running for useless grids.\n",
    "fdv = 'dave_mask.nc'\n",
    "nclu_obs=NetCDFFile(fdv,'r')\n",
    "dv_msk = nclu_obs.variables['Davemask'][:]\n",
    "nclu_obs.close()\n",
    "\n",
    "# First calculate the D14C\n",
    "soc[soc<=0] = np.float('nan')\n",
    "soc14[soc14<=0] = np.float('nan')\n",
    "d14c_lab = 1000.*(np.nansum(soc14[:,0:7,:,:], axis=1)/np.nansum(soc[:,0:7,:,:], axis=1) - 1)\n",
    "d14c_res = 1000.*(soc14[:,7,:,:]/soc[:,7,:,:] - 1)\n",
    "\n",
    "\n",
    "rc14c12 = d14c/1000. + 1\n",
    "\n",
    "\n",
    "rc14c12_all = -1000*np.ones((10, 360, 720))\n",
    "for i in np.arange(0,10):\n",
    "    rc14c12_all[i,:,:] = np.sum((rc14c12[i,:,:,:] * lc), axis=0)\n",
    "\n",
    "d14c_all = 1000.*(rc14c12_all - 1)\n",
    "    \n",
    "d14c_all[d14c_all==0] = np.float('nan')\n",
    "# Get a mask to filter out grids with no values\n",
    "msk = d14c_all[0,:,:]\n",
    "msk[dv_msk>0] = -1000\n",
    "\n",
    "tau_topsoil = np.zeros((360, 720))\n",
    "tau_subsoil = np.zeros((360, 720))\n",
    "bulk_d14c_topsoil = -1000*np.ones((360, 720))\n",
    "bulk_d14c_subsoil = -1000*np.ones((360, 720))\n",
    "\n",
    "for i in np.arange(0,720):\n",
    "    for j in np.arange(0,360):\n",
    "        if(soc[0,j,i]>0):\n",
    "            bulk_d14c_topsoil[j,i] = isam.avg_wt_topsoil(soc[:,j,i], d14c_all[:,j,i])\n",
    "            bulk_d14c_subsoil[j,i] = isam.avg_wt_subsoil(soc[:,j,i], d14c_all[:,j,i])\n",
    "\n",
    "print('Done the averaging!')\n",
    "\n",
    "# Calculate the tau, one time for a lat\n",
    "# Lat starts from 360 to 220 (20N ~ 80N), Dave Mcguire's regional mask is applied\n",
    "# First transfer into a 1-D array then pass into cal_tau?\n",
    "for i in np.arange(359,219,-1):\n",
    "    print(i)\n",
    "    # Weighted C14 for topsoil and subsoil separatedly\n",
    "    # Preindustrial year - 1860\n",
    "    # Contemporary year - 2000\n",
    "    msk_inuse = msk[i,:]\n",
    "    sampleyr = 1860*np.ones((720))\n",
    "    sampleyr[msk_inuse<-400] = np.float('nan')\n",
    "    # Calculate the turnover time\n",
    "    tau, cost = C14utils.cal_tau(bulk_d14c_topsoil[i,:], sampleyr, 1, 0)\n",
    "    tau_topsoil[i,:] = tau[:,0]\n",
    "    tau, cost = C14utils.cal_tau(bulk_d14c_subsoil[i,:], sampleyr, 1, 0)\n",
    "    tau_subsoil[i,:] = tau[:,0]\n",
    "\n",
    "tau_topsoil[tau_topsoil>3000] = np.float('nan')\n",
    "tau_subsoil[tau_subsoil>10000] = np.float('nan')\n",
    "\n",
    "# Save the file as netcdf for display\n",
    "# Create a NetCDF file to store the result\n",
    "nc = NetCDFFile('tau_1d_1860s.nc','w',format='NETCDF4_CLASSIC')\n",
    "# Define a set of dimensions to be used in the file\n",
    "#level = nc.createDimension('level', 10)\n",
    "lat = nc.createDimension('lat', 360)\n",
    "lon = nc.createDimension('lon', 720)\n",
    "# Create variables\n",
    "#levels = nc.createVariable('level', np.int32, ('level',))\n",
    "latitudes = nc.createVariable('lat', np.float32, ('lat',))\n",
    "longitudes = nc.createVariable('lon', np.float32, ('lon',))\n",
    "# Create the actual 4-d variable\n",
    "tau_top = nc.createVariable('tau_top', np.float32, ('lat','lon'))\n",
    "tau_sub = nc.createVariable('tau_sub', np.float32, ('lat','lon'))\n",
    "\n",
    "# Add Global Attributes\n",
    "nc.description = 'Tau calculated from the Soil D14C.'\n",
    "nc.history = 'Created ' + time.ctime(time.time())\n",
    "nc.source = 'netCDF4 python module'\n",
    "\n",
    "# Add Variable Attributes\n",
    "latitudes.units = 'degree_north'\n",
    "longitudes.units = 'degree_east'\n",
    "tau_top.units = 'year'\n",
    "tau_sub.units = 'year'\n",
    "\n",
    "# Put longitude and latitude\n",
    "lats = np.arange(-89.75,90.25,0.5)\n",
    "lons = np.arange(0.25,360.25,0.5)\n",
    "latitudes[:] = lats\n",
    "longitudes[:] = lons\n",
    "tau_top[:,:] = tau_topsoil\n",
    "tau_sub[:,:] = tau_subsoil\n",
    "nc.close()"
   ]
  },
  {
   "cell_type": "code",
   "execution_count": null,
   "metadata": {},
   "outputs": [],
   "source": []
  },
  {
   "cell_type": "code",
   "execution_count": 5,
   "metadata": {},
   "outputs": [],
   "source": []
  },
  {
   "cell_type": "code",
   "execution_count": null,
   "metadata": {},
   "outputs": [],
   "source": [
    "np.shape(tau_topsoil)"
   ]
  },
  {
   "cell_type": "code",
   "execution_count": null,
   "metadata": {},
   "outputs": [],
   "source": [
    "os.system(\"echo $DISPLAY\")"
   ]
  },
  {
   "cell_type": "code",
   "execution_count": null,
   "metadata": {},
   "outputs": [],
   "source": [
    "bgc14[8,:,3,317,220]"
   ]
  },
  {
   "cell_type": "code",
   "execution_count": null,
   "metadata": {},
   "outputs": [],
   "source": [
    "bgc14_new[8,:,3,317,220]"
   ]
  },
  {
   "cell_type": "code",
   "execution_count": null,
   "metadata": {},
   "outputs": [],
   "source": [
    "agc14_new[1,8,1,318,290]"
   ]
  },
  {
   "cell_type": "code",
   "execution_count": null,
   "metadata": {},
   "outputs": [],
   "source": [
    "# A small test\n",
    "a=bgc_new[1,8,0,318,290]*bgc14[1,8,0,318,290]/bgc[1,8,0,318,290]\n",
    "b=bgc_new[1,8,1,318,290]*bgc14[1,8,1,318,290]/bgc[1,8,1,318,290]\n",
    "c=bgc_new[1,8,2,318,290]*bgc14[1,8,2,318,290]/bgc[1,8,2,318,290]\n",
    "d=bgc_new[1,8,3,318,290]*bgc14[1,8,3,318,290]/bgc[1,8,3,318,290]"
   ]
  },
  {
   "cell_type": "code",
   "execution_count": null,
   "metadata": {},
   "outputs": [],
   "source": [
    "(a+b+c+d)/(bgc_new[1,8,0,318,290]+bgc_new[1,8,1,318,290]+bgc_new[1,8,2,318,290]+bgc_new[1,8,3,318,290])"
   ]
  },
  {
   "cell_type": "code",
   "execution_count": null,
   "metadata": {},
   "outputs": [],
   "source": [
    "(bgc14[1,8,0,318,290]+bgc14[1,8,1,318,290]+bgc14[1,8,2,318,290]+bgc14[1,8,3,318,290])/(bgc[1,8,0,318,290]+bgc[1,8,1,318,290]+bgc[1,8,2,318,290]+bgc[1,8,3,318,290])"
   ]
  },
  {
   "cell_type": "code",
   "execution_count": null,
   "metadata": {},
   "outputs": [],
   "source": [
    "1000*(0.9612-1)"
   ]
  },
  {
   "cell_type": "code",
   "execution_count": null,
   "metadata": {},
   "outputs": [],
   "source": [
    "## OLD METHOD seems not working... I now changed to use the calculated D14C for calculating back the soc14 based on soc of the new initial file\n",
    "# 2. Obtain the C and 14C content \n",
    "# Open SBGC restart\n",
    "\n",
    "#path='/data/jain1/c/sshu3/SBGC/data/NCSCDv2_Circumpolar_netCDF_05deg/ncscd_masked_0.5x0.5.nc'\n",
    "nclu_obs=NetCDFFile(fc14,'r')\n",
    "agcbox = nclu_obs.variables['agcbox'][:]\n",
    "bgcbox = nclu_obs.variables['bgcbox'][:]\n",
    "agcprof = nclu_obs.variables['agcprof'][:]\n",
    "bgcprof = nclu_obs.variables['bgcprof'][:]\n",
    "agc14box = nclu_obs.variables['agc14box'][:]\n",
    "bgc14box = nclu_obs.variables['bgc14box'][:]\n",
    "agc14prof = nclu_obs.variables['agc14prof'][:]\n",
    "bgc14prof = nclu_obs.variables['bgc14prof'][:]\n",
    "latnc = nclu_obs.variables['lat'][:]\n",
    "lonnc = nclu_obs.variables['lon'][:]\n",
    "nclu_obs.close()\n",
    "\n",
    "nclu_obs=NetCDFFile(fbgc,'r')\n",
    "agcbox_new = nclu_obs.variables['agcbox'][:]\n",
    "bgcbox_new = nclu_obs.variables['bgcbox'][:]\n",
    "agcprof_new = nclu_obs.variables['agcprof'][:]\n",
    "bgcprof_new = nclu_obs.variables['bgcprof'][:]\n",
    "agc14box_new = nclu_obs.variables['agc14box'][:]\n",
    "bgc14box_new = nclu_obs.variables['bgc14box'][:]\n",
    "agc14prof_new = nclu_obs.variables['agc14prof'][:]\n",
    "bgc14prof_new = nclu_obs.variables['bgc14prof'][:]\n",
    "nclu_obs.close()\n",
    "\n",
    "soc14_agc = np.zeros((10,24,4,360,720))\n",
    "soc14_bgc = np.zeros((10,24,5,360,720))\n",
    "soc_agc = np.zeros((10,24,4,360,720))\n",
    "soc_bgc = np.zeros((10,24,5,360,720))\n",
    "soc14_agc_new = np.zeros((10,24,4,360,720))\n",
    "soc14_bgc_new = np.zeros((10,24,5,360,720))\n",
    "soc_agc_new = np.zeros((10,24,4,360,720))\n",
    "soc_bgc_new = np.zeros((10,24,5,360,720))\n",
    "\n",
    "# 3. Calculate back soc and soc14 profiles\n",
    "for lev in np.arange(0,10):\n",
    "    soc14_agc[lev,:,:,:,:] = agc14box * agc14prof[lev,:,:,:,:]/10000.\n",
    "    soc14_bgc[lev,:,:,:,:] = bgc14box * bgc14prof[lev,:,:,:,:]/10000.\n",
    "    soc_agc[lev,:,:,:,:] = agcbox * agcprof[lev,:,:,:,:]/10000.\n",
    "    soc_bgc[lev,:,:,:,:] = bgcbox * bgcprof[lev,:,:,:,:]/10000.\n",
    "\n",
    "c14c12_agc = soc14_agc/soc_agc\n",
    "c14c12_bgc = soc14_bgc/soc_bgc\n",
    "\n",
    "# Change the soc14 profiles based on the c14/c12 and soc profiles\n",
    "for lev in np.arange(0,10):\n",
    "    soc_agc_new[lev,:,:,:,:] = agcbox_new * agcprof[lev,:,:,:,:]/10000.\n",
    "    soc_bgc_new[lev,:,:,:,:] = bgcbox_new * bgcprof[lev,:,:,:,:]/10000.\n",
    "\n",
    "soc14_agc_new = c14c12_agc * soc_agc_new\n",
    "soc14_bgc_new = c14c12_bgc * soc_bgc_new\n",
    "\n",
    "# 4. Update the SOC14 pool size after getting the new profile\n",
    "soc14_agc_tot = np.nansum(soc14_agc_new, axis=0)\n",
    "soc14_bgc_tot = np.nansum(soc14_bgc_new, axis=0)\n",
    "\n",
    "# Calculate the new profile factor\n",
    "soc14_agcprof_new = np.zeros((10,24,4,360,720))\n",
    "soc14_bgcprof_new = np.zeros((10,24,5,360,720))\n",
    "for lev in np.arange(0,10):\n",
    "    soc14_agcprof_new[lev,:,:,:,:] = soc14_agc_new[lev,:,:,:,:]/soc14_agc_tot * 10000.\n",
    "    soc14_bgcprof_new[lev,:,:,:,:] = soc14_bgc_new[lev,:,:,:,:]/soc14_bgc_tot * 10000.\n",
    "soc14_agcprof_new[soc14_agcprof_new<0]=0\n",
    "soc14_bgcprof_new[soc14_bgcprof_new<0]=0\n",
    "#soc14_agcprof_new.astype('int')\n",
    "#soc14_bgcprof_new.astype('int')\n",
    "\n",
    "# 5. Store back the SOC14 into the restart file\n",
    "fout = 'bgc.isam_initial.1dbgc_new.nc'\n",
    "nclu_obs=NetCDFFile(fout,'a')\n",
    "nclu_obs.variables['agc14prof'][:] = soc14_agcprof_new.astype('int')\n",
    "nclu_obs.variables['bgc14prof'][:] = soc14_bgcprof_new.astype('int')\n",
    "nclu_obs.variables['agc14box'][:] = soc14_agc_tot\n",
    "nclu_obs.variables['bgc14box'][:] = soc14_bgc_tot\n",
    "nclu_obs.close()\n"
   ]
  },
  {
   "cell_type": "code",
   "execution_count": null,
   "metadata": {},
   "outputs": [],
   "source": [
    "# Make Plot\n",
    "# Can continue later\n",
    "# Comparison of 1m SOC stock between two models and to the NCSCD data\n",
    "fig = plt.figure(figsize=(30,24))\n",
    "\n",
    "ax1 = fig.add_subplot(231)\n",
    "ax1.set_title(\"ISAM-1D SOC stock (1m)\",fontsize=32,pad=15)\n",
    "map = Basemap(projection='npstere',boundinglat=45,lon_0=0,resolution='l')\n",
    "# draw coastlines, state and country boundaries, edge of map.\n",
    "map.drawcoastlines()\n",
    "#map.drawstates()\n",
    "#map.drawcountries(color='b')\n",
    "lon,lat = np.meshgrid(lonnc,latnc) #Returns coordinate matrices from coordinate vectors\n",
    "x,y = map(lon,lat)\n",
    "xs, ys = np.meshgrid(lonnc3, latnc3)\n",
    "clevs = np.power(10.0, np.arange(-1.0,2.5,0.5))\n",
    "cs1 = map.pcolormesh(x,y,soc_contemp_perm[:,:],\n",
    "              norm=colors.Normalize(vmin=0,vmax=30.),cmap=plt.cm.YlOrBr) # use log color scale,\n",
    "# Overlap scatter plot to show the peatland distribution\n",
    "#map.scatter(xs, ys, s = 4*histosol, latlon=True, marker='_', color='cyan')\n",
    "#map.scatter(xs, ys, s = 4*histel, latlon=True, marker='_', color='cyan')\n",
    "cbar = map.colorbar(cs1,location='bottom',pad=\"5%\",extend='both')\n",
    "plt.annotate('(a)', fontsize=32, xy=(0.1, 0.9), xycoords='axes fraction')\n",
    "#parallels = np.arange(45.,80.,15.)\n",
    "## labels = [left,right,top,bottom]\n",
    "#map.drawparallels(parallels)#,labels=[False,True,True,False])\n",
    "#meridians = np.arange(15.,346.,30.)\n",
    "#map.drawmeridians(meridians)#,labels=[True,False,False,True])\n",
    "\n",
    "map.drawparallels(np.arange(-80.,81.,20.))#, labels=[True,True,True,True])\n",
    "map.drawmeridians(np.arange(-180.,181.,20.))#, labels=[True,True,True,True])\n",
    "cbar.ax.tick_params(labelsize=30) \n",
    "\n",
    "ax2 = fig.add_subplot(232)\n",
    "ax2.set_title(\"ISAM-0D SOC stock (1m)\",fontsize=32,pad=15)\n",
    "map = Basemap(projection='npstere',boundinglat=45,lon_0=0,resolution='l')\n",
    "# draw coastlines, state and country boundaries, edge of map.\n",
    "map.drawcoastlines()\n",
    "#map.drawstates()\n",
    "#map.drawcountries(color='b')\n",
    "cs = map.pcolormesh(x,y,soc0d_contemp_perm[:,:],\n",
    "              norm=colors.Normalize(vmin=0.,vmax=30.),cmap=plt.cm.YlOrBr) # use log color scale,\n",
    "                                                      # omit this to use linear\n",
    "                                                     # color scale\n",
    "#map.scatter(xs, ys, s = 0.4*histosol, latlon=True, marker='_', color='cyan')\n",
    "#map.scatter(xs, ys, s = 0.4*histel, latlon=True, marker='_', color='cyan')\n",
    "map.drawparallels(np.arange(-80.,81.,20.))#, labels=[True,True,True,True])\n",
    "map.drawmeridians(np.arange(-180.,181.,20.))#, labels=[True,True,True,True])\n",
    "cbar = map.colorbar(cs,location='bottom',pad=\"5%\",extend='both')\n",
    "cbar.ax.set_xlabel('Unit: $kgC m^{-2}$', fontsize=32, labelpad=10)\n",
    "plt.annotate('(b)', fontsize=32, xy=(0.1, 0.9), xycoords='axes fraction')\n",
    "cbar.ax.tick_params(labelsize=30) \n",
    "\n",
    "lon2,lat2 = np.meshgrid(lonnc2,latnc2) #Returns coordinate matrices from coordinate vectors\n",
    "x2,y2 = map(lon2,lat2)\n",
    "ax2 = fig.add_subplot(233)\n",
    "ax2.set_title(\"NCSCD SOC stock (1m)\",fontsize=32,pad=15)\n",
    "map = Basemap(projection='npstere',boundinglat=45,lon_0=0,resolution='l')\n",
    "# draw coastlines, state and country boundaries, edge of map.\n",
    "map.drawcoastlines()\n",
    "#map.drawstates()\n",
    "#map.drawcountries(color='b')\n",
    "cs = map.pcolormesh(x2,y2,soc_ncscd_perm[:,:],\n",
    "              norm=colors.Normalize(vmin=0.,vmax=30.),cmap=plt.cm.YlOrBr) # use log color scale,\n",
    "                                                     # omit this to use linear\n",
    "                                                     # color scale\n",
    "#map.scatter(xs, ys, s = 0.4*histosol, latlon=True, marker='_', color='cyan')\n",
    "#map.scatter(xs, ys, s = 0.4*histel, latlon=True, marker='_', color='cyan')\n",
    "map.drawparallels(np.arange(-80.,81.,20.))#, labels=[True,True,True,True])\n",
    "map.drawmeridians(np.arange(-180.,181.,20.))#, labels=[True,True,True,True])\n",
    "cbar = map.colorbar(cs,location='bottom',pad=\"5%\",extend='both')\n",
    "plt.annotate('(c)', fontsize=32, xy=(0.1, 0.9), xycoords='axes fraction')\n",
    "cbar.ax.tick_params(labelsize=30) \n",
    "\n",
    "ax3 = fig.add_subplot(234)\n",
    "ax3.set_title(\"ISAM-1D SOC turnover time\",fontsize=32,pad=15)\n",
    "map = Basemap(projection='npstere',boundinglat=45,lon_0=0,resolution='l')\n",
    "# draw coastlines, state and country boundaries, edge of map.\n",
    "map.drawcoastlines()\n",
    "#map.drawstates()\n",
    "#map.drawcountries(color='b')\n",
    "cs = map.pcolormesh(x,y,tau_contemp_perm[:,:],\n",
    "              norm=colors.LogNorm(vmin=1,vmax=1500.),cmap=plt.cm.summer) # use log color scale,\n",
    "                                                      # omit this to use linear\n",
    "                                                     # color scale\n",
    "cbar = map.colorbar(cs,ticks=[1, 10, 100, 1000, 5000],location='bottom',pad=\"5%\",extend='both', format=ticker.LogFormatter())\n",
    "plt.annotate('(a)', fontsize=32, xy=(0.1, 0.9), xycoords='axes fraction')\n",
    "#cbar.ax.set_xticklabels([0, 200, 400, 600, 800])  # horizontal colorbar\n",
    "map.drawparallels(np.arange(-80.,81.,20.))#, labels=[True,True,True,True])\n",
    "map.drawmeridians(np.arange(-180.,181.,20.))#, labels=[True,True,True,True])\n",
    "cbar.ax.tick_params(labelsize=30) \n",
    "\n",
    "ax3 = fig.add_subplot(235)\n",
    "ax3.set_title(\"ISAM-0D SOC turnover time\",fontsize=32,pad=15)\n",
    "map = Basemap(projection='npstere',boundinglat=45,lon_0=0,resolution='l')\n",
    "# draw coastlines, state and country boundaries, edge of map.\n",
    "map.drawcoastlines()\n",
    "#map.drawstates()\n",
    "#map.drawcountries(color='b')\n",
    "cs = map.pcolormesh(x,y,tau0d_contemp_perm[:,:],\n",
    "              norm=colors.LogNorm(vmin=1,vmax=1500.),cmap=plt.cm.summer) # use log color scale,\n",
    "                                                      # omit this to use linear\n",
    "                                                     # color scale\n",
    "cbar = map.colorbar(cs,ticks=[1, 10, 100, 1000, 5000],location='bottom',pad=\"5%\",extend='both', format=ticker.LogFormatter())\n",
    "cbar.ax.set_xlabel('Unit: year', fontsize=32, labelpad=10)\n",
    "plt.annotate('(b)', fontsize=32, xy=(0.1, 0.9), xycoords='axes fraction')\n",
    "#cbar.ax.set_xticklabels([0, 200, 400, 600, 800])  # horizontal colorbar\n",
    "map.drawparallels(np.arange(-80.,81.,20.))#, labels=[True,True,True,True])\n",
    "map.drawmeridians(np.arange(-180.,181.,20.))#, labels=[True,True,True,True])\n",
    "cbar.ax.tick_params(labelsize=30) \n",
    "\n",
    "#plt.show()\n",
    "plt.savefig('./figures/fig6.png',dpi=300)"
   ]
  },
  {
   "cell_type": "code",
   "execution_count": null,
   "metadata": {},
   "outputs": [],
   "source": [
    "plt.imshow(soc_contemp_perm)"
   ]
  },
  {
   "cell_type": "code",
   "execution_count": null,
   "metadata": {},
   "outputs": [],
   "source": [
    "soc_contemp_perm = copy.deepcopy(soc_contemp)"
   ]
  },
  {
   "cell_type": "code",
   "execution_count": null,
   "metadata": {},
   "outputs": [],
   "source": [
    "plt.imshow(dsoc)"
   ]
  },
  {
   "cell_type": "code",
   "execution_count": null,
   "metadata": {},
   "outputs": [],
   "source": [
    "# Mask all regions outside the northern permafrost extent\n",
    "dsoc_perm = copy.deepcopy(dsoc)\n",
    "dsoc_perm.mask = another_mask.mask\n",
    "dsoc0d_perm = copy.deepcopy(dsoc0d)\n",
    "dsoc0d_perm.mask = another_mask.mask\n",
    "dtau_perm = copy.deepcopy(dtau)\n",
    "dtau_perm.mask = another_mask.mask\n",
    "dtau0d_perm = copy.deepcopy(dtau0d)\n",
    "dtau0d_perm.mask = another_mask.mask\n",
    "\n",
    "# Plot the figure7\n",
    "# Comparison of 1m SOC stock between two models and to the NCSCD data\n",
    "fig = plt.figure(figsize=(18,15))\n",
    "\n",
    "#ax1 = fig.add_subplot(331)\n",
    "ax1 = fig.add_subplot(221)\n",
    "ax1.set_title(\"ISAM-1D SOC stock (2009 - 1960)\",fontsize=20,pad=10)\n",
    "map = Basemap(projection='npstere',boundinglat=45,lon_0=0,resolution='l')\n",
    "# draw coastlines, state and country boundaries, edge of map.\n",
    "map.drawcoastlines()\n",
    "#map.drawstates()\n",
    "#map.drawcountries(color='b')\n",
    "lon,lat = np.meshgrid(lonnc,latnc) #Returns coordinate matrices from coordinate vectors\n",
    "x,y = map(lon,lat)\n",
    "cs1 = map.pcolormesh(x,y,dsoc_perm[:,:],\n",
    "              norm=colors.Normalize(vmin=-2.,vmax=2.),cmap=plt.cm.coolwarm) # use log color scale,\n",
    "cbar = map.colorbar(cs1,ticks=[-2, -1, 0, 1, 2],location='bottom',pad=\"5%\",extend='both')\n",
    "map.drawparallels(np.arange(-80.,81.,20.))#, labels=[True,True,True,True])\n",
    "map.drawmeridians(np.arange(-180.,181.,20.))#, labels=[True,True,True,True])\n",
    "plt.annotate('(a)', fontsize=24, xy=(0.1, 0.9), xycoords='axes fraction')\n",
    "cbar.ax.tick_params(labelsize=22) \n",
    "\n",
    "ax2 = fig.add_subplot(222)\n",
    "ax2.set_title(\"ISAM-0D SOC stock (2009 - 1960)\",fontsize=20,pad=10)\n",
    "map = Basemap(projection='npstere',boundinglat=45,lon_0=0,resolution='l')\n",
    "# draw coastlines, state and country boundaries, edge of map.\n",
    "map.drawcoastlines()\n",
    "#map.drawstates()\n",
    "#map.drawcountries(color='b')\n",
    "cs2 = map.pcolormesh(x,y,dsoc0d_perm[:,:],\n",
    "              norm=colors.Normalize(vmin=-2.,vmax=2.),cmap=plt.cm.coolwarm) # use log color scale,\n",
    "                                                      # omit this to use linear\n",
    "                                                     # color scale\n",
    "cbar = map.colorbar(cs2,ticks=[-2, -1, 0, 1, 2],location='bottom',pad=\"5%\",extend='both')\n",
    "map.drawparallels(np.arange(-80.,81.,20.))#, labels=[True,True,True,True])\n",
    "map.drawmeridians(np.arange(-180.,181.,20.))#, labels=[True,True,True,True])\n",
    "cbar.ax.set_xlabel('Unit: $kgC m^{-2}$', fontsize=20, labelpad=0)\n",
    "plt.annotate('(b)', fontsize=24, xy=(0.1, 0.9), xycoords='axes fraction')\n",
    "cbar.ax.tick_params(labelsize=22) \n",
    "\n",
    "\n",
    "ax3 = fig.add_subplot(223)\n",
    "ax3.set_title(\"ISAM-1D SOC turnover time (2009 - 1960)\",fontsize=20,pad=10)\n",
    "map = Basemap(projection='npstere',boundinglat=45,lon_0=0,resolution='l')\n",
    "# draw coastlines, state and country boundaries, edge of map.\n",
    "map.drawcoastlines()\n",
    "#map.drawstates()\n",
    "#map.drawcountries(color='b')\n",
    "cs3 = map.pcolormesh(x,y,dtau_perm[:,:],\n",
    "#              norm=colors.Normalize(vmin=-300,vmax=300.),cmap=plt.cm.coolwarm) # use log color scale,\n",
    "              norm=colors.SymLogNorm(linthresh=1, linscale=1, vmin=-300, vmax=300),cmap=plt.cm.coolwarm) # use log color scale,\n",
    "                                                      # omit this to use linear\n",
    "                                                     # color scale\n",
    "cbar = map.colorbar(cs3,ticks=[-100, -10, -1, 0, 1, 10, 100],location='bottom',pad=\"5%\",extend='both', format=ticker.LogFormatter())\n",
    "map.drawparallels(np.arange(-80.,81.,20.))#, labels=[True,True,True,True])\n",
    "map.drawmeridians(np.arange(-180.,181.,20.))#, labels=[True,True,True,True])\n",
    "plt.annotate('(c)', fontsize=24, xy=(0.1, 0.9), xycoords='axes fraction')\n",
    "cbar.ax.tick_params(labelsize=22) \n",
    "\n",
    "ax4 = fig.add_subplot(224)\n",
    "ax4.set_title(\"ISAM-0D SOC turnover time (2009 - 1960)\",fontsize=20,pad=10)\n",
    "map = Basemap(projection='npstere',boundinglat=45,lon_0=0,resolution='l')\n",
    "# draw coastlines, state and country boundaries, edge of map.\n",
    "map.drawcoastlines()\n",
    "#map.drawstates()\n",
    "#map.drawcountries(color='b')\n",
    "cs4 = map.pcolormesh(x,y,dtau0d_perm[:,:],\n",
    "#              norm=colors.Normalize(vmin=-60.,vmax=60.),cmap=plt.cm.coolwarm) # use log color scale,\n",
    "              norm=colors.SymLogNorm(linthresh=1, linscale=1, vmin=-300, vmax=300),cmap=plt.cm.coolwarm) # use log color scale,\n",
    "\n",
    "cbar = map.colorbar(cs4,ticks=[-100, -10, -1, 0, 1, 10, 100],location='bottom',pad=\"5%\",extend='both', format=ticker.LogFormatter())\n",
    "cbar.ax.set_xlabel('Unit: $year$', fontsize=20, labelpad=0)\n",
    "map.drawparallels(np.arange(-80.,81.,20.))#, labels=[True,True,True,True])\n",
    "map.drawmeridians(np.arange(-180.,181.,20.))#, labels=[True,True,True,True])\n",
    "plt.annotate('(d)', fontsize=24, xy=(0.1, 0.9), xycoords='axes fraction')\n",
    "cbar.ax.tick_params(labelsize=22) \n",
    "\n",
    "#plt.show()\n",
    "plt.savefig('./figures/fig7.png',dpi=300)"
   ]
  },
  {
   "cell_type": "code",
   "execution_count": null,
   "metadata": {},
   "outputs": [],
   "source": [
    "dsoc_top_perm = soc_top_contemp_perm - soc_top_preind_perm\n",
    "dsoc_sub_perm = soc_sub_contemp_perm - soc_sub_preind_perm\n",
    "\n",
    "fig = plt.figure(figsize=(18,10))\n",
    "\n",
    "ax1 = fig.add_subplot(121)\n",
    "#ax1.set_title(\"ISAM 1D topsoil SOC change (kgC/m2)\",fontsize=20,pad=10)\n",
    "map = Basemap(projection='npstere',boundinglat=45,lon_0=0,resolution='l')\n",
    "# draw coastlines, state and country boundaries, edge of map.\n",
    "map.drawcoastlines()\n",
    "#map.drawstates()\n",
    "#map.drawcountries(color='b')\n",
    "lon,lat = np.meshgrid(lonnc,latnc) #Returns coordinate matrices from coordinate vectors\n",
    "x,y = map(lon,lat)\n",
    "clevs = np.power(10.0, np.arange(-1.0,2.5,0.5))\n",
    "cs1 = map.pcolormesh(x,y,dsoc_top_perm[:,:],\n",
    "              norm=colors.Normalize(vmin=-2.,vmax=2.),cmap=plt.cm.coolwarm) # use log color scale,\n",
    "map.drawparallels(np.arange(-80.,81.,20.))#, labels=[True,True,True,True])\n",
    "map.drawmeridians(np.arange(-180.,181.,20.))#, labels=[True,True,True,True])\n",
    "cbar = map.colorbar(cs1,ticks=[-2, -1, 0, 1, 2],location='bottom',pad=\"5%\",extend='both')\n",
    "cbar.ax.tick_params(labelsize=22) \n",
    "plt.annotate('(a)', fontsize=24, xy=(0.1, 0.9), xycoords='axes fraction')\n",
    "\n",
    "ax2 = fig.add_subplot(122)\n",
    "#ax2.set_title(\"ISAM 1D subsoil SOC change (gC/m2/year)\",fontsize=20,pad=10)\n",
    "map = Basemap(projection='npstere',boundinglat=45,lon_0=0,resolution='l')\n",
    "# draw coastlines, state and country boundaries, edge of map.\n",
    "map.drawcoastlines()\n",
    "#map.drawstates()\n",
    "#map.drawcountries(color='b')\n",
    "cs = map.pcolormesh(x,y,dsoc_sub_perm[:,:],\n",
    "              norm=colors.Normalize(vmin=-2.,vmax=2.),cmap=plt.cm.coolwarm) # use log color scale,\n",
    "                                                      # omit this to use linear\n",
    "                                                     # color scale\n",
    "map.drawparallels(np.arange(-80.,81.,20.))#, labels=[True,True,True,True])\n",
    "map.drawmeridians(np.arange(-180.,181.,20.))#, labels=[True,True,True,True])\n",
    "cbar = map.colorbar(cs,ticks=[-2, -1, 0, 1, 2],location='bottom',pad=\"5%\",extend='both')\n",
    "cbar.ax.tick_params(labelsize=22) \n",
    "cbar.ax.set_xlabel('Unit: $kgC m^{-2}$', fontsize=20, labelpad=10)\n",
    "plt.annotate('(b)', fontsize=24, xy=(0.1, 0.9), xycoords='axes fraction')\n",
    "\n",
    "# Set one colorbar for both subplots\n",
    "# make an axes to put the shared colorbar in\n",
    "#fig.subplots_adjust(bottom=0.1)\n",
    "#colorbar_axes = plt.gcf().add_axes([0.35, 0.1, 0.3, 0.05])\n",
    "#colorbar = plt.colorbar(cs, colorbar_axes, orientation='horizontal')\n",
    "#colorbar_axes.tick_params(labelsize=20) \n",
    "#colorbar.set_label('Unit: $KgC m^{-2}$', fontsize=24)\n",
    "\n",
    "#plt.show()\n",
    "plt.savefig('./figures/fig8.png',dpi=300)"
   ]
  },
  {
   "cell_type": "code",
   "execution_count": null,
   "metadata": {},
   "outputs": [],
   "source": [
    "# Plot the figure3\n",
    "# Mask all regions outside the northern permafrost extent\n",
    "resp_contemp_perm = copy.deepcopy(resp_contemp)\n",
    "resp_contemp_perm.mask = another_mask.mask\n",
    "resp0d_contemp_perm = copy.deepcopy(resp0d_contemp)\n",
    "resp0d_contemp_perm.mask = another_mask.mask\n",
    "resp_preind_perm = copy.deepcopy(resp_preind)\n",
    "resp_preind_perm.mask = another_mask.mask\n",
    "resp0d_preind_perm = copy.deepcopy(resp0d_preind)\n",
    "resp0d_preind_perm.mask = another_mask.mask\n",
    "dresp_perm = copy.deepcopy(dresp)\n",
    "dresp_perm.mask = another_mask.mask\n",
    "dresp0d_perm = copy.deepcopy(dresp0d)\n",
    "dresp0d_perm.mask = another_mask.mask\n",
    "\n",
    "# Comparison of Soil respiration and the change\n",
    "fig = plt.figure(figsize=(18,15))\n",
    "\n",
    "ax1 = fig.add_subplot(221)\n",
    "ax1.set_title(\"ISAM 0D Heterotrophic respiration (gC/m2/year)\",fontsize=20,pad=10)\n",
    "map = Basemap(projection='npstere',boundinglat=45,lon_0=0,resolution='l')\n",
    "# draw coastlines, state and country boundaries, edge of map.\n",
    "map.drawcoastlines()\n",
    "#map.drawstates()\n",
    "#map.drawcountries(color='b')\n",
    "lon,lat = np.meshgrid(lonnc,latnc) #Returns coordinate matrices from coordinate vectors\n",
    "x,y = map(lon,lat)\n",
    "clevs = np.power(10.0, np.arange(-1.0,2.5,0.5))\n",
    "cs1 = map.pcolormesh(x,y,1000.*resp0d_contemp_perm[:,:],\n",
    "              norm=colors.Normalize(vmin=0.,vmax=500.),cmap=plt.cm.jet) # use log color scale,\n",
    "map.drawparallels(np.arange(-80.,81.,20.))#, labels=[True,True,True,True])\n",
    "map.drawmeridians(np.arange(-180.,181.,20.))#, labels=[True,True,True,True])\n",
    "cbar = map.colorbar(cs1,location='bottom',pad=\"5%\",extend='both')\n",
    "cbar.ax.tick_params(labelsize=22) \n",
    "\n",
    "ax2 = fig.add_subplot(222)\n",
    "ax2.set_title(\"ISAM 0D change of Rh (gC/m2/year)\",fontsize=20,pad=10)\n",
    "map = Basemap(projection='npstere',boundinglat=45,lon_0=0,resolution='l')\n",
    "# draw coastlines, state and country boundaries, edge of map.\n",
    "map.drawcoastlines()\n",
    "#map.drawstates()\n",
    "#map.drawcountries(color='b')\n",
    "cs = map.pcolormesh(x,y,1000.*dresp0d_perm[:,:],\n",
    "              norm=colors.Normalize(vmin=-50.,vmax=80.),cmap=plt.cm.RdYlGn_r) # use log color scale,\n",
    "                                                      # omit this to use linear\n",
    "                                                     # color scale\n",
    "map.drawparallels(np.arange(-80.,81.,20.))#, labels=[True,True,True,True])\n",
    "map.drawmeridians(np.arange(-180.,181.,20.))#, labels=[True,True,True,True])\n",
    "cbar = map.colorbar(cs,location='bottom',pad=\"5%\",extend='both')\n",
    "cbar.ax.tick_params(labelsize=22) \n",
    "\n",
    "ax3 = fig.add_subplot(223)\n",
    "ax3.set_title(\"ISAM 1D Heterotrophic respiration (gC/m2/year)\",fontsize=20,pad=10)\n",
    "map = Basemap(projection='npstere',boundinglat=45,lon_0=0,resolution='l')\n",
    "# draw coastlines, state and country boundaries, edge of map.\n",
    "map.drawcoastlines()\n",
    "#map.drawstates()\n",
    "#map.drawcountries(color='b')\n",
    "cs = map.pcolormesh(x,y,1000.*resp_contemp_perm[:,:],\n",
    "              norm=colors.Normalize(vmin=0.,vmax=500.),cmap=plt.cm.jet) # use log color scale,\n",
    "                                                      # omit this to use linear\n",
    "                                                     # color scale\n",
    "map.drawparallels(np.arange(-80.,81.,20.))#, labels=[True,True,True,True])\n",
    "map.drawmeridians(np.arange(-180.,181.,20.))#, labels=[True,True,True,True])\n",
    "cbar = map.colorbar(cs,location='bottom',pad=\"5%\",extend='both')\n",
    "cbar.ax.tick_params(labelsize=22) \n",
    "\n",
    "ax4 = fig.add_subplot(224)\n",
    "ax4.set_title(\"ISAM 1D change of Rh (gC/m2/year)\",fontsize=20,pad=10)\n",
    "map = Basemap(projection='npstere',boundinglat=45,lon_0=0,resolution='l')\n",
    "# draw coastlines, state and country boundaries, edge of map.\n",
    "map.drawcoastlines()\n",
    "#map.drawstates()\n",
    "#map.drawcountries(color='b')\n",
    "cs = map.pcolormesh(x,y,1000.*dresp_perm[:,:],\n",
    "              norm=colors.Normalize(vmin=-50.,vmax=80.),cmap=plt.cm.RdYlGn_r) # use log color scale,\n",
    "map.drawparallels(np.arange(-80.,81.,20.))#, labels=[True,True,True,True])\n",
    "map.drawmeridians(np.arange(-180.,181.,20.))#, labels=[True,True,True,True])\n",
    "cbar = map.colorbar(cs,location='bottom',pad=\"5%\",extend='both')\n",
    "cbar.ax.tick_params(labelsize=22) \n",
    "\n",
    "plt.show()\n",
    "#plt.savefig('Fig9.jpg',dpi=300)"
   ]
  },
  {
   "cell_type": "code",
   "execution_count": null,
   "metadata": {},
   "outputs": [],
   "source": []
  },
  {
   "cell_type": "code",
   "execution_count": null,
   "metadata": {},
   "outputs": [],
   "source": []
  },
  {
   "cell_type": "code",
   "execution_count": null,
   "metadata": {},
   "outputs": [],
   "source": []
  }
 ],
 "metadata": {
  "anaconda-cloud": {},
  "kernelspec": {
   "display_name": "Python 2",
   "language": "python",
   "name": "python2"
  },
  "language_info": {
   "codemirror_mode": {
    "name": "ipython",
    "version": 2
   },
   "file_extension": ".py",
   "mimetype": "text/x-python",
   "name": "python",
   "nbconvert_exporter": "python",
   "pygments_lexer": "ipython2",
   "version": "2.7.16"
  },
  "selected_variables": [],
  "vcdat_file_path": "",
  "vcdat_loaded_variables": [],
  "vcdat_variable_info": {}
 },
 "nbformat": 4,
 "nbformat_minor": 4
}
