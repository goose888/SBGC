{
 "cells": [
  {
   "cell_type": "code",
   "execution_count": null,
   "metadata": {
    "collapsed": false
   },
   "outputs": [],
   "source": [
    "import pandas as pd\n",
    "import numpy as np\n",
    "import matplotlib.pyplot as plt\n",
    "import C14preproc as prep\n",
    "from mpl_toolkits.basemap import Basemap, cm\n",
    "from netCDF4 import Dataset\n",
    "from scipy.interpolate import interp1d\n",
    "import auxiliary_lib as au\n",
    "import isamcalc_lib as isam\n",
    "import socplot_lib as socplt\n",
    "import time\n",
    "\n",
    "cutdep = 100.\n",
    "filename = 'Non_peat_data_permafrost.csv'\n",
    "data = pd.read_csv(filename,encoding='iso-8859-1',index_col='ProfileID', skiprows=[1])\n",
    "all_profid = data.index.unique()\n",
    "lons = prep.getvarxls(data,'Lon',all_profid[0:16],0)\n",
    "lats = prep.getvarxls(data,'Lat',all_profid[0:16],0)\n",
    "\n",
    "## Shall use the mass perserving slpine (Bishop et al., 1999, Geoderma) to interpolate the bulk density data\n",
    "## Okay, seems like only R has the offical package that can perform this interpolation\n",
    "## so we shall use the R code to get this done instead.\n",
    "#data_out = data[['Veg_Class', 'Lat', 'Lon', 'Basal_depth', 'Layer_depth', 'Soil_Order', \\\n",
    "#                                'Suborder', 'Horizon_type', 'bulk_density', 'C_Density']]\n",
    "#data_out.to_csv('./sel_sites_bd.csv')\n",
    "## Then call R script to run the mass-preseving spline interpolation\n",
    "#status = au.exec_shell('Rscript', 'SOCinterp.r', [])\n",
    "\n",
    "# Read in the interpolated SOC profile\n",
    "sel_profid = data.index.unique()\n",
    "filename = 'BDprofile.csv'\n",
    "bd_interped = pd.read_csv(filename,encoding='iso-8859-1',index_col=0)\n",
    "pid = bd_interped.index\n",
    "# bd_interped = bd_interped * 1000.   # gcm-3 to kgm-3\n",
    "bd_interped.index = sel_profid\n",
    "\n",
    "# Average the interpolated SOC profile onto ISAM model soil layer depth\n",
    "z, dz, zsoih = isam.get_isam_soildp(10)\n",
    "bd_isam = isam.mean_by_depth(10, zsoih, sel_profid.size, bd_interped.as_matrix())\n",
    "bd_isam[bd_isam<=0]=float('nan')\n",
    "\n",
    "# Store BD into CSV file\n",
    "bd_isam.to_csv('./sel_sites_bd.csv')\n",
    "\n",
    "# Or store BD into a new NC file\n",
    "nc = Dataset('BD_sites.nc', 'w', format ='NETCDF4_CLASSIC')\n",
    "level = nc.createDimension('level', 10) \n",
    "site = nc.createDimension('site', sel_profid.size)\n",
    "# Coordinate variables\n",
    "level = nc.createVariable('level', np.float64, ('level',)) \n",
    "site = nc.createVariable('site', np.int32, ('site',)) \n",
    "# Actual variable\n",
    "siteid = nc.createVariable('siteid', np.int32, ('site')) \n",
    "BD = nc.createVariable('BD', np.float64, ('site','level')) \n",
    "# Global Attributes \n",
    "nc.description = 'Bulk density of the sampled gelisol sites'\n",
    "nc.history = 'Created ' + time.ctime(time.time())  \n",
    "nc.source = 'Gelisol sites from He et al., 2016'\n",
    "# Variable Attributes  \n",
    "level.units = 'm'\n",
    "site.units = 'N/A'\n",
    "siteid.units = 'N/A'\n",
    "BD.units = 'g/cm3'\n",
    "\n",
    "# Assign values\n",
    "level[:] = z\n",
    "site[:] = np.arange(1,sel_profid.size+1)\n",
    "siteid[:] = np.unique(data.index.values)\n",
    "BD[:,:] = bd_isam\n",
    "\n",
    "# Finilize\n",
    "nc.close()\n"
   ]
  },
  {
   "cell_type": "code",
   "execution_count": null,
   "metadata": {
    "collapsed": false
   },
   "outputs": [],
   "source": [
    "np.savetxt('./isam_all_bd.csv', bd_isam, delimiter=',')   # X is an array('./isam_all_bd.csv')"
   ]
  }
 ],
 "metadata": {
  "kernelspec": {
   "display_name": "Python 2",
   "language": "python",
   "name": "python2"
  },
  "language_info": {
   "codemirror_mode": {
    "name": "ipython",
    "version": 2
   },
   "file_extension": ".py",
   "mimetype": "text/x-python",
   "name": "python",
   "nbconvert_exporter": "python",
   "pygments_lexer": "ipython2",
   "version": "2.7.13"
  }
 },
 "nbformat": 4,
 "nbformat_minor": 2
}
