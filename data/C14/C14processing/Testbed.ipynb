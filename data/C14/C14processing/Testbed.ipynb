{
 "cells": [
  {
   "cell_type": "code",
   "execution_count": 1,
   "metadata": {
    "collapsed": false
   },
   "outputs": [],
   "source": [
    "import pandas as pd\n",
    "import numpy as np\n",
    "import matplotlib.pyplot as plt\n",
    "from matplotlib import colors\n",
    "import C14preproc as prep\n",
    "import C14utils\n",
    "from mpl_toolkits.basemap import Basemap, cm\n",
    "from netCDF4 import Dataset as NetCDFFile\n",
    "from scipy.interpolate import interp1d\n",
    "import auxiliary_lib as au\n",
    "import isamcalc_lib as isam\n",
    "import socplot_lib as socplt\n",
    "import os.path\n",
    "from os import path\n"
   ]
  },
  {
   "cell_type": "code",
   "execution_count": 2,
   "metadata": {
    "collapsed": false
   },
   "outputs": [
    {
     "name": "stderr",
     "output_type": "stream",
     "text": [
      "/data/keeling/a/sshu3/anaconda2/lib/python2.7/site-packages/ipykernel/__main__.py:25: MaskedArrayFutureWarning: setting an item on a masked array which has a shared mask will not copy the mask and also change the original mask array in the future.\n",
      "Check the NumPy 1.11 release notes for more information.\n",
      "/data/keeling/a/sshu3/anaconda2/lib/python2.7/site-packages/ipykernel/__main__.py:26: RuntimeWarning: invalid value encountered in less_equal\n",
      "/data/keeling/a/sshu3/anaconda2/lib/python2.7/site-packages/ipykernel/__main__.py:27: RuntimeWarning: invalid value encountered in greater_equal\n",
      "/data/keeling/a/sshu3/anaconda2/lib/python2.7/site-packages/ipykernel/__main__.py:28: MaskedArrayFutureWarning: setting an item on a masked array which has a shared mask will not copy the mask and also change the original mask array in the future.\n",
      "Check the NumPy 1.11 release notes for more information.\n",
      "/data/keeling/a/sshu3/anaconda2/lib/python2.7/site-packages/ipykernel/__main__.py:29: RuntimeWarning: invalid value encountered in less_equal\n",
      "/data/keeling/a/sshu3/anaconda2/lib/python2.7/site-packages/ipykernel/__main__.py:30: RuntimeWarning: invalid value encountered in greater_equal\n"
     ]
    }
   ],
   "source": [
    "# Get NCSCD 30cm and 100cm SOC \n",
    "fncscd30 = '/data/jain1/c/sshu3/SBGC/data/NCSCDv2_Circumpolar_netCDF_05deg/NCSCDv2_Circumpolar_WGS84_SOCC30_05deg.nc' \n",
    "fncscd70 = '/data/jain1/c/sshu3/SBGC/data/NCSCDv2_Circumpolar_netCDF_05deg/NCSCDv2_Circumpolar_WGS84_SOCC70_05deg.nc'\n",
    "nclu_30=NetCDFFile(fncscd30,'r')\n",
    "soc30 = nclu_30.variables['NCSCDv2'][:]\n",
    "soc30 = soc30 / 10.\n",
    "soc30 = np.flipud(soc30)\n",
    "latnc = nclu_30.variables['lat'][:]\n",
    "lonnc = nclu_30.variables['lon'][:]\n",
    "latnc = np.flipud(latnc)\n",
    "\n",
    "nclu_70=NetCDFFile(fncscd70,'r')\n",
    "soc70 = nclu_70.variables['NCSCDv2'][:]\n",
    "soc70 = soc70 / 10.\n",
    "soc70 = np.flipud(soc70)\n",
    "\n",
    "# Permafrost mask\n",
    "fpfmask = '/data/jain1/c/sshu3/SBGC/data/NCSCDv2_Circumpolar_netCDF_05deg/ncscd_masked_0.5x0.5.nc'\n",
    "nclu_mask = NetCDFFile(fpfmask,'r')\n",
    "pfmask = nclu_mask.variables['PFMASK'][249:360,:]\n",
    "latmask = nclu_mask.variables['lat'][249:360]\n",
    "lonmask = nclu_mask.variables['lon'][:]\n",
    "\n",
    "# Mask out the values outside the permafrost\n",
    "soc30[pfmask<=0] = float('nan')\n",
    "soc30[soc30<=0] = float('nan')\n",
    "soc30[soc30>=500] = float('nan')\n",
    "soc70[pfmask<=0] = float('nan')\n",
    "soc70[soc70<=0] = float('nan')\n",
    "soc70[soc70>=500] = float('nan')\n"
   ]
  },
  {
   "cell_type": "code",
   "execution_count": null,
   "metadata": {
    "collapsed": false
   },
   "outputs": [],
   "source": [
    "map = Basemap(projection='npstere',boundinglat=45,lon_0=0,resolution='l')\n",
    "lon,lat = np.meshgrid(lonnc,latnc) #Returns coordinate matrices from coordinate vectors\n",
    "x,y = map(lon,lat)\n",
    "cs = map.pcolormesh(x,y,soc70[:,:],\n",
    "              norm=colors.Normalize(vmin=0,vmax=300.),cmap=plt.cm.jet) # use log color scale,\n",
    "plt.show()"
   ]
  },
  {
   "cell_type": "code",
   "execution_count": 6,
   "metadata": {
    "collapsed": false
   },
   "outputs": [
    {
     "data": {
      "text/plain": [
       "11.506725599198031"
      ]
     },
     "execution_count": 6,
     "metadata": {},
     "output_type": "execute_result"
    }
   ],
   "source": [
    "np.nanmean(soc30)"
   ]
  },
  {
   "cell_type": "code",
   "execution_count": null,
   "metadata": {
    "collapsed": true
   },
   "outputs": [],
   "source": [
    "#================================================================================\n",
    "# Initilize the site information\n",
    "#================================================================================\n",
    "# obs\n",
    "obs_fname = 'Non_peat_data_permafrost.csv'\n",
    "data = pd.read_csv(obs_fname,encoding='iso-8859-1',index_col='ProfileID', skiprows=[1])\n",
    "all_profid = data.index.unique()\n",
    "lons = prep.getvarxls(data,'Lon',all_profid[0:16],0)\n",
    "lats = prep.getvarxls(data,'Lat',all_profid[0:16],0)\n",
    "\n",
    "# Calibration\n",
    "isam_cal_d14c_fname = 'isam_dc14_cali.dat'\n",
    "isam_cal_soc_fname = 'isam_soc_cali.dat'\n",
    "\n",
    "# Um's results\n",
    "isam_um_d14c_fname = 'isam_um_dc14.dat'\n",
    "isam_um_soc_fname = 'isam_um_soc.dat'\n",
    "\n",
    "site = {\n",
    "    \"43\"  : 0,\n",
    "    \"110\" : 1,\n",
    "    \"143\" : 2,\n",
    "    \"197\" : 3,\n",
    "    \"146\" : 4,   \n",
    "}\n",
    "\n",
    "yr_dict = {\n",
    "    \"43\"  : 2001,\n",
    "    \"110\" : 2005,\n",
    "    \"143\" : 2007,\n",
    "    \"197\" : 1999,\n",
    "    \"146\" : 2002,   \n",
    "}\n",
    "\n"
   ]
  },
  {
   "cell_type": "code",
   "execution_count": null,
   "metadata": {
    "collapsed": false
   },
   "outputs": [],
   "source": [
    "# Initialization\n",
    "d14cm_test = [None] * 5\n",
    "soccm_test = [None] * 5\n",
    "bulk_d14c_topsoil = np.zeros((18, 5))\n",
    "tau_topsoil = np.zeros((18, 5))\n",
    "bulk_d14c_subsoil = np.zeros((18, 5))\n",
    "tau_subsoil = np.zeros((18, 5))\n",
    "    \n",
    "for siteid, ind in site.items():\n",
    "    # Read in D14C of the ISAM model output\n",
    "    fname = 'isam_dc14_'+str(siteid)+'sen.dat'\n",
    "    d14cm_test[ind] = pd.read_table(fname, header=None, delimiter=r\"\\s+\")\n",
    "    d14cm_test[ind].columns = ['ID', 'Layer1', 'Layer2', 'Layer3', 'Layer4', 'Layer5', 'Layer6', 'Layer7', 'Layer8', 'Layer9', 'Layer10']\n",
    "    d14cm_test[ind] = d14cm_test[ind].set_index('ID')\n",
    "    # Read in SOC\n",
    "    fname = 'isam_soc_'+str(siteid)+'sen.dat'\n",
    "    soccm_test[ind] = pd.read_table(fname, header=None, delimiter=r\"\\s+\")\n",
    "    soccm_test[ind].columns = ['ID', 'Layer1', 'Layer2', 'Layer3', 'Layer4', 'Layer5', 'Layer6', 'Layer7', 'Layer8', 'Layer9', 'Layer10']\n",
    "    soccm_test[ind] = soccm_test[ind].set_index('ID')\n",
    "\n",
    "    # Weighted C14 for topsoil and subsoil separatedly\n",
    "    # Totally 18 cases for each site\n",
    "    sampleyr = yr_dict[str(siteid)] * np.ones(len(d14cm_test[ind]))\n",
    "    for i in np.arange(0,18):\n",
    "        bulk_d14c_topsoil[i,ind] = isam.avg_wt_topsoil(soccm_test[ind].as_matrix()[i,], d14cm_test[ind].as_matrix()[i,])\n",
    "        bulk_d14c_subsoil[i,ind] = isam.avg_wt_subsoil(soccm_test[ind].as_matrix()[i,], d14cm_test[ind].as_matrix()[i,])\n",
    "\n",
    "    # Calculate the turnover time\n",
    "    tau, cost = C14utils.cal_tau(bulk_d14c_topsoil[:,ind], sampleyr, 1, 0)\n",
    "    tau_topsoil[:, ind] = tau[:,0]\n",
    "    tau, cost = C14utils.cal_tau(bulk_d14c_subsoil[:,ind], sampleyr, 1, 0)\n",
    "    tau_subsoil[:, ind] = tau[:,0]\n",
    "\n",
    "    #tau[tau==2.00000000e+03] = np.float(\"nan\")\n",
    "    #data['tau'] = pd.Series(tau[:,0], index=data.index)\n",
    "    #data.nodedepth = z*100\n",
    "    #ttt=tau.reshape(255)\n"
   ]
  },
  {
   "cell_type": "code",
   "execution_count": null,
   "metadata": {
    "collapsed": false
   },
   "outputs": [],
   "source": [
    "a='stt'\n",
    "b='ear'\n",
    "c='pdo'\n",
    "d='.nc'\n",
    "\"%s/%s_%s.nc\"% (a,b,c)"
   ]
  }
 ],
 "metadata": {
  "kernelspec": {
   "display_name": "Python 2",
   "language": "python",
   "name": "python2"
  },
  "language_info": {
   "codemirror_mode": {
    "name": "ipython",
    "version": 2
   },
   "file_extension": ".py",
   "mimetype": "text/x-python",
   "name": "python",
   "nbconvert_exporter": "python",
   "pygments_lexer": "ipython2",
   "version": "2.7.13"
  }
 },
 "nbformat": 4,
 "nbformat_minor": 2
}
