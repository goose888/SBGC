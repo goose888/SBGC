{
 "cells": [
  {
   "cell_type": "code",
   "execution_count": 1,
   "metadata": {},
   "outputs": [],
   "source": [
    "import numpy as np\n",
    "import pandas as pd\n",
    "import matplotlib.pyplot as plt\n",
    "import isamcalc_lib as isam\n",
    "from netCDF4 import Dataset as NetCDFFile\n",
    "import copy as cp\n",
    "from numba import jit\n"
   ]
  },
  {
   "cell_type": "code",
   "execution_count": 2,
   "metadata": {},
   "outputs": [],
   "source": [
    "fname = 'mangrove_hmax95_us.nc4'\n",
    "varname = 'Band1'\n"
   ]
  },
  {
   "cell_type": "code",
   "execution_count": 6,
   "metadata": {},
   "outputs": [],
   "source": [
    "# Create x axis for file\n",
    "step = (29.8752361636692 - 24.5216250525538)/19273\n",
    "y = np.arange(24.5216250525538, 29.8752361636692, step)\n",
    "step = (94.8067489963108 - 80.0323045518545)/53188\n",
    "x = np.arange(-94.8067489963108, -80.0323045518545, step)\n",
    "\n",
    "nclu=NetCDFFile(fname,'r+',format='NETCDF4')\n",
    "# lon = nclu.createVariable('x', 'f4', ('x'))\n",
    "# lat = nclu.createVariable('y', 'f4', ('y'))\n",
    "lon = nclu.variables['x'][:]\n",
    "lat = nclu.variables['y'][:]\n",
    "lon[:] = x\n",
    "lat[:] = y\n",
    "nclu.close()\n"
   ]
  },
  {
   "cell_type": "code",
   "execution_count": 3,
   "metadata": {},
   "outputs": [],
   "source": [
    "# Open the file and obtain calculate the area for each grid\n",
    "nclu=NetCDFFile(fname,'r',format='NETCDF4')\n",
    "# lon = nclu.createVariable('x', 'f4', ('x'))\n",
    "# lat = nclu.createVariable('y', 'f4', ('y'))\n",
    "# x = nclu.variables['x'][:]\n",
    "# y = nclu.variables['y'][:]\n",
    "hmax95 = nclu.variables['Band1'][:]\n",
    "nclu.close()\n",
    "\n",
    "# Get the 30m into half deg\n",
    "step = (29.8752361636692 - 24.5216250525538)/19273\n",
    "y = np.arange(24.5216250525538, 29.8752361636692, step)\n",
    "step = (94.8067489963108 - 80.0323045518545)/53188\n",
    "x = np.arange(-94.8067489963108, -80.0323045518545, step)\n",
    "\n",
    "lon = np.arange(-94.75, -79.75, 0.5)\n",
    "lat = np.arange(24.75, 30.25, 0.5)\n",
    "\n",
    "tag_x = cp.deepcopy(x)\n",
    "idx = 0\n",
    "for i in np.arange(0,len(x)):\n",
    "    rg_low = lon[idx]-0.25\n",
    "    rg_high = lon[idx]+0.25\n",
    "    if(x[i]>=rg_low and x[i]<=rg_high):\n",
    "        tag_x[i] = idx\n",
    "    else:\n",
    "        tag_x[i] = idx+1\n",
    "        idx = idx+1\n",
    "        \n",
    "tag_y = cp.deepcopy(y)\n",
    "idx = 0\n",
    "for j in np.arange(0,len(y)):\n",
    "    rg_low = lat[idx]-0.25\n",
    "    rg_high = lat[idx]+0.25\n",
    "    if(y[j]>=rg_low and y[j]<=rg_high):\n",
    "        tag_y[j] = idx\n",
    "    else:\n",
    "        tag_y[j] = idx+1\n",
    "        idx = idx+1"
   ]
  },
  {
   "cell_type": "code",
   "execution_count": 12,
   "metadata": {},
   "outputs": [],
   "source": [
    "# Calculate the falling grids\n",
    "@jit(nopython=True)\n",
    "def cal_areafrac(lon, lat, tag_x, tag_y, hmax95):\n",
    "    frac_man = np.zeros((len(lat), len(lon)))\n",
    "    tot = np.zeros((len(lat), len(lon)))\n",
    "    for i in np.arange(0,len(x)):\n",
    "        for j in np.arange(0,len(y)):\n",
    "            idx_y = np.int(tag_y[j])\n",
    "            idx_x = np.int(tag_x[i])\n",
    "            if(hmax95[j,i]>0):\n",
    "                frac_man[idx_y, idx_x] = frac_man[idx_y, idx_x] + 1\n",
    "            tot[idx_y, idx_x] = tot[idx_y, idx_x] + 1\n",
    "    frac = frac_man/tot\n",
    "    return frac"
   ]
  },
  {
   "cell_type": "code",
   "execution_count": 13,
   "metadata": {},
   "outputs": [],
   "source": [
    "frac = cal_areafrac(lon, lat, tag_x, tag_y, hmax95)"
   ]
  },
  {
   "cell_type": "code",
   "execution_count": 17,
   "metadata": {},
   "outputs": [
    {
     "data": {
      "text/plain": [
       "<matplotlib.colorbar.Colorbar at 0xc77ec88>"
      ]
     },
     "execution_count": 17,
     "metadata": {},
     "output_type": "execute_result"
    },
    {
     "data": {
      "image/png": "[encoded data removed]",
      "text/plain": [
       "<Figure size 432x288 with 2 Axes>"
      ]
     },
     "metadata": {
      "needs_background": "light"
     },
     "output_type": "display_data"
    }
   ],
   "source": [
    "plt.imshow(frac, cmap='rainbow',vmin=0, vmax=1e-3)\n",
    "plt.colorbar()"
   ]
  },
  {
   "cell_type": "code",
   "execution_count": 40,
   "metadata": {},
   "outputs": [
    {
     "data": {
      "text/plain": [
       "0.0"
      ]
     },
     "execution_count": 40,
     "metadata": {},
     "output_type": "execute_result"
    }
   ],
   "source": [
    "frac = frac/tot"
   ]
  },
  {
   "cell_type": "code",
   "execution_count": 88,
   "metadata": {},
   "outputs": [
    {
     "data": {
      "text/plain": [
       "[<matplotlib.lines.Line2D at 0x11961d68>]"
      ]
     },
     "execution_count": 88,
     "metadata": {},
     "output_type": "execute_result"
    },
    {
     "data": {
      "image/png": "[encoded data removed]",
      "text/plain": [
       "<Figure size 432x288 with 1 Axes>"
      ]
     },
     "metadata": {
      "needs_background": "light"
     },
     "output_type": "display_data"
    }
   ],
   "source": [
    "plt.imshow(frac)"
   ]
  },
  {
   "cell_type": "code",
   "execution_count": 85,
   "metadata": {},
   "outputs": [],
   "source": [
    "ncvar_wt[20000:24000,0,0] = 0.02\n",
    "ncvar_wt[24001:25000,0,0] = 0.005\n",
    "ncvar_wt[25001:28000,0,0] = 0.001"
   ]
  },
  {
   "cell_type": "code",
   "execution_count": 86,
   "metadata": {},
   "outputs": [],
   "source": [
    "nclu=NetCDFFile(fname,'r+')\n",
    "nclu.variables['WT'][:,0,0] = ncvar_wt\n",
    "nclu.close()"
   ]
  }
 ],
 "metadata": {
  "kernelspec": {
   "display_name": "Python 2",
   "language": "python",
   "name": "python2"
  },
  "language_info": {
   "codemirror_mode": {
    "name": "ipython",
    "version": 2
   },
   "file_extension": ".py",
   "mimetype": "text/x-python",
   "name": "python",
   "nbconvert_exporter": "python",
   "pygments_lexer": "ipython2",
   "version": "2.7.16"
  }
 },
 "nbformat": 4,
 "nbformat_minor": 2
}
