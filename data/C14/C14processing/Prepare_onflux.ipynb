{
 "cells": [
  {
   "cell_type": "code",
   "execution_count": 1,
   "metadata": {},
   "outputs": [],
   "source": [
    "import pandas as pd\n",
    "import numpy as np\n",
    "import os\n",
    "os.environ['PROJ_LIB'] = '/data/keeling/a/sshu3/anaconda2/share/proj'\n",
    "from mpl_toolkits.basemap import Basemap, cm, shiftgrid,maskoceans\n",
    "import matplotlib.pyplot as plt\n",
    "from sklearn.linear_model import LinearRegression\n",
    "from sklearn.metrics import mean_squared_error, r2_score\n",
    "from netCDF4 import Dataset as NetCDFFile\n",
    "import C14preproc as prep\n",
    "import pylab\n",
    "import C14utils\n",
    "import matplotlib\n",
    "import socplot_lib as socplt\n",
    "import isamcalc_lib as isam\n",
    "import SOCtools as soc\n"
   ]
  },
  {
   "cell_type": "code",
   "execution_count": null,
   "metadata": {
    "scrolled": false
   },
   "outputs": [],
   "source": [
    "# =====================================================================\n",
    "#  Plot the simulated GPP \n",
    "#  Compare with the Fluxnet observation\n",
    "# =====================================================================\n",
    "respath = '/data/jain1/c/sshu3/SBGC/runs/oneflux/runs/' \n",
    "obspath = '/data/jain1/c/sshu3/SBGC/runs/oneflux/obs/'\n",
    "\n",
    "site =  {\n",
    "#     \"CA-Ca1\" : 0,\n",
    "#     \"CA-Ca2\" : 1,\n",
    "#     \"CA-Ca3\" : 2,\n",
    "    \"US-Ho1\" : 3,\n",
    "#     \"US-MMS\" : 4,\n",
    "#     \"US-UMB\" : 5,\n",
    "#     \"US-Bar\" : 6,\n",
    "#     \"US-Seg\" : 7,\n",
    "#     \"US-Ses\" : 8,\n",
    "#     \"US-Vcm\" : 9,\n",
    "#     \"US-Wjs\" : 10,\n",
    "#     \"US-Mpj\" : 11,\n",
    "#     \"US-Men\" : 12,\n",
    "#     \"US-FR2\" : 13,\n",
    "#     \"US-Pnp\" : 14,\n",
    "#     \"US-ARc\" : 15,\n",
    "#     \"US-ARM\" : 16,\n",
    "#     \"US-EML\" : 17,\n",
    "}\n",
    "\n",
    "siteyear = [13,11,11,23,19,11,13,11,11,11,11,10,4,4,2,2,16,11]\n",
    "title = ['days_since_1998_01_01_00_00_00']\n",
    "\n",
    "# Note: US-MMS measurement is hourly.\n",
    "for siteid, ind in site.items():\n",
    "    print(siteid)\n",
    "    fname='/site_daily_2_pft.txt'\n",
    "    mod_fname=respath+siteid+fname\n",
    "    data = pd.read_csv(mod_fname,delim_whitespace=True,header=None)\n",
    "    sz = np.shape(data)\n",
    "    # Only obtain the results from the last cycle\n",
    "    mod_gpp = data.values[(sz[0]-siteyear[ind]*365):sz[0],2]\n",
    "    # Aggregate to annual\n",
    "    sz = np.shape(mod_gpp)\n",
    "    lenz = sz[0]/365\n",
    "    mod_annual = np.zeros((lenz))\n",
    "    for i in np.arange(0,lenz):\n",
    "        mod_annual[i] = np.nansum(mod_gpp[(i*365):(i*365+365)]) \n",
    "    mod_annual[mod_annual<50] = np.float('nan')\n",
    "\n",
    "    # Oneflux has daily product which does not require unit conversion\n",
    "    obs_fname=obspath+siteid+'_GPP.txt'\n",
    "    data = pd.read_csv(obs_fname,delim_whitespace=True)\n",
    "    sz = np.shape(data)\n",
    "    obsdata = data.values\n",
    "    obsdata[obsdata<-100] = np.float('nan')\n",
    "    # Aggregate to annual\n",
    "    sz = np.shape(obsdata)\n",
    "    lenz = sz[0]/365\n",
    "    obs_annual = np.zeros((lenz))\n",
    "    for i in np.arange(0,lenz):\n",
    "        obs_annual[i] = np.nansum(obsdata[(i*365):(i*365+365)]) \n",
    "    obs_annual[obs_annual<50] = np.float('nan')\n",
    "  \n",
    "    # SE (This SE is too small for representing the STD)\n",
    "    # Shall follow Rahul's method to calculate STD\n",
    "    std_fname=obspath+siteid+'_UC.txt'\n",
    "    data = pd.read_csv(std_fname,delim_whitespace=True)\n",
    "    sz = np.shape(data)\n",
    "    stddata = data.values\n",
    "    stddata[stddata<-100] = np.float('nan')\n",
    "    # Aggregate to annual\n",
    "    sz = np.shape(stddata)\n",
    "    lenz = sz[0]/365\n",
    "    std_annual = np.zeros((lenz))\n",
    "    for i in np.arange(0,lenz):\n",
    "        std_annual[i] = np.nansum(stddata[(i*365):(i*365+365)]) \n",
    "    std_annual[std_annual<50] = np.float('nan')\n",
    "\n",
    "#     # Special case for site US-EML\n",
    "#     obs_fname=obspath+siteid+'_GPP.txt'\n",
    "#     data = pd.read_csv(obs_fname,delim_whitespace=True)\n",
    "#     sz = np.shape(data)\n",
    "#     obsdata = data.values\n",
    "#     obsdata[obsdata<-100] = np.float('nan')\n",
    "#     obsdata = obsdata*0.0216\n",
    "#     # Aggregate to daily\n",
    "#     lenz = sz[0]/48\n",
    "#     obs_gpp = np.zeros((lenz))\n",
    "#     for i in np.arange(0,lenz):\n",
    "#         obs_gpp[i] = np.nansum(obsdata[(i*48):(i*48+48)]) \n",
    "#     # Aggregate to annual\n",
    "#     sz = np.shape(obs_gpp)\n",
    "#     lenz = sz[0]/365\n",
    "#     obs_annual = np.zeros((lenz))\n",
    "#     for i in np.arange(0,lenz):\n",
    "#         obs_annual[i] = np.nansum(obs_gpp[(i*365):(i*365+365)]) \n",
    "#     obs_annual[obs_annual<50] = np.float('nan')\n",
    "\n",
    "    print('obs:')\n",
    "    print(np.nanmean(obs_annual))\n",
    "    print('std:')\n",
    "    print(np.nanmean(std_annual))\n",
    "    print('mod:')\n",
    "    print(np.nanmean(mod_annual))"
   ]
  },
  {
   "cell_type": "code",
   "execution_count": 17,
   "metadata": {},
   "outputs": [],
   "source": [
    "respath = '/data/jain1/c/sshu3/SBGC/runs/oneflux/runs/' \n",
    "\n",
    "# Read in the site output and store into csv\n",
    "site =  {\n",
    "#     \"CA-Ca1\" : 0,\n",
    "#     \"CA-Ca2\" : 1,\n",
    "#     \"CA-Ca3\" : 2,\n",
    "    \"US-Ho1\" : 3,\n",
    "#     \"US-MMS\" : 4,\n",
    "#     \"US-UMB\" : 5,\n",
    "#     \"US-Bar\" : 6,\n",
    "#     \"US-Seg\" : 7,\n",
    "#     \"US-Ses\" : 8,\n",
    "#     \"US-Vcm\" : 9,\n",
    "#     \"US-Wjs\" : 10,\n",
    "#     \"US-Mpj\" : 11,\n",
    "#     \"US-Men\" : 12,\n",
    "#     \"US-FR2\" : 13,\n",
    "#     \"US-Pnp\" : 14,\n",
    "#     \"US-ARc\" : 15,\n",
    "#     \"US-ARM\" : 16,\n",
    "#     \"US-EML\" : 17,\n",
    "}\n",
    "\n",
    "siteyear = [13]#,11,11,23,19,11,13,11,11,11,11,10,4,4,2,2,16,11]\n",
    "title = ['days_since_1998_01_01_00_00_00', 'days_since_2000_01_01_00_00_00', 'days_since_2001_01_01_00_00_00', \\\n",
    "        'days_since_1996_01_01_00_00_00', 'days_since_1996_01_01_00_00_00', 'days_since_2007_01_01_00_00_00', \\\n",
    "        'days_since_2005_01_01_00_00_00']\n",
    "\n",
    "for siteid, ind in site.items():\n",
    "    df = pd.DataFrame(columns=[title[ind],'rss','hfls','hfds','tau','ts','snc', 'cnc', 'tsl1', 'tsl2', 'tsl3', \\\n",
    "                              'tsl4', 'tsl5', 'tsl6', 'tsl7', 'tsl8', 'tsl9', 'tsl10', \\\n",
    "                              'pr', 'et', 'ec', 'tran', 'es', 'mrros', 'mrrob', 'mrro', 'rzwc', 'snw', 'rstfac', \\\n",
    "                              'mrlsl1', 'mrlsl2', 'mrlsl3', 'mrlsl4', 'mrlsl5', 'mrlsl6', \\\n",
    "                              'mrlsl7', 'mrlsl8', 'mrlsl9', 'mrlsl10', 'gpp', 'npp', 'ra', 'rh', 'nep', 'csoil', \\\n",
    "                              'cveg', 'cleaf', 'cwood', 'croot', 'lai', 'huss', 'ta', 'ps', 'ws', 'prr'])\n",
    "    # Read in data\n",
    "    fname='/site_hhrly_1_energy.txt'\n",
    "    mod_fname=respath+siteid+'/etrc'+fname\n",
    "    data = pd.read_csv(mod_fname,delim_whitespace=True,header=None)\n",
    "    sz = np.shape(data)\n",
    "    moddata = data.values\n",
    "    # Directly assign to each column \n",
    "    df.rss = moddata[:,0]\n",
    "    df.hfls = moddata[:,1]\n",
    "    df.hfds = moddata[:,2]\n",
    "    df.tau = moddata[:,3]\n",
    "    df.ts = moddata[:,4]\n",
    "    df.snc = moddata[:,5]\n",
    "    df.cnc = moddata[:,6]\n",
    "\n",
    "    fname='/site_hhrly_2_tsl.txt'\n",
    "    mod_fname=respath+siteid+fname\n",
    "    data = pd.read_csv(mod_fname,delim_whitespace=True,header=None)\n",
    "    sz = np.shape(data)\n",
    "    moddata = data.values\n",
    "    # Directly assign to each column \n",
    "    df.tsl1 = moddata[:,0]\n",
    "    df.tsl2 = moddata[:,1]\n",
    "    df.tsl3 = moddata[:,2]\n",
    "    df.tsl4 = moddata[:,3]\n",
    "    df.tsl5 = moddata[:,4]\n",
    "    df.tsl6 = moddata[:,5]\n",
    "    df.tsl7 = moddata[:,6]\n",
    "    df.tsl8 = moddata[:,7]\n",
    "    df.tsl9 = moddata[:,8]\n",
    "    df.tsl10 = moddata[:,9]\n",
    "\n",
    "#     fname='/site_hhrly_3_tsnl.txt'\n",
    "#     mod_fname=respath+siteid+fname\n",
    "#     data = pd.read_csv(mod_fname,delim_whitespace=True,header=None)\n",
    "#     sz = np.shape(data)\n",
    "#     moddata = data.values\n",
    "#     # Directly assign to each column \n",
    "#     df.tsnl1 = moddata[:,0]\n",
    "#     df.tsnl2 = moddata[:,1]\n",
    "#     df.tsnl3 = moddata[:,2]\n",
    "#     df.tsnl4 = moddata[:,3]\n",
    "#     df.tsnl5 = moddata[:,4]\n",
    "\n",
    "    fname='/site_hhrly_4_hydro.txt'\n",
    "    mod_fname=respath+siteid+fname\n",
    "    data = pd.read_csv(mod_fname,delim_whitespace=True,header=None)\n",
    "    sz = np.shape(data)\n",
    "    moddata = data.values\n",
    "    # Directly assign to each column \n",
    "    df.pr = moddata[:,0]\n",
    "    df.et = moddata[:,1]\n",
    "    df.ec = moddata[:,2]\n",
    "    df.tran = moddata[:,3]\n",
    "    df.es = moddata[:,4]\n",
    "    df.mrros = moddata[:,5]\n",
    "    df.mrrob = moddata[:,6]\n",
    "    df.mrro = moddata[:,7]\n",
    "    df.rzwc = moddata[:,8]\n",
    "    df.snw = moddata[:,9]\n",
    "    df.rstfac = moddata[:,10]\n",
    "#     df.agesno = moddata[:,11]\n",
    "\n",
    "    fname='/site_hhrly_5_sw.txt'\n",
    "    mod_fname=respath+siteid+fname\n",
    "    data = pd.read_csv(mod_fname,delim_whitespace=True,header=None)\n",
    "    sz = np.shape(data)\n",
    "    moddata = data.values\n",
    "    # Directly assign to each column \n",
    "    df.mrlsl1 = moddata[:,0]\n",
    "    df.mrlsl2 = moddata[:,1]\n",
    "    df.mrlsl3 = moddata[:,2]\n",
    "    df.mrlsl4 = moddata[:,3]\n",
    "    df.mrlsl5 = moddata[:,4]\n",
    "    df.mrlsl6 = moddata[:,5]\n",
    "    df.mrlsl7 = moddata[:,6]\n",
    "    df.mrlsl8 = moddata[:,7]\n",
    "    df.mrlsl9 = moddata[:,8]\n",
    "    df.mrlsl10 = moddata[:,9]\n",
    "    \n",
    "    fname='/site_hhrly_6_carbon.txt'\n",
    "    mod_fname=respath+siteid+fname\n",
    "    data = pd.read_csv(mod_fname,delim_whitespace=True,header=None)\n",
    "    sz = np.shape(data)\n",
    "    moddata = data.values\n",
    "    # Directly assign to each column \n",
    "    df.gpp = moddata[:,0]\n",
    "    df.npp = moddata[:,1]\n",
    "    df.ra = moddata[:,2]\n",
    "    df.rh = moddata[:,3]\n",
    "    df.nep = moddata[:,4]\n",
    "    df.csoil = moddata[:,5]\n",
    "    df.cveg = moddata[:,6]\n",
    "    df.cleaf = moddata[:,7]\n",
    "    df.cwood = moddata[:,8]\n",
    "    df.croot = moddata[:,9]\n",
    "\n",
    "    fname='/site_hhrly_7_climate.txt'\n",
    "    mod_fname=respath+siteid+fname\n",
    "    data = pd.read_csv(mod_fname,delim_whitespace=True,header=None)\n",
    "    sz = np.shape(data)\n",
    "    moddata = data.values\n",
    "    # Directly assign to each column \n",
    "    df.lai = moddata[:,0]\n",
    "    df.huss = moddata[:,1]\n",
    "    df.ta = moddata[:,2]\n",
    "    df.ps = moddata[:,3]\n",
    "    df.ws = moddata[:,4]\n",
    "    df.prr = moddata[:,5]\n",
    "    \n",
    "#     sz = np.shape(stddata)\n",
    "#     lenz = sz[0]/365\n",
    "#     std_annual = np.zeros((lenz))\n",
    "#     for i in np.arange(0,lenz):\n",
    "#         std_annual[i] = np.nansum(stddata[(i*365):(i*365+365)]) \n",
    "#     std_annual[std_annual<50] = np.float('nan')\n",
    "    \n",
    "    # Create the timestamps\n",
    "    sz = np.shape(data)\n",
    "    lenz = sz[0]\n",
    "    tstmp = np.zeros((lenz))\n",
    "    for i in np.arange(0,lenz):\n",
    "        tstmp[i] = np.float(i)/24.0\n",
    "    df.iloc[:,0] = tstmp\n",
    "#     export_path = siteid+'-ISAM-HH.csv'\n",
    "#     export_csv = df.to_csv (export_path, index = None, header=True)\n"
   ]
  },
  {
   "cell_type": "code",
   "execution_count": null,
   "metadata": {},
   "outputs": [],
   "source": [
    "plt.plot(df.et)"
   ]
  },
  {
   "cell_type": "code",
   "execution_count": 48,
   "metadata": {
    "scrolled": true
   },
   "outputs": [
    {
     "name": "stdout",
     "output_type": "stream",
     "text": [
      "('Slope:', array([[-6.31440448e-05]]))\n",
      "('Intercept:', array([0.0049553]))\n",
      "('Root mean squared error: ', 2.866278887426384e-07)\n",
      "('R2 score: ', 0.3796784219531907)\n"
     ]
    },
    {
     "data": {
      "image/png": "[encoded data removed]",
      "text/plain": [
       "<Figure size 432x288 with 1 Axes>"
      ]
     },
     "metadata": {
      "needs_background": "light"
     },
     "output_type": "display_data"
    }
   ],
   "source": [
    "# Aggregate specific varibale into daily\n",
    "lenz = sz[0]/(48*365)\n",
    "et_annual = np.zeros((lenz))\n",
    "for i in np.arange(0, lenz):\n",
    "    et_annual[i] = np.nansum(df.et[i*48*365:(i*48*365+48*365)])\n",
    "\n",
    "lenz = sz[0]/(48*365)\n",
    "tran_annual = np.zeros((lenz))\n",
    "for i in np.arange(0, lenz):\n",
    "    tran_annual[i] = np.nansum(df.tran[i*48*365:(i*48*365+48*365)])\n",
    "\n",
    "lenz = sz[0]/(48*365)\n",
    "pr_annual = np.zeros((lenz))\n",
    "for i in np.arange(0, lenz):\n",
    "    pr_annual[i] = np.nansum(df.pr[i*48*365:(i*48*365+48*365)])\n",
    "    \n",
    "lai_annual = np.zeros((lenz))\n",
    "for i in np.arange(0, lenz):\n",
    "    lai_annual[i] = np.nanmean(df.lai[i*48*365:(i*48*365+48*365)])\n",
    "\n",
    "gpp_annual = np.zeros((lenz))\n",
    "for i in np.arange(0, lenz):\n",
    "    gpp_annual[i] = np.nansum(df.gpp[i*48*365:(i*48*365+48*365)]*1000)\n",
    "\n",
    "cwood_annual = np.zeros((lenz))\n",
    "for i in np.arange(0, lenz):\n",
    "    cwood_annual[i] = np.nanmean(df.cwood[i*48*365:(i*48*365+48*365)]*1000)\n",
    "\n",
    "huss_annual = np.zeros((lenz))\n",
    "for i in np.arange(0, lenz):\n",
    "    huss_annual[i] = np.nanmean(df.huss[i*48*365:(i*48*365+48*365)])\n",
    "\n",
    "ta_annual = np.zeros((lenz))\n",
    "for i in np.arange(0, lenz):\n",
    "    ta_annual[i] = np.nanmean(df.ta[i*48*365:(i*48*365+48*365)])\n",
    "\n",
    "ps_annual = np.zeros((lenz))\n",
    "for i in np.arange(0, lenz):\n",
    "    ps_annual[i] = np.nanmean(df.ps[i*48*365:(i*48*365+48*365)])\n",
    "\n",
    "ws_annual = np.zeros((lenz))\n",
    "for i in np.arange(0, lenz):\n",
    "    ws_annual[i] = np.nanmean(df.ws[i*48*365:(i*48*365+48*365)])\n",
    "\n",
    "rstfac_annual = np.zeros((lenz))\n",
    "for i in np.arange(0, lenz):\n",
    "    rstfac_annual[i] = np.nanmean(df.rstfac[i*48*365:(i*48*365+48*365)])\n",
    "\n",
    "# Regression\n",
    "# prepare input data-set\n",
    "np.random.seed(0)\n",
    "x = np.zeros((lenz,1))\n",
    "y = np.zeros((lenz,1))\n",
    "x[:,0] = np.arange(0, lenz)\n",
    "y[:,0] = huss_annual\n",
    "\n",
    "# x = np.random.rand(100, 1)\n",
    "# y = 2 + 3 * x + np.random.rand(100, 1)\n",
    "\n",
    "# sckit-learn implementation\n",
    "\n",
    "# Model initialization\n",
    "regression_model = LinearRegression()\n",
    "# Fit the data(train the model)\n",
    "regression_model.fit(x, y)\n",
    "# Predict\n",
    "y_predicted = regression_model.predict(x)\n",
    "\n",
    "# model evaluation\n",
    "rmse = mean_squared_error(y, y_predicted)\n",
    "r2 = r2_score(y, y_predicted)\n",
    "\n",
    "# printing values\n",
    "print('Slope:' ,regression_model.coef_)\n",
    "print('Intercept:', regression_model.intercept_)\n",
    "print('Root mean squared error: ', rmse)\n",
    "print('R2 score: ', r2)\n",
    "\n",
    "# plotting values\n",
    "\n",
    "# data points\n",
    "plt.scatter(x, y, s=10)\n",
    "plt.xlabel('x')\n",
    "plt.ylabel('y')\n",
    "\n",
    "# predicted values\n",
    "plt.plot(x, y_predicted, color='r')\n",
    "plt.title('ISAM specific humidity (US-Ho1)')\n",
    "plt.xlabel('year after 1998')\n",
    "plt.ylabel('specific humidity (kg kg-1)')\n",
    "#plt.show()\n",
    "plt.savefig('isamq.png')"
   ]
  },
  {
   "cell_type": "code",
   "execution_count": 21,
   "metadata": {},
   "outputs": [
    {
     "data": {
      "text/plain": [
       "<matplotlib.collections.PathCollection at 0x2b4855b79c10>"
      ]
     },
     "execution_count": 21,
     "metadata": {},
     "output_type": "execute_result"
    },
    {
     "data": {
      "image/png": "[encoded data removed]",
      "text/plain": [
       "<Figure size 432x288 with 1 Axes>"
      ]
     },
     "metadata": {
      "needs_background": "light"
     },
     "output_type": "display_data"
    }
   ],
   "source": [
    "plt.scatter(huss_annual, et_annual)"
   ]
  },
  {
   "cell_type": "code",
   "execution_count": 29,
   "metadata": {},
   "outputs": [
    {
     "data": {
      "text/plain": [
       "<matplotlib.collections.PathCollection at 0x2b4855ba44d0>"
      ]
     },
     "execution_count": 29,
     "metadata": {},
     "output_type": "execute_result"
    },
    {
     "data": {
      "image/png": "[encoded data removed]",
      "text/plain": [
       "<Figure size 432x288 with 1 Axes>"
      ]
     },
     "metadata": {
      "needs_background": "light"
     },
     "output_type": "display_data"
    }
   ],
   "source": [
    "plt.scatter(huss_annual_clm, et_annual_clm)"
   ]
  },
  {
   "cell_type": "code",
   "execution_count": 38,
   "metadata": {},
   "outputs": [],
   "source": [
    "# Better read the CLM results to check the huss vs et response\n",
    "fname = '/data/jain1/c/sshu3/SBGC/runs/oneflux/runs/US-Ho1/US-Ho1-CLM5-HH.csv'\n",
    "\n",
    "clm = pd.read_csv(fname, header=0)\n",
    "sz = np.shape(clm.huss)\n",
    "lenz = sz[0]/(48*365)\n",
    "et_annual_clm = np.zeros((lenz))\n",
    "huss_annual_clm = np.zeros((lenz))\n",
    "ta_annual_clm = np.zeros((lenz))\n",
    "ps_annual_clm = np.zeros((lenz))\n",
    "for i in np.arange(0, lenz):\n",
    "    et_annual_clm[i] = np.nansum(clm.et[i*48*365:(i*48*365+48*365)])\n",
    "    huss_annual_clm[i] = np.nanmean(clm.huss[i*48*365:(i*48*365+48*365)])\n",
    "    ta_annual_clm[i] = np.nanmean(clm.ta[i*48*365:(i*48*365+48*365)])\n",
    "#    ps_annual_clm[i] = np.nanmean(clm.ps[i*48*365:(i*48*365+48*365)])"
   ]
  },
  {
   "cell_type": "code",
   "execution_count": 42,
   "metadata": {},
   "outputs": [
    {
     "data": {
      "text/plain": [
       "<matplotlib.collections.PathCollection at 0x2b48654d2c50>"
      ]
     },
     "execution_count": 42,
     "metadata": {},
     "output_type": "execute_result"
    },
    {
     "data": {
      "image/png": "[encoded data removed]",
      "text/plain": [
       "<Figure size 432x288 with 1 Axes>"
      ]
     },
     "metadata": {
      "needs_background": "light"
     },
     "output_type": "display_data"
    }
   ],
   "source": [
    "#plt.xlim([0.03, 0.07])\n",
    "#plt.ylim([0.03, 0.07])\n",
    "plt.scatter(huss_annual_clm, huss_annual)"
   ]
  },
  {
   "cell_type": "code",
   "execution_count": 40,
   "metadata": {},
   "outputs": [
    {
     "data": {
      "text/plain": [
       "<matplotlib.collections.PathCollection at 0x2b485596d850>"
      ]
     },
     "execution_count": 40,
     "metadata": {},
     "output_type": "execute_result"
    },
    {
     "data": {
      "image/png": "[encoded data removed]",
      "text/plain": [
       "<Figure size 432x288 with 1 Axes>"
      ]
     },
     "metadata": {
      "needs_background": "light"
     },
     "output_type": "display_data"
    }
   ],
   "source": [
    "plt.scatter(ta_annual_clm, ta_annual)"
   ]
  },
  {
   "cell_type": "code",
   "execution_count": null,
   "metadata": {},
   "outputs": [],
   "source": [
    "plt.scatter(ps_annual_clm, ps_annual)"
   ]
  }
 ],
 "metadata": {
  "kernelspec": {
   "display_name": "Python 2",
   "language": "python",
   "name": "python2"
  },
  "language_info": {
   "codemirror_mode": {
    "name": "ipython",
    "version": 2
   },
   "file_extension": ".py",
   "mimetype": "text/x-python",
   "name": "python",
   "nbconvert_exporter": "python",
   "pygments_lexer": "ipython2",
   "version": "2.7.16"
  }
 },
 "nbformat": 4,
 "nbformat_minor": 2
}
