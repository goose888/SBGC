{
 "cells": [
  {
   "cell_type": "code",
   "execution_count": 2,
   "metadata": {},
   "outputs": [],
   "source": [
    "import numpy as np\n",
    "#from scipy import optimize\n",
    "#import xarray as xr\n",
    "#import cartopy\n",
    "import dask as dask\n",
    "import matplotlib.pyplot as plt\n",
    "#import cartopy.crs as crs\n",
    "#import cartopy.feature as cfeat\n",
    "import pandas as pd\n",
    "import glob\n",
    "from scipy.stats import linregress"
   ]
  },
  {
   "cell_type": "code",
   "execution_count": 3,
   "metadata": {},
   "outputs": [
    {
     "data": {
      "text/plain": [
       "1"
      ]
     },
     "execution_count": 3,
     "metadata": {},
     "output_type": "execute_result"
    }
   ],
   "source": [
    "np.mod(3,2)"
   ]
  },
  {
   "cell_type": "code",
   "execution_count": 3,
   "metadata": {},
   "outputs": [],
   "source": [
    "# isam vegetation carbon from primary forest\n",
    "cveg_sum = xr.open_dataset('/data/keeling/a/ec11/d/4_Masters_project/1_Input_data/1_LULCC/GCB/LUC/isam_cveg_sum_per_type.nc')\n",
    "isam_cveg_prim = cveg_sum['isam_cveg_prim'].values"
   ]
  },
  {
   "cell_type": "code",
   "execution_count": 7,
   "metadata": {},
   "outputs": [],
   "source": [
    "#LUH2 wh biomass from primary forest\n",
    "masked_luh2_bio_reg2 = xr.open_dataset('//data/keeling/a/ec11/d/4_Masters_project/1_Input_data/1_LULCC/GCB/LUC/gcb_regrid_50km_wh_biomass_isam_masked.nc')\n",
    "masked_luh2_bio_reg2_prim = masked_luh2_bio_reg2['masked_luh2_bio_reg_prim'].values"
   ]
  },
  {
   "cell_type": "code",
   "execution_count": 5,
   "metadata": {},
   "outputs": [],
   "source": [
    "diff_forest_btw_luh2_isam = xr.open_dataset('/data/keeling/a/ec11/d/4_Masters_project/1_Input_data/1_LULCC/GCB/LUC/diff_forest_btw_luh2_isam.nc')\n",
    "diff_forest_btw_luh2_isam_prim = diff_forest_btw_luh2_isam['diff_luh2_isam_prim']"
   ]
  },
  {
   "cell_type": "code",
   "execution_count": 6,
   "metadata": {},
   "outputs": [
    {
     "data": {
      "text/plain": [
       "246"
      ]
     },
     "execution_count": 6,
     "metadata": {},
     "output_type": "execute_result"
    }
   ],
   "source": [
    "#MAX_TIME\n",
    "MX = isam_cveg_prim.shape[0]"
   ]
  },
  {
   "cell_type": "code",
   "execution_count": null,
   "metadata": {},
   "outputs": [],
   "source": [
    "for k in np.arange(0,MX):\n",
    "    for i in np.arange(0,360):\n",
    "        for j in np.arange(0,720):\n",
    "            if (mask_target[k,i,j] == 1 .and. o_data1[k,i,j] == -999.):\n",
    "                # Do a snake style search\n",
    "                #     |---| \n",
    "                #     ||-||\n",
    "                #     ||--|\n",
    "                #     |---->\n",
    "                cnt = 0\n",
    "                newi = i\n",
    "                newj = j\n",
    "                tag_done = False\n",
    "                while (mask_target[k,i,j] == 1 .and. o_data1[k,i,j] <= 0.):\n",
    "                    if(tag_done):\n",
    "                        break\n",
    "                    else:\n",
    "                        cnt = cnt + 1\n",
    "                        if (np.mod(cnt,2) == 1):\n",
    "                            for inc in np.arange(0,cnt):\n",
    "                            # search up\n",
    "                                newi = newi - 1\n",
    "                                if(newi<1):\n",
    "                                    newi = 1\n",
    "                                if (o_data1[k,newi,newj] > 0.):\n",
    "                                    wh[k,newi,newj] = wh[k,newi,newj] + wh[k,i,j]\n",
    "                                    wh[k,i,j] = 0.\n",
    "                                    #o_data1[k,newi,newj] = o_data1[k,newi,newj] - wh\n",
    "                                    tag_done = True\n",
    "                                    break\n",
    "                            for inc in np.arange(0,cnt):\n",
    "                            # search left\n",
    "                                newj = newj - 1\n",
    "                                if(newj<1):\n",
    "                                    newj = 1\n",
    "                                if(o_data[k,newi,newj] != -999.): \n",
    "                                    o_data1[k,i,j] = o_data1[k,newi,newj]\n",
    "                                    tag_done = True\n",
    "                                    break\n",
    "                        else \n",
    "                            for inc in np.arange(0,cnt):\n",
    "                            # search down\n",
    "                                newi = newi + 1\n",
    "                                if(newi>360):\n",
    "                                    newi = 360\n",
    "                                if(o_data1[k,newi,newj] != -999.): \n",
    "                                    o_data1[k,i,j] = o_data1[k,newi,newj]\n",
    "                                    tag_done = True\n",
    "                                    break\n",
    "                            for inc in np.arange(0,cnt):\n",
    "                            # search right\n",
    "                                newj = newj + 1\n",
    "                                if(newj>720):\n",
    "                                    newj = 720\n",
    "                                if(o_data1[k,newi,newj] != -999.): \n",
    "                                    o_data1[k,i,j] = o_data1[k,newi,newj]\n",
    "                                    tag_done = True\n",
    "                                    break\n",
    "\n"
   ]
  }
 ],
 "metadata": {
  "kernelspec": {
   "display_name": "Python 2",
   "language": "python",
   "name": "python2"
  },
  "language_info": {
   "codemirror_mode": {
    "name": "ipython",
    "version": 2
   },
   "file_extension": ".py",
   "mimetype": "text/x-python",
   "name": "python",
   "nbconvert_exporter": "python",
   "pygments_lexer": "ipython2",
   "version": "2.7.16"
  }
 },
 "nbformat": 4,
 "nbformat_minor": 2
}
