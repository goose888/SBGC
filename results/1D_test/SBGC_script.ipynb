{
 "cells": [
  {
   "cell_type": "code",
   "execution_count": 3,
   "metadata": {},
   "outputs": [],
   "source": [
    "# Examine SBGC results\n",
    "import os\n",
    "os.environ['PROJ_LIB'] = '/data/keeling/a/sshu3/anaconda2/share/proj'\n",
    "from mpl_toolkits.basemap import Basemap, cm, shiftgrid,maskoceans\n",
    "from netCDF4 import Dataset as NetCDFFile\n",
    "import math\n",
    "import numpy as np\n",
    "import matplotlib.pyplot as plt\n",
    "from matplotlib import colors\n",
    "import numpy.ma as ma\n",
    "from scipy.interpolate import griddata\n",
    "import isamcalc_lib as isam\n"
   ]
  },
  {
   "cell_type": "code",
   "execution_count": 4,
   "metadata": {},
   "outputs": [],
   "source": [
    "# Options\n",
    "fpath='/data/jain1/c/sshu3/SBGC/results/1D_test/'\n",
    "frootfr='bgp_to_bgc_initial_rootfr.nc'\n",
    "frootfr_new='bgp_to_bgc_initial_rootfr_new.nc'\n",
    "flc='verify_time_invarient.nc'\n",
    "varname_rootfr='rootfr_bgc'\n",
    "varname_lc='c_pft_fraction'\n",
    "nlon=720\n",
    "nlat=360\n"
   ]
  },
  {
   "cell_type": "code",
   "execution_count": 5,
   "metadata": {},
   "outputs": [],
   "source": [
    "# Data from paper Schenk and Jackson, 2002\n",
    "obs_rootfr_boreal=np.array([0, 72.2093023255814,18.3139534883721,5.49418604651162,2.61627906976744,1.56976744186046,1.04651162790697,0.784883720930232, 0.523255813953483])\n",
    "obs_dp=np.array([0, -5.82089552238805,-24.6268656716418,-42.5373134328358,-60.8955223880597,-78.8059701492537,-97.6119402985075,-114.626865671642,-133.432835820896])\n",
    "obs_rootfr_boreal = obs_rootfr_boreal * 0.01\n",
    "obs_dp = obs_dp * 0.01\n",
    "accu_fr_obs = np.zeros((9))\n",
    "# Get accumulated fraction\n",
    "for j in np.arange(9):\n",
    "    if(j == 0):\n",
    "        accu_fr_obs[j] = 0\n",
    "    else:\n",
    "        accu_fr_obs[j] = accu_fr_obs[j-1]+obs_rootfr_boreal[j]\n",
    "\n"
   ]
  },
  {
   "cell_type": "code",
   "execution_count": null,
   "metadata": {},
   "outputs": [],
   "source": [
    "np.shape(accu_fr_obs)"
   ]
  },
  {
   "cell_type": "code",
   "execution_count": 6,
   "metadata": {},
   "outputs": [
    {
     "name": "stderr",
     "output_type": "stream",
     "text": [
      "/data/keeling/a/sshu3/anaconda2/lib/python2.7/site-packages/ipykernel_launcher.py:27: RuntimeWarning: Mean of empty slice\n",
      "/data/keeling/a/sshu3/anaconda2/lib/python2.7/site-packages/ipykernel_launcher.py:30: RuntimeWarning: Mean of empty slice\n"
     ]
    }
   ],
   "source": [
    "# Read in rootfr\n",
    "fp=fpath+frootfr\n",
    "nclu=NetCDFFile(fp,'r')\n",
    "rootfr = nclu.variables[varname_rootfr][:]\n",
    "nclu.close()\n",
    "# Read in LC\n",
    "fp=fpath+flc\n",
    "nclu=NetCDFFile(fp,'r')\n",
    "lc = nclu.variables[varname_lc][:]\n",
    "nclu.close()\n",
    "# Read in new rootfr\n",
    "fp=fpath+frootfr_new\n",
    "nclu=NetCDFFile(fp,'r')\n",
    "rootfr_new = nclu.variables[varname_rootfr][:]\n",
    "nclu.close()\n",
    "\n",
    "fr_mean=np.zeros((10,24))\n",
    "fr_mean_new=np.zeros((10,24))\n",
    "\n",
    "# mask the value using lc and calculate the mean profile for each lc type\n",
    "for i in np.arange(24):\n",
    "    for j in np.arange(10):\n",
    "        pfr = rootfr[j,i,:,:]\n",
    "        plc = lc[i,:,:]\n",
    "        pfr[plc<=0] = np.float('nan')\n",
    "        rootfr[j,i,:,:] = pfr\n",
    "        fr_mean[j,i] = np.nanmean(pfr)\n",
    "        pfr = rootfr_new[j,i,:,:]\n",
    "        pfr[plc<=0] = np.float('nan')\n",
    "        fr_mean_new[j,i] = np.nanmean(pfr)\n",
    "\n",
    "accu_fr_mean=np.zeros((10,24))\n",
    "accu_fr_mean_new=np.zeros((10,24))\n",
    "# Get accumulated fraction\n",
    "for i in np.arange(24):\n",
    "    for j in np.arange(10):\n",
    "        if(j == 0):\n",
    "            accu_fr_mean[j,i] = fr_mean[j,i]\n",
    "            accu_fr_mean_new[j,i] = fr_mean_new[j,i]\n",
    "        else:\n",
    "            accu_fr_mean[j,i] = accu_fr_mean[j-1,i]+fr_mean[j,i]\n",
    "            accu_fr_mean_new[j,i] = accu_fr_mean_new[j-1,i]+fr_mean_new[j,i]\n",
    "\n",
    "dp = isam.get_isam_soildp(10)\n"
   ]
  },
  {
   "cell_type": "code",
   "execution_count": null,
   "metadata": {},
   "outputs": [],
   "source": [
    "accu_fr_mean[:,4]"
   ]
  },
  {
   "cell_type": "code",
   "execution_count": null,
   "metadata": {},
   "outputs": [],
   "source": []
  },
  {
   "cell_type": "code",
   "execution_count": 7,
   "metadata": {},
   "outputs": [
    {
     "data": {
      "text/plain": [
       "(-1, 0)"
      ]
     },
     "execution_count": 7,
     "metadata": {},
     "output_type": "execute_result"
    },
    {
     "data": {
      "image/png": "[encoded data removed]",
      "text/plain": [
       "<Figure size 432x288 with 1 Axes>"
      ]
     },
     "metadata": {
      "needs_background": "light"
     },
     "output_type": "display_data"
    }
   ],
   "source": [
    "plt.plot(-dp[0], accu_fr_mean[:,4])\n",
    "plt.plot(-dp[0], accu_fr_mean_new[:,4])\n",
    "plt.plot(obs_dp, accu_fr_obs)\n",
    "\n",
    "plt.xlim([-1, 0])"
   ]
  },
  {
   "cell_type": "code",
   "execution_count": 8,
   "metadata": {},
   "outputs": [],
   "source": [
    "# Examine the vertical SOC stock over the study area\n",
    "fpath='/data/jain1/c/sshu3/SBGC/results/1D_test/'\n",
    "fsoilc='Global_1DSBGC.bgc-yearly-3d_11900.nc'\n",
    "varname_soilc='soil_c_lev'\n",
    "# Read in soilc\n",
    "fp=fpath+fsoilc\n",
    "nclu=NetCDFFile(fp,'r')\n",
    "soilc_lev = nclu.variables[varname_soilc][:]\n",
    "nclu.close()\n",
    "\n",
    "# Calculate Earth's area\n",
    "# Area of each grid\n",
    "grid_area = np.zeros((nlat, nlon))\n",
    "EARTH_AREA = 5.096e14\n",
    "lat = np.arange(-89.75, 90.25, 0.5)\n",
    "res = 0.5\n",
    "\n",
    "for i in np.arange(0,nlat):\n",
    "    for j in np.arange(0,nlon):\n",
    "        grid_area[i,j] = (EARTH_AREA/2)*abs(np.sin((lat[i] - res/2)*math.pi/180) -\n",
    "                np.sin((lat[i] + res/2)*math.pi/180))/(360/res)\n",
    "\n",
    "totsoilc = np.zeros((10))\n",
    "for i in np.arange(10):\n",
    "    soilc_lev[i,:,:] = soilc_lev[i,:,:]*grid_area\n",
    "    totsoilc[i] = np.nansum(soilc_lev[i,:,:])/1e12"
   ]
  },
  {
   "cell_type": "code",
   "execution_count": null,
   "metadata": {},
   "outputs": [],
   "source": [
    "totsoilc"
   ]
  },
  {
   "cell_type": "code",
   "execution_count": 9,
   "metadata": {},
   "outputs": [
    {
     "data": {
      "text/plain": [
       "311.62718314587516"
      ]
     },
     "execution_count": 9,
     "metadata": {},
     "output_type": "execute_result"
    }
   ],
   "source": [
    "np.sum(totsoilc[0:6])"
   ]
  }
 ],
 "metadata": {
  "kernelspec": {
   "display_name": "Python 2",
   "language": "python",
   "name": "python2"
  },
  "language_info": {
   "codemirror_mode": {
    "name": "ipython",
    "version": 2
   },
   "file_extension": ".py",
   "mimetype": "text/x-python",
   "name": "python",
   "nbconvert_exporter": "python",
   "pygments_lexer": "ipython2",
   "version": "2.7.16"
  }
 },
 "nbformat": 4,
 "nbformat_minor": 2
}
