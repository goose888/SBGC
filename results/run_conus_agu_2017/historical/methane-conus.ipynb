{
 "cells": [
  {
   "cell_type": "code",
   "execution_count": 1,
   "metadata": {
    "collapsed": false
   },
   "outputs": [],
   "source": [
    "from mpl_toolkits.basemap import Basemap, cm, shiftgrid,maskoceans\n",
    "from netCDF4 import Dataset as NetCDFFile\n",
    "import numpy as N\n",
    "import matplotlib.pyplot as plt\n",
    "from matplotlib import colors\n",
    "import numpy.ma as ma\n",
    "from scipy.interpolate import griddata\n",
    "from pyresample import geometry,image, kd_tree\n"
   ]
  },
  {
   "cell_type": "code",
   "execution_count": 2,
   "metadata": {
    "collapsed": false
   },
   "outputs": [],
   "source": [
    "nclu=NetCDFFile('Global_1DSBGC.bgc-yearly-2d_0109.nc','r')\n",
    "ncvar_maize = nclu.variables['ch4_flux'][:]\n",
    "maize = nclu.variables['ch4_oxid'][:]\n",
    "latnc = nclu.variables['lat'][:]\n",
    "# znc = nclu.variables['level'][:]\n",
    "lonnc = nclu.variables['lon'][:]\n",
    "# timenc = nclu.variables['time'][:]\n",
    "\n",
    "nclu2=NetCDFFile('fw_frac_min.nc','r')\n",
    "#print(nclu)\n",
    "fw_min = nclu2.variables['FW'][:]\n",
    "\n",
    "nclu3=NetCDFFile('fw_frac_max.nc','r')\n",
    "#print(nclu)\n",
    "fw_max = nclu3.variables['FW'][:]"
   ]
  },
  {
   "cell_type": "code",
   "execution_count": 3,
   "metadata": {
    "collapsed": false
   },
   "outputs": [
    {
     "name": "stderr",
     "output_type": "stream",
     "text": [
      "/data/keeling/a/sshu3/anaconda2/lib/python2.7/site-packages/mpl_toolkits/basemap/__init__.py:3413: MatplotlibDeprecationWarning: The ishold function was deprecated in version 2.0.\n",
      "  b = ax.ishold()\n",
      "/data/keeling/a/sshu3/anaconda2/lib/python2.7/site-packages/mpl_toolkits/basemap/__init__.py:3422: MatplotlibDeprecationWarning: axes.hold is deprecated.\n",
      "    See the API Changes document (http://matplotlib.org/api/api_changes.html)\n",
      "    for more details.\n",
      "  ax.hold(b)\n",
      "/data/keeling/a/sshu3/anaconda2/lib/python2.7/site-packages/mpl_toolkits/basemap/__init__.py:3608: MatplotlibDeprecationWarning: The ishold function was deprecated in version 2.0.\n",
      "  b = ax.ishold()\n",
      "/data/keeling/a/sshu3/anaconda2/lib/python2.7/site-packages/mpl_toolkits/basemap/__init__.py:3677: MatplotlibDeprecationWarning: axes.hold is deprecated.\n",
      "    See the API Changes document (http://matplotlib.org/api/api_changes.html)\n",
      "    for more details.\n",
      "  ax.hold(b)\n"
     ]
    }
   ],
   "source": [
    "#http://matplotlib.org/basemap/users/mapsetup.html\n",
    "\n",
    "fig = plt.figure(figsize=(15,15))\n",
    "\n",
    "ax1 = fig.add_subplot(221)\n",
    "ax1.set_title(\"Net $CH_4$ flux (gC-$CH_4$/$m^2$/yr)\",fontsize=20)\n",
    "map = Basemap(llcrnrlon=-119,llcrnrlat=23,urcrnrlon=-63,urcrnrlat=51,\n",
    "        projection='lcc',lat_1=33,lat_2=45,lon_0=-95)\n",
    "# draw coastlines, state and country boundaries, edge of map.\n",
    "map.drawcoastlines()\n",
    "map.drawstates()\n",
    "map.drawcountries(color='b')\n",
    "lon,lat = N.meshgrid(lonnc,latnc) #Returns coordinate matrices from coordinate vectors\n",
    "x,y = map(lon,lat)\n",
    "# clevs = N.arange(0,7,0.5)\n",
    "clevs = N.power(10.0, N.arange(-1.0,2.5,0.5))\n",
    "\n",
    "#ncvar_maize[0,0,:,:][N.isnan(ncvar_maize[0,0,:,:])] = -9999\n",
    "#maize[0,1,:,:][N.isnan(maize[0,1,:,:])] = -9999\n",
    "ncvar_maize[:,:] = ma.masked_where(ncvar_maize[:,:]<0,ncvar_maize[:,:])\n",
    "#ncvar_maize[0,0,:,:] = ma.masked_where(ncvar_maize[0,0,:,:]<=0,ncvar_maize[0,0,:,:])\n",
    "#ncvar_maize[0,0,:,:] = ma.masked_where(maize[0,1,:,:]<=0,ncvar_maize[0,0,:,:])\n",
    "mdata = maskoceans(lon, lat, ncvar_maize[:,:])\n",
    "\n",
    "# cs1 = map.contourf(x,y,mdata,clevs,cmap=plt.cm.jet)\n",
    "# cs1 = map.contourf(x,y,ncvar_maize[:,:], [100], colors=\"black\")\n",
    "cs1 = map.pcolormesh(x,y,ncvar_maize[:,:],\n",
    "              norm=colors.LogNorm(vmin=0.01, vmax=100),cmap=plt.cm.jet) # use log color scale,\n",
    "                                                      # omit this to use linear\n",
    "                                                     # color scale\n",
    "cbar = map.colorbar(cs1,location='bottom',pad=\"5%\")\n",
    "#plt.title('Maize harvested area fraction')\n",
    "cbar.ax.tick_params(labelsize=18) \n",
    "\n",
    "\n",
    "ax2 = fig.add_subplot(222)\n",
    "ax2.set_title(\"Soil $CH_4$ oxidation (gC-$CH_4$/$m^2$/yr)\",fontsize=20)\n",
    "map = Basemap(llcrnrlon=-119,llcrnrlat=23,urcrnrlon=-63,urcrnrlat=51,\n",
    "        projection='lcc',lat_1=33,lat_2=45,lon_0=-95)\n",
    "# draw coastlines, state and country boundaries, edge of map.\n",
    "map.drawcoastlines()\n",
    "map.drawstates()\n",
    "map.drawcountries(color='b')\n",
    "clevs = N.arange(0,7,0.5)\n",
    "# clevs = N.power(10.0, N.arange(-1.0,2.5,0.5))\n",
    "#clevs = [0,1.5,3,4.5,6,7.5,9,10.5,12,13.5,15]\n",
    "# cs = map.contourf(x,y,maize[:,:],clevs,cmap=plt.cm.jet)\n",
    "cs = map.pcolormesh(x,y,maize[:,:],\n",
    "              norm=colors.LogNorm(vmin=0.001, vmax=10),cmap=plt.cm.jet) # use log color scale,\n",
    "                                                      # omit this to use linear\n",
    "                                                     # color scale\n",
    "cbar = map.colorbar(cs,location='bottom',pad=\"5%\")\n",
    "cbar.ax.tick_params(labelsize=18) \n",
    "\n",
    "\n",
    "ax1 = fig.add_subplot(223)\n",
    "ax1.set_title(\"Maximum Inundated Area (% gridcell area)\",fontsize=20)\n",
    "map = Basemap(llcrnrlon=-119,llcrnrlat=23,urcrnrlon=-63,urcrnrlat=51,\n",
    "        projection='lcc',lat_1=33,lat_2=45,lon_0=-95)\n",
    "# draw coastlines, state and country boundaries, edge of map.\n",
    "map.drawcoastlines()\n",
    "map.drawstates()\n",
    "map.drawcountries(color='b')\n",
    "clevs = N.arange(0,0.4,0.05)\n",
    "#clevs = [0,1000,2000,3000,4000,5000,6000,7000,8000,9000,10000]\n",
    "cs = map.contourf(x,y,(fw_max[0,:,:]),clevs,cmap=plt.cm.jet)\n",
    "cbar = map.colorbar(cs,location='bottom',pad=\"5%\")\n",
    "cbar.ax.tick_params(labelsize=18) \n",
    "\n",
    "\n",
    "ax1 = fig.add_subplot(224)\n",
    "ax1.set_title(\"Minimum Inundated Area (% grid area)\",fontsize=20)\n",
    "map = Basemap(llcrnrlon=-119,llcrnrlat=23,urcrnrlon=-63,urcrnrlat=51,\n",
    "        projection='lcc',lat_1=33,lat_2=45,lon_0=-95)\n",
    "# draw coastlines, state and country boundaries, edge of map.\n",
    "map.drawcoastlines()\n",
    "map.drawstates()\n",
    "map.drawcountries(color='b')\n",
    "clevs = N.arange(0,0.4,0.05)\n",
    "#clevs = [0,1000,2000,3000,4000,5000,6000,7000,8000,9000,10000]\n",
    "cs = map.contourf(x,y,(fw_min[0,:,:]),clevs,cmap=plt.cm.jet)\n",
    "cbar = map.colorbar(cs,location='bottom',pad=\"5%\")\n",
    "cbar.ax.tick_params(labelsize=18) \n",
    "\n",
    "#plt.show()\n",
    "plt.savefig('Historical_CH4.jpg',dpi=300)"
   ]
  },
  {
   "cell_type": "code",
   "execution_count": null,
   "metadata": {
    "collapsed": true
   },
   "outputs": [],
   "source": []
  }
 ],
 "metadata": {
  "anaconda-cloud": {},
  "kernelspec": {
   "display_name": "Python 2",
   "language": "python",
   "name": "python2"
  },
  "language_info": {
   "codemirror_mode": {
    "name": "ipython",
    "version": 2
   },
   "file_extension": ".py",
   "mimetype": "text/x-python",
   "name": "python",
   "nbconvert_exporter": "python",
   "pygments_lexer": "ipython2",
   "version": "2.7.13"
  }
 },
 "nbformat": 4,
 "nbformat_minor": 1
}
