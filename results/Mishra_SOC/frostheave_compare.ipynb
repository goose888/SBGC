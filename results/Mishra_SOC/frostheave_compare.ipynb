{
 "cells": [
  {
   "cell_type": "code",
   "execution_count": 1,
   "metadata": {
    "collapsed": true
   },
   "outputs": [],
   "source": [
    "import numpy as np\n",
    "import pandas as pd\n",
    "import matplotlib\n",
    "import matplotlib.pyplot as plt\n",
    "from netCDF4 import Dataset as NetCDFFile\n",
    "from copy import deepcopy\n",
    "\n",
    "#import soc_analysis_lib as soca\n",
    "#import isamcalc_lib as isam\n",
    "#import socplot_lib as socplt\n",
    "#import auxiliary_lib as au\n"
   ]
  },
  {
   "cell_type": "code",
   "execution_count": 18,
   "metadata": {
    "collapsed": false
   },
   "outputs": [],
   "source": [
    "# Open dat model output file\n",
    "# Open the file list\n",
    "tmp = np.loadtxt(\"list_turbel\", delimiter='\\n')\n",
    "\n",
    "# Initialize arrays\n",
    "fh_mod = deepcopy(tmp)\n",
    "silt_mod = deepcopy(tmp)\n",
    "sites = tmp.astype(int)\n",
    "    \n",
    "# Open the surface data and check the silt% of all samples\n",
    "fsilt = './surfdata_05x05.nc'\n",
    "nc=NetCDFFile(fsilt, 'r')\n",
    "ncvar_silt = nc.variables['HWSD_SILT'][:]\n",
    "latnc = nc.variables['lat'][:]\n",
    "lonnc = nc.variables['lon'][:]\n",
    "nc.close()\n",
    "\n",
    "# Read in the location of all sites\n",
    "floc = './turbel_position.csv'\n",
    "site_loc = pd.read_csv(floc, encoding='iso-8859-1', index_col=0, header=None, names=['Lon', 'Lat'])\n",
    "\n",
    "ind = 0\n",
    "# Read the frost heave results and the correseponding silt percentage for the top layer\n",
    "for i in sites:\n",
    "    fname = './frost_heave_turbel_01_15/frost_heave_'+str(i)+'.dat'\n",
    "    data_tmp = np.loadtxt(fname, delimiter='\\n')\n",
    "    fh_mod[ind] = np.sum(data_tmp)/15.\n",
    "    longitude = site_loc.loc[i].Lon\n",
    "    latitude = site_loc.loc[i].Lat\n",
    "    silt_mod[ind] = ncvar_silt[0,latitude-1,longitude-1]\n",
    "    ind = ind + 1\n",
    "        "
   ]
  },
  {
   "cell_type": "code",
   "execution_count": 3,
   "metadata": {
    "collapsed": false
   },
   "outputs": [],
   "source": [
    "# Read in obs from technical report\n",
    "filename = '../../data/site_froseheave/frostheave.csv'\n",
    "site_fh = pd.read_csv(filename, encoding='iso-8859-1', skiprows=[1])\n",
    "fh_obs = site_fh.Total_heave.as_matrix()\n"
   ]
  },
  {
   "cell_type": "code",
   "execution_count": null,
   "metadata": {
    "collapsed": true
   },
   "outputs": [],
   "source": [
    "# Add boxplot for the comparison of observed vs simulated frost heave rate"
   ]
  },
  {
   "cell_type": "code",
   "execution_count": 19,
   "metadata": {
    "collapsed": false
   },
   "outputs": [
    {
     "data": {
      "text/plain": [
       "array([ 48.        ,  48.        ,  48.        ,  48.        ,\n",
       "        48.        ,  19.        ,  63.        ,  46.        ,\n",
       "        46.        ,  36.        ,  39.        ,  39.        ,\n",
       "        36.        ,  36.        ,  46.        ,  39.        ,\n",
       "        48.        ,  48.        ,  48.        ,  48.        ,\n",
       "        48.        ,  48.        ,  48.        ,  48.        ,\n",
       "        48.        ,  48.        ,  48.        ,  48.        ,\n",
       "        48.        ,  48.        ,  48.        ,  48.        ,\n",
       "        47.        ,  47.        ,  47.        ,  48.        ,\n",
       "        48.        ,  48.        ,  48.        ,  48.        ,\n",
       "        48.        ,  48.        ,  48.        ,  48.        ,\n",
       "        48.        ,  48.        ,  48.        ,  63.        ,\n",
       "        18.        ,  18.        ,  18.        ,  18.        ,\n",
       "        47.        ,  47.        ,  47.        ,  47.        ,\n",
       "        47.        ,  47.        ,  16.        ,  16.        ,\n",
       "        16.        ,  16.        ,  16.        ,  16.        ,\n",
       "        63.        ,  39.        ,  38.        ,  28.58408165,\n",
       "        39.        ,  39.        ,  48.        ,  48.        ,\n",
       "        48.        ,  47.        ,  48.        ,  48.        ,\n",
       "        48.        ,  48.        ,  48.        ,  48.        ,\n",
       "        18.        ,  18.        ])"
      ]
     },
     "execution_count": 19,
     "metadata": {},
     "output_type": "execute_result"
    }
   ],
   "source": [
    "silt_mod"
   ]
  },
  {
   "cell_type": "code",
   "execution_count": 21,
   "metadata": {
    "collapsed": false
   },
   "outputs": [
    {
     "data": {
      "text/plain": [
       "array([  1.26681090e-01,   4.84523595e+00,   4.84523595e+00,\n",
       "         8.39812644e+00,   8.13282999e+00,   9.63399891e+00,\n",
       "         0.00000000e+00,   0.00000000e+00,   0.00000000e+00,\n",
       "         2.36275065e+00,   8.43599883e+00,   2.82766828e-01,\n",
       "         9.12692883e-01,   9.12692883e-01,   8.02498342e-01,\n",
       "         2.82766828e-01,   4.58779292e+00,   3.25796201e+00,\n",
       "         7.08393682e+00,   8.88340973e+00,   8.88340973e+00,\n",
       "         9.12560205e+00,   9.12560205e+00,   3.05595693e+00,\n",
       "         3.08028147e+00,   5.27045822e+00,   2.44075072e+00,\n",
       "         9.86741440e+00,   8.39812644e+00,   1.17357356e-01,\n",
       "         9.52552652e-01,   9.52552652e-01,   3.16167889e+00,\n",
       "         1.27144253e-01,   3.16167889e+00,   9.52552652e-01,\n",
       "         9.52552652e-01,   4.84523595e+00,   8.39812644e+00,\n",
       "         8.39812644e+00,   8.39812644e+00,   8.39812644e+00,\n",
       "         8.39812644e+00,   4.84523595e+00,   4.84523595e+00,\n",
       "         4.84523595e+00,   4.84523595e+00,   6.17953280e+00,\n",
       "         7.01268581e+00,   7.01268581e+00,   7.01268581e+00,\n",
       "         7.01268581e+00,   2.29686195e-01,   2.29686195e-01,\n",
       "         2.29686195e-01,   2.29686195e-01,   2.29686195e-01,\n",
       "         2.29686195e-01,   8.33227814e-01,   8.33227814e-01,\n",
       "         8.33227814e-01,   8.35677625e-01,   8.33227814e-01,\n",
       "         3.25296898e+00,   5.63709050e+00,   0.00000000e+00,\n",
       "         0.00000000e+00,   3.44138274e+00,   0.00000000e+00,\n",
       "         5.51778491e-03,   1.23891363e-01,   3.32832317e-02,\n",
       "         3.32832317e-02,   1.18842092e-02,   3.39198641e-01,\n",
       "         4.02237826e-02,   3.32832317e-02,   3.32832317e-02,\n",
       "         3.32832317e-02,   4.02237826e-02,   5.77480114e-02,\n",
       "         5.77480114e-02])"
      ]
     },
     "execution_count": 21,
     "metadata": {},
     "output_type": "execute_result"
    }
   ],
   "source": [
    "fh_mod"
   ]
  },
  {
   "cell_type": "code",
   "execution_count": 22,
   "metadata": {
    "collapsed": false
   },
   "outputs": [
    {
     "data": {
      "image/png": "[encoded data removed]",
      "text/plain": [
       "<matplotlib.figure.Figure at 0x2af213a6a090>"
      ]
     },
     "metadata": {},
     "output_type": "display_data"
    }
   ],
   "source": [
    "plt.plot(fh_mod, 'o')\n",
    "plt.show()"
   ]
  },
  {
   "cell_type": "code",
   "execution_count": 24,
   "metadata": {
    "collapsed": true
   },
   "outputs": [],
   "source": [
    "spread = np.random.rand(50) * 100\n",
    "center = np.ones(25) * 50\n",
    "flier_high = np.random.rand(10) * 100 + 100\n",
    "flier_low = np.random.rand(10) * -100\n",
    "data = np.concatenate((spread, center, flier_high, flier_low), 0)\n",
    "\n",
    "\n"
   ]
  },
  {
   "cell_type": "code",
   "execution_count": 38,
   "metadata": {
    "collapsed": false
   },
   "outputs": [],
   "source": [
    "fig, ax = plt.subplots()\n",
    "ax.boxplot([fh_obs, fh_mod])\n",
    "ax.set_xticklabels(['Laboratory test', 'ISAM'], fontsize=16)\n",
    "#plt.show()\n",
    "plt.savefig('frost_results.png')"
   ]
  },
  {
   "cell_type": "code",
   "execution_count": 23,
   "metadata": {
    "collapsed": false
   },
   "outputs": [
    {
     "data": {
      "image/png": "[encoded data removed]",
      "text/plain": [
       "<matplotlib.figure.Figure at 0x2af20fa965d0>"
      ]
     },
     "metadata": {},
     "output_type": "display_data"
    }
   ],
   "source": [
    "plt.plot(fh_obs, 'o')\n",
    "plt.show()"
   ]
  }
 ],
 "metadata": {
  "kernelspec": {
   "display_name": "Python 2",
   "language": "python",
   "name": "python2"
  },
  "language_info": {
   "codemirror_mode": {
    "name": "ipython",
    "version": 2
   },
   "file_extension": ".py",
   "mimetype": "text/x-python",
   "name": "python",
   "nbconvert_exporter": "python",
   "pygments_lexer": "ipython2",
   "version": "2.7.13"
  }
 },
 "nbformat": 4,
 "nbformat_minor": 2
}
